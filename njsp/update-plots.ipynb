{
    "cells": [
        {
            "cell_type": "markdown",
            "metadata": {
                "tags": []
            },
            "source": [
                "# NJSP Fatal Crash Plots\n",
                "This notebook is run as part of the daily update Github Action:\n",
                "```bash\n",
                "njsp -cc update_plots\n",
                "```\n",
                "It updates plots based on the latest NJSP fatal crash data (in this Git repo).\n",
                "\n",
                "It also computes an estimate for the number of traffic deaths in the remainder of the current year (which helps make sense of otherwise-incomplete data about the current year)."
            ]
        },
        {
            "cell_type": "code",
            "execution_count": 1,
            "metadata": {
                "tags": []
            },
            "outputs": [],
            "source": [
                "from utz import *\n",
                "import json\n",
                "from utz import plots\n",
                "import plotly.graph_objects as go\n",
                "import plotly.express as px\n",
                "from nj_crashes.paths import PLOTS_DIR, PROJECTED_TOTALS_PATH, ROOT_DIR, RUNDATE_PATH, DB_URI\n",
                "from njsp.paths import PROJECTED_CSV\n",
                "from njsp.ytd import Ytd, normalized_ytd_days"
            ]
        },
        {
            "cell_type": "markdown",
            "metadata": {
                "tags": []
            },
            "source": [
                "[Papermill](https://papermill.readthedocs.io/) parameters:"
            ]
        },
        {
            "cell_type": "code",
            "execution_count": 2,
            "metadata": {
                "tags": [
                    "parameters"
                ]
            },
            "outputs": [],
            "source": [
                "return_img = None\n",
                "ytc_fmts = 'csv'  # comma-delimited subset of {csv, pqt, db}"
            ]
        },
        {
            "cell_type": "markdown",
            "metadata": {
                "tags": []
            },
            "source": [
                "Common settings for plots created later:"
            ]
        },
        {
            "cell_type": "code",
            "execution_count": 3,
            "metadata": {
                "tags": []
            },
            "outputs": [],
            "source": [
                "save = partial(plots.save, bg='white', return_img=return_img)"
            ]
        },
        {
            "cell_type": "markdown",
            "metadata": {
                "tags": []
            },
            "source": [
                "## Load most recent NJSP fatal crash data\n",
                "This table is produced by the `njsp -cc update_pqts` step that precedes this in [the daily Github Action](.github/workflows/daily.yml):"
            ]
        },
        {
            "cell_type": "code",
            "execution_count": 4,
            "metadata": {
                "tags": []
            },
            "outputs": [
                {
                    "data": {
                        "text/html": [
                            "<div>\n",
                            "<style scoped>\n",
                            "    .dataframe tbody tr th:only-of-type {\n",
                            "        vertical-align: middle;\n",
                            "    }\n",
                            "\n",
                            "    .dataframe tbody tr th {\n",
                            "        vertical-align: top;\n",
                            "    }\n",
                            "\n",
                            "    .dataframe thead th {\n",
                            "        text-align: right;\n",
                            "    }\n",
                            "</style>\n",
                            "<table border=\"1\" class=\"dataframe\">\n",
                            "  <thead>\n",
                            "    <tr style=\"text-align: right;\">\n",
                            "      <th></th>\n",
                            "      <th>ACCID</th>\n",
                            "      <th>CCODE</th>\n",
                            "      <th>CNAME</th>\n",
                            "      <th>MCODE</th>\n",
                            "      <th>MNAME</th>\n",
                            "      <th>HIGHWAY</th>\n",
                            "      <th>LOCATION</th>\n",
                            "      <th>FATALITIES</th>\n",
                            "      <th>INJURIES</th>\n",
                            "      <th>STREET</th>\n",
                            "      <th>dt</th>\n",
                            "      <th>FATAL_D</th>\n",
                            "      <th>FATAL_P</th>\n",
                            "      <th>FATAL_T</th>\n",
                            "      <th>FATAL_B</th>\n",
                            "    </tr>\n",
                            "  </thead>\n",
                            "  <tbody>\n",
                            "    <tr>\n",
                            "      <th>0</th>\n",
                            "      <td>1703</td>\n",
                            "      <td>01</td>\n",
                            "      <td>Atlantic</td>\n",
                            "      <td>0102</td>\n",
                            "      <td>Atlantic City</td>\n",
                            "      <td>446</td>\n",
                            "      <td>State/Interstate Authority 446 S MP 1</td>\n",
                            "      <td>1.0</td>\n",
                            "      <td>1.0</td>\n",
                            "      <td>None</td>\n",
                            "      <td>2008-01-01 00:35:00</td>\n",
                            "      <td>NaN</td>\n",
                            "      <td>NaN</td>\n",
                            "      <td>NaN</td>\n",
                            "      <td>NaN</td>\n",
                            "    </tr>\n",
                            "    <tr>\n",
                            "      <th>1</th>\n",
                            "      <td>1681</td>\n",
                            "      <td>09</td>\n",
                            "      <td>Hudson</td>\n",
                            "      <td>0910</td>\n",
                            "      <td>Union City</td>\n",
                            "      <td>None</td>\n",
                            "      <td>Bergenline Ave S MP 0 at 6th St</td>\n",
                            "      <td>1.0</td>\n",
                            "      <td>NaN</td>\n",
                            "      <td>Bergenline Ave</td>\n",
                            "      <td>2008-01-01 04:11:00</td>\n",
                            "      <td>NaN</td>\n",
                            "      <td>NaN</td>\n",
                            "      <td>NaN</td>\n",
                            "      <td>NaN</td>\n",
                            "    </tr>\n",
                            "    <tr>\n",
                            "      <th>2</th>\n",
                            "      <td>1659</td>\n",
                            "      <td>04</td>\n",
                            "      <td>Camden</td>\n",
                            "      <td>0415</td>\n",
                            "      <td>Gloucester Twsp</td>\n",
                            "      <td>42</td>\n",
                            "      <td>State Highway 42 N MP 8.2</td>\n",
                            "      <td>1.0</td>\n",
                            "      <td>1.0</td>\n",
                            "      <td>None</td>\n",
                            "      <td>2008-01-01 06:46:00</td>\n",
                            "      <td>NaN</td>\n",
                            "      <td>NaN</td>\n",
                            "      <td>NaN</td>\n",
                            "      <td>NaN</td>\n",
                            "    </tr>\n",
                            "    <tr>\n",
                            "      <th>3</th>\n",
                            "      <td>1661</td>\n",
                            "      <td>20</td>\n",
                            "      <td>Union</td>\n",
                            "      <td>2004</td>\n",
                            "      <td>Elizabeth City</td>\n",
                            "      <td>624</td>\n",
                            "      <td>County 624 W MP 2.2 at Ikea Dr</td>\n",
                            "      <td>1.0</td>\n",
                            "      <td>1.0</td>\n",
                            "      <td>None</td>\n",
                            "      <td>2008-01-01 12:29:00</td>\n",
                            "      <td>NaN</td>\n",
                            "      <td>NaN</td>\n",
                            "      <td>NaN</td>\n",
                            "      <td>NaN</td>\n",
                            "    </tr>\n",
                            "    <tr>\n",
                            "      <th>4</th>\n",
                            "      <td>1811</td>\n",
                            "      <td>07</td>\n",
                            "      <td>Essex</td>\n",
                            "      <td>0716</td>\n",
                            "      <td>Nutley Town</td>\n",
                            "      <td>648</td>\n",
                            "      <td>County 648 E MP .87 at Franklin Ave</td>\n",
                            "      <td>1.0</td>\n",
                            "      <td>NaN</td>\n",
                            "      <td>None</td>\n",
                            "      <td>2008-01-01 18:53:00</td>\n",
                            "      <td>NaN</td>\n",
                            "      <td>NaN</td>\n",
                            "      <td>NaN</td>\n",
                            "      <td>NaN</td>\n",
                            "    </tr>\n",
                            "    <tr>\n",
                            "      <th>...</th>\n",
                            "      <td>...</td>\n",
                            "      <td>...</td>\n",
                            "      <td>...</td>\n",
                            "      <td>...</td>\n",
                            "      <td>...</td>\n",
                            "      <td>...</td>\n",
                            "      <td>...</td>\n",
                            "      <td>...</td>\n",
                            "      <td>...</td>\n",
                            "      <td>...</td>\n",
                            "      <td>...</td>\n",
                            "      <td>...</td>\n",
                            "      <td>...</td>\n",
                            "      <td>...</td>\n",
                            "      <td>...</td>\n",
                            "    </tr>\n",
                            "    <tr>\n",
                            "      <th>9033</th>\n",
                            "      <td>12987</td>\n",
                            "      <td>13</td>\n",
                            "      <td>Monmouth</td>\n",
                            "      <td>1319</td>\n",
                            "      <td>Howell Twsp</td>\n",
                            "      <td>34</td>\n",
                            "      <td>State Highway 34</td>\n",
                            "      <td>1.0</td>\n",
                            "      <td>NaN</td>\n",
                            "      <td>None</td>\n",
                            "      <td>2024-02-02 07:47:00</td>\n",
                            "      <td>1.0</td>\n",
                            "      <td>0.0</td>\n",
                            "      <td>0.0</td>\n",
                            "      <td>0.0</td>\n",
                            "    </tr>\n",
                            "    <tr>\n",
                            "      <th>9034</th>\n",
                            "      <td>12982</td>\n",
                            "      <td>09</td>\n",
                            "      <td>Hudson</td>\n",
                            "      <td>0906</td>\n",
                            "      <td>Jersey City</td>\n",
                            "      <td>None</td>\n",
                            "      <td>East Linden Ave</td>\n",
                            "      <td>1.0</td>\n",
                            "      <td>NaN</td>\n",
                            "      <td>East Linden Ave</td>\n",
                            "      <td>2024-02-03 01:06:00</td>\n",
                            "      <td>0.0</td>\n",
                            "      <td>1.0</td>\n",
                            "      <td>0.0</td>\n",
                            "      <td>0.0</td>\n",
                            "    </tr>\n",
                            "    <tr>\n",
                            "      <th>9035</th>\n",
                            "      <td>12984</td>\n",
                            "      <td>21</td>\n",
                            "      <td>Warren</td>\n",
                            "      <td>2108</td>\n",
                            "      <td>Hackettstown Town</td>\n",
                            "      <td>604</td>\n",
                            "      <td>County 604 MP 1.2</td>\n",
                            "      <td>1.0</td>\n",
                            "      <td>0.0</td>\n",
                            "      <td>None</td>\n",
                            "      <td>2024-02-05 06:04:00</td>\n",
                            "      <td>0.0</td>\n",
                            "      <td>0.0</td>\n",
                            "      <td>0.0</td>\n",
                            "      <td>1.0</td>\n",
                            "    </tr>\n",
                            "    <tr>\n",
                            "      <th>9036</th>\n",
                            "      <td>12985</td>\n",
                            "      <td>14</td>\n",
                            "      <td>Morris</td>\n",
                            "      <td>1423</td>\n",
                            "      <td>Morris Plains Boro</td>\n",
                            "      <td>202</td>\n",
                            "      <td>State Highway 202</td>\n",
                            "      <td>1.0</td>\n",
                            "      <td>NaN</td>\n",
                            "      <td>None</td>\n",
                            "      <td>2024-02-06 09:48:00</td>\n",
                            "      <td>1.0</td>\n",
                            "      <td>0.0</td>\n",
                            "      <td>0.0</td>\n",
                            "      <td>0.0</td>\n",
                            "    </tr>\n",
                            "    <tr>\n",
                            "      <th>9037</th>\n",
                            "      <td>12986</td>\n",
                            "      <td>01</td>\n",
                            "      <td>Atlantic</td>\n",
                            "      <td>0108</td>\n",
                            "      <td>Egg Harbor Twsp</td>\n",
                            "      <td>651</td>\n",
                            "      <td>County 651</td>\n",
                            "      <td>1.0</td>\n",
                            "      <td>NaN</td>\n",
                            "      <td>None</td>\n",
                            "      <td>2024-02-06 18:34:00</td>\n",
                            "      <td>0.0</td>\n",
                            "      <td>0.0</td>\n",
                            "      <td>0.0</td>\n",
                            "      <td>1.0</td>\n",
                            "    </tr>\n",
                            "  </tbody>\n",
                            "</table>\n",
                            "<p>9038 rows \u00d7 15 columns</p>\n",
                            "</div>"
                        ],
                        "text/plain": [
                            "      ACCID CCODE     CNAME MCODE               MNAME HIGHWAY  \\\n",
                            "0      1703    01  Atlantic  0102       Atlantic City     446   \n",
                            "1      1681    09    Hudson  0910          Union City    None   \n",
                            "2      1659    04    Camden  0415     Gloucester Twsp      42   \n",
                            "3      1661    20     Union  2004      Elizabeth City     624   \n",
                            "4      1811    07     Essex  0716         Nutley Town     648   \n",
                            "...     ...   ...       ...   ...                 ...     ...   \n",
                            "9033  12987    13  Monmouth  1319         Howell Twsp      34   \n",
                            "9034  12982    09    Hudson  0906         Jersey City    None   \n",
                            "9035  12984    21    Warren  2108   Hackettstown Town     604   \n",
                            "9036  12985    14    Morris  1423  Morris Plains Boro     202   \n",
                            "9037  12986    01  Atlantic  0108     Egg Harbor Twsp     651   \n",
                            "\n",
                            "                                   LOCATION  FATALITIES  INJURIES  \\\n",
                            "0     State/Interstate Authority 446 S MP 1         1.0       1.0   \n",
                            "1           Bergenline Ave S MP 0 at 6th St         1.0       NaN   \n",
                            "2                 State Highway 42 N MP 8.2         1.0       1.0   \n",
                            "3            County 624 W MP 2.2 at Ikea Dr         1.0       1.0   \n",
                            "4       County 648 E MP .87 at Franklin Ave         1.0       NaN   \n",
                            "...                                     ...         ...       ...   \n",
                            "9033                       State Highway 34         1.0       NaN   \n",
                            "9034                        East Linden Ave         1.0       NaN   \n",
                            "9035                      County 604 MP 1.2         1.0       0.0   \n",
                            "9036                      State Highway 202         1.0       NaN   \n",
                            "9037                             County 651         1.0       NaN   \n",
                            "\n",
                            "               STREET                  dt  FATAL_D  FATAL_P  FATAL_T  FATAL_B  \n",
                            "0                None 2008-01-01 00:35:00      NaN      NaN      NaN      NaN  \n",
                            "1      Bergenline Ave 2008-01-01 04:11:00      NaN      NaN      NaN      NaN  \n",
                            "2                None 2008-01-01 06:46:00      NaN      NaN      NaN      NaN  \n",
                            "3                None 2008-01-01 12:29:00      NaN      NaN      NaN      NaN  \n",
                            "4                None 2008-01-01 18:53:00      NaN      NaN      NaN      NaN  \n",
                            "...               ...                 ...      ...      ...      ...      ...  \n",
                            "9033             None 2024-02-02 07:47:00      1.0      0.0      0.0      0.0  \n",
                            "9034  East Linden Ave 2024-02-03 01:06:00      0.0      1.0      0.0      0.0  \n",
                            "9035             None 2024-02-05 06:04:00      0.0      0.0      0.0      1.0  \n",
                            "9036             None 2024-02-06 09:48:00      1.0      0.0      0.0      0.0  \n",
                            "9037             None 2024-02-06 18:34:00      0.0      0.0      0.0      1.0  \n",
                            "\n",
                            "[9038 rows x 15 columns]"
                        ]
                    },
                    "execution_count": 4,
                    "metadata": {},
                    "output_type": "execute_result"
                }
            ],
            "source": [
                "crashes = read_sql_table(\"crashes\", DB_URI)\n",
                "crashes"
            ]
        },
        {
            "cell_type": "markdown",
            "metadata": {
                "tags": []
            },
            "source": [
                "Load info about when the NJSP data was most recently updated:"
            ]
        },
        {
            "cell_type": "code",
            "execution_count": 5,
            "metadata": {
                "tags": []
            },
            "outputs": [
                {
                    "name": "stdout",
                    "output_type": "stream",
                    "text": [
                        "Most recent NJSP run date: 2024-02-10 10:00:03\n",
                        "Most recent month end: 2024-02-01 00:00:00\n",
                        "Current year start: 2024-01-01 00:00:00\n",
                        "Next year start: 2025-01-01 00:00:00\n"
                    ]
                }
            ],
            "source": [
                "from njsp import Rundate\n",
                "rundate = Rundate()\n",
                "print(f'Most recent NJSP run date: {rundate}')\n",
                "print(f'Most recent month end: {rundate.cur_month_dt}')\n",
                "print(f'Current year start: {rundate.cur_year_dt}')\n",
                "print(f'Next year start: {rundate.nxt_year_dt}')"
            ]
        },
        {
            "cell_type": "markdown",
            "metadata": {
                "tags": []
            },
            "source": [
                "## YTD Calculations\n",
                "Create series that cumulatively sum year-to-date deaths (as of each day in the dataset history, going back to January 1, 2008)."
            ]
        },
        {
            "cell_type": "markdown",
            "metadata": {
                "tags": []
            },
            "source": [
                "### Plot YTD counts, for each year \u22652008"
            ]
        },
        {
            "cell_type": "code",
            "execution_count": 6,
            "metadata": {
                "tags": []
            },
            "outputs": [],
            "source": [
                "years = crashes.dt.dt.year.unique()"
            ]
        },
        {
            "cell_type": "markdown",
            "metadata": {
                "tags": []
            },
            "source": [
                "#### Color utilities"
            ]
        },
        {
            "cell_type": "code",
            "execution_count": 7,
            "metadata": {
                "tags": []
            },
            "outputs": [
                {
                    "data": {
                        "text/plain": [
                            "{'black': '#000004', 'red': '#ba3853', 'year_colors': ['#fcffa4', '#f9e56a', '#f7ca36', '#f9ab17', '#f78e0d', '#ef721f', '#e15b31', '#d04643', '#ba3853', '#a22b60', '#882268', '#6f196c', '#55106b', '#3b0c5d', '#200c46', '#0f0626', '#000004']}"
                        ]
                    },
                    "execution_count": 7,
                    "metadata": {},
                    "output_type": "execute_result"
                }
            ],
            "source": [
                "from utz.colors import RGB, color_interp, colors_lengthen, swatches\n",
                "from nj_crashes.colors import get_colors, gridcolor, px_colors\n",
                "\n",
                "colors = get_colors(len(years))\n",
                "black, red, year_colors = colors.black, colors.red, colors.year_colors\n",
                "colors"
            ]
        },
        {
            "cell_type": "code",
            "execution_count": 8,
            "metadata": {
                "tags": []
            },
            "outputs": [
                {
                    "data": {
                        "text/plain": [
                            "['Jan 1',\n",
                            " 'Feb 1',\n",
                            " 'Mar 1',\n",
                            " 'Apr 1',\n",
                            " 'May 1',\n",
                            " 'Jun 1',\n",
                            " 'Jul 1',\n",
                            " 'Aug 1',\n",
                            " 'Sep 1',\n",
                            " 'Oct 1',\n",
                            " 'Nov 1',\n",
                            " 'Dec 1']"
                        ]
                    },
                    "execution_count": 8,
                    "metadata": {},
                    "output_type": "execute_result"
                }
            ],
            "source": [
                "cur_year = rundate.year\n",
                "month_starts = [\n",
                "    to_dt(f'{cur_year}-{m}').strftime('%b 1')\n",
                "    for m in range(1, 13)\n",
                "]\n",
                "month_starts"
            ]
        },
        {
            "cell_type": "code",
            "execution_count": 9,
            "metadata": {
                "tags": []
            },
            "outputs": [],
            "source": [
                "ytd = Ytd()"
            ]
        },
        {
            "cell_type": "code",
            "execution_count": 10,
            "metadata": {
                "tags": []
            },
            "outputs": [],
            "source": [
                "save(\n",
                "    px.line(\n",
                "        ytd.ytds,\n",
                "        x='Text', y='YTD Deaths', color='Year',\n",
                "        color_discrete_sequence=year_colors,\n",
                "    ),\n",
                "    xaxis=dict(\n",
                "        tickmode='array',\n",
                "        tickvals=month_starts,\n",
                "        ticktext=month_starts,\n",
                "    ),\n",
                "    legend=dict(traceorder='reversed',),\n",
                "    #bottom_legend=False,\n",
                "    title='YTD Traffic Deaths',\n",
                "    name='ytd-deaths',\n",
                "    hoverx='x',\n",
                "    bg='white',\n",
                "    ygrid='#ccc',\n",
                "    xgrid='#ccc',\n",
                "    w=850,\n",
                "    h=800,\n",
                ");"
            ]
        },
        {
            "cell_type": "markdown",
            "metadata": {
                "tags": []
            },
            "source": [
                "![](../www/public/plots/ytd-deaths.png)"
            ]
        },
        {
            "cell_type": "markdown",
            "metadata": {
                "tags": []
            },
            "source": [
                "## Plot deaths by {year, victim type}"
            ]
        },
        {
            "cell_type": "markdown",
            "metadata": {
                "tags": []
            },
            "source": [
                "### Group by year"
            ]
        },
        {
            "cell_type": "code",
            "execution_count": 11,
            "metadata": {
                "tags": []
            },
            "outputs": [],
            "source": [
                "dt = crashes.dt.dt\n",
                "fatalities_per_year = crashes.FATALITIES.groupby(dt.year).sum().astype(int).rename('NJSP records')"
            ]
        },
        {
            "cell_type": "markdown",
            "metadata": {
                "tags": []
            },
            "source": [
                "### Group by month"
            ]
        },
        {
            "cell_type": "code",
            "execution_count": 12,
            "metadata": {
                "tags": []
            },
            "outputs": [
                {
                    "data": {
                        "text/plain": [
                            "0       2008-01\n",
                            "1       2008-01\n",
                            "2       2008-01\n",
                            "3       2008-01\n",
                            "4       2008-01\n",
                            "         ...   \n",
                            "9033    2024-02\n",
                            "9034    2024-02\n",
                            "9035    2024-02\n",
                            "9036    2024-02\n",
                            "9037    2024-02\n",
                            "Name: ym, Length: 9038, dtype: object"
                        ]
                    },
                    "execution_count": 12,
                    "metadata": {},
                    "output_type": "execute_result"
                }
            ],
            "source": [
                "ym = crashes.dt.apply(lambda d: d.strftime('%Y-%m')).rename('ym')\n",
                "ym"
            ]
        },
        {
            "cell_type": "code",
            "execution_count": 13,
            "metadata": {
                "tags": []
            },
            "outputs": [
                {
                    "data": {
                        "text/plain": [
                            "ym\n",
                            "2008-01    59.0\n",
                            "2008-02    40.0\n",
                            "2008-03    33.0\n",
                            "2008-04    50.0\n",
                            "2008-05    46.0\n",
                            "           ... \n",
                            "2023-09    52.0\n",
                            "2023-10    65.0\n",
                            "2023-11    63.0\n",
                            "2023-12    62.0\n",
                            "2024-01    46.0\n",
                            "Name: FATALITIES, Length: 193, dtype: float64"
                        ]
                    },
                    "execution_count": 13,
                    "metadata": {},
                    "output_type": "execute_result"
                }
            ],
            "source": [
                "cur_month = rundate.cur_month_dt\n",
                "fatalities_per_month = crashes[crashes.dt < cur_month].FATALITIES.groupby(ym).sum()\n",
                "fatalities_per_month"
            ]
        },
        {
            "cell_type": "markdown",
            "metadata": {
                "tags": []
            },
            "source": [
                "### Rolling avg"
            ]
        },
        {
            "cell_type": "code",
            "execution_count": 14,
            "metadata": {
                "tags": []
            },
            "outputs": [
                {
                    "data": {
                        "text/plain": [
                            "ym\n",
                            "2008-01          NaN\n",
                            "2008-02          NaN\n",
                            "2008-03          NaN\n",
                            "2008-04          NaN\n",
                            "2008-05          NaN\n",
                            "             ...    \n",
                            "2023-09    49.500000\n",
                            "2023-10    50.166667\n",
                            "2023-11    50.666667\n",
                            "2023-12    51.666667\n",
                            "2024-01    51.500000\n",
                            "Name: FATALITIES, Length: 193, dtype: float64"
                        ]
                    },
                    "execution_count": 14,
                    "metadata": {},
                    "output_type": "execute_result"
                }
            ],
            "source": [
                "rolling = fatalities_per_month.rolling(12).mean()\n",
                "rolling"
            ]
        },
        {
            "cell_type": "code",
            "execution_count": 15,
            "metadata": {
                "tags": []
            },
            "outputs": [
                {
                    "data": {
                        "text/html": [
                            "<div>\n",
                            "<style scoped>\n",
                            "    .dataframe tbody tr th:only-of-type {\n",
                            "        vertical-align: middle;\n",
                            "    }\n",
                            "\n",
                            "    .dataframe tbody tr th {\n",
                            "        vertical-align: top;\n",
                            "    }\n",
                            "\n",
                            "    .dataframe thead th {\n",
                            "        text-align: right;\n",
                            "    }\n",
                            "</style>\n",
                            "<table border=\"1\" class=\"dataframe\">\n",
                            "  <thead>\n",
                            "    <tr style=\"text-align: right;\">\n",
                            "      <th></th>\n",
                            "      <th></th>\n",
                            "      <th>FATALITIES</th>\n",
                            "    </tr>\n",
                            "    <tr>\n",
                            "      <th>year</th>\n",
                            "      <th>month</th>\n",
                            "      <th></th>\n",
                            "    </tr>\n",
                            "  </thead>\n",
                            "  <tbody>\n",
                            "    <tr>\n",
                            "      <th rowspan=\"5\" valign=\"top\">2008</th>\n",
                            "      <th>1</th>\n",
                            "      <td>59.0</td>\n",
                            "    </tr>\n",
                            "    <tr>\n",
                            "      <th>2</th>\n",
                            "      <td>40.0</td>\n",
                            "    </tr>\n",
                            "    <tr>\n",
                            "      <th>3</th>\n",
                            "      <td>33.0</td>\n",
                            "    </tr>\n",
                            "    <tr>\n",
                            "      <th>4</th>\n",
                            "      <td>50.0</td>\n",
                            "    </tr>\n",
                            "    <tr>\n",
                            "      <th>5</th>\n",
                            "      <td>46.0</td>\n",
                            "    </tr>\n",
                            "    <tr>\n",
                            "      <th>...</th>\n",
                            "      <th>...</th>\n",
                            "      <td>...</td>\n",
                            "    </tr>\n",
                            "    <tr>\n",
                            "      <th rowspan=\"3\" valign=\"top\">2023</th>\n",
                            "      <th>10</th>\n",
                            "      <td>65.0</td>\n",
                            "    </tr>\n",
                            "    <tr>\n",
                            "      <th>11</th>\n",
                            "      <td>63.0</td>\n",
                            "    </tr>\n",
                            "    <tr>\n",
                            "      <th>12</th>\n",
                            "      <td>62.0</td>\n",
                            "    </tr>\n",
                            "    <tr>\n",
                            "      <th rowspan=\"2\" valign=\"top\">2024</th>\n",
                            "      <th>1</th>\n",
                            "      <td>46.0</td>\n",
                            "    </tr>\n",
                            "    <tr>\n",
                            "      <th>2</th>\n",
                            "      <td>8.0</td>\n",
                            "    </tr>\n",
                            "  </tbody>\n",
                            "</table>\n",
                            "<p>194 rows \u00d7 1 columns</p>\n",
                            "</div>"
                        ],
                        "text/plain": [
                            "            FATALITIES\n",
                            "year month            \n",
                            "2008 1            59.0\n",
                            "     2            40.0\n",
                            "     3            33.0\n",
                            "     4            50.0\n",
                            "     5            46.0\n",
                            "...                ...\n",
                            "2023 10           65.0\n",
                            "     11           63.0\n",
                            "     12           62.0\n",
                            "2024 1            46.0\n",
                            "     2             8.0\n",
                            "\n",
                            "[194 rows x 1 columns]"
                        ]
                    },
                    "execution_count": 15,
                    "metadata": {},
                    "output_type": "execute_result"
                }
            ],
            "source": [
                "mos = (\n",
                "    sxs(\n",
                "        dt.year.rename('year'),\n",
                "        dt.month.rename('month'),\n",
                "        crashes.FATALITIES,\n",
                "    )\n",
                "    .groupby(['year', 'month']).sum()\n",
                ")\n",
                "mos"
            ]
        },
        {
            "cell_type": "code",
            "execution_count": 16,
            "metadata": {
                "tags": []
            },
            "outputs": [
                {
                    "data": {
                        "text/html": [
                            "<div>\n",
                            "<style scoped>\n",
                            "    .dataframe tbody tr th:only-of-type {\n",
                            "        vertical-align: middle;\n",
                            "    }\n",
                            "\n",
                            "    .dataframe tbody tr th {\n",
                            "        vertical-align: top;\n",
                            "    }\n",
                            "\n",
                            "    .dataframe thead th {\n",
                            "        text-align: right;\n",
                            "    }\n",
                            "</style>\n",
                            "<table border=\"1\" class=\"dataframe\">\n",
                            "  <thead>\n",
                            "    <tr style=\"text-align: right;\">\n",
                            "      <th></th>\n",
                            "      <th>year</th>\n",
                            "      <th>month</th>\n",
                            "      <th>FATALITIES</th>\n",
                            "    </tr>\n",
                            "  </thead>\n",
                            "  <tbody>\n",
                            "    <tr>\n",
                            "      <th>0</th>\n",
                            "      <td>2008</td>\n",
                            "      <td>1</td>\n",
                            "      <td>59.0</td>\n",
                            "    </tr>\n",
                            "    <tr>\n",
                            "      <th>12</th>\n",
                            "      <td>2009</td>\n",
                            "      <td>1</td>\n",
                            "      <td>57.0</td>\n",
                            "    </tr>\n",
                            "    <tr>\n",
                            "      <th>24</th>\n",
                            "      <td>2010</td>\n",
                            "      <td>1</td>\n",
                            "      <td>37.0</td>\n",
                            "    </tr>\n",
                            "    <tr>\n",
                            "      <th>36</th>\n",
                            "      <td>2011</td>\n",
                            "      <td>1</td>\n",
                            "      <td>36.0</td>\n",
                            "    </tr>\n",
                            "    <tr>\n",
                            "      <th>48</th>\n",
                            "      <td>2012</td>\n",
                            "      <td>1</td>\n",
                            "      <td>52.0</td>\n",
                            "    </tr>\n",
                            "    <tr>\n",
                            "      <th>...</th>\n",
                            "      <td>...</td>\n",
                            "      <td>...</td>\n",
                            "      <td>...</td>\n",
                            "    </tr>\n",
                            "    <tr>\n",
                            "      <th>143</th>\n",
                            "      <td>2019</td>\n",
                            "      <td>12</td>\n",
                            "      <td>51.0</td>\n",
                            "    </tr>\n",
                            "    <tr>\n",
                            "      <th>155</th>\n",
                            "      <td>2020</td>\n",
                            "      <td>12</td>\n",
                            "      <td>47.0</td>\n",
                            "    </tr>\n",
                            "    <tr>\n",
                            "      <th>167</th>\n",
                            "      <td>2021</td>\n",
                            "      <td>12</td>\n",
                            "      <td>61.0</td>\n",
                            "    </tr>\n",
                            "    <tr>\n",
                            "      <th>179</th>\n",
                            "      <td>2022</td>\n",
                            "      <td>12</td>\n",
                            "      <td>50.0</td>\n",
                            "    </tr>\n",
                            "    <tr>\n",
                            "      <th>191</th>\n",
                            "      <td>2023</td>\n",
                            "      <td>12</td>\n",
                            "      <td>62.0</td>\n",
                            "    </tr>\n",
                            "  </tbody>\n",
                            "</table>\n",
                            "<p>193 rows \u00d7 3 columns</p>\n",
                            "</div>"
                        ],
                        "text/plain": [
                            "     year  month  FATALITIES\n",
                            "0    2008      1        59.0\n",
                            "12   2009      1        57.0\n",
                            "24   2010      1        37.0\n",
                            "36   2011      1        36.0\n",
                            "48   2012      1        52.0\n",
                            "..    ...    ...         ...\n",
                            "143  2019     12        51.0\n",
                            "155  2020     12        47.0\n",
                            "167  2021     12        61.0\n",
                            "179  2022     12        50.0\n",
                            "191  2023     12        62.0\n",
                            "\n",
                            "[193 rows x 3 columns]"
                        ]
                    },
                    "execution_count": 16,
                    "metadata": {},
                    "output_type": "execute_result"
                }
            ],
            "source": [
                "pivoted = mos.reset_index().sort_values(['month', 'year'])\n",
                "pivoted = pivoted[pivoted.apply(lambda r: to_dt('%d-%02d' % (r.year, r.month)).tz_localize(cur_month.tz) < cur_month, axis=1)]\n",
                "pivoted"
            ]
        },
        {
            "cell_type": "code",
            "execution_count": 17,
            "metadata": {
                "tags": []
            },
            "outputs": [
                {
                    "data": {
                        "text/plain": [
                            "dt    dt\n",
                            "2008  1     59.0\n",
                            "      2     40.0\n",
                            "      3     33.0\n",
                            "      4     50.0\n",
                            "      5     46.0\n",
                            "            ... \n",
                            "2023  10    65.0\n",
                            "      11    63.0\n",
                            "      12    62.0\n",
                            "2024  1     46.0\n",
                            "      2      8.0\n",
                            "Name: FATALITIES, Length: 194, dtype: float64"
                        ]
                    },
                    "execution_count": 17,
                    "metadata": {},
                    "output_type": "execute_result"
                }
            ],
            "source": [
                "by_month = crashes.FATALITIES.groupby([dt.year, dt.month]).sum()\n",
                "by_month"
            ]
        },
        {
            "cell_type": "markdown",
            "metadata": {
                "tags": []
            },
            "source": [
                "### Break out victim \"types\""
            ]
        },
        {
            "cell_type": "markdown",
            "metadata": {
                "tags": []
            },
            "source": [
                "Check victim \"type\" subtotals vs. total:"
            ]
        },
        {
            "cell_type": "code",
            "execution_count": 18,
            "metadata": {
                "tags": []
            },
            "outputs": [
                {
                    "data": {
                        "text/plain": [
                            "dt\n",
                            "2008    590.0\n",
                            "2009    584.0\n",
                            "2010    556.0\n",
                            "2011    627.0\n",
                            "2012    589.0\n",
                            "2013    542.0\n",
                            "2014    556.0\n",
                            "2015    562.0\n",
                            "2016    602.0\n",
                            "2017    624.0\n",
                            "2018    563.0\n",
                            "2019    558.0\n",
                            "2020      0.0\n",
                            "2021      0.0\n",
                            "2022      0.0\n",
                            "2023      0.0\n",
                            "2024      0.0\n",
                            "Name: diff, dtype: float64"
                        ]
                    },
                    "execution_count": 18,
                    "metadata": {},
                    "output_type": "execute_result"
                }
            ],
            "source": [
                "fatal_totals = sxs(*[crashes[f'FATAL_{t}'].fillna(0) for t in 'DTPB']).sum(axis=1)\n",
                "sxs(crashes.dt, (crashes.FATALITIES - fatal_totals).rename('diff')).groupby(dt.year)['diff'].sum()"
            ]
        },
        {
            "cell_type": "markdown",
            "metadata": {
                "tags": []
            },
            "source": [
                "Cross-reference with annual totals, populate \"unknown\" subtotal:"
            ]
        },
        {
            "cell_type": "code",
            "execution_count": 19,
            "metadata": {
                "tags": []
            },
            "outputs": [],
            "source": [
                "base_type_cols_map = {\n",
                "    'FATAL_D': 'driver',\n",
                "    'FATAL_T': 'pedestrian',\n",
                "    'FATAL_P': 'passenger',\n",
                "    'FATAL_B': 'cyclist',\n",
                "}\n",
                "base_type_cols = list(base_type_cols_map.values())"
            ]
        },
        {
            "cell_type": "code",
            "execution_count": 20,
            "metadata": {
                "tags": []
            },
            "outputs": [
                {
                    "data": {
                        "text/html": [
                            "<div>\n",
                            "<style scoped>\n",
                            "    .dataframe tbody tr th:only-of-type {\n",
                            "        vertical-align: middle;\n",
                            "    }\n",
                            "\n",
                            "    .dataframe tbody tr th {\n",
                            "        vertical-align: top;\n",
                            "    }\n",
                            "\n",
                            "    .dataframe thead th {\n",
                            "        text-align: right;\n",
                            "    }\n",
                            "</style>\n",
                            "<table border=\"1\" class=\"dataframe\">\n",
                            "  <thead>\n",
                            "    <tr style=\"text-align: right;\">\n",
                            "      <th></th>\n",
                            "      <th>driver</th>\n",
                            "      <th>passenger</th>\n",
                            "      <th>cyclist</th>\n",
                            "      <th>pedestrian</th>\n",
                            "      <th>crashes</th>\n",
                            "    </tr>\n",
                            "    <tr>\n",
                            "      <th>year</th>\n",
                            "      <th></th>\n",
                            "      <th></th>\n",
                            "      <th></th>\n",
                            "      <th></th>\n",
                            "      <th></th>\n",
                            "    </tr>\n",
                            "  </thead>\n",
                            "  <tbody>\n",
                            "    <tr>\n",
                            "      <th>2008</th>\n",
                            "      <td>320</td>\n",
                            "      <td>112</td>\n",
                            "      <td>20</td>\n",
                            "      <td>138</td>\n",
                            "      <td>555</td>\n",
                            "    </tr>\n",
                            "    <tr>\n",
                            "      <th>2009</th>\n",
                            "      <td>315</td>\n",
                            "      <td>98</td>\n",
                            "      <td>14</td>\n",
                            "      <td>157</td>\n",
                            "      <td>550</td>\n",
                            "    </tr>\n",
                            "    <tr>\n",
                            "      <th>2010</th>\n",
                            "      <td>303</td>\n",
                            "      <td>99</td>\n",
                            "      <td>13</td>\n",
                            "      <td>141</td>\n",
                            "      <td>530</td>\n",
                            "    </tr>\n",
                            "    <tr>\n",
                            "      <th>2011</th>\n",
                            "      <td>362</td>\n",
                            "      <td>105</td>\n",
                            "      <td>17</td>\n",
                            "      <td>143</td>\n",
                            "      <td>586</td>\n",
                            "    </tr>\n",
                            "    <tr>\n",
                            "      <th>2012</th>\n",
                            "      <td>309</td>\n",
                            "      <td>103</td>\n",
                            "      <td>14</td>\n",
                            "      <td>163</td>\n",
                            "      <td>553</td>\n",
                            "    </tr>\n",
                            "    <tr>\n",
                            "      <th>2013</th>\n",
                            "      <td>304</td>\n",
                            "      <td>92</td>\n",
                            "      <td>14</td>\n",
                            "      <td>132</td>\n",
                            "      <td>508</td>\n",
                            "    </tr>\n",
                            "    <tr>\n",
                            "      <th>2014</th>\n",
                            "      <td>295</td>\n",
                            "      <td>80</td>\n",
                            "      <td>11</td>\n",
                            "      <td>170</td>\n",
                            "      <td>523</td>\n",
                            "    </tr>\n",
                            "    <tr>\n",
                            "      <th>2015</th>\n",
                            "      <td>276</td>\n",
                            "      <td>96</td>\n",
                            "      <td>17</td>\n",
                            "      <td>173</td>\n",
                            "      <td>522</td>\n",
                            "    </tr>\n",
                            "    <tr>\n",
                            "      <th>2016</th>\n",
                            "      <td>330</td>\n",
                            "      <td>89</td>\n",
                            "      <td>17</td>\n",
                            "      <td>166</td>\n",
                            "      <td>570</td>\n",
                            "    </tr>\n",
                            "    <tr>\n",
                            "      <th>2017</th>\n",
                            "      <td>339</td>\n",
                            "      <td>85</td>\n",
                            "      <td>17</td>\n",
                            "      <td>183</td>\n",
                            "      <td>591</td>\n",
                            "    </tr>\n",
                            "    <tr>\n",
                            "      <th>2018</th>\n",
                            "      <td>276</td>\n",
                            "      <td>95</td>\n",
                            "      <td>17</td>\n",
                            "      <td>175</td>\n",
                            "      <td>524</td>\n",
                            "    </tr>\n",
                            "    <tr>\n",
                            "      <th>2019</th>\n",
                            "      <td>289</td>\n",
                            "      <td>81</td>\n",
                            "      <td>12</td>\n",
                            "      <td>176</td>\n",
                            "      <td>524</td>\n",
                            "    </tr>\n",
                            "    <tr>\n",
                            "      <th>2020</th>\n",
                            "      <td>304</td>\n",
                            "      <td>86</td>\n",
                            "      <td>18</td>\n",
                            "      <td>179</td>\n",
                            "      <td>550</td>\n",
                            "    </tr>\n",
                            "    <tr>\n",
                            "      <th>2021</th>\n",
                            "      <td>368</td>\n",
                            "      <td>86</td>\n",
                            "      <td>26</td>\n",
                            "      <td>217</td>\n",
                            "      <td>667</td>\n",
                            "    </tr>\n",
                            "    <tr>\n",
                            "      <th>2022</th>\n",
                            "      <td>379</td>\n",
                            "      <td>103</td>\n",
                            "      <td>16</td>\n",
                            "      <td>191</td>\n",
                            "      <td>646</td>\n",
                            "    </tr>\n",
                            "    <tr>\n",
                            "      <th>2023</th>\n",
                            "      <td>330</td>\n",
                            "      <td>88</td>\n",
                            "      <td>25</td>\n",
                            "      <td>177</td>\n",
                            "      <td>588</td>\n",
                            "    </tr>\n",
                            "  </tbody>\n",
                            "</table>\n",
                            "</div>"
                        ],
                        "text/plain": [
                            "      driver  passenger  cyclist  pedestrian  crashes\n",
                            "year                                                 \n",
                            "2008     320        112       20         138      555\n",
                            "2009     315         98       14         157      550\n",
                            "2010     303         99       13         141      530\n",
                            "2011     362        105       17         143      586\n",
                            "2012     309        103       14         163      553\n",
                            "2013     304         92       14         132      508\n",
                            "2014     295         80       11         170      523\n",
                            "2015     276         96       17         173      522\n",
                            "2016     330         89       17         166      570\n",
                            "2017     339         85       17         183      591\n",
                            "2018     276         95       17         175      524\n",
                            "2019     289         81       12         176      524\n",
                            "2020     304         86       18         179      550\n",
                            "2021     368         86       26         217      667\n",
                            "2022     379        103       16         191      646\n",
                            "2023     330         88       25         177      588"
                        ]
                    },
                    "execution_count": 20,
                    "metadata": {},
                    "output_type": "execute_result"
                }
            ],
            "source": [
                "from njsp.paths import ANNUAL_SUMMARIES_YT_CSV\n",
                "\n",
                "year_stats = read_csv(ANNUAL_SUMMARIES_YT_CSV).astype(int).set_index('year')\n",
                "year_stats"
            ]
        },
        {
            "cell_type": "code",
            "execution_count": 21,
            "metadata": {
                "tags": []
            },
            "outputs": [
                {
                    "name": "stdout",
                    "output_type": "stream",
                    "text": [
                        "601 projected deaths in the rest of 2024\n"
                    ]
                }
            ],
            "source": [
                "projected_total = read_csv(PROJECTED_CSV, index_col='county').drop(columns='crashes').sum().sum()\n",
                "print(f'{projected_total} projected deaths in the rest of {cur_year}')"
            ]
        },
        {
            "cell_type": "code",
            "execution_count": 22,
            "metadata": {
                "tags": []
            },
            "outputs": [
                {
                    "data": {
                        "text/html": [
                            "<div>\n",
                            "<style scoped>\n",
                            "    .dataframe tbody tr th:only-of-type {\n",
                            "        vertical-align: middle;\n",
                            "    }\n",
                            "\n",
                            "    .dataframe tbody tr th {\n",
                            "        vertical-align: top;\n",
                            "    }\n",
                            "\n",
                            "    .dataframe thead th {\n",
                            "        text-align: right;\n",
                            "    }\n",
                            "</style>\n",
                            "<table border=\"1\" class=\"dataframe\">\n",
                            "  <thead>\n",
                            "    <tr style=\"text-align: right;\">\n",
                            "      <th></th>\n",
                            "      <th>driver</th>\n",
                            "      <th>pedestrian</th>\n",
                            "      <th>passenger</th>\n",
                            "      <th>cyclist</th>\n",
                            "      <th>projected_total</th>\n",
                            "      <th>projected</th>\n",
                            "    </tr>\n",
                            "    <tr>\n",
                            "      <th>year</th>\n",
                            "      <th></th>\n",
                            "      <th></th>\n",
                            "      <th></th>\n",
                            "      <th></th>\n",
                            "      <th></th>\n",
                            "      <th></th>\n",
                            "    </tr>\n",
                            "  </thead>\n",
                            "  <tbody>\n",
                            "    <tr>\n",
                            "      <th>2008</th>\n",
                            "      <td>320</td>\n",
                            "      <td>138</td>\n",
                            "      <td>112</td>\n",
                            "      <td>20</td>\n",
                            "      <td>590</td>\n",
                            "      <td>0</td>\n",
                            "    </tr>\n",
                            "    <tr>\n",
                            "      <th>2009</th>\n",
                            "      <td>315</td>\n",
                            "      <td>157</td>\n",
                            "      <td>98</td>\n",
                            "      <td>14</td>\n",
                            "      <td>584</td>\n",
                            "      <td>0</td>\n",
                            "    </tr>\n",
                            "    <tr>\n",
                            "      <th>2010</th>\n",
                            "      <td>303</td>\n",
                            "      <td>141</td>\n",
                            "      <td>99</td>\n",
                            "      <td>13</td>\n",
                            "      <td>556</td>\n",
                            "      <td>0</td>\n",
                            "    </tr>\n",
                            "    <tr>\n",
                            "      <th>2011</th>\n",
                            "      <td>362</td>\n",
                            "      <td>143</td>\n",
                            "      <td>105</td>\n",
                            "      <td>17</td>\n",
                            "      <td>627</td>\n",
                            "      <td>0</td>\n",
                            "    </tr>\n",
                            "    <tr>\n",
                            "      <th>2012</th>\n",
                            "      <td>309</td>\n",
                            "      <td>163</td>\n",
                            "      <td>103</td>\n",
                            "      <td>14</td>\n",
                            "      <td>589</td>\n",
                            "      <td>0</td>\n",
                            "    </tr>\n",
                            "    <tr>\n",
                            "      <th>2013</th>\n",
                            "      <td>304</td>\n",
                            "      <td>132</td>\n",
                            "      <td>92</td>\n",
                            "      <td>14</td>\n",
                            "      <td>542</td>\n",
                            "      <td>0</td>\n",
                            "    </tr>\n",
                            "    <tr>\n",
                            "      <th>2014</th>\n",
                            "      <td>295</td>\n",
                            "      <td>170</td>\n",
                            "      <td>80</td>\n",
                            "      <td>11</td>\n",
                            "      <td>556</td>\n",
                            "      <td>0</td>\n",
                            "    </tr>\n",
                            "    <tr>\n",
                            "      <th>2015</th>\n",
                            "      <td>276</td>\n",
                            "      <td>173</td>\n",
                            "      <td>96</td>\n",
                            "      <td>17</td>\n",
                            "      <td>562</td>\n",
                            "      <td>0</td>\n",
                            "    </tr>\n",
                            "    <tr>\n",
                            "      <th>2016</th>\n",
                            "      <td>330</td>\n",
                            "      <td>166</td>\n",
                            "      <td>89</td>\n",
                            "      <td>17</td>\n",
                            "      <td>602</td>\n",
                            "      <td>0</td>\n",
                            "    </tr>\n",
                            "    <tr>\n",
                            "      <th>2017</th>\n",
                            "      <td>339</td>\n",
                            "      <td>183</td>\n",
                            "      <td>85</td>\n",
                            "      <td>17</td>\n",
                            "      <td>624</td>\n",
                            "      <td>0</td>\n",
                            "    </tr>\n",
                            "    <tr>\n",
                            "      <th>2018</th>\n",
                            "      <td>276</td>\n",
                            "      <td>175</td>\n",
                            "      <td>95</td>\n",
                            "      <td>17</td>\n",
                            "      <td>563</td>\n",
                            "      <td>0</td>\n",
                            "    </tr>\n",
                            "    <tr>\n",
                            "      <th>2019</th>\n",
                            "      <td>289</td>\n",
                            "      <td>176</td>\n",
                            "      <td>81</td>\n",
                            "      <td>12</td>\n",
                            "      <td>558</td>\n",
                            "      <td>0</td>\n",
                            "    </tr>\n",
                            "    <tr>\n",
                            "      <th>2020</th>\n",
                            "      <td>304</td>\n",
                            "      <td>179</td>\n",
                            "      <td>86</td>\n",
                            "      <td>18</td>\n",
                            "      <td>587</td>\n",
                            "      <td>0</td>\n",
                            "    </tr>\n",
                            "    <tr>\n",
                            "      <th>2021</th>\n",
                            "      <td>368</td>\n",
                            "      <td>217</td>\n",
                            "      <td>86</td>\n",
                            "      <td>26</td>\n",
                            "      <td>697</td>\n",
                            "      <td>0</td>\n",
                            "    </tr>\n",
                            "    <tr>\n",
                            "      <th>2022</th>\n",
                            "      <td>379</td>\n",
                            "      <td>191</td>\n",
                            "      <td>103</td>\n",
                            "      <td>16</td>\n",
                            "      <td>689</td>\n",
                            "      <td>0</td>\n",
                            "    </tr>\n",
                            "    <tr>\n",
                            "      <th>2023</th>\n",
                            "      <td>330</td>\n",
                            "      <td>177</td>\n",
                            "      <td>88</td>\n",
                            "      <td>25</td>\n",
                            "      <td>620</td>\n",
                            "      <td>0</td>\n",
                            "    </tr>\n",
                            "    <tr>\n",
                            "      <th>2024</th>\n",
                            "      <td>19</td>\n",
                            "      <td>25</td>\n",
                            "      <td>8</td>\n",
                            "      <td>2</td>\n",
                            "      <td>601</td>\n",
                            "      <td>547</td>\n",
                            "    </tr>\n",
                            "  </tbody>\n",
                            "</table>\n",
                            "</div>"
                        ],
                        "text/plain": [
                            "      driver  pedestrian  passenger  cyclist  projected_total  projected\n",
                            "year                                                                    \n",
                            "2008     320         138        112       20              590          0\n",
                            "2009     315         157         98       14              584          0\n",
                            "2010     303         141         99       13              556          0\n",
                            "2011     362         143        105       17              627          0\n",
                            "2012     309         163        103       14              589          0\n",
                            "2013     304         132         92       14              542          0\n",
                            "2014     295         170         80       11              556          0\n",
                            "2015     276         173         96       17              562          0\n",
                            "2016     330         166         89       17              602          0\n",
                            "2017     339         183         85       17              624          0\n",
                            "2018     276         175         95       17              563          0\n",
                            "2019     289         176         81       12              558          0\n",
                            "2020     304         179         86       18              587          0\n",
                            "2021     368         217         86       26              697          0\n",
                            "2022     379         191        103       16              689          0\n",
                            "2023     330         177         88       25              620          0\n",
                            "2024      19          25          8        2              601        547"
                        ]
                    },
                    "execution_count": 22,
                    "metadata": {},
                    "output_type": "execute_result"
                }
            ],
            "source": [
                "year_types = (\n",
                "    sxs(\n",
                "        crashes.dt,\n",
                "        crashes.rename(columns=base_type_cols_map)[base_type_cols].fillna(0)\n",
                "    )\n",
                "    .groupby(dt.year.rename('year'))\n",
                "    .sum(numeric_only=True)\n",
                "    .astype(int)\n",
                ")\n",
                "# Patch in year-types.csv values for [2008, 2020]\n",
                "year_types.loc[range(2008, 2020)] = year_stats.loc[range(2008, 2020), base_type_cols]\n",
                "\n",
                "year_types['projected_total'] = fatalities_per_year\n",
                "year_types.loc[cur_year, 'projected_total'] = projected_total\n",
                "year_types['projected'] = year_types.projected_total - fatalities_per_year\n",
                "year_types"
            ]
        },
        {
            "cell_type": "markdown",
            "metadata": {
                "tags": []
            },
            "source": [
                "## Update {year,type,county} stats"
            ]
        },
        {
            "cell_type": "code",
            "execution_count": 23,
            "metadata": {
                "tags": []
            },
            "outputs": [],
            "source": [
                "from njsp.paths import ANNUAL_SUMMARIES_YTC_CSV"
            ]
        },
        {
            "cell_type": "markdown",
            "metadata": {
                "tags": []
            },
            "source": [
                "Load {year,type,county} subtotals from annual summary PDFs (see [NJSP summary PDFs.ipynb](data/njsp/annual-summaries/NJSP%20summary%20PDFs.ipynb)):"
            ]
        },
        {
            "cell_type": "code",
            "execution_count": 24,
            "metadata": {
                "tags": []
            },
            "outputs": [
                {
                    "data": {
                        "text/html": [
                            "<div>\n",
                            "<style scoped>\n",
                            "    .dataframe tbody tr th:only-of-type {\n",
                            "        vertical-align: middle;\n",
                            "    }\n",
                            "\n",
                            "    .dataframe tbody tr th {\n",
                            "        vertical-align: top;\n",
                            "    }\n",
                            "\n",
                            "    .dataframe thead th {\n",
                            "        text-align: right;\n",
                            "    }\n",
                            "</style>\n",
                            "<table border=\"1\" class=\"dataframe\">\n",
                            "  <thead>\n",
                            "    <tr style=\"text-align: right;\">\n",
                            "      <th></th>\n",
                            "      <th></th>\n",
                            "      <th>driver</th>\n",
                            "      <th>passenger</th>\n",
                            "      <th>cyclist</th>\n",
                            "      <th>pedestrian</th>\n",
                            "      <th>crashes</th>\n",
                            "    </tr>\n",
                            "    <tr>\n",
                            "      <th>year</th>\n",
                            "      <th>county</th>\n",
                            "      <th></th>\n",
                            "      <th></th>\n",
                            "      <th></th>\n",
                            "      <th></th>\n",
                            "      <th></th>\n",
                            "    </tr>\n",
                            "  </thead>\n",
                            "  <tbody>\n",
                            "    <tr>\n",
                            "      <th rowspan=\"5\" valign=\"top\">2008</th>\n",
                            "      <th>Atlantic</th>\n",
                            "      <td>17</td>\n",
                            "      <td>8</td>\n",
                            "      <td>0</td>\n",
                            "      <td>6</td>\n",
                            "      <td>30</td>\n",
                            "    </tr>\n",
                            "    <tr>\n",
                            "      <th>Bergen</th>\n",
                            "      <td>10</td>\n",
                            "      <td>5</td>\n",
                            "      <td>1</td>\n",
                            "      <td>7</td>\n",
                            "      <td>22</td>\n",
                            "    </tr>\n",
                            "    <tr>\n",
                            "      <th>Burlington</th>\n",
                            "      <td>23</td>\n",
                            "      <td>6</td>\n",
                            "      <td>4</td>\n",
                            "      <td>12</td>\n",
                            "      <td>45</td>\n",
                            "    </tr>\n",
                            "    <tr>\n",
                            "      <th>Camden</th>\n",
                            "      <td>25</td>\n",
                            "      <td>4</td>\n",
                            "      <td>0</td>\n",
                            "      <td>15</td>\n",
                            "      <td>42</td>\n",
                            "    </tr>\n",
                            "    <tr>\n",
                            "      <th>Cape May</th>\n",
                            "      <td>8</td>\n",
                            "      <td>3</td>\n",
                            "      <td>0</td>\n",
                            "      <td>0</td>\n",
                            "      <td>11</td>\n",
                            "    </tr>\n",
                            "    <tr>\n",
                            "      <th>...</th>\n",
                            "      <th>...</th>\n",
                            "      <td>...</td>\n",
                            "      <td>...</td>\n",
                            "      <td>...</td>\n",
                            "      <td>...</td>\n",
                            "      <td>...</td>\n",
                            "    </tr>\n",
                            "    <tr>\n",
                            "      <th rowspan=\"5\" valign=\"top\">2023</th>\n",
                            "      <th>Salem</th>\n",
                            "      <td>8</td>\n",
                            "      <td>2</td>\n",
                            "      <td>0</td>\n",
                            "      <td>2</td>\n",
                            "      <td>11</td>\n",
                            "    </tr>\n",
                            "    <tr>\n",
                            "      <th>Somerset</th>\n",
                            "      <td>14</td>\n",
                            "      <td>4</td>\n",
                            "      <td>0</td>\n",
                            "      <td>6</td>\n",
                            "      <td>22</td>\n",
                            "    </tr>\n",
                            "    <tr>\n",
                            "      <th>Sussex</th>\n",
                            "      <td>6</td>\n",
                            "      <td>2</td>\n",
                            "      <td>0</td>\n",
                            "      <td>1</td>\n",
                            "      <td>6</td>\n",
                            "    </tr>\n",
                            "    <tr>\n",
                            "      <th>Union</th>\n",
                            "      <td>13</td>\n",
                            "      <td>6</td>\n",
                            "      <td>2</td>\n",
                            "      <td>15</td>\n",
                            "      <td>34</td>\n",
                            "    </tr>\n",
                            "    <tr>\n",
                            "      <th>Warren</th>\n",
                            "      <td>8</td>\n",
                            "      <td>1</td>\n",
                            "      <td>0</td>\n",
                            "      <td>3</td>\n",
                            "      <td>12</td>\n",
                            "    </tr>\n",
                            "  </tbody>\n",
                            "</table>\n",
                            "<p>336 rows \u00d7 5 columns</p>\n",
                            "</div>"
                        ],
                        "text/plain": [
                            "                 driver  passenger  cyclist  pedestrian  crashes\n",
                            "year county                                                     \n",
                            "2008 Atlantic        17          8        0           6       30\n",
                            "     Bergen          10          5        1           7       22\n",
                            "     Burlington      23          6        4          12       45\n",
                            "     Camden          25          4        0          15       42\n",
                            "     Cape May         8          3        0           0       11\n",
                            "...                 ...        ...      ...         ...      ...\n",
                            "2023 Salem            8          2        0           2       11\n",
                            "     Somerset        14          4        0           6       22\n",
                            "     Sussex           6          2        0           1        6\n",
                            "     Union           13          6        2          15       34\n",
                            "     Warren           8          1        0           3       12\n",
                            "\n",
                            "[336 rows x 5 columns]"
                        ]
                    },
                    "execution_count": 24,
                    "metadata": {},
                    "output_type": "execute_result"
                }
            ],
            "source": [
                "ytc0 = read_csv(ANNUAL_SUMMARIES_YTC_CSV).set_index(['year', 'county']).astype(int)\n",
                "ytc0"
            ]
        },
        {
            "cell_type": "markdown",
            "metadata": {
                "tags": []
            },
            "source": [
                "Generate a similar dataframe from crash records:"
            ]
        },
        {
            "cell_type": "code",
            "execution_count": 25,
            "metadata": {
                "scrolled": true,
                "tags": []
            },
            "outputs": [
                {
                    "data": {
                        "text/html": [
                            "<div>\n",
                            "<style scoped>\n",
                            "    .dataframe tbody tr th:only-of-type {\n",
                            "        vertical-align: middle;\n",
                            "    }\n",
                            "\n",
                            "    .dataframe tbody tr th {\n",
                            "        vertical-align: top;\n",
                            "    }\n",
                            "\n",
                            "    .dataframe thead th {\n",
                            "        text-align: right;\n",
                            "    }\n",
                            "</style>\n",
                            "<table border=\"1\" class=\"dataframe\">\n",
                            "  <thead>\n",
                            "    <tr style=\"text-align: right;\">\n",
                            "      <th></th>\n",
                            "      <th></th>\n",
                            "      <th>driver</th>\n",
                            "      <th>passenger</th>\n",
                            "      <th>cyclist</th>\n",
                            "      <th>pedestrian</th>\n",
                            "      <th>crashes</th>\n",
                            "    </tr>\n",
                            "    <tr>\n",
                            "      <th>year</th>\n",
                            "      <th>county</th>\n",
                            "      <th></th>\n",
                            "      <th></th>\n",
                            "      <th></th>\n",
                            "      <th></th>\n",
                            "      <th></th>\n",
                            "    </tr>\n",
                            "  </thead>\n",
                            "  <tbody>\n",
                            "    <tr>\n",
                            "      <th rowspan=\"5\" valign=\"top\">2020</th>\n",
                            "      <th>Atlantic</th>\n",
                            "      <td>26</td>\n",
                            "      <td>5</td>\n",
                            "      <td>0</td>\n",
                            "      <td>9</td>\n",
                            "      <td>38</td>\n",
                            "    </tr>\n",
                            "    <tr>\n",
                            "      <th>Bergen</th>\n",
                            "      <td>14</td>\n",
                            "      <td>9</td>\n",
                            "      <td>0</td>\n",
                            "      <td>20</td>\n",
                            "      <td>38</td>\n",
                            "    </tr>\n",
                            "    <tr>\n",
                            "      <th>Burlington</th>\n",
                            "      <td>26</td>\n",
                            "      <td>4</td>\n",
                            "      <td>3</td>\n",
                            "      <td>9</td>\n",
                            "      <td>40</td>\n",
                            "    </tr>\n",
                            "    <tr>\n",
                            "      <th>Camden</th>\n",
                            "      <td>19</td>\n",
                            "      <td>5</td>\n",
                            "      <td>1</td>\n",
                            "      <td>13</td>\n",
                            "      <td>36</td>\n",
                            "    </tr>\n",
                            "    <tr>\n",
                            "      <th>Cape May</th>\n",
                            "      <td>5</td>\n",
                            "      <td>0</td>\n",
                            "      <td>1</td>\n",
                            "      <td>3</td>\n",
                            "      <td>8</td>\n",
                            "    </tr>\n",
                            "    <tr>\n",
                            "      <th>...</th>\n",
                            "      <th>...</th>\n",
                            "      <td>...</td>\n",
                            "      <td>...</td>\n",
                            "      <td>...</td>\n",
                            "      <td>...</td>\n",
                            "      <td>...</td>\n",
                            "    </tr>\n",
                            "    <tr>\n",
                            "      <th rowspan=\"5\" valign=\"top\">2024</th>\n",
                            "      <th>Morris</th>\n",
                            "      <td>1</td>\n",
                            "      <td>0</td>\n",
                            "      <td>0</td>\n",
                            "      <td>0</td>\n",
                            "      <td>1</td>\n",
                            "    </tr>\n",
                            "    <tr>\n",
                            "      <th>Ocean</th>\n",
                            "      <td>2</td>\n",
                            "      <td>0</td>\n",
                            "      <td>0</td>\n",
                            "      <td>4</td>\n",
                            "      <td>6</td>\n",
                            "    </tr>\n",
                            "    <tr>\n",
                            "      <th>Passaic</th>\n",
                            "      <td>0</td>\n",
                            "      <td>0</td>\n",
                            "      <td>0</td>\n",
                            "      <td>1</td>\n",
                            "      <td>1</td>\n",
                            "    </tr>\n",
                            "    <tr>\n",
                            "      <th>Union</th>\n",
                            "      <td>0</td>\n",
                            "      <td>0</td>\n",
                            "      <td>0</td>\n",
                            "      <td>1</td>\n",
                            "      <td>1</td>\n",
                            "    </tr>\n",
                            "    <tr>\n",
                            "      <th>Warren</th>\n",
                            "      <td>0</td>\n",
                            "      <td>0</td>\n",
                            "      <td>1</td>\n",
                            "      <td>0</td>\n",
                            "      <td>1</td>\n",
                            "    </tr>\n",
                            "  </tbody>\n",
                            "</table>\n",
                            "<p>101 rows \u00d7 5 columns</p>\n",
                            "</div>"
                        ],
                        "text/plain": [
                            "                 driver  passenger  cyclist  pedestrian  crashes\n",
                            "year county                                                     \n",
                            "2020 Atlantic        26          5        0           9       38\n",
                            "     Bergen          14          9        0          20       38\n",
                            "     Burlington      26          4        3           9       40\n",
                            "     Camden          19          5        1          13       36\n",
                            "     Cape May         5          0        1           3        8\n",
                            "...                 ...        ...      ...         ...      ...\n",
                            "2024 Morris           1          0        0           0        1\n",
                            "     Ocean            2          0        0           4        6\n",
                            "     Passaic          0          0        0           1        1\n",
                            "     Union            0          0        0           1        1\n",
                            "     Warren           0          0        1           0        1\n",
                            "\n",
                            "[101 rows x 5 columns]"
                        ]
                    },
                    "execution_count": 25,
                    "metadata": {},
                    "output_type": "execute_result"
                }
            ],
            "source": [
                "ytc1 = (\n",
                "    crashes\n",
                "    .assign(year=dt.year, crashes=1)\n",
                "    [dt.year >= 2020]\n",
                "    .rename(columns=dict(\n",
                "        CNAME='county',\n",
                "        **base_type_cols_map\n",
                "    ))\n",
                "    [['year', 'county'] + ytc0.columns.tolist()]\n",
                "    .groupby(['year', 'county'])\n",
                "    .sum(numeric_only=True)\n",
                "    .astype(int)\n",
                ")\n",
                "ytc1"
            ]
        },
        {
            "cell_type": "markdown",
            "metadata": {
                "tags": []
            },
            "source": [
                "Verify they match (for years \u22652020, where they overlap):"
            ]
        },
        {
            "cell_type": "code",
            "execution_count": 26,
            "metadata": {
                "tags": []
            },
            "outputs": [],
            "source": [
                "m = ytc0.merge(ytc1, left_index=True, right_index=True)\n",
                "m.columns = pd.MultiIndex.from_tuples([ (c[-1], c[:-1]) for c in m.columns ])\n",
                "diffs = m['x'] != m['y']\n",
                "has_diffs = diffs.any().any()\n",
                "if has_diffs:\n",
                "    xd = m['x'].loc[diffs.any(axis=1), diffs.any()]\n",
                "    xd.columns = pd.MultiIndex.from_tuples([ ('x', c) for c in xd.columns ])\n",
                "    yd = m['y'].loc[diffs.any(axis=1), diffs.any()]\n",
                "    yd.columns = pd.MultiIndex.from_tuples([ ('y', c) for c in yd.columns ])\n",
                "    diffs = sxs(xd, yd)\n",
                "else:\n",
                "    diffs = None\n",
                "diffs"
            ]
        },
        {
            "cell_type": "code",
            "execution_count": 27,
            "metadata": {
                "tags": []
            },
            "outputs": [],
            "source": [
                "assert not has_diffs, diffs"
            ]
        },
        {
            "cell_type": "markdown",
            "metadata": {
                "tags": []
            },
            "source": [
                "Combine:"
            ]
        },
        {
            "cell_type": "code",
            "execution_count": 28,
            "metadata": {
                "tags": []
            },
            "outputs": [
                {
                    "data": {
                        "text/html": [
                            "<div>\n",
                            "<style scoped>\n",
                            "    .dataframe tbody tr th:only-of-type {\n",
                            "        vertical-align: middle;\n",
                            "    }\n",
                            "\n",
                            "    .dataframe tbody tr th {\n",
                            "        vertical-align: top;\n",
                            "    }\n",
                            "\n",
                            "    .dataframe thead th {\n",
                            "        text-align: right;\n",
                            "    }\n",
                            "</style>\n",
                            "<table border=\"1\" class=\"dataframe\">\n",
                            "  <thead>\n",
                            "    <tr style=\"text-align: right;\">\n",
                            "      <th></th>\n",
                            "      <th></th>\n",
                            "      <th>driver</th>\n",
                            "      <th>passenger</th>\n",
                            "      <th>cyclist</th>\n",
                            "      <th>pedestrian</th>\n",
                            "      <th>crashes</th>\n",
                            "    </tr>\n",
                            "    <tr>\n",
                            "      <th>year</th>\n",
                            "      <th>county</th>\n",
                            "      <th></th>\n",
                            "      <th></th>\n",
                            "      <th></th>\n",
                            "      <th></th>\n",
                            "      <th></th>\n",
                            "    </tr>\n",
                            "  </thead>\n",
                            "  <tbody>\n",
                            "    <tr>\n",
                            "      <th rowspan=\"5\" valign=\"top\">2008</th>\n",
                            "      <th>Atlantic</th>\n",
                            "      <td>17</td>\n",
                            "      <td>8</td>\n",
                            "      <td>0</td>\n",
                            "      <td>6</td>\n",
                            "      <td>30</td>\n",
                            "    </tr>\n",
                            "    <tr>\n",
                            "      <th>Bergen</th>\n",
                            "      <td>10</td>\n",
                            "      <td>5</td>\n",
                            "      <td>1</td>\n",
                            "      <td>7</td>\n",
                            "      <td>22</td>\n",
                            "    </tr>\n",
                            "    <tr>\n",
                            "      <th>Burlington</th>\n",
                            "      <td>23</td>\n",
                            "      <td>6</td>\n",
                            "      <td>4</td>\n",
                            "      <td>12</td>\n",
                            "      <td>45</td>\n",
                            "    </tr>\n",
                            "    <tr>\n",
                            "      <th>Camden</th>\n",
                            "      <td>25</td>\n",
                            "      <td>4</td>\n",
                            "      <td>0</td>\n",
                            "      <td>15</td>\n",
                            "      <td>42</td>\n",
                            "    </tr>\n",
                            "    <tr>\n",
                            "      <th>Cape May</th>\n",
                            "      <td>8</td>\n",
                            "      <td>3</td>\n",
                            "      <td>0</td>\n",
                            "      <td>0</td>\n",
                            "      <td>11</td>\n",
                            "    </tr>\n",
                            "    <tr>\n",
                            "      <th>...</th>\n",
                            "      <th>...</th>\n",
                            "      <td>...</td>\n",
                            "      <td>...</td>\n",
                            "      <td>...</td>\n",
                            "      <td>...</td>\n",
                            "      <td>...</td>\n",
                            "    </tr>\n",
                            "    <tr>\n",
                            "      <th rowspan=\"5\" valign=\"top\">2024</th>\n",
                            "      <th>Morris</th>\n",
                            "      <td>1</td>\n",
                            "      <td>0</td>\n",
                            "      <td>0</td>\n",
                            "      <td>0</td>\n",
                            "      <td>1</td>\n",
                            "    </tr>\n",
                            "    <tr>\n",
                            "      <th>Ocean</th>\n",
                            "      <td>2</td>\n",
                            "      <td>0</td>\n",
                            "      <td>0</td>\n",
                            "      <td>4</td>\n",
                            "      <td>6</td>\n",
                            "    </tr>\n",
                            "    <tr>\n",
                            "      <th>Passaic</th>\n",
                            "      <td>0</td>\n",
                            "      <td>0</td>\n",
                            "      <td>0</td>\n",
                            "      <td>1</td>\n",
                            "      <td>1</td>\n",
                            "    </tr>\n",
                            "    <tr>\n",
                            "      <th>Union</th>\n",
                            "      <td>0</td>\n",
                            "      <td>0</td>\n",
                            "      <td>0</td>\n",
                            "      <td>1</td>\n",
                            "      <td>1</td>\n",
                            "    </tr>\n",
                            "    <tr>\n",
                            "      <th>Warren</th>\n",
                            "      <td>0</td>\n",
                            "      <td>0</td>\n",
                            "      <td>1</td>\n",
                            "      <td>0</td>\n",
                            "      <td>1</td>\n",
                            "    </tr>\n",
                            "  </tbody>\n",
                            "</table>\n",
                            "<p>353 rows \u00d7 5 columns</p>\n",
                            "</div>"
                        ],
                        "text/plain": [
                            "                 driver  passenger  cyclist  pedestrian  crashes\n",
                            "year county                                                     \n",
                            "2008 Atlantic        17          8        0           6       30\n",
                            "     Bergen          10          5        1           7       22\n",
                            "     Burlington      23          6        4          12       45\n",
                            "     Camden          25          4        0          15       42\n",
                            "     Cape May         8          3        0           0       11\n",
                            "...                 ...        ...      ...         ...      ...\n",
                            "2024 Morris           1          0        0           0        1\n",
                            "     Ocean            2          0        0           4        6\n",
                            "     Passaic          0          0        0           1        1\n",
                            "     Union            0          0        0           1        1\n",
                            "     Warren           0          0        1           0        1\n",
                            "\n",
                            "[353 rows x 5 columns]"
                        ]
                    },
                    "execution_count": 28,
                    "metadata": {},
                    "output_type": "execute_result"
                }
            ],
            "source": [
                "y0 = ytc0.index.levels[0]\n",
                "y1 = ytc1.index.levels[0]\n",
                "ytc = pd.concat([\n",
                "    ytc0.drop(index=y0[y0.isin(y1)], level=0),\n",
                "    ytc1,\n",
                "])\n",
                "ytc"
            ]
        },
        {
            "cell_type": "markdown",
            "metadata": {
                "tags": []
            },
            "source": [
                "Export:"
            ]
        },
        {
            "cell_type": "code",
            "execution_count": 29,
            "metadata": {
                "tags": []
            },
            "outputs": [],
            "source": [
                "from njsp.paths import YTC_CSV, YTC_PQT, YTC_DB, YTC_DB_URI"
            ]
        },
        {
            "cell_type": "code",
            "execution_count": 30,
            "metadata": {
                "tags": []
            },
            "outputs": [
                {
                    "name": "stderr",
                    "output_type": "stream",
                    "text": [
                        "Writing /home/runner/work/nj-crashes/nj-crashes/data/njsp/year-type-county.csv\n"
                    ]
                }
            ],
            "source": [
                "for ytc_fmt in ytc_fmts.split(','):\n",
                "    if ytc_fmt == 'csv':\n",
                "        err(f'Writing {YTC_CSV}')\n",
                "        ytc.to_csv(YTC_CSV)\n",
                "    elif ytc_fmt == 'pqt':\n",
                "        err(f'Writing {YTC_PQT}')\n",
                "        ytc.to_parquet(YTC_PQT)\n",
                "    elif ytc_fmt == 'db':\n",
                "        err(f'Writing {YTC_DB}')\n",
                "        ytc.to_sql('ytc', YTC_DB_URI, if_exists='replace')\n",
                "    else:\n",
                "        raise ValueError(f'Unrecognized ytc_fmt {ytc_fmt}')"
            ]
        },
        {
            "cell_type": "markdown",
            "metadata": {
                "tags": []
            },
            "source": [
                "## Fatalities per year (by type)"
            ]
        },
        {
            "cell_type": "code",
            "execution_count": 31,
            "metadata": {
                "scrolled": true,
                "tags": []
            },
            "outputs": [
                {
                    "name": "stdout",
                    "output_type": "stream",
                    "text": [
                        "#000004 #320c56 #781c6d #ba3853 #ed6925 #f9b621 #fcffa4\n"
                    ]
                },
                {
                    "data": {
                        "text/markdown": [
                            "<span style=\"font-family: monospace\">#000004 <span style=\"color: #000004\">\u2588\u2588\u2588\u2588\u2588\u2588</span></span> <span style=\"font-family: monospace\">#320c56 <span style=\"color: #320c56\">\u2588\u2588\u2588\u2588\u2588\u2588</span></span> <span style=\"font-family: monospace\">#781c6d <span style=\"color: #781c6d\">\u2588\u2588\u2588\u2588\u2588\u2588</span></span> <span style=\"font-family: monospace\">#ba3853 <span style=\"color: #ba3853\">\u2588\u2588\u2588\u2588\u2588\u2588</span></span> <span style=\"font-family: monospace\">#ed6925 <span style=\"color: #ed6925\">\u2588\u2588\u2588\u2588\u2588\u2588</span></span> <span style=\"font-family: monospace\">#f9b621 <span style=\"color: #f9b621\">\u2588\u2588\u2588\u2588\u2588\u2588</span></span> <span style=\"font-family: monospace\">#fcffa4 <span style=\"color: #fcffa4\">\u2588\u2588\u2588\u2588\u2588\u2588</span></span>"
                        ],
                        "text/plain": [
                            "<IPython.core.display.Markdown object>"
                        ]
                    },
                    "metadata": {},
                    "output_type": "display_data"
                }
            ],
            "source": [
                "ytc = colors_lengthen(px_colors, 7)\n",
                "print(' '.join(ytc))\n",
                "swatches(ytc)"
            ]
        },
        {
            "cell_type": "code",
            "execution_count": 32,
            "metadata": {
                "tags": []
            },
            "outputs": [
                {
                    "data": {
                        "text/plain": [
                            "{'cyclist': 'Cyclists',\n",
                            " 'driver': 'Drivers',\n",
                            " 'pedestrian': 'Pedestrians',\n",
                            " 'passenger': 'Passengers',\n",
                            " 'projected': 'Projected'}"
                        ]
                    },
                    "execution_count": 32,
                    "metadata": {},
                    "output_type": "execute_result"
                }
            ],
            "source": [
                "type_cols = [\n",
                "    'cyclist',\n",
                "    'driver',\n",
                "    'pedestrian',\n",
                "    'passenger',\n",
                "    'projected',\n",
                "]\n",
                "type_cols_map = {\n",
                "    c: f'{c[0].upper()}{c[1:]}{\"s\" if c != \"projected\" else \"\"}'\n",
                "    for c in type_cols\n",
                "}\n",
                "type_cols_map"
            ]
        },
        {
            "cell_type": "code",
            "execution_count": 33,
            "metadata": {
                "tags": []
            },
            "outputs": [],
            "source": [
                "fig = (\n",
                "    px.bar(\n",
                "        year_types[type_cols].rename(columns=type_cols_map).replace(0, nan),\n",
                "        barmode='stack',\n",
                "        color_discrete_sequence=ytc[1:],\n",
                "        text_auto='%d',\n",
                "    )\n",
                "    .update_yaxes(\n",
                "        gridcolor=gridcolor,\n",
                "        dtick=50,\n",
                "    )\n",
                ")\n",
                "for year, projected_total in year_types.projected_total.to_dict().items():\n",
                "    fig.add_annotation(\n",
                "        x=year, y=projected_total,\n",
                "        text=projected_total,\n",
                "        showarrow=False,\n",
                "        yshift=10,\n",
                "    )\n",
                "save(\n",
                "    fig,\n",
                "    title=f'NJ Traffic Deaths per Year (by victim type)',\n",
                "    name='fatalities_per_year_by_type',\n",
                "    hoverx=True,\n",
                "    w=1600,\n",
                "    h=800,\n",
                ");"
            ]
        },
        {
            "cell_type": "markdown",
            "metadata": {
                "tags": []
            },
            "source": [
                "![](../www/public/plots/fatalities_per_year_by_type.png)"
            ]
        },
        {
            "cell_type": "markdown",
            "metadata": {
                "tags": []
            },
            "source": [
                "## Fatalities per month (by victim type)"
            ]
        },
        {
            "cell_type": "code",
            "execution_count": 34,
            "metadata": {
                "scrolled": true,
                "tags": []
            },
            "outputs": [
                {
                    "data": {
                        "text/html": [
                            "<div>\n",
                            "<style scoped>\n",
                            "    .dataframe tbody tr th:only-of-type {\n",
                            "        vertical-align: middle;\n",
                            "    }\n",
                            "\n",
                            "    .dataframe tbody tr th {\n",
                            "        vertical-align: top;\n",
                            "    }\n",
                            "\n",
                            "    .dataframe thead th {\n",
                            "        text-align: right;\n",
                            "    }\n",
                            "</style>\n",
                            "<table border=\"1\" class=\"dataframe\">\n",
                            "  <thead>\n",
                            "    <tr style=\"text-align: right;\">\n",
                            "      <th></th>\n",
                            "      <th>driver</th>\n",
                            "      <th>pedestrian</th>\n",
                            "      <th>passenger</th>\n",
                            "      <th>cyclist</th>\n",
                            "    </tr>\n",
                            "    <tr>\n",
                            "      <th>dt</th>\n",
                            "      <th></th>\n",
                            "      <th></th>\n",
                            "      <th></th>\n",
                            "      <th></th>\n",
                            "    </tr>\n",
                            "  </thead>\n",
                            "  <tbody>\n",
                            "    <tr>\n",
                            "      <th>2020-01</th>\n",
                            "      <td>21</td>\n",
                            "      <td>18</td>\n",
                            "      <td>8</td>\n",
                            "      <td>2</td>\n",
                            "    </tr>\n",
                            "    <tr>\n",
                            "      <th>2020-02</th>\n",
                            "      <td>15</td>\n",
                            "      <td>17</td>\n",
                            "      <td>2</td>\n",
                            "      <td>0</td>\n",
                            "    </tr>\n",
                            "    <tr>\n",
                            "      <th>2020-03</th>\n",
                            "      <td>11</td>\n",
                            "      <td>16</td>\n",
                            "      <td>8</td>\n",
                            "      <td>1</td>\n",
                            "    </tr>\n",
                            "    <tr>\n",
                            "      <th>2020-04</th>\n",
                            "      <td>17</td>\n",
                            "      <td>8</td>\n",
                            "      <td>2</td>\n",
                            "      <td>1</td>\n",
                            "    </tr>\n",
                            "    <tr>\n",
                            "      <th>2020-05</th>\n",
                            "      <td>28</td>\n",
                            "      <td>13</td>\n",
                            "      <td>9</td>\n",
                            "      <td>2</td>\n",
                            "    </tr>\n",
                            "    <tr>\n",
                            "      <th>2020-06</th>\n",
                            "      <td>30</td>\n",
                            "      <td>8</td>\n",
                            "      <td>9</td>\n",
                            "      <td>0</td>\n",
                            "    </tr>\n",
                            "    <tr>\n",
                            "      <th>2020-07</th>\n",
                            "      <td>30</td>\n",
                            "      <td>19</td>\n",
                            "      <td>8</td>\n",
                            "      <td>5</td>\n",
                            "    </tr>\n",
                            "    <tr>\n",
                            "      <th>2020-08</th>\n",
                            "      <td>31</td>\n",
                            "      <td>8</td>\n",
                            "      <td>14</td>\n",
                            "      <td>1</td>\n",
                            "    </tr>\n",
                            "    <tr>\n",
                            "      <th>2020-09</th>\n",
                            "      <td>31</td>\n",
                            "      <td>21</td>\n",
                            "      <td>5</td>\n",
                            "      <td>0</td>\n",
                            "    </tr>\n",
                            "    <tr>\n",
                            "      <th>2020-10</th>\n",
                            "      <td>33</td>\n",
                            "      <td>17</td>\n",
                            "      <td>5</td>\n",
                            "      <td>3</td>\n",
                            "    </tr>\n",
                            "    <tr>\n",
                            "      <th>2020-11</th>\n",
                            "      <td>35</td>\n",
                            "      <td>16</td>\n",
                            "      <td>9</td>\n",
                            "      <td>3</td>\n",
                            "    </tr>\n",
                            "    <tr>\n",
                            "      <th>2020-12</th>\n",
                            "      <td>22</td>\n",
                            "      <td>18</td>\n",
                            "      <td>7</td>\n",
                            "      <td>0</td>\n",
                            "    </tr>\n",
                            "    <tr>\n",
                            "      <th>2021-01</th>\n",
                            "      <td>29</td>\n",
                            "      <td>15</td>\n",
                            "      <td>5</td>\n",
                            "      <td>0</td>\n",
                            "    </tr>\n",
                            "    <tr>\n",
                            "      <th>2021-02</th>\n",
                            "      <td>17</td>\n",
                            "      <td>4</td>\n",
                            "      <td>5</td>\n",
                            "      <td>0</td>\n",
                            "    </tr>\n",
                            "    <tr>\n",
                            "      <th>2021-03</th>\n",
                            "      <td>34</td>\n",
                            "      <td>13</td>\n",
                            "      <td>7</td>\n",
                            "      <td>1</td>\n",
                            "    </tr>\n",
                            "    <tr>\n",
                            "      <th>2021-04</th>\n",
                            "      <td>18</td>\n",
                            "      <td>17</td>\n",
                            "      <td>6</td>\n",
                            "      <td>1</td>\n",
                            "    </tr>\n",
                            "    <tr>\n",
                            "      <th>2021-05</th>\n",
                            "      <td>23</td>\n",
                            "      <td>12</td>\n",
                            "      <td>6</td>\n",
                            "      <td>4</td>\n",
                            "    </tr>\n",
                            "    <tr>\n",
                            "      <th>2021-06</th>\n",
                            "      <td>36</td>\n",
                            "      <td>19</td>\n",
                            "      <td>5</td>\n",
                            "      <td>3</td>\n",
                            "    </tr>\n",
                            "    <tr>\n",
                            "      <th>2021-07</th>\n",
                            "      <td>35</td>\n",
                            "      <td>18</td>\n",
                            "      <td>10</td>\n",
                            "      <td>5</td>\n",
                            "    </tr>\n",
                            "    <tr>\n",
                            "      <th>2021-08</th>\n",
                            "      <td>34</td>\n",
                            "      <td>26</td>\n",
                            "      <td>5</td>\n",
                            "      <td>1</td>\n",
                            "    </tr>\n",
                            "    <tr>\n",
                            "      <th>2021-09</th>\n",
                            "      <td>40</td>\n",
                            "      <td>15</td>\n",
                            "      <td>11</td>\n",
                            "      <td>3</td>\n",
                            "    </tr>\n",
                            "    <tr>\n",
                            "      <th>2021-10</th>\n",
                            "      <td>43</td>\n",
                            "      <td>30</td>\n",
                            "      <td>6</td>\n",
                            "      <td>3</td>\n",
                            "    </tr>\n",
                            "    <tr>\n",
                            "      <th>2021-11</th>\n",
                            "      <td>29</td>\n",
                            "      <td>28</td>\n",
                            "      <td>11</td>\n",
                            "      <td>3</td>\n",
                            "    </tr>\n",
                            "    <tr>\n",
                            "      <th>2021-12</th>\n",
                            "      <td>30</td>\n",
                            "      <td>20</td>\n",
                            "      <td>9</td>\n",
                            "      <td>2</td>\n",
                            "    </tr>\n",
                            "    <tr>\n",
                            "      <th>2022-01</th>\n",
                            "      <td>28</td>\n",
                            "      <td>17</td>\n",
                            "      <td>7</td>\n",
                            "      <td>0</td>\n",
                            "    </tr>\n",
                            "    <tr>\n",
                            "      <th>2022-02</th>\n",
                            "      <td>22</td>\n",
                            "      <td>14</td>\n",
                            "      <td>4</td>\n",
                            "      <td>0</td>\n",
                            "    </tr>\n",
                            "    <tr>\n",
                            "      <th>2022-03</th>\n",
                            "      <td>31</td>\n",
                            "      <td>11</td>\n",
                            "      <td>3</td>\n",
                            "      <td>1</td>\n",
                            "    </tr>\n",
                            "    <tr>\n",
                            "      <th>2022-04</th>\n",
                            "      <td>26</td>\n",
                            "      <td>10</td>\n",
                            "      <td>7</td>\n",
                            "      <td>6</td>\n",
                            "    </tr>\n",
                            "    <tr>\n",
                            "      <th>2022-05</th>\n",
                            "      <td>42</td>\n",
                            "      <td>15</td>\n",
                            "      <td>8</td>\n",
                            "      <td>4</td>\n",
                            "    </tr>\n",
                            "    <tr>\n",
                            "      <th>2022-06</th>\n",
                            "      <td>44</td>\n",
                            "      <td>14</td>\n",
                            "      <td>10</td>\n",
                            "      <td>0</td>\n",
                            "    </tr>\n",
                            "    <tr>\n",
                            "      <th>2022-07</th>\n",
                            "      <td>41</td>\n",
                            "      <td>15</td>\n",
                            "      <td>20</td>\n",
                            "      <td>1</td>\n",
                            "    </tr>\n",
                            "    <tr>\n",
                            "      <th>2022-08</th>\n",
                            "      <td>32</td>\n",
                            "      <td>13</td>\n",
                            "      <td>11</td>\n",
                            "      <td>0</td>\n",
                            "    </tr>\n",
                            "    <tr>\n",
                            "      <th>2022-09</th>\n",
                            "      <td>32</td>\n",
                            "      <td>20</td>\n",
                            "      <td>13</td>\n",
                            "      <td>3</td>\n",
                            "    </tr>\n",
                            "    <tr>\n",
                            "      <th>2022-10</th>\n",
                            "      <td>31</td>\n",
                            "      <td>23</td>\n",
                            "      <td>3</td>\n",
                            "      <td>0</td>\n",
                            "    </tr>\n",
                            "    <tr>\n",
                            "      <th>2022-11</th>\n",
                            "      <td>29</td>\n",
                            "      <td>17</td>\n",
                            "      <td>11</td>\n",
                            "      <td>0</td>\n",
                            "    </tr>\n",
                            "    <tr>\n",
                            "      <th>2022-12</th>\n",
                            "      <td>21</td>\n",
                            "      <td>22</td>\n",
                            "      <td>6</td>\n",
                            "      <td>1</td>\n",
                            "    </tr>\n",
                            "    <tr>\n",
                            "      <th>2023-01</th>\n",
                            "      <td>17</td>\n",
                            "      <td>24</td>\n",
                            "      <td>5</td>\n",
                            "      <td>2</td>\n",
                            "    </tr>\n",
                            "    <tr>\n",
                            "      <th>2023-02</th>\n",
                            "      <td>22</td>\n",
                            "      <td>11</td>\n",
                            "      <td>4</td>\n",
                            "      <td>0</td>\n",
                            "    </tr>\n",
                            "    <tr>\n",
                            "      <th>2023-03</th>\n",
                            "      <td>17</td>\n",
                            "      <td>12</td>\n",
                            "      <td>4</td>\n",
                            "      <td>1</td>\n",
                            "    </tr>\n",
                            "    <tr>\n",
                            "      <th>2023-04</th>\n",
                            "      <td>24</td>\n",
                            "      <td>11</td>\n",
                            "      <td>4</td>\n",
                            "      <td>0</td>\n",
                            "    </tr>\n",
                            "    <tr>\n",
                            "      <th>2023-05</th>\n",
                            "      <td>29</td>\n",
                            "      <td>9</td>\n",
                            "      <td>10</td>\n",
                            "      <td>0</td>\n",
                            "    </tr>\n",
                            "    <tr>\n",
                            "      <th>2023-06</th>\n",
                            "      <td>40</td>\n",
                            "      <td>10</td>\n",
                            "      <td>8</td>\n",
                            "      <td>2</td>\n",
                            "    </tr>\n",
                            "    <tr>\n",
                            "      <th>2023-07</th>\n",
                            "      <td>27</td>\n",
                            "      <td>6</td>\n",
                            "      <td>10</td>\n",
                            "      <td>5</td>\n",
                            "    </tr>\n",
                            "    <tr>\n",
                            "      <th>2023-08</th>\n",
                            "      <td>38</td>\n",
                            "      <td>12</td>\n",
                            "      <td>11</td>\n",
                            "      <td>3</td>\n",
                            "    </tr>\n",
                            "    <tr>\n",
                            "      <th>2023-09</th>\n",
                            "      <td>28</td>\n",
                            "      <td>18</td>\n",
                            "      <td>2</td>\n",
                            "      <td>4</td>\n",
                            "    </tr>\n",
                            "    <tr>\n",
                            "      <th>2023-10</th>\n",
                            "      <td>30</td>\n",
                            "      <td>18</td>\n",
                            "      <td>13</td>\n",
                            "      <td>4</td>\n",
                            "    </tr>\n",
                            "    <tr>\n",
                            "      <th>2023-11</th>\n",
                            "      <td>32</td>\n",
                            "      <td>21</td>\n",
                            "      <td>7</td>\n",
                            "      <td>3</td>\n",
                            "    </tr>\n",
                            "    <tr>\n",
                            "      <th>2023-12</th>\n",
                            "      <td>26</td>\n",
                            "      <td>25</td>\n",
                            "      <td>10</td>\n",
                            "      <td>1</td>\n",
                            "    </tr>\n",
                            "    <tr>\n",
                            "      <th>2024-01</th>\n",
                            "      <td>16</td>\n",
                            "      <td>24</td>\n",
                            "      <td>6</td>\n",
                            "      <td>0</td>\n",
                            "    </tr>\n",
                            "    <tr>\n",
                            "      <th>2024-02</th>\n",
                            "      <td>3</td>\n",
                            "      <td>1</td>\n",
                            "      <td>2</td>\n",
                            "      <td>2</td>\n",
                            "    </tr>\n",
                            "  </tbody>\n",
                            "</table>\n",
                            "</div>"
                        ],
                        "text/plain": [
                            "         driver  pedestrian  passenger  cyclist\n",
                            "dt                                             \n",
                            "2020-01      21          18          8        2\n",
                            "2020-02      15          17          2        0\n",
                            "2020-03      11          16          8        1\n",
                            "2020-04      17           8          2        1\n",
                            "2020-05      28          13          9        2\n",
                            "2020-06      30           8          9        0\n",
                            "2020-07      30          19          8        5\n",
                            "2020-08      31           8         14        1\n",
                            "2020-09      31          21          5        0\n",
                            "2020-10      33          17          5        3\n",
                            "2020-11      35          16          9        3\n",
                            "2020-12      22          18          7        0\n",
                            "2021-01      29          15          5        0\n",
                            "2021-02      17           4          5        0\n",
                            "2021-03      34          13          7        1\n",
                            "2021-04      18          17          6        1\n",
                            "2021-05      23          12          6        4\n",
                            "2021-06      36          19          5        3\n",
                            "2021-07      35          18         10        5\n",
                            "2021-08      34          26          5        1\n",
                            "2021-09      40          15         11        3\n",
                            "2021-10      43          30          6        3\n",
                            "2021-11      29          28         11        3\n",
                            "2021-12      30          20          9        2\n",
                            "2022-01      28          17          7        0\n",
                            "2022-02      22          14          4        0\n",
                            "2022-03      31          11          3        1\n",
                            "2022-04      26          10          7        6\n",
                            "2022-05      42          15          8        4\n",
                            "2022-06      44          14         10        0\n",
                            "2022-07      41          15         20        1\n",
                            "2022-08      32          13         11        0\n",
                            "2022-09      32          20         13        3\n",
                            "2022-10      31          23          3        0\n",
                            "2022-11      29          17         11        0\n",
                            "2022-12      21          22          6        1\n",
                            "2023-01      17          24          5        2\n",
                            "2023-02      22          11          4        0\n",
                            "2023-03      17          12          4        1\n",
                            "2023-04      24          11          4        0\n",
                            "2023-05      29           9         10        0\n",
                            "2023-06      40          10          8        2\n",
                            "2023-07      27           6         10        5\n",
                            "2023-08      38          12         11        3\n",
                            "2023-09      28          18          2        4\n",
                            "2023-10      30          18         13        4\n",
                            "2023-11      32          21          7        3\n",
                            "2023-12      26          25         10        1\n",
                            "2024-01      16          24          6        0\n",
                            "2024-02       3           1          2        2"
                        ]
                    },
                    "execution_count": 34,
                    "metadata": {},
                    "output_type": "execute_result"
                }
            ],
            "source": [
                "month_types = (\n",
                "    sxs(\n",
                "        crashes.dt,\n",
                "        crashes.rename(columns=base_type_cols_map)[base_type_cols].fillna(0)\n",
                "    )\n",
                "    [ dt.year >= 2020 ]\n",
                "    .groupby([\n",
                "        dt.year.rename('year'),\n",
                "        dt.month.rename('month'),\n",
                "    ])\n",
                "    [base_type_cols]\n",
                "    .sum()\n",
                "    .astype(int)\n",
                ")\n",
                "\n",
                "month_types = month_types.reset_index()\n",
                "month_types['dt'] = (\n",
                "    month_types\n",
                "    [['year', 'month']]\n",
                "    .apply(lambda r: '%04d-%02d' % (r['year'], r['month']), axis=1)\n",
                ")\n",
                "month_types = month_types.set_index('dt').drop(columns=['year', 'month'])\n",
                "month_types"
            ]
        },
        {
            "cell_type": "code",
            "execution_count": 35,
            "metadata": {
                "tags": []
            },
            "outputs": [],
            "source": [
                "type_colors = colors_lengthen(px_colors, 7)\n",
                "\n",
                "fig = px.line(\n",
                "    month_types.rename(columns=type_cols_map).loc[to_dt(month_types.index) < cur_month],\n",
                "    labels={'variable': '',},\n",
                "    color_discrete_sequence=type_colors,\n",
                ")\n",
                "fig.update_traces(line=dict(width=3))\n",
                "save(\n",
                "    fig,\n",
                "    title='NJ Traffic Deaths per Month (by victim type)',\n",
                "    name='fatalities_per_month_by_type',\n",
                "    hoverx=True,\n",
                "    xgrid=gridcolor,\n",
                "    xaxis=dict(\n",
                "        tickformat=\"%b '%y\",\n",
                "    ),\n",
                "    w=800,\n",
                ");"
            ]
        },
        {
            "cell_type": "markdown",
            "metadata": {
                "tags": []
            },
            "source": [
                "![](../www/public/plots/fatalities_per_month_by_type.png)"
            ]
        },
        {
            "cell_type": "markdown",
            "metadata": {
                "tags": []
            },
            "source": [
                "## Fatalities per month"
            ]
        },
        {
            "cell_type": "code",
            "execution_count": 36,
            "metadata": {
                "tags": []
            },
            "outputs": [],
            "source": [
                "fig = go.Figure()\n",
                "fig.add_trace(go.Bar(x=fatalities_per_month.index, y=fatalities_per_month.values, name='Fatalities', marker_color=red))\n",
                "fig.add_trace(go.Scatter(x=rolling.index, y=rolling.apply(partial(round, ndigits=1)), name='12mo avg', line={'width': 4, 'color': black, }))\n",
                "fig.update_yaxes(gridcolor=gridcolor)\n",
                "save(\n",
                "    fig,\n",
                "    title='NJ Traffic Deaths per Month',\n",
                "    name='fatalities_per_month',\n",
                "    hoverx=True,\n",
                "    w=1200, h=600,\n",
                ");"
            ]
        },
        {
            "cell_type": "markdown",
            "metadata": {
                "tags": []
            },
            "source": [
                "![](../www/public/plots/fatalities_per_month.png)"
            ]
        },
        {
            "cell_type": "code",
            "execution_count": 37,
            "metadata": {
                "tags": []
            },
            "outputs": [
                {
                    "name": "stdout",
                    "output_type": "stream",
                    "text": [
                        "Jan Feb Mar Apr May Jun Jul Aug Sep Oct Nov Dec\n"
                    ]
                }
            ],
            "source": [
                "month_names = [ to_dt('2022-%02d' % i).strftime('%b') for i in range(1, 13) ]\n",
                "print(' '.join(month_names))"
            ]
        },
        {
            "cell_type": "code",
            "execution_count": 38,
            "metadata": {
                "tags": []
            },
            "outputs": [],
            "source": [
                "fig = px.bar(\n",
                "    x = pivoted.month,\n",
                "    y = pivoted.FATALITIES,\n",
                "    color = pivoted.year.astype(str),\n",
                "    color_discrete_sequence=year_colors,\n",
                "    labels=dict(color='', x='', y='',),\n",
                "    barmode='group',\n",
                ").update_yaxes(\n",
                "    gridcolor=gridcolor,\n",
                ")\n",
                "save(\n",
                "    fig,\n",
                "    title='NJ Traffic Deaths, by Month',\n",
                "    name='fatalities_by_month_bars',\n",
                "    legend=dict(traceorder='reversed'),\n",
                "    xaxis=dict(\n",
                "        tickmode = 'array',\n",
                "        tickvals = list(range(1, 13)),\n",
                "        ticktext = month_names,\n",
                "    ),\n",
                "    hoverx=True,\n",
                "    w=1200, h=700,\n",
                ");"
            ]
        },
        {
            "cell_type": "markdown",
            "metadata": {
                "tags": []
            },
            "source": [
                "![](../www/public/plots/fatalities_by_month_bars.png)"
            ]
        },
        {
            "cell_type": "code",
            "execution_count": 39,
            "metadata": {
                "tags": []
            },
            "outputs": [],
            "source": [
                "fig = px.line(\n",
                "    x = pivoted.month,\n",
                "    y = pivoted.FATALITIES,\n",
                "    color = pivoted.year,\n",
                "    color_discrete_sequence=year_colors,\n",
                "    labels={ 'color': '', 'x': '', 'y': '' },\n",
                ").update_yaxes(\n",
                "    gridcolor=gridcolor,\n",
                ")\n",
                "save(\n",
                "    fig,\n",
                "    title='NJ Traffic Deaths by Month',\n",
                "    name='fatalities_by_month_lines',\n",
                "    xaxis=dict(\n",
                "        tickmode = 'array',\n",
                "        tickvals = list(range(1, 13)),\n",
                "        ticktext = month_names,\n",
                "    ),\n",
                "    legend=dict(traceorder='reversed'),\n",
                "    hoverx=True,\n",
                "    w=1200, h=700,\n",
                ");"
            ]
        },
        {
            "cell_type": "markdown",
            "metadata": {
                "tags": []
            },
            "source": [
                "![](../www/public/plots/fatalities_by_month_lines.png)"
            ]
        }
    ],
    "metadata": {
        "kernelspec": {
            "display_name": "Python 3 (ipykernel)",
            "language": "python",
            "name": "python3"
        },
        "language_info": {
            "codemirror_mode": {
                "name": "ipython",
                "version": 3
            },
            "file_extension": ".py",
            "mimetype": "text/x-python",
            "name": "python",
            "nbconvert_exporter": "python",
            "pygments_lexer": "ipython3",
            "version": "3.11.7"
        }
    },
    "nbformat": 4,
    "nbformat_minor": 5
}