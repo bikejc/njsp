{
  "cells": [
    {
      "cell_type": "code",
      "execution_count": 1,
      "metadata": {
        "tags": []
      },
      "outputs": [],
      "source": [
        "from utz import *\n",
        "from njsp.paths import ANNUAL_SUMMARIES, annual_ytc_url, annual_ytd_url\n",
        "from requests import get"
      ]
    },
    {
      "cell_type": "code",
      "execution_count": 2,
      "metadata": {
        "tags": [
          "parameters"
        ]
      },
      "outputs": [],
      "source": [
        "years = None\n",
        "ytc = True\n",
        "force = False"
      ]
    },
    {
      "cell_type": "code",
      "execution_count": 3,
      "metadata": {
        "tags": [
          "injected-parameters"
        ]
      },
      "outputs": [],
      "source": [
        "# Parameters\n",
        "force = True\n"
      ]
    },
    {
      "cell_type": "code",
      "execution_count": 4,
      "metadata": {
        "tags": []
      },
      "outputs": [
        {
          "data": {
            "text/plain": [
              "[2023]"
            ]
          },
          "execution_count": 4,
          "metadata": {},
          "output_type": "execute_result"
        }
      ],
      "source": [
        "START_YEAR = 2010\n",
        "cur_year = to_dt('now', utc=True).year\n",
        "\n",
        "if years is None:\n",
        "    years = cur_year - 1\n",
        "\n",
        "if isinstance(years, str):\n",
        "    pcs = years.split(':')\n",
        "    if len(pcs) == 1:\n",
        "        years = list(int(years))\n",
        "    elif len(pcs) == 2:\n",
        "        start = int(pcs[0]) if pcs[0] else START_YEAR\n",
        "        end = int(pcs[1]) if pcs[1] else cur_year\n",
        "        years = list(range(start, end))\n",
        "    else:\n",
        "        raise ValueError(f\"Unrecognized `years`: {years}\")\n",
        "elif isinstance(years, int):\n",
        "    years = [years]\n",
        "elif isinstance(years, (list, tuple)):\n",
        "    years = [ int(year) for year in years ]\n",
        "else:\n",
        "    raise ValueError(f\"Unrecognized `years`: {years}\")\n",
        "\n",
        "years"
      ]
    },
    {
      "cell_type": "code",
      "execution_count": 5,
      "metadata": {
        "tags": []
      },
      "outputs": [
        {
          "name": "stderr",
          "output_type": "stream",
          "text": [
            "ptccr_23.pdf exists; overwriting\n"
          ]
        }
      ],
      "source": [
        "url_fn = annual_ytc_url if ytc else annual_ytd_url\n",
        "for year in years:\n",
        "    url = url_fn(year)\n",
        "    name = basename(url)\n",
        "    pdf_path = path.join(ANNUAL_SUMMARIES, name)\n",
        "    if exists(pdf_path):\n",
        "        if force:\n",
        "            err(f\"{name} exists; overwriting\")\n",
        "        else:\n",
        "            err(f\"{name} exists; skipping\")\n",
        "            continue\n",
        "    else:\n",
        "        err(f\"Writing {name}\")\n",
        "    with open(pdf_path, 'wb') as f:\n",
        "        res = get(url)\n",
        "        f.write(res.content)"
      ]
    }
  ],
  "metadata": {
    "kernelspec": {
      "display_name": "njsp-3.9.13",
      "language": "python",
      "name": "njsp-3.9.13"
    },
    "language_info": {
      "codemirror_mode": {
        "name": "ipython",
        "version": 3
      },
      "file_extension": ".py",
      "mimetype": "text/x-python",
      "name": "python",
      "nbconvert_exporter": "python",
      "pygments_lexer": "ipython3",
      "version": "3.9.13"
    }
  },
  "nbformat": 4,
  "nbformat_minor": 5
}
