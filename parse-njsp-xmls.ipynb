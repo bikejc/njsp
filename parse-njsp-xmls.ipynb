{
 "cells": [
  {
   "cell_type": "code",
   "execution_count": 1,
   "id": "8c677f26",
   "metadata": {},
   "outputs": [],
   "source": [
    "from utz import *\n",
    "from bs4 import BeautifulSoup as bs\n",
    "import plotly.graph_objects as go\n",
    "import plotly.express as px"
   ]
  },
  {
   "cell_type": "markdown",
   "id": "0514fb93",
   "metadata": {},
   "source": [
    "### Load one year of NJSP fatal crash data"
   ]
  },
  {
   "cell_type": "code",
   "execution_count": 2,
   "id": "da7927f7",
   "metadata": {},
   "outputs": [],
   "source": [
    "def parse_file(path):\n",
    "    with open(path, 'r') as f:\n",
    "        xml = bs(f)\n",
    "    children = list(xml.children)\n",
    "    assert len(children) == 3\n",
    "    html = children[-1]\n",
    "    assert html.name == 'html'\n",
    "    fauqstats = html.body.fauqstats\n",
    "    assert fauqstats.name == 'fauqstats'\n",
    "    rundate = fauqstats.rundate.text\n",
    "    year = fauqstats.statsyear.text\n",
    "    counties = fauqstats.find_all('county', recursive=False)\n",
    "    crash_counties = [ county for county in counties if county.municipality ]\n",
    "    print(f'{len(counties)} \"county\" entries, {len(crash_counties)} containing \"municipality\"/crash info')\n",
    "    records = []\n",
    "    for county in crash_counties:\n",
    "        municipality = county.municipality\n",
    "        assert municipality.name == 'municipality'\n",
    "        children = get_children(municipality)\n",
    "        accidents = municipality.find_all('accident', recursive=False)\n",
    "        if len(children) != len(accidents):\n",
    "            raise ValueError(f'Found {len(children)} municipality children, but {len(accidents)} accidents: {county}. {accidents}')\n",
    "        for accident in accidents:\n",
    "            obj = { child.name: child.text for child in get_children(accident) }\n",
    "            obj = dict(**county.attrs, **municipality.attrs, **accident.attrs, **obj, )\n",
    "            records.append(obj)\n",
    "    \n",
    "    df = pd.DataFrame(records)\n",
    "    return df"
   ]
  },
  {
   "cell_type": "code",
   "execution_count": 4,
   "id": "369d8c2b",
   "metadata": {},
   "outputs": [],
   "source": [
    "def get_children(tag):\n",
    "    return [ child for child in tag.children if not isinstance(child, str) ]"
   ]
  },
  {
   "cell_type": "markdown",
   "id": "d44e9a52",
   "metadata": {},
   "source": [
    "## Load all years of NJSP data (2008-2022)"
   ]
  },
  {
   "cell_type": "code",
   "execution_count": 5,
   "id": "16cb2a48",
   "metadata": {},
   "outputs": [
    {
     "name": "stdout",
     "output_type": "stream",
     "text": [
      "540 \"county\" entries, 519 containing \"municipality\"/crash info\n",
      "528 \"county\" entries, 507 containing \"municipality\"/crash info\n",
      "525 \"county\" entries, 504 containing \"municipality\"/crash info\n",
      "575 \"county\" entries, 554 containing \"municipality\"/crash info\n",
      "546 \"county\" entries, 525 containing \"municipality\"/crash info\n",
      "498 \"county\" entries, 477 containing \"municipality\"/crash info\n",
      "517 \"county\" entries, 496 containing \"municipality\"/crash info\n",
      "517 \"county\" entries, 496 containing \"municipality\"/crash info\n",
      "550 \"county\" entries, 529 containing \"municipality\"/crash info\n",
      "580 \"county\" entries, 559 containing \"municipality\"/crash info\n",
      "519 \"county\" entries, 498 containing \"municipality\"/crash info\n",
      "515 \"county\" entries, 494 containing \"municipality\"/crash info\n",
      "538 \"county\" entries, 517 containing \"municipality\"/crash info\n",
      "646 \"county\" entries, 625 containing \"municipality\"/crash info\n",
      "156 \"county\" entries, 135 containing \"municipality\"/crash info\n"
     ]
    },
    {
     "data": {
      "text/html": [
       "<div>\n",
       "<style scoped>\n",
       "    .dataframe tbody tr th:only-of-type {\n",
       "        vertical-align: middle;\n",
       "    }\n",
       "\n",
       "    .dataframe tbody tr th {\n",
       "        vertical-align: top;\n",
       "    }\n",
       "\n",
       "    .dataframe thead th {\n",
       "        text-align: right;\n",
       "    }\n",
       "</style>\n",
       "<table border=\"1\" class=\"dataframe\">\n",
       "  <thead>\n",
       "    <tr style=\"text-align: right;\">\n",
       "      <th></th>\n",
       "      <th>ccode</th>\n",
       "      <th>cname</th>\n",
       "      <th>mcode</th>\n",
       "      <th>mname</th>\n",
       "      <th>accid</th>\n",
       "      <th>date</th>\n",
       "      <th>time</th>\n",
       "      <th>highway</th>\n",
       "      <th>location</th>\n",
       "      <th>fatalities</th>\n",
       "      <th>injuries</th>\n",
       "      <th>street</th>\n",
       "      <th>fatal_d</th>\n",
       "      <th>fatal_p</th>\n",
       "      <th>fatal_t</th>\n",
       "      <th>fatal_b</th>\n",
       "    </tr>\n",
       "  </thead>\n",
       "  <tbody>\n",
       "    <tr>\n",
       "      <th>0</th>\n",
       "      <td>15</td>\n",
       "      <td>Ocean</td>\n",
       "      <td>1512</td>\n",
       "      <td>Lacey Twsp</td>\n",
       "      <td>2391</td>\n",
       "      <td>12/31/2008</td>\n",
       "      <td>1340</td>\n",
       "      <td>444</td>\n",
       "      <td>State/Interstate Authority 444 S MP 72.4</td>\n",
       "      <td>1</td>\n",
       "      <td>1</td>\n",
       "      <td>NaN</td>\n",
       "      <td>NaN</td>\n",
       "      <td>NaN</td>\n",
       "      <td>NaN</td>\n",
       "      <td>NaN</td>\n",
       "    </tr>\n",
       "    <tr>\n",
       "      <th>1</th>\n",
       "      <td>15</td>\n",
       "      <td>Ocean</td>\n",
       "      <td>1512</td>\n",
       "      <td>Lacey Twsp</td>\n",
       "      <td>2390</td>\n",
       "      <td>12/29/2008</td>\n",
       "      <td>1839</td>\n",
       "      <td>614</td>\n",
       "      <td>County 614 E MP 12.5</td>\n",
       "      <td>1</td>\n",
       "      <td>0</td>\n",
       "      <td>NaN</td>\n",
       "      <td>NaN</td>\n",
       "      <td>NaN</td>\n",
       "      <td>NaN</td>\n",
       "      <td>NaN</td>\n",
       "    </tr>\n",
       "    <tr>\n",
       "      <th>2</th>\n",
       "      <td>18</td>\n",
       "      <td>Somerset</td>\n",
       "      <td>1814</td>\n",
       "      <td>North Plainfield Bo</td>\n",
       "      <td>2388</td>\n",
       "      <td>12/29/2008</td>\n",
       "      <td>0610</td>\n",
       "      <td>22</td>\n",
       "      <td>State Highway 22 E MP 45.25 at North Drive</td>\n",
       "      <td>1</td>\n",
       "      <td>0</td>\n",
       "      <td>NaN</td>\n",
       "      <td>NaN</td>\n",
       "      <td>NaN</td>\n",
       "      <td>NaN</td>\n",
       "      <td>NaN</td>\n",
       "    </tr>\n",
       "    <tr>\n",
       "      <th>3</th>\n",
       "      <td>03</td>\n",
       "      <td>Burlington</td>\n",
       "      <td>0325</td>\n",
       "      <td>Mount Laurel Twsp</td>\n",
       "      <td>2389</td>\n",
       "      <td>12/29/2008</td>\n",
       "      <td>0337</td>\n",
       "      <td>537</td>\n",
       "      <td>County 537 E MP 12.74</td>\n",
       "      <td>1</td>\n",
       "      <td>0</td>\n",
       "      <td>NaN</td>\n",
       "      <td>NaN</td>\n",
       "      <td>NaN</td>\n",
       "      <td>NaN</td>\n",
       "      <td>NaN</td>\n",
       "    </tr>\n",
       "    <tr>\n",
       "      <th>4</th>\n",
       "      <td>13</td>\n",
       "      <td>Monmouth</td>\n",
       "      <td>1319</td>\n",
       "      <td>Howell Twsp</td>\n",
       "      <td>2384</td>\n",
       "      <td>12/26/2008</td>\n",
       "      <td>1752</td>\n",
       "      <td>9</td>\n",
       "      <td>State Highway 9 S MP 105.08 at Friendship Road</td>\n",
       "      <td>1</td>\n",
       "      <td>0</td>\n",
       "      <td>NaN</td>\n",
       "      <td>NaN</td>\n",
       "      <td>NaN</td>\n",
       "      <td>NaN</td>\n",
       "      <td>NaN</td>\n",
       "    </tr>\n",
       "    <tr>\n",
       "      <th>...</th>\n",
       "      <td>...</td>\n",
       "      <td>...</td>\n",
       "      <td>...</td>\n",
       "      <td>...</td>\n",
       "      <td>...</td>\n",
       "      <td>...</td>\n",
       "      <td>...</td>\n",
       "      <td>...</td>\n",
       "      <td>...</td>\n",
       "      <td>...</td>\n",
       "      <td>...</td>\n",
       "      <td>...</td>\n",
       "      <td>...</td>\n",
       "      <td>...</td>\n",
       "      <td>...</td>\n",
       "      <td>...</td>\n",
       "    </tr>\n",
       "    <tr>\n",
       "      <th>130</th>\n",
       "      <td>20</td>\n",
       "      <td>Union</td>\n",
       "      <td>2004</td>\n",
       "      <td>Elizabeth City</td>\n",
       "      <td>11465</td>\n",
       "      <td>01/02/2022</td>\n",
       "      <td>1126</td>\n",
       "      <td>1</td>\n",
       "      <td>State Highway 1</td>\n",
       "      <td>1</td>\n",
       "      <td>NaN</td>\n",
       "      <td>NaN</td>\n",
       "      <td>1</td>\n",
       "      <td>0</td>\n",
       "      <td>0</td>\n",
       "      <td>0</td>\n",
       "    </tr>\n",
       "    <tr>\n",
       "      <th>131</th>\n",
       "      <td>08</td>\n",
       "      <td>Gloucester</td>\n",
       "      <td>0805</td>\n",
       "      <td>Franklin Twsp</td>\n",
       "      <td>11462</td>\n",
       "      <td>01/02/2022</td>\n",
       "      <td>0754</td>\n",
       "      <td>55</td>\n",
       "      <td>State Highway 55 MP 41.2</td>\n",
       "      <td>1</td>\n",
       "      <td>0</td>\n",
       "      <td>NaN</td>\n",
       "      <td>1</td>\n",
       "      <td>0</td>\n",
       "      <td>0</td>\n",
       "      <td>0</td>\n",
       "    </tr>\n",
       "    <tr>\n",
       "      <th>132</th>\n",
       "      <td>12</td>\n",
       "      <td>Middlesex</td>\n",
       "      <td>1202</td>\n",
       "      <td>Cranbury Twsp</td>\n",
       "      <td>11461</td>\n",
       "      <td>01/02/2022</td>\n",
       "      <td>0543</td>\n",
       "      <td>615</td>\n",
       "      <td>County 615</td>\n",
       "      <td>1</td>\n",
       "      <td>NaN</td>\n",
       "      <td>NaN</td>\n",
       "      <td>0</td>\n",
       "      <td>0</td>\n",
       "      <td>1</td>\n",
       "      <td>0</td>\n",
       "    </tr>\n",
       "    <tr>\n",
       "      <th>133</th>\n",
       "      <td>03</td>\n",
       "      <td>Burlington</td>\n",
       "      <td>0308</td>\n",
       "      <td>Cinnaminson Twsp</td>\n",
       "      <td>11460</td>\n",
       "      <td>01/01/2022</td>\n",
       "      <td>0727</td>\n",
       "      <td>130</td>\n",
       "      <td>State Highway 130 MP 38.1</td>\n",
       "      <td>1</td>\n",
       "      <td>NaN</td>\n",
       "      <td>NaN</td>\n",
       "      <td>1</td>\n",
       "      <td>0</td>\n",
       "      <td>0</td>\n",
       "      <td>0</td>\n",
       "    </tr>\n",
       "    <tr>\n",
       "      <th>134</th>\n",
       "      <td>10</td>\n",
       "      <td>Hunterdon</td>\n",
       "      <td>1001</td>\n",
       "      <td>Alexandria Twsp</td>\n",
       "      <td>11459</td>\n",
       "      <td>01/01/2022</td>\n",
       "      <td>0529</td>\n",
       "      <td>513</td>\n",
       "      <td>County 513 MP 4.6</td>\n",
       "      <td>1</td>\n",
       "      <td>0</td>\n",
       "      <td>NaN</td>\n",
       "      <td>1</td>\n",
       "      <td>0</td>\n",
       "      <td>0</td>\n",
       "      <td>0</td>\n",
       "    </tr>\n",
       "  </tbody>\n",
       "</table>\n",
       "<p>7489 rows × 16 columns</p>\n",
       "</div>"
      ],
      "text/plain": [
       "    ccode       cname mcode                mname  accid        date  time  \\\n",
       "0      15       Ocean  1512           Lacey Twsp   2391  12/31/2008  1340   \n",
       "1      15       Ocean  1512           Lacey Twsp   2390  12/29/2008  1839   \n",
       "2      18    Somerset  1814  North Plainfield Bo   2388  12/29/2008  0610   \n",
       "3      03  Burlington  0325    Mount Laurel Twsp   2389  12/29/2008  0337   \n",
       "4      13    Monmouth  1319          Howell Twsp   2384  12/26/2008  1752   \n",
       "..    ...         ...   ...                  ...    ...         ...   ...   \n",
       "130    20       Union  2004       Elizabeth City  11465  01/02/2022  1126   \n",
       "131    08  Gloucester  0805        Franklin Twsp  11462  01/02/2022  0754   \n",
       "132    12   Middlesex  1202        Cranbury Twsp  11461  01/02/2022  0543   \n",
       "133    03  Burlington  0308     Cinnaminson Twsp  11460  01/01/2022  0727   \n",
       "134    10   Hunterdon  1001      Alexandria Twsp  11459  01/01/2022  0529   \n",
       "\n",
       "    highway                                        location fatalities  \\\n",
       "0       444        State/Interstate Authority 444 S MP 72.4          1   \n",
       "1       614                            County 614 E MP 12.5          1   \n",
       "2        22      State Highway 22 E MP 45.25 at North Drive          1   \n",
       "3       537                           County 537 E MP 12.74          1   \n",
       "4         9  State Highway 9 S MP 105.08 at Friendship Road          1   \n",
       "..      ...                                             ...        ...   \n",
       "130       1                                 State Highway 1          1   \n",
       "131      55                        State Highway 55 MP 41.2          1   \n",
       "132     615                                      County 615          1   \n",
       "133     130                       State Highway 130 MP 38.1          1   \n",
       "134     513                               County 513 MP 4.6          1   \n",
       "\n",
       "    injuries street fatal_d fatal_p fatal_t fatal_b  \n",
       "0          1    NaN     NaN     NaN     NaN     NaN  \n",
       "1          0    NaN     NaN     NaN     NaN     NaN  \n",
       "2          0    NaN     NaN     NaN     NaN     NaN  \n",
       "3          0    NaN     NaN     NaN     NaN     NaN  \n",
       "4          0    NaN     NaN     NaN     NaN     NaN  \n",
       "..       ...    ...     ...     ...     ...     ...  \n",
       "130      NaN    NaN       1       0       0       0  \n",
       "131        0    NaN       1       0       0       0  \n",
       "132      NaN    NaN       0       0       1       0  \n",
       "133      NaN    NaN       1       0       0       0  \n",
       "134        0    NaN       1       0       0       0  \n",
       "\n",
       "[7489 rows x 16 columns]"
      ]
     },
     "execution_count": 5,
     "metadata": {},
     "output_type": "execute_result"
    }
   ],
   "source": [
    "df = pd.concat([ parse_file(f'FAUQStats{year}.xml') for year in range(2008, 2023) ])\n",
    "df"
   ]
  },
  {
   "cell_type": "code",
   "execution_count": 6,
   "id": "e1a128f0",
   "metadata": {
    "scrolled": true
   },
   "outputs": [
    {
     "data": {
      "text/html": [
       "<div>\n",
       "<style scoped>\n",
       "    .dataframe tbody tr th:only-of-type {\n",
       "        vertical-align: middle;\n",
       "    }\n",
       "\n",
       "    .dataframe tbody tr th {\n",
       "        vertical-align: top;\n",
       "    }\n",
       "\n",
       "    .dataframe thead th {\n",
       "        text-align: right;\n",
       "    }\n",
       "</style>\n",
       "<table border=\"1\" class=\"dataframe\">\n",
       "  <thead>\n",
       "    <tr style=\"text-align: right;\">\n",
       "      <th></th>\n",
       "      <th>ccode</th>\n",
       "      <th>cname</th>\n",
       "      <th>mcode</th>\n",
       "      <th>mname</th>\n",
       "      <th>accid</th>\n",
       "      <th>highway</th>\n",
       "      <th>location</th>\n",
       "      <th>fatalities</th>\n",
       "      <th>injuries</th>\n",
       "      <th>street</th>\n",
       "      <th>fatal_d</th>\n",
       "      <th>fatal_p</th>\n",
       "      <th>fatal_t</th>\n",
       "      <th>fatal_b</th>\n",
       "      <th>dt</th>\n",
       "    </tr>\n",
       "  </thead>\n",
       "  <tbody>\n",
       "    <tr>\n",
       "      <th>0</th>\n",
       "      <td>15</td>\n",
       "      <td>Ocean</td>\n",
       "      <td>1512</td>\n",
       "      <td>Lacey Twsp</td>\n",
       "      <td>2391</td>\n",
       "      <td>444</td>\n",
       "      <td>State/Interstate Authority 444 S MP 72.4</td>\n",
       "      <td>1.0</td>\n",
       "      <td>1.0</td>\n",
       "      <td>NaN</td>\n",
       "      <td>NaN</td>\n",
       "      <td>NaN</td>\n",
       "      <td>NaN</td>\n",
       "      <td>NaN</td>\n",
       "      <td>2008-12-31 13:40:00</td>\n",
       "    </tr>\n",
       "    <tr>\n",
       "      <th>1</th>\n",
       "      <td>15</td>\n",
       "      <td>Ocean</td>\n",
       "      <td>1512</td>\n",
       "      <td>Lacey Twsp</td>\n",
       "      <td>2390</td>\n",
       "      <td>614</td>\n",
       "      <td>County 614 E MP 12.5</td>\n",
       "      <td>1.0</td>\n",
       "      <td>0.0</td>\n",
       "      <td>NaN</td>\n",
       "      <td>NaN</td>\n",
       "      <td>NaN</td>\n",
       "      <td>NaN</td>\n",
       "      <td>NaN</td>\n",
       "      <td>2008-12-29 18:39:00</td>\n",
       "    </tr>\n",
       "    <tr>\n",
       "      <th>2</th>\n",
       "      <td>18</td>\n",
       "      <td>Somerset</td>\n",
       "      <td>1814</td>\n",
       "      <td>North Plainfield Bo</td>\n",
       "      <td>2388</td>\n",
       "      <td>22</td>\n",
       "      <td>State Highway 22 E MP 45.25 at North Drive</td>\n",
       "      <td>1.0</td>\n",
       "      <td>0.0</td>\n",
       "      <td>NaN</td>\n",
       "      <td>NaN</td>\n",
       "      <td>NaN</td>\n",
       "      <td>NaN</td>\n",
       "      <td>NaN</td>\n",
       "      <td>2008-12-29 06:10:00</td>\n",
       "    </tr>\n",
       "    <tr>\n",
       "      <th>3</th>\n",
       "      <td>03</td>\n",
       "      <td>Burlington</td>\n",
       "      <td>0325</td>\n",
       "      <td>Mount Laurel Twsp</td>\n",
       "      <td>2389</td>\n",
       "      <td>537</td>\n",
       "      <td>County 537 E MP 12.74</td>\n",
       "      <td>1.0</td>\n",
       "      <td>0.0</td>\n",
       "      <td>NaN</td>\n",
       "      <td>NaN</td>\n",
       "      <td>NaN</td>\n",
       "      <td>NaN</td>\n",
       "      <td>NaN</td>\n",
       "      <td>2008-12-29 03:37:00</td>\n",
       "    </tr>\n",
       "    <tr>\n",
       "      <th>4</th>\n",
       "      <td>13</td>\n",
       "      <td>Monmouth</td>\n",
       "      <td>1319</td>\n",
       "      <td>Howell Twsp</td>\n",
       "      <td>2384</td>\n",
       "      <td>9</td>\n",
       "      <td>State Highway 9 S MP 105.08 at Friendship Road</td>\n",
       "      <td>1.0</td>\n",
       "      <td>0.0</td>\n",
       "      <td>NaN</td>\n",
       "      <td>NaN</td>\n",
       "      <td>NaN</td>\n",
       "      <td>NaN</td>\n",
       "      <td>NaN</td>\n",
       "      <td>2008-12-26 17:52:00</td>\n",
       "    </tr>\n",
       "    <tr>\n",
       "      <th>...</th>\n",
       "      <td>...</td>\n",
       "      <td>...</td>\n",
       "      <td>...</td>\n",
       "      <td>...</td>\n",
       "      <td>...</td>\n",
       "      <td>...</td>\n",
       "      <td>...</td>\n",
       "      <td>...</td>\n",
       "      <td>...</td>\n",
       "      <td>...</td>\n",
       "      <td>...</td>\n",
       "      <td>...</td>\n",
       "      <td>...</td>\n",
       "      <td>...</td>\n",
       "      <td>...</td>\n",
       "    </tr>\n",
       "    <tr>\n",
       "      <th>130</th>\n",
       "      <td>20</td>\n",
       "      <td>Union</td>\n",
       "      <td>2004</td>\n",
       "      <td>Elizabeth City</td>\n",
       "      <td>11465</td>\n",
       "      <td>1</td>\n",
       "      <td>State Highway 1</td>\n",
       "      <td>1.0</td>\n",
       "      <td>NaN</td>\n",
       "      <td>NaN</td>\n",
       "      <td>1.0</td>\n",
       "      <td>0.0</td>\n",
       "      <td>0.0</td>\n",
       "      <td>0.0</td>\n",
       "      <td>2022-01-02 11:26:00</td>\n",
       "    </tr>\n",
       "    <tr>\n",
       "      <th>131</th>\n",
       "      <td>08</td>\n",
       "      <td>Gloucester</td>\n",
       "      <td>0805</td>\n",
       "      <td>Franklin Twsp</td>\n",
       "      <td>11462</td>\n",
       "      <td>55</td>\n",
       "      <td>State Highway 55 MP 41.2</td>\n",
       "      <td>1.0</td>\n",
       "      <td>0.0</td>\n",
       "      <td>NaN</td>\n",
       "      <td>1.0</td>\n",
       "      <td>0.0</td>\n",
       "      <td>0.0</td>\n",
       "      <td>0.0</td>\n",
       "      <td>2022-01-02 07:54:00</td>\n",
       "    </tr>\n",
       "    <tr>\n",
       "      <th>132</th>\n",
       "      <td>12</td>\n",
       "      <td>Middlesex</td>\n",
       "      <td>1202</td>\n",
       "      <td>Cranbury Twsp</td>\n",
       "      <td>11461</td>\n",
       "      <td>615</td>\n",
       "      <td>County 615</td>\n",
       "      <td>1.0</td>\n",
       "      <td>NaN</td>\n",
       "      <td>NaN</td>\n",
       "      <td>0.0</td>\n",
       "      <td>0.0</td>\n",
       "      <td>1.0</td>\n",
       "      <td>0.0</td>\n",
       "      <td>2022-01-02 05:43:00</td>\n",
       "    </tr>\n",
       "    <tr>\n",
       "      <th>133</th>\n",
       "      <td>03</td>\n",
       "      <td>Burlington</td>\n",
       "      <td>0308</td>\n",
       "      <td>Cinnaminson Twsp</td>\n",
       "      <td>11460</td>\n",
       "      <td>130</td>\n",
       "      <td>State Highway 130 MP 38.1</td>\n",
       "      <td>1.0</td>\n",
       "      <td>NaN</td>\n",
       "      <td>NaN</td>\n",
       "      <td>1.0</td>\n",
       "      <td>0.0</td>\n",
       "      <td>0.0</td>\n",
       "      <td>0.0</td>\n",
       "      <td>2022-01-01 07:27:00</td>\n",
       "    </tr>\n",
       "    <tr>\n",
       "      <th>134</th>\n",
       "      <td>10</td>\n",
       "      <td>Hunterdon</td>\n",
       "      <td>1001</td>\n",
       "      <td>Alexandria Twsp</td>\n",
       "      <td>11459</td>\n",
       "      <td>513</td>\n",
       "      <td>County 513 MP 4.6</td>\n",
       "      <td>1.0</td>\n",
       "      <td>0.0</td>\n",
       "      <td>NaN</td>\n",
       "      <td>1.0</td>\n",
       "      <td>0.0</td>\n",
       "      <td>0.0</td>\n",
       "      <td>0.0</td>\n",
       "      <td>2022-01-01 05:29:00</td>\n",
       "    </tr>\n",
       "  </tbody>\n",
       "</table>\n",
       "<p>7489 rows × 15 columns</p>\n",
       "</div>"
      ],
      "text/plain": [
       "    ccode       cname mcode                mname  accid highway  \\\n",
       "0      15       Ocean  1512           Lacey Twsp   2391     444   \n",
       "1      15       Ocean  1512           Lacey Twsp   2390     614   \n",
       "2      18    Somerset  1814  North Plainfield Bo   2388      22   \n",
       "3      03  Burlington  0325    Mount Laurel Twsp   2389     537   \n",
       "4      13    Monmouth  1319          Howell Twsp   2384       9   \n",
       "..    ...         ...   ...                  ...    ...     ...   \n",
       "130    20       Union  2004       Elizabeth City  11465       1   \n",
       "131    08  Gloucester  0805        Franklin Twsp  11462      55   \n",
       "132    12   Middlesex  1202        Cranbury Twsp  11461     615   \n",
       "133    03  Burlington  0308     Cinnaminson Twsp  11460     130   \n",
       "134    10   Hunterdon  1001      Alexandria Twsp  11459     513   \n",
       "\n",
       "                                           location  fatalities  injuries  \\\n",
       "0          State/Interstate Authority 444 S MP 72.4         1.0       1.0   \n",
       "1                              County 614 E MP 12.5         1.0       0.0   \n",
       "2        State Highway 22 E MP 45.25 at North Drive         1.0       0.0   \n",
       "3                             County 537 E MP 12.74         1.0       0.0   \n",
       "4    State Highway 9 S MP 105.08 at Friendship Road         1.0       0.0   \n",
       "..                                              ...         ...       ...   \n",
       "130                                 State Highway 1         1.0       NaN   \n",
       "131                        State Highway 55 MP 41.2         1.0       0.0   \n",
       "132                                      County 615         1.0       NaN   \n",
       "133                       State Highway 130 MP 38.1         1.0       NaN   \n",
       "134                               County 513 MP 4.6         1.0       0.0   \n",
       "\n",
       "    street  fatal_d  fatal_p  fatal_t  fatal_b                  dt  \n",
       "0      NaN      NaN      NaN      NaN      NaN 2008-12-31 13:40:00  \n",
       "1      NaN      NaN      NaN      NaN      NaN 2008-12-29 18:39:00  \n",
       "2      NaN      NaN      NaN      NaN      NaN 2008-12-29 06:10:00  \n",
       "3      NaN      NaN      NaN      NaN      NaN 2008-12-29 03:37:00  \n",
       "4      NaN      NaN      NaN      NaN      NaN 2008-12-26 17:52:00  \n",
       "..     ...      ...      ...      ...      ...                 ...  \n",
       "130    NaN      1.0      0.0      0.0      0.0 2022-01-02 11:26:00  \n",
       "131    NaN      1.0      0.0      0.0      0.0 2022-01-02 07:54:00  \n",
       "132    NaN      0.0      0.0      1.0      0.0 2022-01-02 05:43:00  \n",
       "133    NaN      1.0      0.0      0.0      0.0 2022-01-01 07:27:00  \n",
       "134    NaN      1.0      0.0      0.0      0.0 2022-01-01 05:29:00  \n",
       "\n",
       "[7489 rows x 15 columns]"
      ]
     },
     "execution_count": 6,
     "metadata": {},
     "output_type": "execute_result"
    }
   ],
   "source": [
    "df['dt'] = df[['date','time']].apply(lambda r: to_dt(f'{r[\"date\"]} {r[\"time\"]}'), axis=1)\n",
    "d = df.astype({\n",
    "    'fatalities': float,\n",
    "    'fatal_d': float,\n",
    "    'fatal_p': float,\n",
    "    'fatal_t': float,\n",
    "    'fatal_b': float,\n",
    "    'injuries': float,\n",
    "}).drop(columns=['date', 'time'])\n",
    "d"
   ]
  },
  {
   "cell_type": "markdown",
   "id": "92cf292a",
   "metadata": {},
   "source": [
    "#### Save to file"
   ]
  },
  {
   "cell_type": "code",
   "execution_count": 7,
   "id": "c84145c5",
   "metadata": {},
   "outputs": [],
   "source": [
    "d.to_parquet('njsp.pqt')"
   ]
  },
  {
   "cell_type": "markdown",
   "id": "4076fccc",
   "metadata": {},
   "source": [
    "#### Group by year"
   ]
  },
  {
   "cell_type": "code",
   "execution_count": 10,
   "id": "28c174f6",
   "metadata": {},
   "outputs": [
    {
     "data": {
      "text/plain": [
       "dt\n",
       "2008    558.0\n",
       "2009    546.0\n",
       "2010    533.0\n",
       "2011    594.0\n",
       "2012    559.0\n",
       "2013    513.0\n",
       "2014    532.0\n",
       "2015    533.0\n",
       "2016    562.0\n",
       "2017    595.0\n",
       "2018    537.0\n",
       "2019    534.0\n",
       "2020    556.0\n",
       "2021    660.0\n",
       "2022    140.0\n",
       "Name: fatalities, dtype: float64"
      ]
     },
     "execution_count": 10,
     "metadata": {},
     "output_type": "execute_result"
    }
   ],
   "source": [
    "fatalities_per_year = d.fatalities.groupby(d.dt.dt.year).sum()\n",
    "fatalities_per_year"
   ]
  },
  {
   "cell_type": "markdown",
   "id": "68b92506",
   "metadata": {},
   "source": [
    "#### Group by month"
   ]
  },
  {
   "cell_type": "code",
   "execution_count": 16,
   "id": "d8ba5da5",
   "metadata": {},
   "outputs": [
    {
     "data": {
      "text/plain": [
       "0      2008-12\n",
       "1      2008-12\n",
       "2      2008-12\n",
       "3      2008-12\n",
       "4      2008-12\n",
       "        ...   \n",
       "130    2022-01\n",
       "131    2022-01\n",
       "132    2022-01\n",
       "133    2022-01\n",
       "134    2022-01\n",
       "Name: dt, Length: 7489, dtype: object"
      ]
     },
     "execution_count": 16,
     "metadata": {},
     "output_type": "execute_result"
    }
   ],
   "source": [
    "ym = d.dt.apply(lambda d: d.strftime('%Y-%m'))\n",
    "fatalities_per_month = d.fatalities.groupby(ym).sum()\n",
    "fatalities_per_month = fatalities_per_month.loc[fatalities_per_month.index < '2022-04']\n",
    "fatalities_per_month"
   ]
  },
  {
   "cell_type": "markdown",
   "id": "e534eda2",
   "metadata": {},
   "source": [
    "#### Rolling avg"
   ]
  },
  {
   "cell_type": "code",
   "execution_count": 20,
   "id": "96057f80",
   "metadata": {},
   "outputs": [
    {
     "data": {
      "text/plain": [
       "dt\n",
       "2008-01          NaN\n",
       "2008-02          NaN\n",
       "2008-03          NaN\n",
       "2008-04          NaN\n",
       "2008-05          NaN\n",
       "             ...    \n",
       "2021-11    53.583333\n",
       "2021-12    55.000000\n",
       "2022-01    55.750000\n",
       "2022-02    56.916667\n",
       "2022-03    56.000000\n",
       "Name: fatalities, Length: 171, dtype: float64"
      ]
     },
     "execution_count": 20,
     "metadata": {},
     "output_type": "execute_result"
    }
   ],
   "source": [
    "rolling = fatalities_per_month.rolling(12).mean()\n",
    "rolling"
   ]
  },
  {
   "cell_type": "markdown",
   "id": "c5182c77",
   "metadata": {},
   "source": [
    "#### Fatalities per month plot"
   ]
  },
  {
   "cell_type": "code",
   "execution_count": 36,
   "id": "d1fc590d",
   "metadata": {},
   "outputs": [
    {
     "data": {
      "application/vnd.plotly.v1+json": {
       "config": {
        "plotlyServerURL": "https://plot.ly"
       },
       "data": [
        {
         "name": "Fatalities",
         "type": "bar",
         "x": [
          "2008-01",
          "2008-02",
          "2008-03",
          "2008-04",
          "2008-05",
          "2008-06",
          "2008-07",
          "2008-08",
          "2008-09",
          "2008-10",
          "2008-11",
          "2008-12",
          "2009-01",
          "2009-02",
          "2009-03",
          "2009-04",
          "2009-05",
          "2009-06",
          "2009-07",
          "2009-08",
          "2009-09",
          "2009-10",
          "2009-11",
          "2009-12",
          "2010-01",
          "2010-02",
          "2010-03",
          "2010-04",
          "2010-05",
          "2010-06",
          "2010-07",
          "2010-08",
          "2010-09",
          "2010-10",
          "2010-11",
          "2010-12",
          "2011-01",
          "2011-02",
          "2011-03",
          "2011-04",
          "2011-05",
          "2011-06",
          "2011-07",
          "2011-08",
          "2011-09",
          "2011-10",
          "2011-11",
          "2011-12",
          "2012-01",
          "2012-02",
          "2012-03",
          "2012-04",
          "2012-05",
          "2012-06",
          "2012-07",
          "2012-08",
          "2012-09",
          "2012-10",
          "2012-11",
          "2012-12",
          "2013-01",
          "2013-02",
          "2013-03",
          "2013-04",
          "2013-05",
          "2013-06",
          "2013-07",
          "2013-08",
          "2013-09",
          "2013-10",
          "2013-11",
          "2013-12",
          "2014-01",
          "2014-02",
          "2014-03",
          "2014-04",
          "2014-05",
          "2014-06",
          "2014-07",
          "2014-08",
          "2014-09",
          "2014-10",
          "2014-11",
          "2014-12",
          "2015-01",
          "2015-02",
          "2015-03",
          "2015-04",
          "2015-05",
          "2015-06",
          "2015-07",
          "2015-08",
          "2015-09",
          "2015-10",
          "2015-11",
          "2015-12",
          "2016-01",
          "2016-02",
          "2016-03",
          "2016-04",
          "2016-05",
          "2016-06",
          "2016-07",
          "2016-08",
          "2016-09",
          "2016-10",
          "2016-11",
          "2016-12",
          "2017-01",
          "2017-02",
          "2017-03",
          "2017-04",
          "2017-05",
          "2017-06",
          "2017-07",
          "2017-08",
          "2017-09",
          "2017-10",
          "2017-11",
          "2017-12",
          "2018-01",
          "2018-02",
          "2018-03",
          "2018-04",
          "2018-05",
          "2018-06",
          "2018-07",
          "2018-08",
          "2018-09",
          "2018-10",
          "2018-11",
          "2018-12",
          "2019-01",
          "2019-02",
          "2019-03",
          "2019-04",
          "2019-05",
          "2019-06",
          "2019-07",
          "2019-08",
          "2019-09",
          "2019-10",
          "2019-11",
          "2019-12",
          "2020-01",
          "2020-02",
          "2020-03",
          "2020-04",
          "2020-05",
          "2020-06",
          "2020-07",
          "2020-08",
          "2020-09",
          "2020-10",
          "2020-11",
          "2020-12",
          "2021-01",
          "2021-02",
          "2021-03",
          "2021-04",
          "2021-05",
          "2021-06",
          "2021-07",
          "2021-08",
          "2021-09",
          "2021-10",
          "2021-11",
          "2021-12",
          "2022-01",
          "2022-02",
          "2022-03"
         ],
         "y": [
          54,
          40,
          32,
          44,
          44,
          49,
          55,
          47,
          43,
          55,
          50,
          45,
          52,
          44,
          33,
          45,
          39,
          45,
          54,
          53,
          52,
          38,
          43,
          48,
          33,
          28,
          45,
          50,
          39,
          51,
          59,
          39,
          55,
          49,
          38,
          47,
          34,
          41,
          44,
          55,
          55,
          47,
          56,
          43,
          49,
          60,
          51,
          59,
          52,
          39,
          41,
          42,
          43,
          44,
          57,
          43,
          50,
          53,
          48,
          47,
          41,
          21,
          54,
          30,
          45,
          51,
          39,
          55,
          40,
          42,
          47,
          48,
          38,
          31,
          46,
          42,
          49,
          49,
          45,
          56,
          46,
          36,
          40,
          54,
          38,
          35,
          37,
          29,
          47,
          50,
          44,
          45,
          55,
          41,
          51,
          61,
          39,
          38,
          39,
          37,
          46,
          46,
          57,
          60,
          45,
          54,
          48,
          53,
          44,
          25,
          43,
          42,
          43,
          55,
          60,
          51,
          57,
          62,
          58,
          55,
          50,
          40,
          23,
          42,
          47,
          50,
          57,
          35,
          41,
          57,
          52,
          43,
          45,
          39,
          32,
          38,
          44,
          45,
          43,
          48,
          61,
          59,
          31,
          49,
          46,
          30,
          33,
          28,
          50,
          45,
          59,
          54,
          54,
          54,
          59,
          44,
          45,
          26,
          53,
          39,
          43,
          57,
          64,
          63,
          63,
          76,
          70,
          61,
          54,
          40,
          42
         ]
        },
        {
         "line": {
          "color": "black",
          "width": 3
         },
         "name": "12mo avg",
         "type": "scatter",
         "x": [
          "2008-01",
          "2008-02",
          "2008-03",
          "2008-04",
          "2008-05",
          "2008-06",
          "2008-07",
          "2008-08",
          "2008-09",
          "2008-10",
          "2008-11",
          "2008-12",
          "2009-01",
          "2009-02",
          "2009-03",
          "2009-04",
          "2009-05",
          "2009-06",
          "2009-07",
          "2009-08",
          "2009-09",
          "2009-10",
          "2009-11",
          "2009-12",
          "2010-01",
          "2010-02",
          "2010-03",
          "2010-04",
          "2010-05",
          "2010-06",
          "2010-07",
          "2010-08",
          "2010-09",
          "2010-10",
          "2010-11",
          "2010-12",
          "2011-01",
          "2011-02",
          "2011-03",
          "2011-04",
          "2011-05",
          "2011-06",
          "2011-07",
          "2011-08",
          "2011-09",
          "2011-10",
          "2011-11",
          "2011-12",
          "2012-01",
          "2012-02",
          "2012-03",
          "2012-04",
          "2012-05",
          "2012-06",
          "2012-07",
          "2012-08",
          "2012-09",
          "2012-10",
          "2012-11",
          "2012-12",
          "2013-01",
          "2013-02",
          "2013-03",
          "2013-04",
          "2013-05",
          "2013-06",
          "2013-07",
          "2013-08",
          "2013-09",
          "2013-10",
          "2013-11",
          "2013-12",
          "2014-01",
          "2014-02",
          "2014-03",
          "2014-04",
          "2014-05",
          "2014-06",
          "2014-07",
          "2014-08",
          "2014-09",
          "2014-10",
          "2014-11",
          "2014-12",
          "2015-01",
          "2015-02",
          "2015-03",
          "2015-04",
          "2015-05",
          "2015-06",
          "2015-07",
          "2015-08",
          "2015-09",
          "2015-10",
          "2015-11",
          "2015-12",
          "2016-01",
          "2016-02",
          "2016-03",
          "2016-04",
          "2016-05",
          "2016-06",
          "2016-07",
          "2016-08",
          "2016-09",
          "2016-10",
          "2016-11",
          "2016-12",
          "2017-01",
          "2017-02",
          "2017-03",
          "2017-04",
          "2017-05",
          "2017-06",
          "2017-07",
          "2017-08",
          "2017-09",
          "2017-10",
          "2017-11",
          "2017-12",
          "2018-01",
          "2018-02",
          "2018-03",
          "2018-04",
          "2018-05",
          "2018-06",
          "2018-07",
          "2018-08",
          "2018-09",
          "2018-10",
          "2018-11",
          "2018-12",
          "2019-01",
          "2019-02",
          "2019-03",
          "2019-04",
          "2019-05",
          "2019-06",
          "2019-07",
          "2019-08",
          "2019-09",
          "2019-10",
          "2019-11",
          "2019-12",
          "2020-01",
          "2020-02",
          "2020-03",
          "2020-04",
          "2020-05",
          "2020-06",
          "2020-07",
          "2020-08",
          "2020-09",
          "2020-10",
          "2020-11",
          "2020-12",
          "2021-01",
          "2021-02",
          "2021-03",
          "2021-04",
          "2021-05",
          "2021-06",
          "2021-07",
          "2021-08",
          "2021-09",
          "2021-10",
          "2021-11",
          "2021-12",
          "2022-01",
          "2022-02",
          "2022-03"
         ],
         "y": [
          null,
          null,
          null,
          null,
          null,
          null,
          null,
          null,
          null,
          null,
          null,
          46.5,
          46.333333333333336,
          46.666666666666664,
          46.75,
          46.833333333333336,
          46.416666666666664,
          46.083333333333336,
          46,
          46.5,
          47.25,
          45.833333333333336,
          45.25,
          45.5,
          43.916666666666664,
          42.583333333333336,
          43.583333333333336,
          44,
          44,
          44.5,
          44.916666666666664,
          43.75,
          44,
          44.916666666666664,
          44.5,
          44.416666666666664,
          44.5,
          45.583333333333336,
          45.5,
          45.916666666666664,
          47.25,
          46.916666666666664,
          46.666666666666664,
          47,
          46.5,
          47.416666666666664,
          48.5,
          49.5,
          51,
          50.833333333333336,
          50.583333333333336,
          49.5,
          48.5,
          48.25,
          48.333333333333336,
          48.333333333333336,
          48.416666666666664,
          47.833333333333336,
          47.583333333333336,
          46.583333333333336,
          45.666666666666664,
          44.166666666666664,
          45.25,
          44.25,
          44.416666666666664,
          45,
          43.5,
          44.5,
          43.666666666666664,
          42.75,
          42.666666666666664,
          42.75,
          42.5,
          43.333333333333336,
          42.666666666666664,
          43.666666666666664,
          44,
          43.833333333333336,
          44.333333333333336,
          44.416666666666664,
          44.916666666666664,
          44.416666666666664,
          43.833333333333336,
          44.333333333333336,
          44.333333333333336,
          44.666666666666664,
          43.916666666666664,
          42.833333333333336,
          42.666666666666664,
          42.75,
          42.666666666666664,
          41.75,
          42.5,
          42.916666666666664,
          43.833333333333336,
          44.416666666666664,
          44.5,
          44.75,
          44.916666666666664,
          45.583333333333336,
          45.5,
          45.166666666666664,
          46.25,
          47.5,
          46.666666666666664,
          47.75,
          47.5,
          46.833333333333336,
          47.25,
          46.166666666666664,
          46.5,
          46.916666666666664,
          46.666666666666664,
          47.416666666666664,
          47.666666666666664,
          46.916666666666664,
          47.916666666666664,
          48.583333333333336,
          49.416666666666664,
          49.583333333333336,
          50.083333333333336,
          51.333333333333336,
          49.666666666666664,
          49.666666666666664,
          50,
          49.583333333333336,
          49.333333333333336,
          48,
          46.666666666666664,
          46.25,
          45.75,
          44.75,
          44.333333333333336,
          44.25,
          45,
          44.666666666666664,
          44.416666666666664,
          44,
          42.833333333333336,
          43.916666666666664,
          45.583333333333336,
          45.75,
          44,
          44.5,
          44.583333333333336,
          43.833333333333336,
          43.916666666666664,
          43.083333333333336,
          43.583333333333336,
          43.583333333333336,
          44.916666666666664,
          45.416666666666664,
          44.833333333333336,
          44.416666666666664,
          46.75,
          46.333333333333336,
          46.25,
          45.916666666666664,
          47.583333333333336,
          48.5,
          47.916666666666664,
          48.916666666666664,
          49.333333333333336,
          50.083333333333336,
          50.833333333333336,
          52.666666666666664,
          53.583333333333336,
          55,
          55.75,
          56.916666666666664,
          56
         ]
        }
       ],
       "layout": {
        "margin": {
         "b": 40,
         "l": 40,
         "r": 40,
         "t": 40
        },
        "template": {
         "data": {
          "bar": [
           {
            "error_x": {
             "color": "#2a3f5f"
            },
            "error_y": {
             "color": "#2a3f5f"
            },
            "marker": {
             "line": {
              "color": "#E5ECF6",
              "width": 0.5
             },
             "pattern": {
              "fillmode": "overlay",
              "size": 10,
              "solidity": 0.2
             }
            },
            "type": "bar"
           }
          ],
          "barpolar": [
           {
            "marker": {
             "line": {
              "color": "#E5ECF6",
              "width": 0.5
             },
             "pattern": {
              "fillmode": "overlay",
              "size": 10,
              "solidity": 0.2
             }
            },
            "type": "barpolar"
           }
          ],
          "carpet": [
           {
            "aaxis": {
             "endlinecolor": "#2a3f5f",
             "gridcolor": "white",
             "linecolor": "white",
             "minorgridcolor": "white",
             "startlinecolor": "#2a3f5f"
            },
            "baxis": {
             "endlinecolor": "#2a3f5f",
             "gridcolor": "white",
             "linecolor": "white",
             "minorgridcolor": "white",
             "startlinecolor": "#2a3f5f"
            },
            "type": "carpet"
           }
          ],
          "choropleth": [
           {
            "colorbar": {
             "outlinewidth": 0,
             "ticks": ""
            },
            "type": "choropleth"
           }
          ],
          "contour": [
           {
            "colorbar": {
             "outlinewidth": 0,
             "ticks": ""
            },
            "colorscale": [
             [
              0,
              "#0d0887"
             ],
             [
              0.1111111111111111,
              "#46039f"
             ],
             [
              0.2222222222222222,
              "#7201a8"
             ],
             [
              0.3333333333333333,
              "#9c179e"
             ],
             [
              0.4444444444444444,
              "#bd3786"
             ],
             [
              0.5555555555555556,
              "#d8576b"
             ],
             [
              0.6666666666666666,
              "#ed7953"
             ],
             [
              0.7777777777777778,
              "#fb9f3a"
             ],
             [
              0.8888888888888888,
              "#fdca26"
             ],
             [
              1,
              "#f0f921"
             ]
            ],
            "type": "contour"
           }
          ],
          "contourcarpet": [
           {
            "colorbar": {
             "outlinewidth": 0,
             "ticks": ""
            },
            "type": "contourcarpet"
           }
          ],
          "heatmap": [
           {
            "colorbar": {
             "outlinewidth": 0,
             "ticks": ""
            },
            "colorscale": [
             [
              0,
              "#0d0887"
             ],
             [
              0.1111111111111111,
              "#46039f"
             ],
             [
              0.2222222222222222,
              "#7201a8"
             ],
             [
              0.3333333333333333,
              "#9c179e"
             ],
             [
              0.4444444444444444,
              "#bd3786"
             ],
             [
              0.5555555555555556,
              "#d8576b"
             ],
             [
              0.6666666666666666,
              "#ed7953"
             ],
             [
              0.7777777777777778,
              "#fb9f3a"
             ],
             [
              0.8888888888888888,
              "#fdca26"
             ],
             [
              1,
              "#f0f921"
             ]
            ],
            "type": "heatmap"
           }
          ],
          "heatmapgl": [
           {
            "colorbar": {
             "outlinewidth": 0,
             "ticks": ""
            },
            "colorscale": [
             [
              0,
              "#0d0887"
             ],
             [
              0.1111111111111111,
              "#46039f"
             ],
             [
              0.2222222222222222,
              "#7201a8"
             ],
             [
              0.3333333333333333,
              "#9c179e"
             ],
             [
              0.4444444444444444,
              "#bd3786"
             ],
             [
              0.5555555555555556,
              "#d8576b"
             ],
             [
              0.6666666666666666,
              "#ed7953"
             ],
             [
              0.7777777777777778,
              "#fb9f3a"
             ],
             [
              0.8888888888888888,
              "#fdca26"
             ],
             [
              1,
              "#f0f921"
             ]
            ],
            "type": "heatmapgl"
           }
          ],
          "histogram": [
           {
            "marker": {
             "pattern": {
              "fillmode": "overlay",
              "size": 10,
              "solidity": 0.2
             }
            },
            "type": "histogram"
           }
          ],
          "histogram2d": [
           {
            "colorbar": {
             "outlinewidth": 0,
             "ticks": ""
            },
            "colorscale": [
             [
              0,
              "#0d0887"
             ],
             [
              0.1111111111111111,
              "#46039f"
             ],
             [
              0.2222222222222222,
              "#7201a8"
             ],
             [
              0.3333333333333333,
              "#9c179e"
             ],
             [
              0.4444444444444444,
              "#bd3786"
             ],
             [
              0.5555555555555556,
              "#d8576b"
             ],
             [
              0.6666666666666666,
              "#ed7953"
             ],
             [
              0.7777777777777778,
              "#fb9f3a"
             ],
             [
              0.8888888888888888,
              "#fdca26"
             ],
             [
              1,
              "#f0f921"
             ]
            ],
            "type": "histogram2d"
           }
          ],
          "histogram2dcontour": [
           {
            "colorbar": {
             "outlinewidth": 0,
             "ticks": ""
            },
            "colorscale": [
             [
              0,
              "#0d0887"
             ],
             [
              0.1111111111111111,
              "#46039f"
             ],
             [
              0.2222222222222222,
              "#7201a8"
             ],
             [
              0.3333333333333333,
              "#9c179e"
             ],
             [
              0.4444444444444444,
              "#bd3786"
             ],
             [
              0.5555555555555556,
              "#d8576b"
             ],
             [
              0.6666666666666666,
              "#ed7953"
             ],
             [
              0.7777777777777778,
              "#fb9f3a"
             ],
             [
              0.8888888888888888,
              "#fdca26"
             ],
             [
              1,
              "#f0f921"
             ]
            ],
            "type": "histogram2dcontour"
           }
          ],
          "mesh3d": [
           {
            "colorbar": {
             "outlinewidth": 0,
             "ticks": ""
            },
            "type": "mesh3d"
           }
          ],
          "parcoords": [
           {
            "line": {
             "colorbar": {
              "outlinewidth": 0,
              "ticks": ""
             }
            },
            "type": "parcoords"
           }
          ],
          "pie": [
           {
            "automargin": true,
            "type": "pie"
           }
          ],
          "scatter": [
           {
            "marker": {
             "colorbar": {
              "outlinewidth": 0,
              "ticks": ""
             }
            },
            "type": "scatter"
           }
          ],
          "scatter3d": [
           {
            "line": {
             "colorbar": {
              "outlinewidth": 0,
              "ticks": ""
             }
            },
            "marker": {
             "colorbar": {
              "outlinewidth": 0,
              "ticks": ""
             }
            },
            "type": "scatter3d"
           }
          ],
          "scattercarpet": [
           {
            "marker": {
             "colorbar": {
              "outlinewidth": 0,
              "ticks": ""
             }
            },
            "type": "scattercarpet"
           }
          ],
          "scattergeo": [
           {
            "marker": {
             "colorbar": {
              "outlinewidth": 0,
              "ticks": ""
             }
            },
            "type": "scattergeo"
           }
          ],
          "scattergl": [
           {
            "marker": {
             "colorbar": {
              "outlinewidth": 0,
              "ticks": ""
             }
            },
            "type": "scattergl"
           }
          ],
          "scattermapbox": [
           {
            "marker": {
             "colorbar": {
              "outlinewidth": 0,
              "ticks": ""
             }
            },
            "type": "scattermapbox"
           }
          ],
          "scatterpolar": [
           {
            "marker": {
             "colorbar": {
              "outlinewidth": 0,
              "ticks": ""
             }
            },
            "type": "scatterpolar"
           }
          ],
          "scatterpolargl": [
           {
            "marker": {
             "colorbar": {
              "outlinewidth": 0,
              "ticks": ""
             }
            },
            "type": "scatterpolargl"
           }
          ],
          "scatterternary": [
           {
            "marker": {
             "colorbar": {
              "outlinewidth": 0,
              "ticks": ""
             }
            },
            "type": "scatterternary"
           }
          ],
          "surface": [
           {
            "colorbar": {
             "outlinewidth": 0,
             "ticks": ""
            },
            "colorscale": [
             [
              0,
              "#0d0887"
             ],
             [
              0.1111111111111111,
              "#46039f"
             ],
             [
              0.2222222222222222,
              "#7201a8"
             ],
             [
              0.3333333333333333,
              "#9c179e"
             ],
             [
              0.4444444444444444,
              "#bd3786"
             ],
             [
              0.5555555555555556,
              "#d8576b"
             ],
             [
              0.6666666666666666,
              "#ed7953"
             ],
             [
              0.7777777777777778,
              "#fb9f3a"
             ],
             [
              0.8888888888888888,
              "#fdca26"
             ],
             [
              1,
              "#f0f921"
             ]
            ],
            "type": "surface"
           }
          ],
          "table": [
           {
            "cells": {
             "fill": {
              "color": "#EBF0F8"
             },
             "line": {
              "color": "white"
             }
            },
            "header": {
             "fill": {
              "color": "#C8D4E3"
             },
             "line": {
              "color": "white"
             }
            },
            "type": "table"
           }
          ]
         },
         "layout": {
          "annotationdefaults": {
           "arrowcolor": "#2a3f5f",
           "arrowhead": 0,
           "arrowwidth": 1
          },
          "autotypenumbers": "strict",
          "coloraxis": {
           "colorbar": {
            "outlinewidth": 0,
            "ticks": ""
           }
          },
          "colorscale": {
           "diverging": [
            [
             0,
             "#8e0152"
            ],
            [
             0.1,
             "#c51b7d"
            ],
            [
             0.2,
             "#de77ae"
            ],
            [
             0.3,
             "#f1b6da"
            ],
            [
             0.4,
             "#fde0ef"
            ],
            [
             0.5,
             "#f7f7f7"
            ],
            [
             0.6,
             "#e6f5d0"
            ],
            [
             0.7,
             "#b8e186"
            ],
            [
             0.8,
             "#7fbc41"
            ],
            [
             0.9,
             "#4d9221"
            ],
            [
             1,
             "#276419"
            ]
           ],
           "sequential": [
            [
             0,
             "#0d0887"
            ],
            [
             0.1111111111111111,
             "#46039f"
            ],
            [
             0.2222222222222222,
             "#7201a8"
            ],
            [
             0.3333333333333333,
             "#9c179e"
            ],
            [
             0.4444444444444444,
             "#bd3786"
            ],
            [
             0.5555555555555556,
             "#d8576b"
            ],
            [
             0.6666666666666666,
             "#ed7953"
            ],
            [
             0.7777777777777778,
             "#fb9f3a"
            ],
            [
             0.8888888888888888,
             "#fdca26"
            ],
            [
             1,
             "#f0f921"
            ]
           ],
           "sequentialminus": [
            [
             0,
             "#0d0887"
            ],
            [
             0.1111111111111111,
             "#46039f"
            ],
            [
             0.2222222222222222,
             "#7201a8"
            ],
            [
             0.3333333333333333,
             "#9c179e"
            ],
            [
             0.4444444444444444,
             "#bd3786"
            ],
            [
             0.5555555555555556,
             "#d8576b"
            ],
            [
             0.6666666666666666,
             "#ed7953"
            ],
            [
             0.7777777777777778,
             "#fb9f3a"
            ],
            [
             0.8888888888888888,
             "#fdca26"
            ],
            [
             1,
             "#f0f921"
            ]
           ]
          },
          "colorway": [
           "#636efa",
           "#EF553B",
           "#00cc96",
           "#ab63fa",
           "#FFA15A",
           "#19d3f3",
           "#FF6692",
           "#B6E880",
           "#FF97FF",
           "#FECB52"
          ],
          "font": {
           "color": "#2a3f5f"
          },
          "geo": {
           "bgcolor": "white",
           "lakecolor": "white",
           "landcolor": "#E5ECF6",
           "showlakes": true,
           "showland": true,
           "subunitcolor": "white"
          },
          "hoverlabel": {
           "align": "left"
          },
          "hovermode": "closest",
          "mapbox": {
           "style": "light"
          },
          "paper_bgcolor": "white",
          "plot_bgcolor": "#E5ECF6",
          "polar": {
           "angularaxis": {
            "gridcolor": "white",
            "linecolor": "white",
            "ticks": ""
           },
           "bgcolor": "#E5ECF6",
           "radialaxis": {
            "gridcolor": "white",
            "linecolor": "white",
            "ticks": ""
           }
          },
          "scene": {
           "xaxis": {
            "backgroundcolor": "#E5ECF6",
            "gridcolor": "white",
            "gridwidth": 2,
            "linecolor": "white",
            "showbackground": true,
            "ticks": "",
            "zerolinecolor": "white"
           },
           "yaxis": {
            "backgroundcolor": "#E5ECF6",
            "gridcolor": "white",
            "gridwidth": 2,
            "linecolor": "white",
            "showbackground": true,
            "ticks": "",
            "zerolinecolor": "white"
           },
           "zaxis": {
            "backgroundcolor": "#E5ECF6",
            "gridcolor": "white",
            "gridwidth": 2,
            "linecolor": "white",
            "showbackground": true,
            "ticks": "",
            "zerolinecolor": "white"
           }
          },
          "shapedefaults": {
           "line": {
            "color": "#2a3f5f"
           }
          },
          "ternary": {
           "aaxis": {
            "gridcolor": "white",
            "linecolor": "white",
            "ticks": ""
           },
           "baxis": {
            "gridcolor": "white",
            "linecolor": "white",
            "ticks": ""
           },
           "bgcolor": "#E5ECF6",
           "caxis": {
            "gridcolor": "white",
            "linecolor": "white",
            "ticks": ""
           }
          },
          "title": {
           "x": 0.05
          },
          "xaxis": {
           "automargin": true,
           "gridcolor": "white",
           "linecolor": "white",
           "ticks": "",
           "title": {
            "standoff": 15
           },
           "zerolinecolor": "white",
           "zerolinewidth": 2
          },
          "yaxis": {
           "automargin": true,
           "gridcolor": "white",
           "linecolor": "white",
           "ticks": "",
           "title": {
            "standoff": 15
           },
           "zerolinecolor": "white",
           "zerolinewidth": 2
          }
         }
        },
        "title": {
         "text": "NJ Traffic Fatalities per Month",
         "x": 0.5
        }
       }
      },
      "text/html": [
       "<div>                            <div id=\"98418d16-5b36-4aa6-8f5b-5f81744329ef\" class=\"plotly-graph-div\" style=\"height:525px; width:100%;\"></div>            <script type=\"text/javascript\">                require([\"plotly\"], function(Plotly) {                    window.PLOTLYENV=window.PLOTLYENV || {};                                    if (document.getElementById(\"98418d16-5b36-4aa6-8f5b-5f81744329ef\")) {                    Plotly.newPlot(                        \"98418d16-5b36-4aa6-8f5b-5f81744329ef\",                        [{\"name\":\"Fatalities\",\"x\":[\"2008-01\",\"2008-02\",\"2008-03\",\"2008-04\",\"2008-05\",\"2008-06\",\"2008-07\",\"2008-08\",\"2008-09\",\"2008-10\",\"2008-11\",\"2008-12\",\"2009-01\",\"2009-02\",\"2009-03\",\"2009-04\",\"2009-05\",\"2009-06\",\"2009-07\",\"2009-08\",\"2009-09\",\"2009-10\",\"2009-11\",\"2009-12\",\"2010-01\",\"2010-02\",\"2010-03\",\"2010-04\",\"2010-05\",\"2010-06\",\"2010-07\",\"2010-08\",\"2010-09\",\"2010-10\",\"2010-11\",\"2010-12\",\"2011-01\",\"2011-02\",\"2011-03\",\"2011-04\",\"2011-05\",\"2011-06\",\"2011-07\",\"2011-08\",\"2011-09\",\"2011-10\",\"2011-11\",\"2011-12\",\"2012-01\",\"2012-02\",\"2012-03\",\"2012-04\",\"2012-05\",\"2012-06\",\"2012-07\",\"2012-08\",\"2012-09\",\"2012-10\",\"2012-11\",\"2012-12\",\"2013-01\",\"2013-02\",\"2013-03\",\"2013-04\",\"2013-05\",\"2013-06\",\"2013-07\",\"2013-08\",\"2013-09\",\"2013-10\",\"2013-11\",\"2013-12\",\"2014-01\",\"2014-02\",\"2014-03\",\"2014-04\",\"2014-05\",\"2014-06\",\"2014-07\",\"2014-08\",\"2014-09\",\"2014-10\",\"2014-11\",\"2014-12\",\"2015-01\",\"2015-02\",\"2015-03\",\"2015-04\",\"2015-05\",\"2015-06\",\"2015-07\",\"2015-08\",\"2015-09\",\"2015-10\",\"2015-11\",\"2015-12\",\"2016-01\",\"2016-02\",\"2016-03\",\"2016-04\",\"2016-05\",\"2016-06\",\"2016-07\",\"2016-08\",\"2016-09\",\"2016-10\",\"2016-11\",\"2016-12\",\"2017-01\",\"2017-02\",\"2017-03\",\"2017-04\",\"2017-05\",\"2017-06\",\"2017-07\",\"2017-08\",\"2017-09\",\"2017-10\",\"2017-11\",\"2017-12\",\"2018-01\",\"2018-02\",\"2018-03\",\"2018-04\",\"2018-05\",\"2018-06\",\"2018-07\",\"2018-08\",\"2018-09\",\"2018-10\",\"2018-11\",\"2018-12\",\"2019-01\",\"2019-02\",\"2019-03\",\"2019-04\",\"2019-05\",\"2019-06\",\"2019-07\",\"2019-08\",\"2019-09\",\"2019-10\",\"2019-11\",\"2019-12\",\"2020-01\",\"2020-02\",\"2020-03\",\"2020-04\",\"2020-05\",\"2020-06\",\"2020-07\",\"2020-08\",\"2020-09\",\"2020-10\",\"2020-11\",\"2020-12\",\"2021-01\",\"2021-02\",\"2021-03\",\"2021-04\",\"2021-05\",\"2021-06\",\"2021-07\",\"2021-08\",\"2021-09\",\"2021-10\",\"2021-11\",\"2021-12\",\"2022-01\",\"2022-02\",\"2022-03\"],\"y\":[54.0,40.0,32.0,44.0,44.0,49.0,55.0,47.0,43.0,55.0,50.0,45.0,52.0,44.0,33.0,45.0,39.0,45.0,54.0,53.0,52.0,38.0,43.0,48.0,33.0,28.0,45.0,50.0,39.0,51.0,59.0,39.0,55.0,49.0,38.0,47.0,34.0,41.0,44.0,55.0,55.0,47.0,56.0,43.0,49.0,60.0,51.0,59.0,52.0,39.0,41.0,42.0,43.0,44.0,57.0,43.0,50.0,53.0,48.0,47.0,41.0,21.0,54.0,30.0,45.0,51.0,39.0,55.0,40.0,42.0,47.0,48.0,38.0,31.0,46.0,42.0,49.0,49.0,45.0,56.0,46.0,36.0,40.0,54.0,38.0,35.0,37.0,29.0,47.0,50.0,44.0,45.0,55.0,41.0,51.0,61.0,39.0,38.0,39.0,37.0,46.0,46.0,57.0,60.0,45.0,54.0,48.0,53.0,44.0,25.0,43.0,42.0,43.0,55.0,60.0,51.0,57.0,62.0,58.0,55.0,50.0,40.0,23.0,42.0,47.0,50.0,57.0,35.0,41.0,57.0,52.0,43.0,45.0,39.0,32.0,38.0,44.0,45.0,43.0,48.0,61.0,59.0,31.0,49.0,46.0,30.0,33.0,28.0,50.0,45.0,59.0,54.0,54.0,54.0,59.0,44.0,45.0,26.0,53.0,39.0,43.0,57.0,64.0,63.0,63.0,76.0,70.0,61.0,54.0,40.0,42.0],\"type\":\"bar\"},{\"line\":{\"color\":\"black\",\"width\":3},\"name\":\"12mo avg\",\"x\":[\"2008-01\",\"2008-02\",\"2008-03\",\"2008-04\",\"2008-05\",\"2008-06\",\"2008-07\",\"2008-08\",\"2008-09\",\"2008-10\",\"2008-11\",\"2008-12\",\"2009-01\",\"2009-02\",\"2009-03\",\"2009-04\",\"2009-05\",\"2009-06\",\"2009-07\",\"2009-08\",\"2009-09\",\"2009-10\",\"2009-11\",\"2009-12\",\"2010-01\",\"2010-02\",\"2010-03\",\"2010-04\",\"2010-05\",\"2010-06\",\"2010-07\",\"2010-08\",\"2010-09\",\"2010-10\",\"2010-11\",\"2010-12\",\"2011-01\",\"2011-02\",\"2011-03\",\"2011-04\",\"2011-05\",\"2011-06\",\"2011-07\",\"2011-08\",\"2011-09\",\"2011-10\",\"2011-11\",\"2011-12\",\"2012-01\",\"2012-02\",\"2012-03\",\"2012-04\",\"2012-05\",\"2012-06\",\"2012-07\",\"2012-08\",\"2012-09\",\"2012-10\",\"2012-11\",\"2012-12\",\"2013-01\",\"2013-02\",\"2013-03\",\"2013-04\",\"2013-05\",\"2013-06\",\"2013-07\",\"2013-08\",\"2013-09\",\"2013-10\",\"2013-11\",\"2013-12\",\"2014-01\",\"2014-02\",\"2014-03\",\"2014-04\",\"2014-05\",\"2014-06\",\"2014-07\",\"2014-08\",\"2014-09\",\"2014-10\",\"2014-11\",\"2014-12\",\"2015-01\",\"2015-02\",\"2015-03\",\"2015-04\",\"2015-05\",\"2015-06\",\"2015-07\",\"2015-08\",\"2015-09\",\"2015-10\",\"2015-11\",\"2015-12\",\"2016-01\",\"2016-02\",\"2016-03\",\"2016-04\",\"2016-05\",\"2016-06\",\"2016-07\",\"2016-08\",\"2016-09\",\"2016-10\",\"2016-11\",\"2016-12\",\"2017-01\",\"2017-02\",\"2017-03\",\"2017-04\",\"2017-05\",\"2017-06\",\"2017-07\",\"2017-08\",\"2017-09\",\"2017-10\",\"2017-11\",\"2017-12\",\"2018-01\",\"2018-02\",\"2018-03\",\"2018-04\",\"2018-05\",\"2018-06\",\"2018-07\",\"2018-08\",\"2018-09\",\"2018-10\",\"2018-11\",\"2018-12\",\"2019-01\",\"2019-02\",\"2019-03\",\"2019-04\",\"2019-05\",\"2019-06\",\"2019-07\",\"2019-08\",\"2019-09\",\"2019-10\",\"2019-11\",\"2019-12\",\"2020-01\",\"2020-02\",\"2020-03\",\"2020-04\",\"2020-05\",\"2020-06\",\"2020-07\",\"2020-08\",\"2020-09\",\"2020-10\",\"2020-11\",\"2020-12\",\"2021-01\",\"2021-02\",\"2021-03\",\"2021-04\",\"2021-05\",\"2021-06\",\"2021-07\",\"2021-08\",\"2021-09\",\"2021-10\",\"2021-11\",\"2021-12\",\"2022-01\",\"2022-02\",\"2022-03\"],\"y\":[null,null,null,null,null,null,null,null,null,null,null,46.5,46.333333333333336,46.666666666666664,46.75,46.833333333333336,46.416666666666664,46.083333333333336,46.0,46.5,47.25,45.833333333333336,45.25,45.5,43.916666666666664,42.583333333333336,43.583333333333336,44.0,44.0,44.5,44.916666666666664,43.75,44.0,44.916666666666664,44.5,44.416666666666664,44.5,45.583333333333336,45.5,45.916666666666664,47.25,46.916666666666664,46.666666666666664,47.0,46.5,47.416666666666664,48.5,49.5,51.0,50.833333333333336,50.583333333333336,49.5,48.5,48.25,48.333333333333336,48.333333333333336,48.416666666666664,47.833333333333336,47.583333333333336,46.583333333333336,45.666666666666664,44.166666666666664,45.25,44.25,44.416666666666664,45.0,43.5,44.5,43.666666666666664,42.75,42.666666666666664,42.75,42.5,43.333333333333336,42.666666666666664,43.666666666666664,44.0,43.833333333333336,44.333333333333336,44.416666666666664,44.916666666666664,44.416666666666664,43.833333333333336,44.333333333333336,44.333333333333336,44.666666666666664,43.916666666666664,42.833333333333336,42.666666666666664,42.75,42.666666666666664,41.75,42.5,42.916666666666664,43.833333333333336,44.416666666666664,44.5,44.75,44.916666666666664,45.583333333333336,45.5,45.166666666666664,46.25,47.5,46.666666666666664,47.75,47.5,46.833333333333336,47.25,46.166666666666664,46.5,46.916666666666664,46.666666666666664,47.416666666666664,47.666666666666664,46.916666666666664,47.916666666666664,48.583333333333336,49.416666666666664,49.583333333333336,50.083333333333336,51.333333333333336,49.666666666666664,49.666666666666664,50.0,49.583333333333336,49.333333333333336,48.0,46.666666666666664,46.25,45.75,44.75,44.333333333333336,44.25,45.0,44.666666666666664,44.416666666666664,44.0,42.833333333333336,43.916666666666664,45.583333333333336,45.75,44.0,44.5,44.583333333333336,43.833333333333336,43.916666666666664,43.083333333333336,43.583333333333336,43.583333333333336,44.916666666666664,45.416666666666664,44.833333333333336,44.416666666666664,46.75,46.333333333333336,46.25,45.916666666666664,47.583333333333336,48.5,47.916666666666664,48.916666666666664,49.333333333333336,50.083333333333336,50.833333333333336,52.666666666666664,53.583333333333336,55.0,55.75,56.916666666666664,56.0],\"type\":\"scatter\"}],                        {\"template\":{\"data\":{\"bar\":[{\"error_x\":{\"color\":\"#2a3f5f\"},\"error_y\":{\"color\":\"#2a3f5f\"},\"marker\":{\"line\":{\"color\":\"#E5ECF6\",\"width\":0.5},\"pattern\":{\"fillmode\":\"overlay\",\"size\":10,\"solidity\":0.2}},\"type\":\"bar\"}],\"barpolar\":[{\"marker\":{\"line\":{\"color\":\"#E5ECF6\",\"width\":0.5},\"pattern\":{\"fillmode\":\"overlay\",\"size\":10,\"solidity\":0.2}},\"type\":\"barpolar\"}],\"carpet\":[{\"aaxis\":{\"endlinecolor\":\"#2a3f5f\",\"gridcolor\":\"white\",\"linecolor\":\"white\",\"minorgridcolor\":\"white\",\"startlinecolor\":\"#2a3f5f\"},\"baxis\":{\"endlinecolor\":\"#2a3f5f\",\"gridcolor\":\"white\",\"linecolor\":\"white\",\"minorgridcolor\":\"white\",\"startlinecolor\":\"#2a3f5f\"},\"type\":\"carpet\"}],\"choropleth\":[{\"colorbar\":{\"outlinewidth\":0,\"ticks\":\"\"},\"type\":\"choropleth\"}],\"contour\":[{\"colorbar\":{\"outlinewidth\":0,\"ticks\":\"\"},\"colorscale\":[[0.0,\"#0d0887\"],[0.1111111111111111,\"#46039f\"],[0.2222222222222222,\"#7201a8\"],[0.3333333333333333,\"#9c179e\"],[0.4444444444444444,\"#bd3786\"],[0.5555555555555556,\"#d8576b\"],[0.6666666666666666,\"#ed7953\"],[0.7777777777777778,\"#fb9f3a\"],[0.8888888888888888,\"#fdca26\"],[1.0,\"#f0f921\"]],\"type\":\"contour\"}],\"contourcarpet\":[{\"colorbar\":{\"outlinewidth\":0,\"ticks\":\"\"},\"type\":\"contourcarpet\"}],\"heatmap\":[{\"colorbar\":{\"outlinewidth\":0,\"ticks\":\"\"},\"colorscale\":[[0.0,\"#0d0887\"],[0.1111111111111111,\"#46039f\"],[0.2222222222222222,\"#7201a8\"],[0.3333333333333333,\"#9c179e\"],[0.4444444444444444,\"#bd3786\"],[0.5555555555555556,\"#d8576b\"],[0.6666666666666666,\"#ed7953\"],[0.7777777777777778,\"#fb9f3a\"],[0.8888888888888888,\"#fdca26\"],[1.0,\"#f0f921\"]],\"type\":\"heatmap\"}],\"heatmapgl\":[{\"colorbar\":{\"outlinewidth\":0,\"ticks\":\"\"},\"colorscale\":[[0.0,\"#0d0887\"],[0.1111111111111111,\"#46039f\"],[0.2222222222222222,\"#7201a8\"],[0.3333333333333333,\"#9c179e\"],[0.4444444444444444,\"#bd3786\"],[0.5555555555555556,\"#d8576b\"],[0.6666666666666666,\"#ed7953\"],[0.7777777777777778,\"#fb9f3a\"],[0.8888888888888888,\"#fdca26\"],[1.0,\"#f0f921\"]],\"type\":\"heatmapgl\"}],\"histogram\":[{\"marker\":{\"pattern\":{\"fillmode\":\"overlay\",\"size\":10,\"solidity\":0.2}},\"type\":\"histogram\"}],\"histogram2d\":[{\"colorbar\":{\"outlinewidth\":0,\"ticks\":\"\"},\"colorscale\":[[0.0,\"#0d0887\"],[0.1111111111111111,\"#46039f\"],[0.2222222222222222,\"#7201a8\"],[0.3333333333333333,\"#9c179e\"],[0.4444444444444444,\"#bd3786\"],[0.5555555555555556,\"#d8576b\"],[0.6666666666666666,\"#ed7953\"],[0.7777777777777778,\"#fb9f3a\"],[0.8888888888888888,\"#fdca26\"],[1.0,\"#f0f921\"]],\"type\":\"histogram2d\"}],\"histogram2dcontour\":[{\"colorbar\":{\"outlinewidth\":0,\"ticks\":\"\"},\"colorscale\":[[0.0,\"#0d0887\"],[0.1111111111111111,\"#46039f\"],[0.2222222222222222,\"#7201a8\"],[0.3333333333333333,\"#9c179e\"],[0.4444444444444444,\"#bd3786\"],[0.5555555555555556,\"#d8576b\"],[0.6666666666666666,\"#ed7953\"],[0.7777777777777778,\"#fb9f3a\"],[0.8888888888888888,\"#fdca26\"],[1.0,\"#f0f921\"]],\"type\":\"histogram2dcontour\"}],\"mesh3d\":[{\"colorbar\":{\"outlinewidth\":0,\"ticks\":\"\"},\"type\":\"mesh3d\"}],\"parcoords\":[{\"line\":{\"colorbar\":{\"outlinewidth\":0,\"ticks\":\"\"}},\"type\":\"parcoords\"}],\"pie\":[{\"automargin\":true,\"type\":\"pie\"}],\"scatter\":[{\"marker\":{\"colorbar\":{\"outlinewidth\":0,\"ticks\":\"\"}},\"type\":\"scatter\"}],\"scatter3d\":[{\"line\":{\"colorbar\":{\"outlinewidth\":0,\"ticks\":\"\"}},\"marker\":{\"colorbar\":{\"outlinewidth\":0,\"ticks\":\"\"}},\"type\":\"scatter3d\"}],\"scattercarpet\":[{\"marker\":{\"colorbar\":{\"outlinewidth\":0,\"ticks\":\"\"}},\"type\":\"scattercarpet\"}],\"scattergeo\":[{\"marker\":{\"colorbar\":{\"outlinewidth\":0,\"ticks\":\"\"}},\"type\":\"scattergeo\"}],\"scattergl\":[{\"marker\":{\"colorbar\":{\"outlinewidth\":0,\"ticks\":\"\"}},\"type\":\"scattergl\"}],\"scattermapbox\":[{\"marker\":{\"colorbar\":{\"outlinewidth\":0,\"ticks\":\"\"}},\"type\":\"scattermapbox\"}],\"scatterpolar\":[{\"marker\":{\"colorbar\":{\"outlinewidth\":0,\"ticks\":\"\"}},\"type\":\"scatterpolar\"}],\"scatterpolargl\":[{\"marker\":{\"colorbar\":{\"outlinewidth\":0,\"ticks\":\"\"}},\"type\":\"scatterpolargl\"}],\"scatterternary\":[{\"marker\":{\"colorbar\":{\"outlinewidth\":0,\"ticks\":\"\"}},\"type\":\"scatterternary\"}],\"surface\":[{\"colorbar\":{\"outlinewidth\":0,\"ticks\":\"\"},\"colorscale\":[[0.0,\"#0d0887\"],[0.1111111111111111,\"#46039f\"],[0.2222222222222222,\"#7201a8\"],[0.3333333333333333,\"#9c179e\"],[0.4444444444444444,\"#bd3786\"],[0.5555555555555556,\"#d8576b\"],[0.6666666666666666,\"#ed7953\"],[0.7777777777777778,\"#fb9f3a\"],[0.8888888888888888,\"#fdca26\"],[1.0,\"#f0f921\"]],\"type\":\"surface\"}],\"table\":[{\"cells\":{\"fill\":{\"color\":\"#EBF0F8\"},\"line\":{\"color\":\"white\"}},\"header\":{\"fill\":{\"color\":\"#C8D4E3\"},\"line\":{\"color\":\"white\"}},\"type\":\"table\"}]},\"layout\":{\"annotationdefaults\":{\"arrowcolor\":\"#2a3f5f\",\"arrowhead\":0,\"arrowwidth\":1},\"autotypenumbers\":\"strict\",\"coloraxis\":{\"colorbar\":{\"outlinewidth\":0,\"ticks\":\"\"}},\"colorscale\":{\"diverging\":[[0,\"#8e0152\"],[0.1,\"#c51b7d\"],[0.2,\"#de77ae\"],[0.3,\"#f1b6da\"],[0.4,\"#fde0ef\"],[0.5,\"#f7f7f7\"],[0.6,\"#e6f5d0\"],[0.7,\"#b8e186\"],[0.8,\"#7fbc41\"],[0.9,\"#4d9221\"],[1,\"#276419\"]],\"sequential\":[[0.0,\"#0d0887\"],[0.1111111111111111,\"#46039f\"],[0.2222222222222222,\"#7201a8\"],[0.3333333333333333,\"#9c179e\"],[0.4444444444444444,\"#bd3786\"],[0.5555555555555556,\"#d8576b\"],[0.6666666666666666,\"#ed7953\"],[0.7777777777777778,\"#fb9f3a\"],[0.8888888888888888,\"#fdca26\"],[1.0,\"#f0f921\"]],\"sequentialminus\":[[0.0,\"#0d0887\"],[0.1111111111111111,\"#46039f\"],[0.2222222222222222,\"#7201a8\"],[0.3333333333333333,\"#9c179e\"],[0.4444444444444444,\"#bd3786\"],[0.5555555555555556,\"#d8576b\"],[0.6666666666666666,\"#ed7953\"],[0.7777777777777778,\"#fb9f3a\"],[0.8888888888888888,\"#fdca26\"],[1.0,\"#f0f921\"]]},\"colorway\":[\"#636efa\",\"#EF553B\",\"#00cc96\",\"#ab63fa\",\"#FFA15A\",\"#19d3f3\",\"#FF6692\",\"#B6E880\",\"#FF97FF\",\"#FECB52\"],\"font\":{\"color\":\"#2a3f5f\"},\"geo\":{\"bgcolor\":\"white\",\"lakecolor\":\"white\",\"landcolor\":\"#E5ECF6\",\"showlakes\":true,\"showland\":true,\"subunitcolor\":\"white\"},\"hoverlabel\":{\"align\":\"left\"},\"hovermode\":\"closest\",\"mapbox\":{\"style\":\"light\"},\"paper_bgcolor\":\"white\",\"plot_bgcolor\":\"#E5ECF6\",\"polar\":{\"angularaxis\":{\"gridcolor\":\"white\",\"linecolor\":\"white\",\"ticks\":\"\"},\"bgcolor\":\"#E5ECF6\",\"radialaxis\":{\"gridcolor\":\"white\",\"linecolor\":\"white\",\"ticks\":\"\"}},\"scene\":{\"xaxis\":{\"backgroundcolor\":\"#E5ECF6\",\"gridcolor\":\"white\",\"gridwidth\":2,\"linecolor\":\"white\",\"showbackground\":true,\"ticks\":\"\",\"zerolinecolor\":\"white\"},\"yaxis\":{\"backgroundcolor\":\"#E5ECF6\",\"gridcolor\":\"white\",\"gridwidth\":2,\"linecolor\":\"white\",\"showbackground\":true,\"ticks\":\"\",\"zerolinecolor\":\"white\"},\"zaxis\":{\"backgroundcolor\":\"#E5ECF6\",\"gridcolor\":\"white\",\"gridwidth\":2,\"linecolor\":\"white\",\"showbackground\":true,\"ticks\":\"\",\"zerolinecolor\":\"white\"}},\"shapedefaults\":{\"line\":{\"color\":\"#2a3f5f\"}},\"ternary\":{\"aaxis\":{\"gridcolor\":\"white\",\"linecolor\":\"white\",\"ticks\":\"\"},\"baxis\":{\"gridcolor\":\"white\",\"linecolor\":\"white\",\"ticks\":\"\"},\"bgcolor\":\"#E5ECF6\",\"caxis\":{\"gridcolor\":\"white\",\"linecolor\":\"white\",\"ticks\":\"\"}},\"title\":{\"x\":0.05},\"xaxis\":{\"automargin\":true,\"gridcolor\":\"white\",\"linecolor\":\"white\",\"ticks\":\"\",\"title\":{\"standoff\":15},\"zerolinecolor\":\"white\",\"zerolinewidth\":2},\"yaxis\":{\"automargin\":true,\"gridcolor\":\"white\",\"linecolor\":\"white\",\"ticks\":\"\",\"title\":{\"standoff\":15},\"zerolinecolor\":\"white\",\"zerolinewidth\":2}}},\"title\":{\"text\":\"NJ Traffic Fatalities per Month\",\"x\":0.5},\"margin\":{\"l\":40,\"r\":40,\"t\":40,\"b\":40}},                        {\"responsive\": true}                    ).then(function(){\n",
       "                            \n",
       "var gd = document.getElementById('98418d16-5b36-4aa6-8f5b-5f81744329ef');\n",
       "var x = new MutationObserver(function (mutations, observer) {{\n",
       "        var display = window.getComputedStyle(gd).display;\n",
       "        if (!display || display === 'none') {{\n",
       "            console.log([gd, 'removed!']);\n",
       "            Plotly.purge(gd);\n",
       "            observer.disconnect();\n",
       "        }}\n",
       "}});\n",
       "\n",
       "// Listen for the removal of the full notebook cells\n",
       "var notebookContainer = gd.closest('#notebook-container');\n",
       "if (notebookContainer) {{\n",
       "    x.observe(notebookContainer, {childList: true});\n",
       "}}\n",
       "\n",
       "// Listen for the clearing of the current output cell\n",
       "var outputEl = gd.closest('.output');\n",
       "if (outputEl) {{\n",
       "    x.observe(outputEl, {childList: true});\n",
       "}}\n",
       "\n",
       "                        })                };                });            </script>        </div>"
      ]
     },
     "metadata": {},
     "output_type": "display_data"
    }
   ],
   "source": [
    "margin = 40\n",
    "\n",
    "fig = go.Figure()\n",
    "fig.add_trace(go.Bar(x=fatalities_per_month.index, y=fatalities_per_month.values, name='Fatalities'))\n",
    "fig.add_trace(go.Scatter(x=rolling.index, y=rolling.values, name='12mo avg', line={'width': 3, 'color': 'black', }))\n",
    "fig.update_layout(\n",
    "    title='NJ Traffic Fatalities per Month',\n",
    "    title_x=0.5,\n",
    "    margin=dict(l=margin, r=margin, t=margin, b=margin),\n",
    ")\n",
    "fig.write_image('fatalities_per_month.png', width=1200, height=600)\n",
    "fig.show()"
   ]
  },
  {
   "cell_type": "markdown",
   "id": "bddcd891",
   "metadata": {},
   "source": [
    "#### Fatalities per year plot"
   ]
  },
  {
   "cell_type": "code",
   "execution_count": 38,
   "id": "9294efae",
   "metadata": {},
   "outputs": [
    {
     "data": {
      "application/vnd.plotly.v1+json": {
       "config": {
        "plotlyServerURL": "https://plot.ly"
       },
       "data": [
        {
         "alignmentgroup": "True",
         "hovertemplate": "=fatalities<br>Year=%{x}<br>Fatalities=%{y}<extra></extra>",
         "legendgroup": "fatalities",
         "marker": {
          "color": "#636efa",
          "pattern": {
           "shape": ""
          }
         },
         "name": "fatalities",
         "offsetgroup": "fatalities",
         "orientation": "v",
         "showlegend": true,
         "textposition": "auto",
         "type": "bar",
         "x": [
          2008,
          2009,
          2010,
          2011,
          2012,
          2013,
          2014,
          2015,
          2016,
          2017,
          2018,
          2019,
          2020,
          2021
         ],
         "xaxis": "x",
         "y": [
          558,
          546,
          533,
          594,
          559,
          513,
          532,
          533,
          562,
          595,
          537,
          534,
          556,
          660
         ],
         "yaxis": "y"
        }
       ],
       "layout": {
        "barmode": "relative",
        "legend": {
         "title": {
          "text": ""
         },
         "tracegroupgap": 0
        },
        "margin": {
         "t": 60
        },
        "template": {
         "data": {
          "bar": [
           {
            "error_x": {
             "color": "#2a3f5f"
            },
            "error_y": {
             "color": "#2a3f5f"
            },
            "marker": {
             "line": {
              "color": "#E5ECF6",
              "width": 0.5
             },
             "pattern": {
              "fillmode": "overlay",
              "size": 10,
              "solidity": 0.2
             }
            },
            "type": "bar"
           }
          ],
          "barpolar": [
           {
            "marker": {
             "line": {
              "color": "#E5ECF6",
              "width": 0.5
             },
             "pattern": {
              "fillmode": "overlay",
              "size": 10,
              "solidity": 0.2
             }
            },
            "type": "barpolar"
           }
          ],
          "carpet": [
           {
            "aaxis": {
             "endlinecolor": "#2a3f5f",
             "gridcolor": "white",
             "linecolor": "white",
             "minorgridcolor": "white",
             "startlinecolor": "#2a3f5f"
            },
            "baxis": {
             "endlinecolor": "#2a3f5f",
             "gridcolor": "white",
             "linecolor": "white",
             "minorgridcolor": "white",
             "startlinecolor": "#2a3f5f"
            },
            "type": "carpet"
           }
          ],
          "choropleth": [
           {
            "colorbar": {
             "outlinewidth": 0,
             "ticks": ""
            },
            "type": "choropleth"
           }
          ],
          "contour": [
           {
            "colorbar": {
             "outlinewidth": 0,
             "ticks": ""
            },
            "colorscale": [
             [
              0,
              "#0d0887"
             ],
             [
              0.1111111111111111,
              "#46039f"
             ],
             [
              0.2222222222222222,
              "#7201a8"
             ],
             [
              0.3333333333333333,
              "#9c179e"
             ],
             [
              0.4444444444444444,
              "#bd3786"
             ],
             [
              0.5555555555555556,
              "#d8576b"
             ],
             [
              0.6666666666666666,
              "#ed7953"
             ],
             [
              0.7777777777777778,
              "#fb9f3a"
             ],
             [
              0.8888888888888888,
              "#fdca26"
             ],
             [
              1,
              "#f0f921"
             ]
            ],
            "type": "contour"
           }
          ],
          "contourcarpet": [
           {
            "colorbar": {
             "outlinewidth": 0,
             "ticks": ""
            },
            "type": "contourcarpet"
           }
          ],
          "heatmap": [
           {
            "colorbar": {
             "outlinewidth": 0,
             "ticks": ""
            },
            "colorscale": [
             [
              0,
              "#0d0887"
             ],
             [
              0.1111111111111111,
              "#46039f"
             ],
             [
              0.2222222222222222,
              "#7201a8"
             ],
             [
              0.3333333333333333,
              "#9c179e"
             ],
             [
              0.4444444444444444,
              "#bd3786"
             ],
             [
              0.5555555555555556,
              "#d8576b"
             ],
             [
              0.6666666666666666,
              "#ed7953"
             ],
             [
              0.7777777777777778,
              "#fb9f3a"
             ],
             [
              0.8888888888888888,
              "#fdca26"
             ],
             [
              1,
              "#f0f921"
             ]
            ],
            "type": "heatmap"
           }
          ],
          "heatmapgl": [
           {
            "colorbar": {
             "outlinewidth": 0,
             "ticks": ""
            },
            "colorscale": [
             [
              0,
              "#0d0887"
             ],
             [
              0.1111111111111111,
              "#46039f"
             ],
             [
              0.2222222222222222,
              "#7201a8"
             ],
             [
              0.3333333333333333,
              "#9c179e"
             ],
             [
              0.4444444444444444,
              "#bd3786"
             ],
             [
              0.5555555555555556,
              "#d8576b"
             ],
             [
              0.6666666666666666,
              "#ed7953"
             ],
             [
              0.7777777777777778,
              "#fb9f3a"
             ],
             [
              0.8888888888888888,
              "#fdca26"
             ],
             [
              1,
              "#f0f921"
             ]
            ],
            "type": "heatmapgl"
           }
          ],
          "histogram": [
           {
            "marker": {
             "pattern": {
              "fillmode": "overlay",
              "size": 10,
              "solidity": 0.2
             }
            },
            "type": "histogram"
           }
          ],
          "histogram2d": [
           {
            "colorbar": {
             "outlinewidth": 0,
             "ticks": ""
            },
            "colorscale": [
             [
              0,
              "#0d0887"
             ],
             [
              0.1111111111111111,
              "#46039f"
             ],
             [
              0.2222222222222222,
              "#7201a8"
             ],
             [
              0.3333333333333333,
              "#9c179e"
             ],
             [
              0.4444444444444444,
              "#bd3786"
             ],
             [
              0.5555555555555556,
              "#d8576b"
             ],
             [
              0.6666666666666666,
              "#ed7953"
             ],
             [
              0.7777777777777778,
              "#fb9f3a"
             ],
             [
              0.8888888888888888,
              "#fdca26"
             ],
             [
              1,
              "#f0f921"
             ]
            ],
            "type": "histogram2d"
           }
          ],
          "histogram2dcontour": [
           {
            "colorbar": {
             "outlinewidth": 0,
             "ticks": ""
            },
            "colorscale": [
             [
              0,
              "#0d0887"
             ],
             [
              0.1111111111111111,
              "#46039f"
             ],
             [
              0.2222222222222222,
              "#7201a8"
             ],
             [
              0.3333333333333333,
              "#9c179e"
             ],
             [
              0.4444444444444444,
              "#bd3786"
             ],
             [
              0.5555555555555556,
              "#d8576b"
             ],
             [
              0.6666666666666666,
              "#ed7953"
             ],
             [
              0.7777777777777778,
              "#fb9f3a"
             ],
             [
              0.8888888888888888,
              "#fdca26"
             ],
             [
              1,
              "#f0f921"
             ]
            ],
            "type": "histogram2dcontour"
           }
          ],
          "mesh3d": [
           {
            "colorbar": {
             "outlinewidth": 0,
             "ticks": ""
            },
            "type": "mesh3d"
           }
          ],
          "parcoords": [
           {
            "line": {
             "colorbar": {
              "outlinewidth": 0,
              "ticks": ""
             }
            },
            "type": "parcoords"
           }
          ],
          "pie": [
           {
            "automargin": true,
            "type": "pie"
           }
          ],
          "scatter": [
           {
            "marker": {
             "colorbar": {
              "outlinewidth": 0,
              "ticks": ""
             }
            },
            "type": "scatter"
           }
          ],
          "scatter3d": [
           {
            "line": {
             "colorbar": {
              "outlinewidth": 0,
              "ticks": ""
             }
            },
            "marker": {
             "colorbar": {
              "outlinewidth": 0,
              "ticks": ""
             }
            },
            "type": "scatter3d"
           }
          ],
          "scattercarpet": [
           {
            "marker": {
             "colorbar": {
              "outlinewidth": 0,
              "ticks": ""
             }
            },
            "type": "scattercarpet"
           }
          ],
          "scattergeo": [
           {
            "marker": {
             "colorbar": {
              "outlinewidth": 0,
              "ticks": ""
             }
            },
            "type": "scattergeo"
           }
          ],
          "scattergl": [
           {
            "marker": {
             "colorbar": {
              "outlinewidth": 0,
              "ticks": ""
             }
            },
            "type": "scattergl"
           }
          ],
          "scattermapbox": [
           {
            "marker": {
             "colorbar": {
              "outlinewidth": 0,
              "ticks": ""
             }
            },
            "type": "scattermapbox"
           }
          ],
          "scatterpolar": [
           {
            "marker": {
             "colorbar": {
              "outlinewidth": 0,
              "ticks": ""
             }
            },
            "type": "scatterpolar"
           }
          ],
          "scatterpolargl": [
           {
            "marker": {
             "colorbar": {
              "outlinewidth": 0,
              "ticks": ""
             }
            },
            "type": "scatterpolargl"
           }
          ],
          "scatterternary": [
           {
            "marker": {
             "colorbar": {
              "outlinewidth": 0,
              "ticks": ""
             }
            },
            "type": "scatterternary"
           }
          ],
          "surface": [
           {
            "colorbar": {
             "outlinewidth": 0,
             "ticks": ""
            },
            "colorscale": [
             [
              0,
              "#0d0887"
             ],
             [
              0.1111111111111111,
              "#46039f"
             ],
             [
              0.2222222222222222,
              "#7201a8"
             ],
             [
              0.3333333333333333,
              "#9c179e"
             ],
             [
              0.4444444444444444,
              "#bd3786"
             ],
             [
              0.5555555555555556,
              "#d8576b"
             ],
             [
              0.6666666666666666,
              "#ed7953"
             ],
             [
              0.7777777777777778,
              "#fb9f3a"
             ],
             [
              0.8888888888888888,
              "#fdca26"
             ],
             [
              1,
              "#f0f921"
             ]
            ],
            "type": "surface"
           }
          ],
          "table": [
           {
            "cells": {
             "fill": {
              "color": "#EBF0F8"
             },
             "line": {
              "color": "white"
             }
            },
            "header": {
             "fill": {
              "color": "#C8D4E3"
             },
             "line": {
              "color": "white"
             }
            },
            "type": "table"
           }
          ]
         },
         "layout": {
          "annotationdefaults": {
           "arrowcolor": "#2a3f5f",
           "arrowhead": 0,
           "arrowwidth": 1
          },
          "autotypenumbers": "strict",
          "coloraxis": {
           "colorbar": {
            "outlinewidth": 0,
            "ticks": ""
           }
          },
          "colorscale": {
           "diverging": [
            [
             0,
             "#8e0152"
            ],
            [
             0.1,
             "#c51b7d"
            ],
            [
             0.2,
             "#de77ae"
            ],
            [
             0.3,
             "#f1b6da"
            ],
            [
             0.4,
             "#fde0ef"
            ],
            [
             0.5,
             "#f7f7f7"
            ],
            [
             0.6,
             "#e6f5d0"
            ],
            [
             0.7,
             "#b8e186"
            ],
            [
             0.8,
             "#7fbc41"
            ],
            [
             0.9,
             "#4d9221"
            ],
            [
             1,
             "#276419"
            ]
           ],
           "sequential": [
            [
             0,
             "#0d0887"
            ],
            [
             0.1111111111111111,
             "#46039f"
            ],
            [
             0.2222222222222222,
             "#7201a8"
            ],
            [
             0.3333333333333333,
             "#9c179e"
            ],
            [
             0.4444444444444444,
             "#bd3786"
            ],
            [
             0.5555555555555556,
             "#d8576b"
            ],
            [
             0.6666666666666666,
             "#ed7953"
            ],
            [
             0.7777777777777778,
             "#fb9f3a"
            ],
            [
             0.8888888888888888,
             "#fdca26"
            ],
            [
             1,
             "#f0f921"
            ]
           ],
           "sequentialminus": [
            [
             0,
             "#0d0887"
            ],
            [
             0.1111111111111111,
             "#46039f"
            ],
            [
             0.2222222222222222,
             "#7201a8"
            ],
            [
             0.3333333333333333,
             "#9c179e"
            ],
            [
             0.4444444444444444,
             "#bd3786"
            ],
            [
             0.5555555555555556,
             "#d8576b"
            ],
            [
             0.6666666666666666,
             "#ed7953"
            ],
            [
             0.7777777777777778,
             "#fb9f3a"
            ],
            [
             0.8888888888888888,
             "#fdca26"
            ],
            [
             1,
             "#f0f921"
            ]
           ]
          },
          "colorway": [
           "#636efa",
           "#EF553B",
           "#00cc96",
           "#ab63fa",
           "#FFA15A",
           "#19d3f3",
           "#FF6692",
           "#B6E880",
           "#FF97FF",
           "#FECB52"
          ],
          "font": {
           "color": "#2a3f5f"
          },
          "geo": {
           "bgcolor": "white",
           "lakecolor": "white",
           "landcolor": "#E5ECF6",
           "showlakes": true,
           "showland": true,
           "subunitcolor": "white"
          },
          "hoverlabel": {
           "align": "left"
          },
          "hovermode": "closest",
          "mapbox": {
           "style": "light"
          },
          "paper_bgcolor": "white",
          "plot_bgcolor": "#E5ECF6",
          "polar": {
           "angularaxis": {
            "gridcolor": "white",
            "linecolor": "white",
            "ticks": ""
           },
           "bgcolor": "#E5ECF6",
           "radialaxis": {
            "gridcolor": "white",
            "linecolor": "white",
            "ticks": ""
           }
          },
          "scene": {
           "xaxis": {
            "backgroundcolor": "#E5ECF6",
            "gridcolor": "white",
            "gridwidth": 2,
            "linecolor": "white",
            "showbackground": true,
            "ticks": "",
            "zerolinecolor": "white"
           },
           "yaxis": {
            "backgroundcolor": "#E5ECF6",
            "gridcolor": "white",
            "gridwidth": 2,
            "linecolor": "white",
            "showbackground": true,
            "ticks": "",
            "zerolinecolor": "white"
           },
           "zaxis": {
            "backgroundcolor": "#E5ECF6",
            "gridcolor": "white",
            "gridwidth": 2,
            "linecolor": "white",
            "showbackground": true,
            "ticks": "",
            "zerolinecolor": "white"
           }
          },
          "shapedefaults": {
           "line": {
            "color": "#2a3f5f"
           }
          },
          "ternary": {
           "aaxis": {
            "gridcolor": "white",
            "linecolor": "white",
            "ticks": ""
           },
           "baxis": {
            "gridcolor": "white",
            "linecolor": "white",
            "ticks": ""
           },
           "bgcolor": "#E5ECF6",
           "caxis": {
            "gridcolor": "white",
            "linecolor": "white",
            "ticks": ""
           }
          },
          "title": {
           "x": 0.05
          },
          "xaxis": {
           "automargin": true,
           "gridcolor": "white",
           "linecolor": "white",
           "ticks": "",
           "title": {
            "standoff": 15
           },
           "zerolinecolor": "white",
           "zerolinewidth": 2
          },
          "yaxis": {
           "automargin": true,
           "gridcolor": "white",
           "linecolor": "white",
           "ticks": "",
           "title": {
            "standoff": 15
           },
           "zerolinecolor": "white",
           "zerolinewidth": 2
          }
         }
        },
        "title": {
         "text": "NJ Traffic Fatalities per Year",
         "x": 0.5
        },
        "xaxis": {
         "anchor": "y",
         "domain": [
          0,
          1
         ],
         "title": {
          "text": "Year"
         }
        },
        "yaxis": {
         "anchor": "x",
         "domain": [
          0,
          1
         ],
         "title": {
          "text": "Fatalities"
         }
        }
       }
      },
      "text/html": [
       "<div>                            <div id=\"ff43f67d-61dd-49c3-8458-423a149e3c83\" class=\"plotly-graph-div\" style=\"height:525px; width:100%;\"></div>            <script type=\"text/javascript\">                require([\"plotly\"], function(Plotly) {                    window.PLOTLYENV=window.PLOTLYENV || {};                                    if (document.getElementById(\"ff43f67d-61dd-49c3-8458-423a149e3c83\")) {                    Plotly.newPlot(                        \"ff43f67d-61dd-49c3-8458-423a149e3c83\",                        [{\"alignmentgroup\":\"True\",\"hovertemplate\":\"=fatalities<br>Year=%{x}<br>Fatalities=%{y}<extra></extra>\",\"legendgroup\":\"fatalities\",\"marker\":{\"color\":\"#636efa\",\"pattern\":{\"shape\":\"\"}},\"name\":\"fatalities\",\"offsetgroup\":\"fatalities\",\"orientation\":\"v\",\"showlegend\":true,\"textposition\":\"auto\",\"x\":[2008,2009,2010,2011,2012,2013,2014,2015,2016,2017,2018,2019,2020,2021],\"xaxis\":\"x\",\"y\":[558.0,546.0,533.0,594.0,559.0,513.0,532.0,533.0,562.0,595.0,537.0,534.0,556.0,660.0],\"yaxis\":\"y\",\"type\":\"bar\"}],                        {\"template\":{\"data\":{\"bar\":[{\"error_x\":{\"color\":\"#2a3f5f\"},\"error_y\":{\"color\":\"#2a3f5f\"},\"marker\":{\"line\":{\"color\":\"#E5ECF6\",\"width\":0.5},\"pattern\":{\"fillmode\":\"overlay\",\"size\":10,\"solidity\":0.2}},\"type\":\"bar\"}],\"barpolar\":[{\"marker\":{\"line\":{\"color\":\"#E5ECF6\",\"width\":0.5},\"pattern\":{\"fillmode\":\"overlay\",\"size\":10,\"solidity\":0.2}},\"type\":\"barpolar\"}],\"carpet\":[{\"aaxis\":{\"endlinecolor\":\"#2a3f5f\",\"gridcolor\":\"white\",\"linecolor\":\"white\",\"minorgridcolor\":\"white\",\"startlinecolor\":\"#2a3f5f\"},\"baxis\":{\"endlinecolor\":\"#2a3f5f\",\"gridcolor\":\"white\",\"linecolor\":\"white\",\"minorgridcolor\":\"white\",\"startlinecolor\":\"#2a3f5f\"},\"type\":\"carpet\"}],\"choropleth\":[{\"colorbar\":{\"outlinewidth\":0,\"ticks\":\"\"},\"type\":\"choropleth\"}],\"contour\":[{\"colorbar\":{\"outlinewidth\":0,\"ticks\":\"\"},\"colorscale\":[[0.0,\"#0d0887\"],[0.1111111111111111,\"#46039f\"],[0.2222222222222222,\"#7201a8\"],[0.3333333333333333,\"#9c179e\"],[0.4444444444444444,\"#bd3786\"],[0.5555555555555556,\"#d8576b\"],[0.6666666666666666,\"#ed7953\"],[0.7777777777777778,\"#fb9f3a\"],[0.8888888888888888,\"#fdca26\"],[1.0,\"#f0f921\"]],\"type\":\"contour\"}],\"contourcarpet\":[{\"colorbar\":{\"outlinewidth\":0,\"ticks\":\"\"},\"type\":\"contourcarpet\"}],\"heatmap\":[{\"colorbar\":{\"outlinewidth\":0,\"ticks\":\"\"},\"colorscale\":[[0.0,\"#0d0887\"],[0.1111111111111111,\"#46039f\"],[0.2222222222222222,\"#7201a8\"],[0.3333333333333333,\"#9c179e\"],[0.4444444444444444,\"#bd3786\"],[0.5555555555555556,\"#d8576b\"],[0.6666666666666666,\"#ed7953\"],[0.7777777777777778,\"#fb9f3a\"],[0.8888888888888888,\"#fdca26\"],[1.0,\"#f0f921\"]],\"type\":\"heatmap\"}],\"heatmapgl\":[{\"colorbar\":{\"outlinewidth\":0,\"ticks\":\"\"},\"colorscale\":[[0.0,\"#0d0887\"],[0.1111111111111111,\"#46039f\"],[0.2222222222222222,\"#7201a8\"],[0.3333333333333333,\"#9c179e\"],[0.4444444444444444,\"#bd3786\"],[0.5555555555555556,\"#d8576b\"],[0.6666666666666666,\"#ed7953\"],[0.7777777777777778,\"#fb9f3a\"],[0.8888888888888888,\"#fdca26\"],[1.0,\"#f0f921\"]],\"type\":\"heatmapgl\"}],\"histogram\":[{\"marker\":{\"pattern\":{\"fillmode\":\"overlay\",\"size\":10,\"solidity\":0.2}},\"type\":\"histogram\"}],\"histogram2d\":[{\"colorbar\":{\"outlinewidth\":0,\"ticks\":\"\"},\"colorscale\":[[0.0,\"#0d0887\"],[0.1111111111111111,\"#46039f\"],[0.2222222222222222,\"#7201a8\"],[0.3333333333333333,\"#9c179e\"],[0.4444444444444444,\"#bd3786\"],[0.5555555555555556,\"#d8576b\"],[0.6666666666666666,\"#ed7953\"],[0.7777777777777778,\"#fb9f3a\"],[0.8888888888888888,\"#fdca26\"],[1.0,\"#f0f921\"]],\"type\":\"histogram2d\"}],\"histogram2dcontour\":[{\"colorbar\":{\"outlinewidth\":0,\"ticks\":\"\"},\"colorscale\":[[0.0,\"#0d0887\"],[0.1111111111111111,\"#46039f\"],[0.2222222222222222,\"#7201a8\"],[0.3333333333333333,\"#9c179e\"],[0.4444444444444444,\"#bd3786\"],[0.5555555555555556,\"#d8576b\"],[0.6666666666666666,\"#ed7953\"],[0.7777777777777778,\"#fb9f3a\"],[0.8888888888888888,\"#fdca26\"],[1.0,\"#f0f921\"]],\"type\":\"histogram2dcontour\"}],\"mesh3d\":[{\"colorbar\":{\"outlinewidth\":0,\"ticks\":\"\"},\"type\":\"mesh3d\"}],\"parcoords\":[{\"line\":{\"colorbar\":{\"outlinewidth\":0,\"ticks\":\"\"}},\"type\":\"parcoords\"}],\"pie\":[{\"automargin\":true,\"type\":\"pie\"}],\"scatter\":[{\"marker\":{\"colorbar\":{\"outlinewidth\":0,\"ticks\":\"\"}},\"type\":\"scatter\"}],\"scatter3d\":[{\"line\":{\"colorbar\":{\"outlinewidth\":0,\"ticks\":\"\"}},\"marker\":{\"colorbar\":{\"outlinewidth\":0,\"ticks\":\"\"}},\"type\":\"scatter3d\"}],\"scattercarpet\":[{\"marker\":{\"colorbar\":{\"outlinewidth\":0,\"ticks\":\"\"}},\"type\":\"scattercarpet\"}],\"scattergeo\":[{\"marker\":{\"colorbar\":{\"outlinewidth\":0,\"ticks\":\"\"}},\"type\":\"scattergeo\"}],\"scattergl\":[{\"marker\":{\"colorbar\":{\"outlinewidth\":0,\"ticks\":\"\"}},\"type\":\"scattergl\"}],\"scattermapbox\":[{\"marker\":{\"colorbar\":{\"outlinewidth\":0,\"ticks\":\"\"}},\"type\":\"scattermapbox\"}],\"scatterpolar\":[{\"marker\":{\"colorbar\":{\"outlinewidth\":0,\"ticks\":\"\"}},\"type\":\"scatterpolar\"}],\"scatterpolargl\":[{\"marker\":{\"colorbar\":{\"outlinewidth\":0,\"ticks\":\"\"}},\"type\":\"scatterpolargl\"}],\"scatterternary\":[{\"marker\":{\"colorbar\":{\"outlinewidth\":0,\"ticks\":\"\"}},\"type\":\"scatterternary\"}],\"surface\":[{\"colorbar\":{\"outlinewidth\":0,\"ticks\":\"\"},\"colorscale\":[[0.0,\"#0d0887\"],[0.1111111111111111,\"#46039f\"],[0.2222222222222222,\"#7201a8\"],[0.3333333333333333,\"#9c179e\"],[0.4444444444444444,\"#bd3786\"],[0.5555555555555556,\"#d8576b\"],[0.6666666666666666,\"#ed7953\"],[0.7777777777777778,\"#fb9f3a\"],[0.8888888888888888,\"#fdca26\"],[1.0,\"#f0f921\"]],\"type\":\"surface\"}],\"table\":[{\"cells\":{\"fill\":{\"color\":\"#EBF0F8\"},\"line\":{\"color\":\"white\"}},\"header\":{\"fill\":{\"color\":\"#C8D4E3\"},\"line\":{\"color\":\"white\"}},\"type\":\"table\"}]},\"layout\":{\"annotationdefaults\":{\"arrowcolor\":\"#2a3f5f\",\"arrowhead\":0,\"arrowwidth\":1},\"autotypenumbers\":\"strict\",\"coloraxis\":{\"colorbar\":{\"outlinewidth\":0,\"ticks\":\"\"}},\"colorscale\":{\"diverging\":[[0,\"#8e0152\"],[0.1,\"#c51b7d\"],[0.2,\"#de77ae\"],[0.3,\"#f1b6da\"],[0.4,\"#fde0ef\"],[0.5,\"#f7f7f7\"],[0.6,\"#e6f5d0\"],[0.7,\"#b8e186\"],[0.8,\"#7fbc41\"],[0.9,\"#4d9221\"],[1,\"#276419\"]],\"sequential\":[[0.0,\"#0d0887\"],[0.1111111111111111,\"#46039f\"],[0.2222222222222222,\"#7201a8\"],[0.3333333333333333,\"#9c179e\"],[0.4444444444444444,\"#bd3786\"],[0.5555555555555556,\"#d8576b\"],[0.6666666666666666,\"#ed7953\"],[0.7777777777777778,\"#fb9f3a\"],[0.8888888888888888,\"#fdca26\"],[1.0,\"#f0f921\"]],\"sequentialminus\":[[0.0,\"#0d0887\"],[0.1111111111111111,\"#46039f\"],[0.2222222222222222,\"#7201a8\"],[0.3333333333333333,\"#9c179e\"],[0.4444444444444444,\"#bd3786\"],[0.5555555555555556,\"#d8576b\"],[0.6666666666666666,\"#ed7953\"],[0.7777777777777778,\"#fb9f3a\"],[0.8888888888888888,\"#fdca26\"],[1.0,\"#f0f921\"]]},\"colorway\":[\"#636efa\",\"#EF553B\",\"#00cc96\",\"#ab63fa\",\"#FFA15A\",\"#19d3f3\",\"#FF6692\",\"#B6E880\",\"#FF97FF\",\"#FECB52\"],\"font\":{\"color\":\"#2a3f5f\"},\"geo\":{\"bgcolor\":\"white\",\"lakecolor\":\"white\",\"landcolor\":\"#E5ECF6\",\"showlakes\":true,\"showland\":true,\"subunitcolor\":\"white\"},\"hoverlabel\":{\"align\":\"left\"},\"hovermode\":\"closest\",\"mapbox\":{\"style\":\"light\"},\"paper_bgcolor\":\"white\",\"plot_bgcolor\":\"#E5ECF6\",\"polar\":{\"angularaxis\":{\"gridcolor\":\"white\",\"linecolor\":\"white\",\"ticks\":\"\"},\"bgcolor\":\"#E5ECF6\",\"radialaxis\":{\"gridcolor\":\"white\",\"linecolor\":\"white\",\"ticks\":\"\"}},\"scene\":{\"xaxis\":{\"backgroundcolor\":\"#E5ECF6\",\"gridcolor\":\"white\",\"gridwidth\":2,\"linecolor\":\"white\",\"showbackground\":true,\"ticks\":\"\",\"zerolinecolor\":\"white\"},\"yaxis\":{\"backgroundcolor\":\"#E5ECF6\",\"gridcolor\":\"white\",\"gridwidth\":2,\"linecolor\":\"white\",\"showbackground\":true,\"ticks\":\"\",\"zerolinecolor\":\"white\"},\"zaxis\":{\"backgroundcolor\":\"#E5ECF6\",\"gridcolor\":\"white\",\"gridwidth\":2,\"linecolor\":\"white\",\"showbackground\":true,\"ticks\":\"\",\"zerolinecolor\":\"white\"}},\"shapedefaults\":{\"line\":{\"color\":\"#2a3f5f\"}},\"ternary\":{\"aaxis\":{\"gridcolor\":\"white\",\"linecolor\":\"white\",\"ticks\":\"\"},\"baxis\":{\"gridcolor\":\"white\",\"linecolor\":\"white\",\"ticks\":\"\"},\"bgcolor\":\"#E5ECF6\",\"caxis\":{\"gridcolor\":\"white\",\"linecolor\":\"white\",\"ticks\":\"\"}},\"title\":{\"x\":0.05},\"xaxis\":{\"automargin\":true,\"gridcolor\":\"white\",\"linecolor\":\"white\",\"ticks\":\"\",\"title\":{\"standoff\":15},\"zerolinecolor\":\"white\",\"zerolinewidth\":2},\"yaxis\":{\"automargin\":true,\"gridcolor\":\"white\",\"linecolor\":\"white\",\"ticks\":\"\",\"title\":{\"standoff\":15},\"zerolinecolor\":\"white\",\"zerolinewidth\":2}}},\"xaxis\":{\"anchor\":\"y\",\"domain\":[0.0,1.0],\"title\":{\"text\":\"Year\"}},\"yaxis\":{\"anchor\":\"x\",\"domain\":[0.0,1.0],\"title\":{\"text\":\"Fatalities\"}},\"legend\":{\"title\":{\"text\":\"\"},\"tracegroupgap\":0},\"margin\":{\"t\":60},\"barmode\":\"relative\",\"title\":{\"text\":\"NJ Traffic Fatalities per Year\",\"x\":0.5}},                        {\"responsive\": true}                    ).then(function(){\n",
       "                            \n",
       "var gd = document.getElementById('ff43f67d-61dd-49c3-8458-423a149e3c83');\n",
       "var x = new MutationObserver(function (mutations, observer) {{\n",
       "        var display = window.getComputedStyle(gd).display;\n",
       "        if (!display || display === 'none') {{\n",
       "            console.log([gd, 'removed!']);\n",
       "            Plotly.purge(gd);\n",
       "            observer.disconnect();\n",
       "        }}\n",
       "}});\n",
       "\n",
       "// Listen for the removal of the full notebook cells\n",
       "var notebookContainer = gd.closest('#notebook-container');\n",
       "if (notebookContainer) {{\n",
       "    x.observe(notebookContainer, {childList: true});\n",
       "}}\n",
       "\n",
       "// Listen for the clearing of the current output cell\n",
       "var outputEl = gd.closest('.output');\n",
       "if (outputEl) {{\n",
       "    x.observe(outputEl, {childList: true});\n",
       "}}\n",
       "\n",
       "                        })                };                });            </script>        </div>"
      ]
     },
     "metadata": {},
     "output_type": "display_data"
    }
   ],
   "source": [
    "fig = px.bar(\n",
    "    fatalities_per_year[fatalities_per_year.index < 2022],\n",
    "    labels={\n",
    "        'variable': '',\n",
    "        'dt': 'Year',\n",
    "        'value': 'Fatalities'\n",
    "    },\n",
    ")\n",
    "fig.update_layout(\n",
    "    title='NJ Traffic Fatalities per Year',\n",
    "    title_x=0.5,\n",
    "    showlegend=False,\n",
    ")\n",
    "fig.write_image('fatalities_per_year.png')\n",
    "fig"
   ]
  }
 ],
 "metadata": {
  "kernelspec": {
   "display_name": "Python 3 (ipykernel)",
   "language": "python",
   "name": "python3"
  },
  "language_info": {
   "codemirror_mode": {
    "name": "ipython",
    "version": 3
   },
   "file_extension": ".py",
   "mimetype": "text/x-python",
   "name": "python",
   "nbconvert_exporter": "python",
   "pygments_lexer": "ipython3",
   "version": "3.9.5"
  }
 },
 "nbformat": 4,
 "nbformat_minor": 5
}
