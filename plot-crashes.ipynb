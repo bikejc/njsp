{
 "cells": [
  {
   "cell_type": "code",
   "execution_count": null,
   "id": "140b5ae3",
   "metadata": {},
   "outputs": [],
   "source": [
    "from utz import *\n",
    "\n",
    "import plotly.express as px\n",
    "import plotly.graph_objects as go\n",
    "\n",
    "import sys\n",
    "sys.executable"
   ]
  },
  {
   "cell_type": "markdown",
   "id": "eb89dbb9",
   "metadata": {},
   "source": [
    "## Mapbox configs"
   ]
  },
  {
   "cell_type": "code",
   "execution_count": null,
   "id": "7c5e95f0",
   "metadata": {},
   "outputs": [],
   "source": [
    "token = open(\".mapbox-token\").read()\n",
    "\n",
    "osm = dict(mapbox=dict(style=\"open-street-map\"))\n",
    "usgs = dict(mapbox=dict(\n",
    "    style=\"white-bg\",\n",
    "    layers=[{\n",
    "        \"below\": 'traces',\n",
    "        \"sourcetype\": \"raster\",\n",
    "        \"sourceattribution\": \"United States Geological Survey\",\n",
    "        \"source\": [\"https://basemap.nationalmap.gov/arcgis/rest/services/USGSImageryOnly/MapServer/tile/{z}/{y}/{x}\"]\n",
    "    }],\n",
    "))\n",
    "stadia = dict(\n",
    "    mapbox=dict(\n",
    "        style=\"dark\",\n",
    "        accesstoken=token,\n",
    "        layers=[{\n",
    "            \"below\": 'traces',\n",
    "            \"sourcetype\": \"raster\",\n",
    "            \"sourceattribution\": '© <a href=\"https://stadiamaps.com/\">Stadia Maps</a>, © <a href=\"https://openmaptiles.org/\">OpenMapTiles</a> &copy; <a href=\"http://openstreetmap.org\">OpenStreetMap</a> contributors',\n",
    "            \"source\": ['https://tiles.stadiamaps.com/tiles/alidade_smooth_dark/{z}/{x}/{y}{r}.png'],\n",
    "        }],\n",
    "    )\n",
    ")\n",
    "mapbox = dict(mapbox=dict(\n",
    "    style=\"dark\",\n",
    "    accesstoken=token,\n",
    "))"
   ]
  },
  {
   "cell_type": "markdown",
   "id": "7f7bda23",
   "metadata": {},
   "source": [
    "## NJDOT 2021 Crash SRIs/MPs"
   ]
  },
  {
   "cell_type": "code",
   "execution_count": null,
   "id": "5214af44",
   "metadata": {},
   "outputs": [],
   "source": [
    "%%time\n",
    "from njdot.crashes import load, Crashes\n",
    "c21 = Crashes.load(years=2021)\n",
    "c21"
   ]
  },
  {
   "cell_type": "code",
   "execution_count": null,
   "id": "f25f6dbb",
   "metadata": {},
   "outputs": [],
   "source": [
    "(~c21.lat.isna()).sum()"
   ]
  },
  {
   "cell_type": "code",
   "execution_count": null,
   "id": "fb92464a",
   "metadata": {},
   "outputs": [],
   "source": [
    "c21.severity.value_counts()"
   ]
  },
  {
   "cell_type": "code",
   "execution_count": null,
   "id": "03168986",
   "metadata": {
    "scrolled": false
   },
   "outputs": [],
   "source": [
    "%%time\n",
    "c21ll = c21.lls\n",
    "c21ll"
   ]
  },
  {
   "cell_type": "code",
   "execution_count": null,
   "id": "b1e90ffd",
   "metadata": {},
   "outputs": [],
   "source": [
    "%%time\n",
    "nj = c21ll.nj\n",
    "nnj = c21ll.nnj\n",
    "len(nj), len(nnj)"
   ]
  },
  {
   "cell_type": "code",
   "execution_count": null,
   "id": "e2df6a1c",
   "metadata": {
    "scrolled": true
   },
   "outputs": [],
   "source": [
    "nnj"
   ]
  },
  {
   "cell_type": "code",
   "execution_count": null,
   "id": "50099d70",
   "metadata": {},
   "outputs": [],
   "source": [
    "severity_map = {\n",
    "    \"Property Damage\": \"yellow\",\n",
    "    \"Injury\": \"orange\",\n",
    "    \"Fatal\": \"red\",\n",
    "}"
   ]
  },
  {
   "cell_type": "code",
   "execution_count": null,
   "id": "f4ca819b",
   "metadata": {},
   "outputs": [],
   "source": [
    "from nj_crashes.geo import get_nj_points\n",
    "from nj_crashes.utils import show\n",
    "nj_points = get_nj_points()"
   ]
  },
  {
   "cell_type": "code",
   "execution_count": null,
   "id": "440eeafc",
   "metadata": {
    "scrolled": false
   },
   "outputs": [],
   "source": [
    "fig = px.scatter_mapbox(\n",
    "    nnj.df,\n",
    "    lat=\"lat\", lon=\"lon\",\n",
    "    color='severity',\n",
    "    hover_data=[\"County Name\", \"Date\", \"severity\", \"Crash Location\", \"sri\", \"mp\"],\n",
    "    color_discrete_map=severity_map,\n",
    "    center=dict(lat=40.15, lon=-74.715),\n",
    "    zoom=6.8,\n",
    "    height=1000,\n",
    ")\n",
    "fig.add_trace(go.Scattermapbox(\n",
    "    lat=nj_points.lat, lon=nj_points.lon,\n",
    "    name='NJ',\n",
    "    showlegend=False,\n",
    "    #color=nj_points.name,\n",
    "    #hover_name=\"City\",\n",
    "    #hover_data=[\"name\"],\n",
    "))\n",
    "legend_bgcolor = '50'\n",
    "fig.update_layout(\n",
    "    **mapbox,\n",
    "    title=dict(\n",
    "        text=\"Erroneous crash lat/lons\",\n",
    "        x=0.5, y=0.98,\n",
    "        xanchor='center', yanchor='top',\n",
    "        font=dict(size=32, color=\"white\")\n",
    "    ),\n",
    "    legend=dict(\n",
    "        title=dict(text=''),\n",
    "        x=0.98, y=0.98,\n",
    "        xanchor=\"right\", yanchor=\"top\",\n",
    "        font=dict(\n",
    "            size=14,\n",
    "            color=\"white\"\n",
    "        ),\n",
    "        bgcolor=f\"rgba({legend_bgcolor},{legend_bgcolor},{legend_bgcolor},0.8)\",\n",
    "        bordercolor=\"white\",\n",
    "        borderwidth=2,\n",
    "    ),\n",
    "    margin={\"r\":0,\"t\":0,\"l\":0,\"b\":0},\n",
    ")\n",
    "show(fig, w=800, h=800)"
   ]
  },
  {
   "cell_type": "code",
   "execution_count": null,
   "id": "b2954132",
   "metadata": {},
   "outputs": [],
   "source": [
    "c21ll[c21ll.lon > 0]"
   ]
  },
  {
   "cell_type": "code",
   "execution_count": null,
   "id": "be20b6bf",
   "metadata": {},
   "outputs": [],
   "source": [
    "c21ll.lon.dropna().astype(int).value_counts().sort_index()"
   ]
  },
  {
   "cell_type": "markdown",
   "id": "a34c28b1",
   "metadata": {},
   "source": [
    "### Plot crashes"
   ]
  },
  {
   "cell_type": "code",
   "execution_count": null,
   "id": "bbafd456",
   "metadata": {},
   "outputs": [],
   "source": [
    "nj.severity.value_counts()"
   ]
  },
  {
   "cell_type": "code",
   "execution_count": null,
   "id": "0cb13b86",
   "metadata": {
    "scrolled": false
   },
   "outputs": [],
   "source": [
    "fig = px.scatter_mapbox(\n",
    "    nj.df,\n",
    "    lat=\"lat\", lon=\"lon\",\n",
    "    color='severity',\n",
    "    #hover_name=\"City\",\n",
    "    hover_data=[\"County Name\", \"Date\", \"sri\", \"mp\"],\n",
    "    color_discrete_map=severity_map,\n",
    "    center=dict(lat=40.29, lon=-74.715),\n",
    "    zoom=7.4,\n",
    "    height=1000,\n",
    ")\n",
    "legend_bgcolor = '50'\n",
    "fig.update_layout(\n",
    "    **mapbox,\n",
    "    title=dict(\n",
    "        text=\"NJ Crashes (2021)\",\n",
    "        x=0.5, y=0.95,\n",
    "        xanchor='center', yanchor='top',\n",
    "        font=dict(size=32, color=\"white\")\n",
    "    ),\n",
    "    legend=dict(\n",
    "        x=0.98, y=0.90,\n",
    "        xanchor=\"right\", yanchor=\"top\",\n",
    "        font=dict(\n",
    "            size=14,\n",
    "            color=\"white\"\n",
    "        ),\n",
    "        bgcolor=f\"rgba({legend_bgcolor},{legend_bgcolor},{legend_bgcolor},0.8)\",\n",
    "        bordercolor=\"white\",\n",
    "        borderwidth=2,\n",
    "    ),\n",
    ")\n",
    "fig.update_layout(margin={\"r\":0,\"t\":0,\"l\":0,\"b\":0})\n",
    "fig.write_image('nj-crashes-mapbox.png', width=800, height=1000)\n",
    "fig.write_json('nj-crashes-mapbox.json')\n",
    "show(fig, w=800, h=800)"
   ]
  },
  {
   "cell_type": "code",
   "execution_count": null,
   "id": "8c729197",
   "metadata": {
    "scrolled": true
   },
   "outputs": [],
   "source": [
    "c21ll[['lat', 'lon']].value_counts().value_counts().sort_index()"
   ]
  },
  {
   "cell_type": "code",
   "execution_count": null,
   "id": "fc8f549b",
   "metadata": {},
   "outputs": [],
   "source": [
    "nj.to_parquet('nj-2021-if.parquet')"
   ]
  },
  {
   "cell_type": "code",
   "execution_count": null,
   "id": "04dd61d8",
   "metadata": {},
   "outputs": [],
   "source": [
    "nj"
   ]
  }
 ],
 "metadata": {
  "kernelspec": {
   "display_name": "conda-geopandas",
   "language": "python",
   "name": "conda-geopandas"
  },
  "language_info": {
   "codemirror_mode": {
    "name": "ipython",
    "version": 3
   },
   "file_extension": ".py",
   "mimetype": "text/x-python",
   "name": "python",
   "nbconvert_exporter": "python",
   "pygments_lexer": "ipython3",
   "version": "3.10.10"
  }
 },
 "nbformat": 4,
 "nbformat_minor": 5
}
