{
 "cells": [
  {
   "cell_type": "code",
   "execution_count": null,
   "id": "140b5ae3",
   "metadata": {},
   "outputs": [],
   "source": [
    "from utz import *\n",
    "from IPython.display import HTML, SVG, display\n",
    "\n",
    "import fiona\n",
    "import geopandas as gpd\n",
    "from geopy import distance\n",
    "import shapefile\n",
    "from shapely.geometry import Point\n",
    "\n",
    "import plotly.express as px\n",
    "import plotly.graph_objects as go\n",
    "\n",
    "import sys\n",
    "sys.executable"
   ]
  },
  {
   "cell_type": "markdown",
   "id": "e9fb5a08",
   "metadata": {},
   "source": [
    "## Mapbox configs"
   ]
  },
  {
   "cell_type": "code",
   "execution_count": null,
   "id": "98ffad49",
   "metadata": {},
   "outputs": [],
   "source": [
    "token = open(\".mapbox-token\").read()\n",
    "mapbox = dict(mapbox=dict(\n",
    "    style=\"dark\",\n",
    "    accesstoken=token,\n",
    "))"
   ]
  },
  {
   "cell_type": "code",
   "execution_count": null,
   "id": "1a15cb08",
   "metadata": {},
   "outputs": [],
   "source": [
    "from nj_crashes.crashes import c20\n",
    "from nj_crashes.sri import get_mp_ll, SRI_DB_PATH, SRI_DB_URL, SRI_DB_TABLE"
   ]
  },
  {
   "cell_type": "code",
   "execution_count": null,
   "id": "3fefe958",
   "metadata": {},
   "outputs": [],
   "source": [
    "grove_sri = '09061720__'\n",
    "grove_crashes = c20[c20.SRI.str.contains(grove_sri)]\n",
    "grove_crashes"
   ]
  },
  {
   "cell_type": "code",
   "execution_count": null,
   "id": "ebf9024c",
   "metadata": {
    "scrolled": true
   },
   "outputs": [],
   "source": [
    "gc = grove_crashes[['Date', 'Crash Location', 'Severity', 'SRI', 'MP']]\n",
    "gc"
   ]
  },
  {
   "cell_type": "code",
   "execution_count": null,
   "id": "58c7ced6",
   "metadata": {},
   "outputs": [],
   "source": [
    "grove_crashes.Severity.value_counts()"
   ]
  },
  {
   "cell_type": "code",
   "execution_count": null,
   "id": "7366bdcf",
   "metadata": {},
   "outputs": [],
   "source": [
    "gcll = sxs(gc, gc.apply(lambda r: get_mp_ll(r.SRI, r.MP), axis=1).rename('ll'))\n",
    "gcll['LON'] = gcll.ll.apply(lambda p: p[0])\n",
    "gcll['LAT'] = gcll.ll.apply(lambda p: p[1])\n",
    "gcll = gcll.drop(columns='ll')\n",
    "gcll"
   ]
  },
  {
   "cell_type": "code",
   "execution_count": null,
   "id": "b844a279",
   "metadata": {},
   "outputs": [],
   "source": [
    "fig = px.scatter_mapbox(\n",
    "    gcll,\n",
    "    lon='LON', lat='LAT',\n",
    "    color='Severity',\n",
    "    color_discrete_sequence=['yellow', 'orange', 'red'],\n",
    "    hover_data=['Date', 'Crash Location', 'SRI', 'MP'],\n",
    "    center=dict(lon=-74.042037, lat=40.725527),\n",
    "    zoom=13.5,\n",
    "    height=600,\n",
    ")\n",
    "legend_bgcolor = '50'\n",
    "fig.update_layout(\n",
    "    **mapbox,\n",
    "    margin={\"r\":0,\"t\":0,\"l\":0,\"b\":0},\n",
    "    title=dict(\n",
    "        text=\"Grove St crashes (2020)\",\n",
    "        x=0.5, y=0.98,\n",
    "        xanchor='center', yanchor='top',\n",
    "        font=dict(size=32, color=\"white\")\n",
    "    ),\n",
    "    legend=dict(\n",
    "        title=dict(text=''),\n",
    "        x=0.98, y=0.98,\n",
    "        xanchor=\"right\", yanchor=\"top\",\n",
    "        font=dict(\n",
    "            size=14,\n",
    "            color=\"white\"\n",
    "        ),\n",
    "        bgcolor=f\"rgba({legend_bgcolor},{legend_bgcolor},{legend_bgcolor},0.8)\",\n",
    "        bordercolor=\"white\",\n",
    "        borderwidth=2,\n",
    "    ),\n",
    ")\n",
    "fig.show(config=dict(displayModeBar=False))"
   ]
  }
 ],
 "metadata": {
  "kernelspec": {
   "display_name": "conda-geopandas",
   "language": "python",
   "name": "conda-geopandas"
  },
  "language_info": {
   "codemirror_mode": {
    "name": "ipython",
    "version": 3
   },
   "file_extension": ".py",
   "mimetype": "text/x-python",
   "name": "python",
   "nbconvert_exporter": "python",
   "pygments_lexer": "ipython3",
   "version": "3.10.10"
  }
 },
 "nbformat": 4,
 "nbformat_minor": 5
}
