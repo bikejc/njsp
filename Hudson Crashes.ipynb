{
 "cells": [
  {
   "cell_type": "markdown",
   "id": "51c98d8f",
   "metadata": {},
   "source": [
    "# Plot crashes in Hudson County, 2017-2021 "
   ]
  },
  {
   "cell_type": "code",
   "execution_count": null,
   "id": "6c1ff961",
   "metadata": {},
   "outputs": [],
   "source": [
    "from utz import *\n",
    "from nj_crashes.crashes import Crashes\n",
    "import plotly.express as px\n",
    "import plotly.graph_objects as go"
   ]
  },
  {
   "cell_type": "markdown",
   "id": "e9fb5a08",
   "metadata": {},
   "source": [
    "## Mapbox configs"
   ]
  },
  {
   "cell_type": "code",
   "execution_count": null,
   "id": "98ffad49",
   "metadata": {},
   "outputs": [],
   "source": [
    "token = open(\".mapbox-token\").read()\n",
    "mapbox = dict(mapbox=dict(\n",
    "    style=\"dark\",\n",
    "    accesstoken=token,\n",
    "))"
   ]
  },
  {
   "cell_type": "code",
   "execution_count": null,
   "id": "54207843",
   "metadata": {
    "scrolled": false
   },
   "outputs": [],
   "source": [
    "%%time\n",
    "first_year, last_year = 2017, 2021\n",
    "years = list(range(first_year, last_year + 1))"
   ]
  },
  {
   "cell_type": "markdown",
   "id": "850d4150",
   "metadata": {},
   "source": [
    "## Load all counties, filter to Hudson by geometry\n",
    "(some crashes' \"County Name\"s seem miscategorized, based on lat/lng)"
   ]
  },
  {
   "cell_type": "code",
   "execution_count": null,
   "id": "e062390d",
   "metadata": {
    "scrolled": true
   },
   "outputs": [],
   "source": [
    "%%time\n",
    "c = Crashes.load(years=years)\n",
    "c"
   ]
  },
  {
   "cell_type": "code",
   "execution_count": null,
   "id": "f35dac2c",
   "metadata": {},
   "outputs": [],
   "source": [
    "c.severity.value_counts()"
   ]
  },
  {
   "cell_type": "markdown",
   "id": "9727b210",
   "metadata": {},
   "source": [
    "### Compute LLs"
   ]
  },
  {
   "cell_type": "code",
   "execution_count": null,
   "id": "4761362a",
   "metadata": {
    "scrolled": true
   },
   "outputs": [],
   "source": [
    "cl = c.lls\n",
    "cl"
   ]
  },
  {
   "cell_type": "code",
   "execution_count": null,
   "id": "23226aa4",
   "metadata": {
    "scrolled": true
   },
   "outputs": [],
   "source": [
    "cl.isna().sum()"
   ]
  },
  {
   "cell_type": "markdown",
   "id": "afe4742e",
   "metadata": {},
   "source": [
    "### Load county geometries"
   ]
  },
  {
   "cell_type": "code",
   "execution_count": null,
   "id": "4155b302",
   "metadata": {},
   "outputs": [],
   "source": [
    "from nj_crashes.geo import get_boundary_lls, get_county_coords, get_counties\n",
    "from geopandas.tools import sjoin\n",
    "import geopandas as gpd\n",
    "from shapely import box\n",
    "import simplejson\n",
    "from njdot.codes import CrashSeverity"
   ]
  },
  {
   "cell_type": "code",
   "execution_count": null,
   "id": "af4ce39d",
   "metadata": {
    "scrolled": true
   },
   "outputs": [],
   "source": [
    "counties = get_counties()\n",
    "counties"
   ]
  },
  {
   "cell_type": "markdown",
   "id": "dc7b14a9",
   "metadata": {},
   "source": [
    "### Hudson County geometry"
   ]
  },
  {
   "cell_type": "code",
   "execution_count": null,
   "id": "de496b2d",
   "metadata": {},
   "outputs": [],
   "source": [
    "hudco = counties.loc[counties.NAMELSAD == 'Hudson County']\n",
    "hudco"
   ]
  },
  {
   "cell_type": "code",
   "execution_count": null,
   "id": "915d9100",
   "metadata": {},
   "outputs": [],
   "source": [
    "hudco.geometry.iloc[0]"
   ]
  },
  {
   "cell_type": "code",
   "execution_count": null,
   "id": "6eea96dd",
   "metadata": {
    "scrolled": true
   },
   "outputs": [],
   "source": [
    "gdf = gpd.GeoDataFrame(\n",
    "    cl,\n",
    "    geometry=gpd.points_from_xy(x=cl.lon, y=cl.lat),\n",
    "    columns=cl.columns,\n",
    ")\n",
    "gdf"
   ]
  },
  {
   "cell_type": "code",
   "execution_count": null,
   "id": "7a2a20d2",
   "metadata": {},
   "outputs": [],
   "source": [
    "type(hudco)"
   ]
  },
  {
   "cell_type": "code",
   "execution_count": null,
   "id": "ee81543a",
   "metadata": {},
   "outputs": [],
   "source": [
    "type(hudco[['geometry']])"
   ]
  },
  {
   "cell_type": "markdown",
   "id": "ba2af43a",
   "metadata": {},
   "source": [
    "### Hudson County crashes (by geometry)"
   ]
  },
  {
   "cell_type": "code",
   "execution_count": null,
   "id": "aa856dbd",
   "metadata": {
    "scrolled": true
   },
   "outputs": [],
   "source": [
    "hp = sjoin(gdf, hudco[['geometry']])\n",
    "hp"
   ]
  },
  {
   "cell_type": "markdown",
   "id": "c315a3e2",
   "metadata": {},
   "source": [
    "Peek at injury + fatal crashes:"
   ]
  },
  {
   "cell_type": "code",
   "execution_count": null,
   "id": "e2afa30f",
   "metadata": {
    "scrolled": true
   },
   "outputs": [],
   "source": [
    "hp_if = hp[(hp.severity == 'Injury') | (hp.severity == 'Property Damage')]\n",
    "hp_if"
   ]
  },
  {
   "cell_type": "markdown",
   "id": "d47583e4",
   "metadata": {},
   "source": [
    "## Export crashes"
   ]
  },
  {
   "cell_type": "markdown",
   "id": "67bb3e81",
   "metadata": {},
   "source": [
    "### Helpers"
   ]
  },
  {
   "cell_type": "markdown",
   "id": "7f595f39",
   "metadata": {},
   "source": [
    "Factor column values into dictionaries, to save space in JSON export:"
   ]
  },
  {
   "cell_type": "code",
   "execution_count": null,
   "id": "6f6e7178",
   "metadata": {},
   "outputs": [],
   "source": [
    "def factor_col(df, col):\n",
    "    values = list(sorted(df[col].unique()))\n",
    "    value2idx = { value: idx for idx, value in enumerate(values) }\n",
    "    df[col] = df[col].apply(lambda value: value2idx[value])\n",
    "    return values"
   ]
  },
  {
   "cell_type": "markdown",
   "id": "ed976e06",
   "metadata": {},
   "source": [
    "Datetimes can be replaced with a \"start\", and deltas from that, with configurable `unit` granularity:"
   ]
  },
  {
   "cell_type": "code",
   "execution_count": null,
   "id": "47f6bbbf",
   "metadata": {},
   "outputs": [],
   "source": [
    "def factor_dt(df, k, unit, astype=int):\n",
    "    v = df[k]\n",
    "    start = v.min()\n",
    "    seconds = (v - start).apply(lambda td: td.total_seconds())\n",
    "    scale = { 's': 1, 'm': 60, 'h': 60*60, }[unit]\n",
    "    start = start.timestamp() / scale\n",
    "    scaled = seconds / scale\n",
    "    if astype:\n",
    "        start = astype(start)\n",
    "        scaled = scaled.astype(astype)\n",
    "    df[k] = scaled\n",
    "    return dict(start=start, unit=unit)"
   ]
  },
  {
   "cell_type": "markdown",
   "id": "eef5e2db",
   "metadata": {},
   "source": [
    "### Reduce + export JSON"
   ]
  },
  {
   "cell_type": "code",
   "execution_count": null,
   "id": "71bed7ae",
   "metadata": {},
   "outputs": [],
   "source": [
    "outdir = 'www/public/plots/njdot'"
   ]
  },
  {
   "cell_type": "code",
   "execution_count": null,
   "id": "e001362f",
   "metadata": {},
   "outputs": [],
   "source": [
    "keep_cols = [\n",
    "    'Date',\n",
    "    'Municipality Name',\n",
    "    'Total Killed',\n",
    "    'Total Injured',\n",
    "    'Pedestrians Killed',\n",
    "    'Pedestrians Injured',\n",
    "    'severity',\n",
    "    'Total Vehicles Involved',\n",
    "    'sri', 'mp', 'lon', 'lat',\n",
    "]\n",
    "\n",
    "def reduce_df(df, severities):\n",
    "    df = df[keep_cols].copy()\n",
    "    df.severity = df.severity.apply(lambda s: s[0].lower())\n",
    "    df = df[df.severity.apply(lambda s: s in severities)]\n",
    "    df = df.rename(columns={\n",
    "        'Municipality Name': 'city',\n",
    "        'Date': 'dt',\n",
    "        'Total Killed': 'tk',\n",
    "        'Total Injured': 'ti',\n",
    "        'Pedestrians Killed': 'pk',\n",
    "        'Pedestrians Injured': 'pi',\n",
    "        'Total Vehicles Involved': 'tv',\n",
    "    })\n",
    "    dt = factor_dt(df, 'dt', unit='m')\n",
    "    city = factor_col(df, 'city')\n",
    "    sri = factor_col(df, 'sri')\n",
    "    lon = factor_col(df, 'lon')\n",
    "    lat = factor_col(df, 'lat')\n",
    "    severity = factor_col(df, 'severity')\n",
    "\n",
    "    cols = df.columns.tolist()\n",
    "    rows = df.values.tolist()\n",
    "    obj = dict(\n",
    "        cols=cols,\n",
    "        rows=rows,\n",
    "        dicts=dict(\n",
    "            dt=dt,\n",
    "            city=city,\n",
    "            sri=sri,\n",
    "            lon=lon,\n",
    "            lat=lat,\n",
    "            severity=severity,\n",
    "        ),\n",
    "    )\n",
    "    path = f'{outdir}/hudson-5yr-lls-{severities}.json'\n",
    "    with open(path, 'w') as f:\n",
    "        simplejson.dump(obj, f, ignore_nan=True)\n",
    "        err(f\"Wrote {path}\")\n",
    "    return df, obj"
   ]
  },
  {
   "cell_type": "code",
   "execution_count": null,
   "id": "1b797aee",
   "metadata": {},
   "outputs": [],
   "source": [
    "fi, obj = reduce_df(hp, 'if')"
   ]
  },
  {
   "cell_type": "markdown",
   "id": "39267d91",
   "metadata": {},
   "source": [
    "Reduced rows:"
   ]
  },
  {
   "cell_type": "code",
   "execution_count": null,
   "id": "9d6af302",
   "metadata": {},
   "outputs": [],
   "source": [
    "obj['rows'][:10]"
   ]
  },
  {
   "cell_type": "markdown",
   "id": "e2619568",
   "metadata": {},
   "source": [
    "Cols:"
   ]
  },
  {
   "cell_type": "code",
   "execution_count": null,
   "id": "b1bf4ed2",
   "metadata": {},
   "outputs": [],
   "source": [
    "obj['cols']"
   ]
  },
  {
   "cell_type": "markdown",
   "id": "9447932f",
   "metadata": {},
   "source": [
    "Dictionaries:"
   ]
  },
  {
   "cell_type": "code",
   "execution_count": null,
   "id": "40af31b0",
   "metadata": {},
   "outputs": [],
   "source": [
    "obj['dicts']"
   ]
  },
  {
   "cell_type": "markdown",
   "id": "493c6179",
   "metadata": {},
   "source": [
    "## Check County Names"
   ]
  },
  {
   "cell_type": "markdown",
   "id": "e796fba9",
   "metadata": {},
   "source": [
    "Check for crashes labeled as happening outside Hudson County:"
   ]
  },
  {
   "cell_type": "code",
   "execution_count": null,
   "id": "906a96c6",
   "metadata": {},
   "outputs": [],
   "source": [
    "hp['County Name'].value_counts()"
   ]
  },
  {
   "cell_type": "code",
   "execution_count": null,
   "id": "96ab23ee",
   "metadata": {},
   "outputs": [],
   "source": [
    "hp['Municipality Name'].value_counts()"
   ]
  },
  {
   "cell_type": "markdown",
   "id": "45c237d5",
   "metadata": {},
   "source": [
    "## Plot crashes"
   ]
  },
  {
   "cell_type": "markdown",
   "id": "c58a1d53",
   "metadata": {},
   "source": [
    "### Compute bounding box, center"
   ]
  },
  {
   "cell_type": "code",
   "execution_count": null,
   "id": "34bfc5c8",
   "metadata": {},
   "outputs": [],
   "source": [
    "bb = hudco.bounds.values[0]\n",
    "min_lon, min_lat, max_lon, max_lat = bb\n",
    "bb = box(*bb)\n",
    "centroid = bb.centroid\n",
    "mid_lon, mid_lat = centroid.x, centroid.y\n",
    "\n",
    "min_lon, min_lat, max_lon, max_lat"
   ]
  },
  {
   "cell_type": "markdown",
   "id": "abc39246",
   "metadata": {},
   "source": [
    "### Compute lat/lng cluster sizes"
   ]
  },
  {
   "cell_type": "code",
   "execution_count": null,
   "id": "c2cd7038",
   "metadata": {},
   "outputs": [],
   "source": [
    "from nj_crashes.crashes import LLCrashes"
   ]
  },
  {
   "cell_type": "code",
   "execution_count": null,
   "id": "a7c3ea4b",
   "metadata": {},
   "outputs": [],
   "source": [
    "ll_hist = LLCrashes(hp).ll_hist\n",
    "ll_hist"
   ]
  },
  {
   "cell_type": "code",
   "execution_count": null,
   "id": "c90f96b1",
   "metadata": {
    "scrolled": true
   },
   "outputs": [],
   "source": [
    "ll_hist[['severity', 'lls_count']].value_counts(sort=False)"
   ]
  },
  {
   "cell_type": "markdown",
   "id": "5d88a33d",
   "metadata": {},
   "source": [
    "### Plot helpers"
   ]
  },
  {
   "cell_type": "code",
   "execution_count": null,
   "id": "38c8c8fe",
   "metadata": {},
   "outputs": [],
   "source": [
    "from IPython.display import display, Image"
   ]
  },
  {
   "cell_type": "code",
   "execution_count": null,
   "id": "513fe75f",
   "metadata": {},
   "outputs": [],
   "source": [
    "severities = list(CrashSeverity.ch2Name.values())"
   ]
  },
  {
   "cell_type": "code",
   "execution_count": null,
   "id": "503ce252",
   "metadata": {},
   "outputs": [],
   "source": [
    "year_str = f\"{first_year}\" if first_year == last_year else f\"{first_year}-{last_year}\"\n",
    "year_str"
   ]
  },
  {
   "cell_type": "markdown",
   "id": "47631de8",
   "metadata": {},
   "source": [
    "Plot crashes, with \"density\" / shadow, and optional exported/inline display formats"
   ]
  },
  {
   "cell_type": "code",
   "execution_count": null,
   "id": "0d39201b",
   "metadata": {},
   "outputs": [],
   "source": [
    "def crash_plot(\n",
    "    lls,\n",
    "    county,\n",
    "    types='pif',\n",
    "    center=None, zoom=11.4,\n",
    "    lg='tr', lm=0.02,\n",
    "    colors=None, scale_radii=None, size='radius',\n",
    "    marker=None,\n",
    "    legend=None,\n",
    "    W=1000, H=1000,\n",
    "    layers=None,\n",
    "    cluster=None,\n",
    "    density=None,\n",
    "    density_radius=20,\n",
    "    zmaxs=None,\n",
    "    write=True,\n",
    "    map='carto-darkmatter',  # 'dark' will load .mapbox-token\n",
    "    show=False,\n",
    "    print_stats=False,\n",
    "    **kwargs\n",
    "):\n",
    "    name = f'{outdir}/{county.lower()}-{types}-crashes'\n",
    "    scale_radii = scale_radii or [1, 2, 4]\n",
    "    colors = colors or ['yellow', 'orange', 'red']\n",
    "    zmaxs = zmaxs or [20, 10, 1]\n",
    "    center = center or dict(lon=mid_lon, lat=mid_lat)\n",
    "    if isinstance(center, list):\n",
    "        center = dict(lon=center[0], lat=center[1])\n",
    "    severity_dfs = []\n",
    "    density_traces = []\n",
    "    for idx, ((ch, severity), color, scale_radius, zmax) in enumerate(zip(CrashSeverity.ch2Name.items(), colors, scale_radii, zmaxs)):\n",
    "        if ch not in types:\n",
    "            continue\n",
    "        severity_df = lls[lls.severity == severity]\n",
    "        severity_df = severity_df.assign(radius=severity_df.radius * scale_radius)\n",
    "        severity_dfs.append(severity_df)\n",
    "\n",
    "        if density:\n",
    "            density_trace = go.Densitymapbox(\n",
    "                name=f'{severity} density',\n",
    "                lon=severity_df.lon, lat=severity_df.lat,\n",
    "                zmin=0, zmax=zmax,\n",
    "                radius=density_radius,\n",
    "                colorscale=[[0, 'black'], [1, color]],\n",
    "                hoverinfo='none',\n",
    "                showscale=False,\n",
    "                legendrank=990+idx,\n",
    "            )\n",
    "            density_traces.append(density_trace)\n",
    "    df = pd.concat(severity_dfs)\n",
    "    if print_stats:\n",
    "        num_crashes_by_type = df.severity.value_counts()\n",
    "        num_crashes = num_crashes_by_type.sum()\n",
    "        print(f\"{num_crashes} crashes:\")\n",
    "        print(str(num_crashes_by_type))\n",
    "    fig = px.scatter_mapbox(\n",
    "        df,\n",
    "        lon='lon', lat='lat',\n",
    "        size=size,\n",
    "        #size_max=10,\n",
    "        color='severity',\n",
    "        color_discrete_map=dict(zip(severities, colors)),\n",
    "        hover_data=['Date', 'Crash Location', 'sri', 'mp', 'lls_count',],\n",
    "        center=center,\n",
    "        zoom=zoom,\n",
    "        height=H,\n",
    "        **kwargs\n",
    "    )\n",
    "    legend_bgcolor = '50'\n",
    "    mapbox_kwargs = dict(style=map)\n",
    "    if map == 'dark':\n",
    "        token = open(\".mapbox-token\").read()\n",
    "        mapbox_kwargs['accesstoken'] = token\n",
    "    if density_traces:\n",
    "        for trace in density_traces:\n",
    "            fig.add_trace(trace)\n",
    "        fig.data = fig.data[-len(density_traces):] + fig.data[:len(density_traces)]\n",
    "    if lg == 'tr':\n",
    "        legend_pos = dict(yanchor=\"top\", xanchor=\"right\", x=1-lm, y=1-lm)\n",
    "    elif lg == 'br':\n",
    "        legend_pos = dict(yanchor=\"bottom\", xanchor=\"right\", x=1-lm, y=lm)\n",
    "    else:\n",
    "        raise ValueError(f'Unrecognized legend position: {lg}')\n",
    "    legend_obj = dict(\n",
    "        title=dict(text=''),\n",
    "        **legend_pos,\n",
    "        font=dict(\n",
    "            size=14,\n",
    "            color=\"white\"\n",
    "        ),\n",
    "        bgcolor=f\"rgba({legend_bgcolor},{legend_bgcolor},{legend_bgcolor},0.8)\",\n",
    "        bordercolor=\"white\",\n",
    "        borderwidth=2,\n",
    "    )\n",
    "    if legend:\n",
    "        legend_obj.update(legend)\n",
    "    legend = legend_obj\n",
    "    label = ' KSI' if types == 'if' else ' fatal' if types == 'f' else ''\n",
    "    fig.update_layout(\n",
    "        mapbox=dict(\n",
    "            # dict(style=<style>) or dict(style=\"dark\", accesstoken=token)\n",
    "            **mapbox_kwargs,\n",
    "            layers=layers,\n",
    "            #layers=[ { \"sourcetype\": \"image\", \"source\": img, \"coordinates\": coordinates }, ]\n",
    "        ),\n",
    "        margin={\"r\": 0, \"t\": 0, \"l\": 0, \"b\": 0},\n",
    "        title=dict(\n",
    "            text=f\"{county} County{label} crashes ({year_str})\",\n",
    "            x=0.5, y=0.98,\n",
    "            xanchor='center', yanchor='top',\n",
    "            font=dict(size=32, color=\"white\")\n",
    "        ),\n",
    "        legend=legend,\n",
    "    )\n",
    "    scatter_kwargs = dict(\n",
    "        cluster=cluster,\n",
    "        #marker=marker if marker else None,\n",
    "    )\n",
    "    for idx, (severity, color) in enumerate(zip(severities, colors)):\n",
    "        fig.update_traces(selector=dict(name=severity), legendrank=1001 + idx, marker=dict(color=color), **scatter_kwargs)\n",
    "    if cluster:\n",
    "        fig.update_traces(cluster=dict(enabled=True))\n",
    "    if write is True or write == 'png':\n",
    "        path = f'{name}.png'\n",
    "        fig.write_image(path, width=W, height=H)\n",
    "        err(f\"Wrote {path}\")\n",
    "    if write is True or write == 'json':\n",
    "        path = f'{name}.json'\n",
    "        fig.write_json(path)\n",
    "        err(f\"Wrote {path}\")\n",
    "    if show == 'img':\n",
    "        return Image(fig.to_image(width=W, height=H))\n",
    "    elif show:\n",
    "        fig.show(config=dict(displayModeBar=False))\n",
    "    return fig"
   ]
  },
  {
   "cell_type": "code",
   "execution_count": null,
   "id": "122f3ef0",
   "metadata": {
    "scrolled": false
   },
   "outputs": [],
   "source": [
    "args = (ll_hist.df, 'Hudson',)\n",
    "show = 'img'\n",
    "# show = False\n",
    "def plot_mix(types='pif', **kwargs):\n",
    "    kw = dict(\n",
    "        size_max=15,\n",
    "        scale_radii=[2, 3, 6],\n",
    "        types=types,\n",
    "        density=True,\n",
    "        zoom=11.5,\n",
    "        lg='br',\n",
    "        H=1100,\n",
    "        show=show,\n",
    "    )\n",
    "    kw.update(**kwargs)\n",
    "    crash_plot(*args, **kwargs, map='dark', write='png', print_stats=True, **kw)\n",
    "    return crash_plot(*args, **kwargs, write='json', **kw)"
   ]
  },
  {
   "cell_type": "markdown",
   "id": "94cba8c2",
   "metadata": {},
   "source": [
    "### Plot crashes by type"
   ]
  },
  {
   "cell_type": "code",
   "execution_count": null,
   "id": "41c52d43",
   "metadata": {
    "scrolled": false
   },
   "outputs": [],
   "source": [
    "plot_mix('pif')"
   ]
  },
  {
   "cell_type": "code",
   "execution_count": null,
   "id": "f2d804be",
   "metadata": {
    "scrolled": false
   },
   "outputs": [],
   "source": [
    "plot_mix('if')"
   ]
  },
  {
   "cell_type": "code",
   "execution_count": null,
   "id": "6305b230",
   "metadata": {
    "scrolled": false
   },
   "outputs": [],
   "source": [
    "plot_mix('f')"
   ]
  },
  {
   "cell_type": "markdown",
   "id": "af774e9f",
   "metadata": {},
   "source": [
    "Simple injury+fatal plot, without \"density\":"
   ]
  },
  {
   "cell_type": "code",
   "execution_count": null,
   "id": "f948eaff",
   "metadata": {},
   "outputs": [],
   "source": [
    "crash_plot(ll_hist, 'Hudson', types='if', size='radius', size_max=10, show='img')"
   ]
  }
 ],
 "metadata": {
  "kernelspec": {
   "display_name": "conda-geopandas",
   "language": "python",
   "name": "conda-geopandas"
  },
  "language_info": {
   "codemirror_mode": {
    "name": "ipython",
    "version": 3
   },
   "file_extension": ".py",
   "mimetype": "text/x-python",
   "name": "python",
   "nbconvert_exporter": "python",
   "pygments_lexer": "ipython3",
   "version": "3.10.10"
  }
 },
 "nbformat": 4,
 "nbformat_minor": 5
}
