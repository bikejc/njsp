{
 "cells": [
  {
   "cell_type": "code",
   "execution_count": null,
   "id": "140b5ae3",
   "metadata": {},
   "outputs": [],
   "source": [
    "from utz import *\n",
    "from IPython.display import HTML, SVG, display\n",
    "\n",
    "import fiona\n",
    "import geopandas as gpd\n",
    "from geopy import distance\n",
    "import shapefile\n",
    "from shapely.geometry import Point\n",
    "\n",
    "import plotly.express as px\n",
    "import plotly.graph_objects as go\n",
    "\n",
    "import sys\n",
    "sys.executable"
   ]
  },
  {
   "cell_type": "markdown",
   "id": "e9fb5a08",
   "metadata": {},
   "source": [
    "## Mapbox configs"
   ]
  },
  {
   "cell_type": "code",
   "execution_count": null,
   "id": "98ffad49",
   "metadata": {},
   "outputs": [],
   "source": [
    "token = open(\".mapbox-token\").read()\n",
    "mapbox = dict(mapbox=dict(\n",
    "    style=\"dark\",\n",
    "    accesstoken=token,\n",
    "))"
   ]
  },
  {
   "cell_type": "code",
   "execution_count": null,
   "id": "81d63c6b",
   "metadata": {},
   "outputs": [],
   "source": [
    "from nj_crashes.crashes import c20\n",
    "from nj_crashes.sri import get_sri_mp_lls, SRI_DB_PATH\n",
    "from sqlite3 import connect"
   ]
  },
  {
   "cell_type": "code",
   "execution_count": null,
   "id": "035127e7",
   "metadata": {},
   "outputs": [],
   "source": [
    "county = 'HUDSON'\n",
    "cc20 = c20[c20['County Name'] == county]\n",
    "conn = connect(SRI_DB_PATH)\n",
    "# cc20sm = cc20[(cc20.SRI != '') & (~cc20.MP.isna())]\n",
    "cc_lls = get_sri_mp_lls(cc20, conn=conn)\n",
    "lls_hist = cc_lls[['LON','LAT','Severity']].value_counts().rename('lls_count')\n",
    "cc_lls = cc_lls.merge(lls_hist.reset_index(), on=['LON', 'LAT', 'Severity'], how='left')\n",
    "cc_lls['lls_count'] = cc_lls['lls_count'].fillna(0)\n",
    "cc_lls['radius'] = cc_lls.lls_count.apply(sqrt)\n",
    "cc_lls"
   ]
  },
  {
   "cell_type": "code",
   "execution_count": null,
   "id": "2bb024e3",
   "metadata": {
    "scrolled": true
   },
   "outputs": [],
   "source": [
    "cc_lls.isna().sum()"
   ]
  },
  {
   "cell_type": "code",
   "execution_count": null,
   "id": "9fa373e3",
   "metadata": {},
   "outputs": [],
   "source": [
    "clat = (cc_lls.LAT.min() + cc_lls.LAT.max()) / 2\n",
    "clon = (cc_lls.LON.min() + cc_lls.LON.max()) / 2\n",
    "clon, clat"
   ]
  },
  {
   "cell_type": "code",
   "execution_count": null,
   "id": "cc674049",
   "metadata": {},
   "outputs": [],
   "source": [
    "import datashader as ds\n",
    "cvs = ds.Canvas(plot_width=1000, plot_height=1000)\n",
    "agg = cvs.points(cc_lls, x='LON', y='LAT', )\n",
    "# agg is an xarray object, see http://xarray.pydata.org/en/stable/ for more details\n",
    "coords_lat, coords_lon = agg.coords['LAT'].values, agg.coords['LON'].values\n",
    "# Corners of the image, which need to be passed to mapbox\n",
    "coordinates = [[coords_lon[0], coords_lat[0]],\n",
    "               [coords_lon[-1], coords_lat[0]],\n",
    "               [coords_lon[-1], coords_lat[-1]],\n",
    "               [coords_lon[0], coords_lat[-1]]]\n",
    "\n",
    "from colorcet import fire\n",
    "import datashader.transfer_functions as tf\n",
    "img = tf.shade(agg, cmap=fire)[::-1].to_pil()\n",
    "img"
   ]
  },
  {
   "cell_type": "code",
   "execution_count": null,
   "id": "4ddebbd8",
   "metadata": {},
   "outputs": [],
   "source": [
    "CrashSeverity.ch2Name"
   ]
  },
  {
   "cell_type": "code",
   "execution_count": null,
   "id": "0d39201b",
   "metadata": {},
   "outputs": [],
   "source": [
    "from njdot.codes import CrashSeverity\n",
    "\n",
    "def crash_plot(cc_lls, county, types='pif', scale_radii=None, size='radius', W=1000, H=1000, traces=None, cluster=None, **kwargs):\n",
    "    path = f'{county}-{types}-crashes.png'\n",
    "    scale_radii = scale_radii or [1, 2, 4]\n",
    "    severity_dfs = []\n",
    "    for (ch, severity), scale_radius in zip(CrashSeverity.ch2Name.items(), scale_radii):\n",
    "        if ch not in types:\n",
    "            continue\n",
    "        severity_df = cc_lls[cc_lls.Severity == severity]\n",
    "        severity_df = severity_df.assign(radius=severity_df.radius * scale_radius)\n",
    "        severity_dfs.append(severity_df)\n",
    "        #print(severity_df.radius.value_counts().sort_index())\n",
    "    df = pd.concat(severity_dfs)\n",
    "    fig = px.scatter_mapbox(\n",
    "        df,\n",
    "        lon='LON', lat='LAT',\n",
    "        size=size,\n",
    "        #size_max=10,\n",
    "        color='Severity',\n",
    "        color_discrete_map={ 'Property Damage': 'khaki', 'Injury': 'orange', 'Fatal': 'red', },\n",
    "        hover_data=['Date', 'Crash Location', 'SRI', 'MP', 'lls_count',],\n",
    "        center=dict(lon=clon, lat=clat),\n",
    "        zoom=11.5,\n",
    "        height=H,\n",
    "        **kwargs\n",
    "    )\n",
    "    legend_bgcolor = '50'\n",
    "    token = open(\".mapbox-token\").read()\n",
    "    if traces:\n",
    "        for trace in traces:\n",
    "            fig.add_trace(trace)\n",
    "    fig.update_layout(\n",
    "        mapbox=dict(\n",
    "            style=\"dark\",\n",
    "            accesstoken=token,\n",
    "#             layers=[{\n",
    "#                 \"sourcetype\": \"image\",\n",
    "#                 \"source\": img,\n",
    "#                 \"coordinates\": coordinates\n",
    "#             }]\n",
    "        ),\n",
    "        margin={\"r\": 0, \"t\": 0, \"l\": 0, \"b\": 0},\n",
    "        title=dict(\n",
    "            text=f\"{county} County crashes (2020)\",\n",
    "            x=0.5, y=0.98,\n",
    "            xanchor='center', yanchor='top',\n",
    "            font=dict(size=32, color=\"white\")\n",
    "        ),\n",
    "        legend=dict(\n",
    "            title=dict(text=''),\n",
    "            x=0.98, y=0.98,\n",
    "            xanchor=\"right\", yanchor=\"top\",\n",
    "            font=dict(\n",
    "                size=14,\n",
    "                color=\"white\"\n",
    "            ),\n",
    "            bgcolor=f\"rgba({legend_bgcolor},{legend_bgcolor},{legend_bgcolor},0.8)\",\n",
    "            bordercolor=\"white\",\n",
    "            borderwidth=2,\n",
    "        ),\n",
    "    )\n",
    "    scatter_kwargs = dict(cluster=cluster, marker=dict(sizemin=2))\n",
    "    fig.update_traces(selector=dict(name='Property Damage'), legendrank=1001, **scatter_kwargs)\n",
    "    fig.update_traces(selector=dict(name='Injury'), legendrank=1002, **scatter_kwargs)\n",
    "    fig.update_traces(selector=dict(name='Fatal'), legendrank=1003, **scatter_kwargs)\n",
    "    #fig.update_traces(cluster=dict(enabled=True))\n",
    "    fig.write_image(path, width=W, height=H)\n",
    "    fig.show(config=dict(displayModeBar=False))"
   ]
  },
  {
   "cell_type": "code",
   "execution_count": null,
   "id": "4cad58fb",
   "metadata": {},
   "outputs": [],
   "source": [
    "crash_plot(cc_lls, 'Hudson', types='f', size_max=10,)"
   ]
  },
  {
   "cell_type": "code",
   "execution_count": null,
   "id": "c005182b",
   "metadata": {},
   "outputs": [],
   "source": [
    "crash_plot(cc_lls, 'Hudson', types='if', size_max=10, cluster=dict(size=[1,2,3,5,8,13,21,34,55], step=[1,2,4,8,16,32,64,128,256]))"
   ]
  },
  {
   "cell_type": "code",
   "execution_count": null,
   "id": "8bff08f5",
   "metadata": {
    "scrolled": false
   },
   "outputs": [],
   "source": [
    "crash_plot(cc_lls, 'Hudson', size_max=10)"
   ]
  },
  {
   "cell_type": "code",
   "execution_count": null,
   "id": "fe330046",
   "metadata": {},
   "outputs": [],
   "source": []
  },
  {
   "cell_type": "code",
   "execution_count": null,
   "id": "ebfece4e",
   "metadata": {
    "scrolled": false
   },
   "outputs": [],
   "source": [
    "density_traces = []\n",
    "for idx, (severity, color, zmax) in enumerate(zip(\n",
    "    CrashSeverity.ch2Name.values(),\n",
    "    ['yellow', 'orange', 'red'],\n",
    "    [20, 10, 1]\n",
    ")):\n",
    "    df_s = cc_lls[cc_lls.Severity == severity]\n",
    "    trace = go.Densitymapbox(\n",
    "        name=f'{severity} density',\n",
    "        lon=df_s.LON, lat=df_s.LAT,\n",
    "        zmin=0, zmax=zmax,\n",
    "        radius=20,\n",
    "        colorscale=[[0, 'black'], [1, color]],\n",
    "        hoverinfo='none',\n",
    "        showscale=False,\n",
    "        legendrank=990+idx,\n",
    "    )\n",
    "    density_traces.append(trace)\n",
    "crash_plot(cc_lls, 'Hudson', types='p', size_max=10, scale_radii=[2,4,6], traces=[density_traces[0]])"
   ]
  },
  {
   "cell_type": "code",
   "execution_count": null,
   "id": "f948eaff",
   "metadata": {},
   "outputs": [],
   "source": [
    "crash_plot(cc_lls, 'Hudson', types='if', size='radius', size_max=10)"
   ]
  },
  {
   "cell_type": "code",
   "execution_count": null,
   "id": "1684e362",
   "metadata": {},
   "outputs": [],
   "source": []
  },
  {
   "cell_type": "code",
   "execution_count": null,
   "id": "9591ad79",
   "metadata": {},
   "outputs": [],
   "source": [
    "fig = px.density_mapbox(\n",
    "    cc_lls.sort_values('Severity', ascending=False),\n",
    "    lon='LON', lat='LAT',\n",
    "    #size='radius',\n",
    "    #color='Severity',\n",
    "    #color_discrete_map={ 'Property Damage': 'yellow', 'Injury': 'orange', 'Fatal': 'red', },\n",
    "    hover_data=['Date', 'Crash Location', 'SRI', 'MP', 'lls_count',],\n",
    "    #center=dict(lon=-74.042037, lat=40.725527),\n",
    "    zoom=11,\n",
    "    height=1000,\n",
    ")\n",
    "legend_bgcolor = '50'\n",
    "token = open(\".mapbox-token\").read()\n",
    "fig.update_layout(\n",
    "    mapbox=dict(\n",
    "        style=\"dark\",\n",
    "        accesstoken=token,\n",
    "    ),\n",
    "    margin={\"r\": 0, \"t\": 0, \"l\": 0, \"b\": 0},\n",
    "    title=dict(\n",
    "        text=f\"{county} County crashes (2020)\",\n",
    "        x=0.5, y=0.98,\n",
    "        xanchor='center', yanchor='top',\n",
    "        font=dict(size=32, color=\"white\")\n",
    "    ),\n",
    "    legend=dict(\n",
    "        title=dict(text=''),\n",
    "        x=0.98, y=0.98,\n",
    "        xanchor=\"right\", yanchor=\"top\",\n",
    "        font=dict(\n",
    "            size=14,\n",
    "            color=\"white\"\n",
    "        ),\n",
    "        bgcolor=f\"rgba({legend_bgcolor},{legend_bgcolor},{legend_bgcolor},0.8)\",\n",
    "        bordercolor=\"white\",\n",
    "        borderwidth=2,\n",
    "    ),\n",
    ")\n",
    "fig.update_traces(selector=dict(name='Property Damage'), legendrank=1001)\n",
    "fig.update_traces(selector=dict(name='Injury'), legendrank=1002)\n",
    "fig.update_traces(selector=dict(name='Fatal'), legendrank=1003)\n",
    "#fig.write_image(path, width=width, height=height)\n",
    "fig.show()"
   ]
  },
  {
   "cell_type": "code",
   "execution_count": null,
   "id": "1a15cb08",
   "metadata": {},
   "outputs": [],
   "source": [
    "from nj_crashes.crashes import c20\n",
    "from nj_crashes.sri import get_mp_ll, SRI_DB_PATH, SRI_DB_URL, SRI_DB_TABLE"
   ]
  },
  {
   "cell_type": "code",
   "execution_count": null,
   "id": "18ae3056",
   "metadata": {},
   "outputs": [],
   "source": [
    "n = 100\n",
    "samples = list(reversed(sorted(np.random.exponential(0.5, n))))\n",
    "print(f'mean: {sum(samples) / len(samples)}')\n",
    "px.line(samples)"
   ]
  },
  {
   "cell_type": "code",
   "execution_count": null,
   "id": "ebccdd92",
   "metadata": {},
   "outputs": [],
   "source": [
    "hc20 = c20[c20['County Name'] == 'HUDSON']\n",
    "hc20"
   ]
  },
  {
   "cell_type": "code",
   "execution_count": null,
   "id": "917354de",
   "metadata": {},
   "outputs": [],
   "source": [
    "pd.crosstab(hc20.SRI != '', ~hc20.MP.isna())"
   ]
  },
  {
   "cell_type": "code",
   "execution_count": null,
   "id": "ae9faf38",
   "metadata": {},
   "outputs": [],
   "source": [
    "missing_sri_mp = hc20[(hc20.SRI == '') | hc20.MP.isna()]\n",
    "missing_sri_mp"
   ]
  },
  {
   "cell_type": "code",
   "execution_count": null,
   "id": "b994e8aa",
   "metadata": {},
   "outputs": [],
   "source": [
    "missing_sri_mp['Crash Location'].value_counts()"
   ]
  },
  {
   "cell_type": "code",
   "execution_count": null,
   "id": "45532b13",
   "metadata": {
    "scrolled": true
   },
   "outputs": [],
   "source": [
    "nas = missing_sri_mp.replace('', nan).isna()\n",
    "sxs((~nas).sum().rename('an'), nas.sum().rename('nan'))"
   ]
  },
  {
   "cell_type": "code",
   "execution_count": null,
   "id": "78dfcf75",
   "metadata": {},
   "outputs": [],
   "source": [
    "missing_sri_mp['Municipality Name'].value_counts()"
   ]
  },
  {
   "cell_type": "code",
   "execution_count": null,
   "id": "694275a6",
   "metadata": {},
   "outputs": [],
   "source": [
    "sxs(hc20.SRI.replace('', nan), hc20.MP).isna().sum()"
   ]
  },
  {
   "cell_type": "code",
   "execution_count": null,
   "id": "8c189738",
   "metadata": {},
   "outputs": [],
   "source": [
    "hc_sris = hc20.SRI.unique()\n",
    "len(hc_sris), hc_sris"
   ]
  },
  {
   "cell_type": "code",
   "execution_count": null,
   "id": "ebf9024c",
   "metadata": {
    "scrolled": true
   },
   "outputs": [],
   "source": [
    "gc = grove_crashes[['Date', 'Crash Location', 'Severity', 'SRI', 'MP']]\n",
    "gc"
   ]
  },
  {
   "cell_type": "code",
   "execution_count": null,
   "id": "67f6837f",
   "metadata": {},
   "outputs": [],
   "source": [
    "from sqlite3 import connect\n",
    "conn = connect(SRI_DB_PATH)"
   ]
  },
  {
   "cell_type": "code",
   "execution_count": null,
   "id": "1c198ac6",
   "metadata": {},
   "outputs": [],
   "source": [
    "hc20sm = hc20[(hc20.SRI != '') & (~hc20.MP.isna())]\n",
    "hc20sm"
   ]
  },
  {
   "cell_type": "code",
   "execution_count": null,
   "id": "48dc2d4e",
   "metadata": {},
   "outputs": [],
   "source": [
    "sri, mp = hc20sm.SRI.iloc[0], hc20sm.MP.iloc[0]\n",
    "sri, mp"
   ]
  },
  {
   "cell_type": "code",
   "execution_count": null,
   "id": "1e0e85f4",
   "metadata": {},
   "outputs": [],
   "source": [
    "get_mp_ll(sri=sri, mp=mp, conn=conn)"
   ]
  },
  {
   "cell_type": "code",
   "execution_count": null,
   "id": "b4e9636a",
   "metadata": {},
   "outputs": [],
   "source": [
    "%%time\n",
    "hc_lls = hc20sm.apply(lambda r: get_mp_ll(sri=r.SRI, mp=r.MP, conn=conn), axis=1)\n",
    "hc_lls"
   ]
  },
  {
   "cell_type": "code",
   "execution_count": null,
   "id": "58c7ced6",
   "metadata": {},
   "outputs": [],
   "source": [
    "grove_crashes.Severity.value_counts()"
   ]
  },
  {
   "cell_type": "code",
   "execution_count": null,
   "id": "7366bdcf",
   "metadata": {},
   "outputs": [],
   "source": [
    "gcll = sxs(gc, gc.apply(lambda r: get_mp_ll(r.SRI, r.MP), axis=1).rename('ll'))\n",
    "gcll['LON'] = gcll.ll.apply(lambda p: p[0])\n",
    "gcll['LAT'] = gcll.ll.apply(lambda p: p[1])\n",
    "gcll = gcll.drop(columns='ll')\n",
    "gcll"
   ]
  },
  {
   "cell_type": "code",
   "execution_count": null,
   "id": "b844a279",
   "metadata": {},
   "outputs": [],
   "source": [
    "fig = px.scatter_mapbox(\n",
    "    gcll,\n",
    "    lon='LON', lat='LAT',\n",
    "    color='Severity',\n",
    "    color_discrete_sequence=['yellow', 'orange', 'red'],\n",
    "    hover_data=['Date', 'Crash Location', 'SRI', 'MP'],\n",
    "    center=dict(lon=-74.042037, lat=40.725527),\n",
    "    zoom=13.5,\n",
    "    height=600,\n",
    ")\n",
    "legend_bgcolor = '50'\n",
    "fig.update_layout(\n",
    "    **mapbox,\n",
    "    margin={\"r\":0,\"t\":0,\"l\":0,\"b\":0},\n",
    "    title=dict(\n",
    "        text=\"Grove St crashes (2020)\",\n",
    "        x=0.5, y=0.98,\n",
    "        xanchor='center', yanchor='top',\n",
    "        font=dict(size=32, color=\"white\")\n",
    "    ),\n",
    "    legend=dict(\n",
    "        title=dict(text=''),\n",
    "        x=0.98, y=0.98,\n",
    "        xanchor=\"right\", yanchor=\"top\",\n",
    "        font=dict(\n",
    "            size=14,\n",
    "            color=\"white\"\n",
    "        ),\n",
    "        bgcolor=f\"rgba({legend_bgcolor},{legend_bgcolor},{legend_bgcolor},0.8)\",\n",
    "        bordercolor=\"white\",\n",
    "        borderwidth=2,\n",
    "    ),\n",
    ")\n",
    "fig.show(config=dict(displayModeBar=False))"
   ]
  }
 ],
 "metadata": {
  "kernelspec": {
   "display_name": "conda-geopandas",
   "language": "python",
   "name": "conda-geopandas"
  },
  "language_info": {
   "codemirror_mode": {
    "name": "ipython",
    "version": 3
   },
   "file_extension": ".py",
   "mimetype": "text/x-python",
   "name": "python",
   "nbconvert_exporter": "python",
   "pygments_lexer": "ipython3",
   "version": "3.10.10"
  }
 },
 "nbformat": 4,
 "nbformat_minor": 5
}
