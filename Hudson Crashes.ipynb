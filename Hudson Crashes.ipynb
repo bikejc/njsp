{
 "cells": [
  {
   "cell_type": "markdown",
   "id": "51c98d8f",
   "metadata": {},
   "source": [
    "# Plot crashes in Hudson County, 2017-2021 "
   ]
  },
  {
   "cell_type": "code",
   "execution_count": null,
   "id": "6c1ff961",
   "metadata": {},
   "outputs": [],
   "source": [
    "from utz import *\n",
    "from nj_crashes.crashes import Crashes\n",
    "import plotly.express as px\n",
    "import plotly.graph_objects as go"
   ]
  },
  {
   "cell_type": "markdown",
   "id": "e9fb5a08",
   "metadata": {},
   "source": [
    "## Mapbox configs"
   ]
  },
  {
   "cell_type": "code",
   "execution_count": null,
   "id": "98ffad49",
   "metadata": {},
   "outputs": [],
   "source": [
    "token = open(\".mapbox-token\").read()\n",
    "mapbox = dict(mapbox=dict(\n",
    "    style=\"dark\",\n",
    "    accesstoken=token,\n",
    "))"
   ]
  },
  {
   "cell_type": "code",
   "execution_count": null,
   "id": "363c78bd",
   "metadata": {},
   "outputs": [],
   "source": [
    "first_year = 2017\n",
    "last_year = 2021"
   ]
  },
  {
   "cell_type": "code",
   "execution_count": null,
   "id": "5103e0e7",
   "metadata": {},
   "outputs": [],
   "source": [
    "import duckdb\n",
    "dql = duckdb.sql"
   ]
  },
  {
   "cell_type": "code",
   "execution_count": null,
   "id": "6c6f76ea",
   "metadata": {},
   "outputs": [],
   "source": [
    "from njdot import NJDOT_DIR\n",
    "from nj_crashes.paths import PUBLIC_DIR"
   ]
  },
  {
   "cell_type": "code",
   "execution_count": null,
   "id": "289b79fe",
   "metadata": {},
   "outputs": [],
   "source": [
    "%%time\n",
    "dql(f\"IMPORT DATABASE '{NJDOT_DIR}/crashes.ddb'\")"
   ]
  },
  {
   "cell_type": "code",
   "execution_count": null,
   "id": "73cf9e0c",
   "metadata": {},
   "outputs": [],
   "source": [
    "%%time\n",
    "hpif = dql(\"\"\"\n",
    "SELECT id, dt, sri, mp, ilat, ilon, severity\n",
    "FROM crashes\n",
    "WHERE icn='Hudson'\n",
    "AND date_part('year', dt) >= 2017\n",
    "\"\"\").df().set_index('id')\n",
    "\n",
    "hpif.to_parquet(f'{PUBLIC_DIR}/njdot/hudson-2017:-pif.parquet')\n",
    "hpif"
   ]
  },
  {
   "cell_type": "code",
   "execution_count": null,
   "id": "595db5ca",
   "metadata": {},
   "outputs": [],
   "source": [
    "%%time\n",
    "hif = dql(\"\"\"\n",
    "SELECT id, dt, sri, mp, ilat, ilon, severity\n",
    "FROM crashes\n",
    "WHERE icn='Hudson'\n",
    "AND date_part('year', dt) >= 2017\n",
    "AND severity != 'p'\n",
    "\"\"\").df().set_index('id')\n",
    "\n",
    "hif.to_parquet(f'{PUBLIC_DIR}/njdot/hudson-2017:-if.parquet')\n",
    "hif"
   ]
  },
  {
   "cell_type": "code",
   "execution_count": null,
   "id": "1ba4a8ae",
   "metadata": {},
   "outputs": [],
   "source": [
    "%%time\n",
    "hoif = dql(\"\"\"\n",
    "SELECT *\n",
    "FROM crashes\n",
    "WHERE (icn='Hudson' OR ocn='Hudson')\n",
    "AND date_part('year', dt) >= 2017\n",
    "AND severity != 'p'\n",
    "\"\"\").df().set_index('id')\n",
    "\n",
    "hoif['oilat'] = hoif.olat.fillna(hoif.ilat)\n",
    "hoif['oilon'] = hoif.olon.fillna(hoif.ilon)\n",
    "hoif['oicn'] = hoif.ocn.fillna(hoif.icn)\n",
    "hoif = hoif[hoif.oicn == 'Hudson']\n",
    "hoif"
   ]
  },
  {
   "cell_type": "code",
   "execution_count": null,
   "id": "5e47db48",
   "metadata": {},
   "outputs": [],
   "source": [
    "hoif.oicn.value_counts()"
   ]
  },
  {
   "cell_type": "code",
   "execution_count": null,
   "id": "de78ff1c",
   "metadata": {},
   "outputs": [],
   "source": [
    "diff = hoif[(~hoif.olat.isna()) & (~hoif.ilat.isna()) & ((hoif.olat != hoif.ilat) | (hoif.ilon != hoif.olon))]\n",
    "diff"
   ]
  },
  {
   "cell_type": "markdown",
   "id": "d47583e4",
   "metadata": {},
   "source": [
    "## Export crashes"
   ]
  },
  {
   "cell_type": "markdown",
   "id": "eef5e2db",
   "metadata": {},
   "source": [
    "### Reduce + export JSON"
   ]
  },
  {
   "cell_type": "code",
   "execution_count": null,
   "id": "8210db4a",
   "metadata": {},
   "outputs": [],
   "source": [
    "from nj_crashes.json import reduce_df\n",
    "from nj_crashes.paths import PLOTS_DIR"
   ]
  },
  {
   "cell_type": "code",
   "execution_count": null,
   "id": "71bed7ae",
   "metadata": {},
   "outputs": [],
   "source": [
    "outdir = f'{PLOTS_DIR}/njdot'\n",
    "\n",
    "def reduce_and_save(df, name=None, renames=None, cols=None):\n",
    "    path = f'{outdir}/{name}' if name else None\n",
    "    if renames:\n",
    "        df = df.rename(columns=renames)\n",
    "    return reduce_df(df, cols=cols, path=path)"
   ]
  },
  {
   "cell_type": "code",
   "execution_count": null,
   "id": "bbf8b9e7",
   "metadata": {
    "scrolled": false
   },
   "outputs": [],
   "source": [
    "renames = {\n",
    "    'Total Killed': 'tk',\n",
    "    'Total Injured': 'ti',\n",
    "    'Pedestrians Killed': 'pk',\n",
    "    'Pedestrians Injured': 'pi',\n",
    "    'Total Vehicles Involved': 'tv',\n",
    "    'oilat': 'lat',\n",
    "    'oilon': 'lon',\n",
    "    'cn': '_cn',\n",
    "    'oicn': 'cn',\n",
    "}\n",
    "cols = {\n",
    "    'dt': dict(dt_unit='m'),\n",
    "    'mn': True,\n",
    "    'tk': False,\n",
    "    'ti': False,\n",
    "    'pk': False,\n",
    "    'pi': False,\n",
    "    'severity': True,\n",
    "    'tv': False,\n",
    "    'sri': True,\n",
    "    'mp': False,\n",
    "    'lon': True,\n",
    "    'lat': True,\n",
    "}\n",
    "fi, obj = reduce_and_save(\n",
    "    hoif,\n",
    "    name=f'hudson-5yr-lls-if.json',\n",
    "    renames=renames,\n",
    "    cols=cols,\n",
    ")"
   ]
  },
  {
   "cell_type": "code",
   "execution_count": null,
   "id": "defed114",
   "metadata": {},
   "outputs": [],
   "source": [
    "obj['rows'][:10]"
   ]
  },
  {
   "cell_type": "markdown",
   "id": "454450cc",
   "metadata": {},
   "source": [
    "Cols:"
   ]
  },
  {
   "cell_type": "code",
   "execution_count": null,
   "id": "e681a63f",
   "metadata": {},
   "outputs": [],
   "source": [
    "obj['cols']"
   ]
  },
  {
   "cell_type": "markdown",
   "id": "42e589d6",
   "metadata": {},
   "source": [
    "Dictionaries:"
   ]
  },
  {
   "cell_type": "code",
   "execution_count": null,
   "id": "02df5a6d",
   "metadata": {},
   "outputs": [],
   "source": [
    "obj['dicts']"
   ]
  },
  {
   "cell_type": "code",
   "execution_count": null,
   "id": "9134bba7",
   "metadata": {},
   "outputs": [],
   "source": [
    "%%time\n",
    "hopif = dql(\"\"\"\n",
    "SELECT *\n",
    "FROM crashes\n",
    "WHERE icn='Hudson'\n",
    "AND date_part('year', dt) >= 2017\n",
    "\"\"\").df().set_index('id')\n",
    "\n",
    "hopif['oilat'] = hopif.olat.fillna(hopif.ilat)\n",
    "hopif['oilon'] = hopif.olon.fillna(hopif.ilon)\n",
    "hopif['oicn'] = hopif.ocn.fillna(hopif.icn)\n",
    "hopif = hopif[hopif.oicn == 'Hudson']\n",
    "hopif"
   ]
  },
  {
   "cell_type": "code",
   "execution_count": null,
   "id": "ddafd458",
   "metadata": {},
   "outputs": [],
   "source": [
    "pif, pif_obj = reduce_and_save(\n",
    "    hopif,\n",
    "    name=f'hudson-5yr-lls-pif.json',\n",
    "    renames=renames,\n",
    "    cols=cols,\n",
    ")\n",
    "pif"
   ]
  },
  {
   "cell_type": "markdown",
   "id": "0d87b5c8",
   "metadata": {},
   "source": [
    "Reduced rows:"
   ]
  },
  {
   "cell_type": "code",
   "execution_count": null,
   "id": "bdc929b8",
   "metadata": {},
   "outputs": [],
   "source": [
    "rd, do = reduce_and_save(\n",
    "    diff,\n",
    "    name=f'hudson-5yr-lls-if-diffs.json',\n",
    "    cols={ \n",
    "        **{ k: v for k, v in cols.items() if k not in [ 'lat', 'lon' ] },\n",
    "        'oilat': True, 'oilon': True,\n",
    "        'ilat': True, 'ilon': True,\n",
    "    },\n",
    "    renames={ k: v for k, v in renames.items() if k not in [ 'oilat', 'oilon' ] },\n",
    ")\n",
    "rd"
   ]
  },
  {
   "cell_type": "markdown",
   "id": "45c237d5",
   "metadata": {},
   "source": [
    "## Plot crashes"
   ]
  },
  {
   "cell_type": "code",
   "execution_count": null,
   "id": "2f8dd154",
   "metadata": {
    "scrolled": true
   },
   "outputs": [],
   "source": [
    "hp = hopif.rename(columns={ 'oilat': 'lat', 'oilon': 'lon', })\n",
    "hp"
   ]
  },
  {
   "cell_type": "markdown",
   "id": "be31a2c6",
   "metadata": {},
   "source": [
    "Check for crashes labeled as happening outside Hudson County:"
   ]
  },
  {
   "cell_type": "code",
   "execution_count": null,
   "id": "c62fa8f0",
   "metadata": {},
   "outputs": [],
   "source": [
    "hp.cn.value_counts()"
   ]
  },
  {
   "cell_type": "code",
   "execution_count": null,
   "id": "7639ad74",
   "metadata": {},
   "outputs": [],
   "source": [
    "hp.mn.value_counts()"
   ]
  },
  {
   "cell_type": "markdown",
   "id": "c58a1d53",
   "metadata": {},
   "source": [
    "### Compute bounding box, center"
   ]
  },
  {
   "cell_type": "code",
   "execution_count": null,
   "id": "13912d11",
   "metadata": {},
   "outputs": [],
   "source": [
    "from nj_crashes.geo import get_county_geometries"
   ]
  },
  {
   "cell_type": "code",
   "execution_count": null,
   "id": "6a2ee460",
   "metadata": {
    "scrolled": true
   },
   "outputs": [],
   "source": [
    "cgs = get_county_geometries()\n",
    "cgs"
   ]
  },
  {
   "cell_type": "code",
   "execution_count": null,
   "id": "887d66a7",
   "metadata": {},
   "outputs": [],
   "source": [
    "bounds = cgs.loc[['Hudson']].bounds\n",
    "bounds"
   ]
  },
  {
   "cell_type": "code",
   "execution_count": null,
   "id": "34bfc5c8",
   "metadata": {},
   "outputs": [],
   "source": [
    "bb = bounds.values[0]\n",
    "min_lon, min_lat, max_lon, max_lat = bb\n",
    "bb = box(*bb)\n",
    "centroid = bb.centroid\n",
    "mid_lon, mid_lat = centroid.x, centroid.y\n",
    "\n",
    "min_lon, min_lat, max_lon, max_lat"
   ]
  },
  {
   "cell_type": "markdown",
   "id": "abc39246",
   "metadata": {},
   "source": [
    "### Compute lat/lng cluster sizes"
   ]
  },
  {
   "cell_type": "code",
   "execution_count": null,
   "id": "c2cd7038",
   "metadata": {},
   "outputs": [],
   "source": [
    "from nj_crashes.crashes import LLCrashes"
   ]
  },
  {
   "cell_type": "code",
   "execution_count": null,
   "id": "a7c3ea4b",
   "metadata": {},
   "outputs": [],
   "source": [
    "ll_hist = LLCrashes(hp).ll_hist\n",
    "ll_hist"
   ]
  },
  {
   "cell_type": "code",
   "execution_count": null,
   "id": "c90f96b1",
   "metadata": {
    "scrolled": true
   },
   "outputs": [],
   "source": [
    "ll_hist[['severity', 'lls_count']].value_counts(sort=False)"
   ]
  },
  {
   "cell_type": "markdown",
   "id": "5d88a33d",
   "metadata": {},
   "source": [
    "### Plot helpers"
   ]
  },
  {
   "cell_type": "code",
   "execution_count": null,
   "id": "38c8c8fe",
   "metadata": {},
   "outputs": [],
   "source": [
    "from IPython.display import display, Image"
   ]
  },
  {
   "cell_type": "code",
   "execution_count": null,
   "id": "513fe75f",
   "metadata": {},
   "outputs": [],
   "source": [
    "severities = list(CrashSeverity.ch2Name.keys())\n",
    "severities"
   ]
  },
  {
   "cell_type": "code",
   "execution_count": null,
   "id": "503ce252",
   "metadata": {},
   "outputs": [],
   "source": [
    "year_str = f\"{first_year}\" if first_year == last_year else f\"{first_year}-{last_year}\"\n",
    "year_str"
   ]
  },
  {
   "cell_type": "markdown",
   "id": "47631de8",
   "metadata": {},
   "source": [
    "Plot crashes, with \"density\" / shadow, and optional exported/inline display formats"
   ]
  },
  {
   "cell_type": "code",
   "execution_count": null,
   "id": "0d39201b",
   "metadata": {},
   "outputs": [],
   "source": [
    "def crash_plot(\n",
    "    lls,\n",
    "    county,\n",
    "    types='pif',\n",
    "    center=None, zoom=11.4,\n",
    "    lg='tr', lm=0.02,\n",
    "    colors=None, scale_radii=None, size='radius',\n",
    "    marker=None,\n",
    "    legend=None,\n",
    "    W=1000, H=1000,\n",
    "    layers=None,\n",
    "    cluster=None,\n",
    "    density=None,\n",
    "    density_radius=20,\n",
    "    zmaxs=None,\n",
    "    write=True,\n",
    "    map='carto-darkmatter',  # 'dark' will load .mapbox-token\n",
    "    show=False,\n",
    "    print_stats=False,\n",
    "    **kwargs\n",
    "):\n",
    "    name = f'{outdir}/{county.lower()}-{types}-crashes'\n",
    "    scale_radii = scale_radii or [1, 2, 4]\n",
    "    colors = colors or ['yellow', 'orange', 'red']\n",
    "    zmaxs = zmaxs or [20, 10, 1]\n",
    "    center = center or dict(lon=mid_lon, lat=mid_lat)\n",
    "    if isinstance(center, list):\n",
    "        center = dict(lon=center[0], lat=center[1])\n",
    "    severity_dfs = []\n",
    "    density_traces = []\n",
    "    for idx, (severity, color, scale_radius, zmax) in enumerate(zip(CrashSeverity.ch2Name.keys(), colors, scale_radii, zmaxs)):\n",
    "        if severity not in types:\n",
    "            continue\n",
    "        severity_df = lls[lls.severity == severity]\n",
    "        severity_df = severity_df.assign(radius=severity_df.radius * scale_radius)\n",
    "        severity_dfs.append(severity_df)\n",
    "\n",
    "        if density:\n",
    "            density_trace = go.Densitymapbox(\n",
    "                name=f'{severity} density',\n",
    "                lon=severity_df.lon, lat=severity_df.lat,\n",
    "                zmin=0, zmax=zmax,\n",
    "                radius=density_radius,\n",
    "                colorscale=[[0, 'black'], [1, color]],\n",
    "                hoverinfo='none',\n",
    "                showscale=False,\n",
    "                legendrank=990+idx,\n",
    "            )\n",
    "            density_traces.append(density_trace)\n",
    "    df = pd.concat(severity_dfs)\n",
    "    if print_stats:\n",
    "        num_crashes_by_type = df.severity.value_counts()\n",
    "        num_crashes = num_crashes_by_type.sum()\n",
    "        print(f\"{num_crashes} crashes:\")\n",
    "        print(str(num_crashes_by_type))\n",
    "    fig = px.scatter_mapbox(\n",
    "        df,\n",
    "        lon='lon', lat='lat',\n",
    "        size=size,\n",
    "        #size_max=10,\n",
    "        color='severity',\n",
    "        color_discrete_map=dict(zip(severities, colors)),\n",
    "        hover_data=['dt', 'Crash Location', 'sri', 'mp', 'lls_count',],\n",
    "        center=center,\n",
    "        zoom=zoom,\n",
    "        height=H,\n",
    "        **kwargs\n",
    "    )\n",
    "    legend_bgcolor = '50'\n",
    "    mapbox_kwargs = dict(style=map)\n",
    "    if map == 'dark':\n",
    "        token = open(\".mapbox-token\").read()\n",
    "        mapbox_kwargs['accesstoken'] = token\n",
    "    if density_traces:\n",
    "        for trace in density_traces:\n",
    "            fig.add_trace(trace)\n",
    "        fig.data = fig.data[-len(density_traces):] + fig.data[:len(density_traces)]\n",
    "    if lg == 'tr':\n",
    "        legend_pos = dict(yanchor=\"top\", xanchor=\"right\", x=1-lm, y=1-lm)\n",
    "    elif lg == 'br':\n",
    "        legend_pos = dict(yanchor=\"bottom\", xanchor=\"right\", x=1-lm, y=lm)\n",
    "    else:\n",
    "        raise ValueError(f'Unrecognized legend position: {lg}')\n",
    "    legend_obj = dict(\n",
    "        title=dict(text=''),\n",
    "        **legend_pos,\n",
    "        font=dict(\n",
    "            size=14,\n",
    "            color=\"white\"\n",
    "        ),\n",
    "        bgcolor=f\"rgba({legend_bgcolor},{legend_bgcolor},{legend_bgcolor},0.8)\",\n",
    "        bordercolor=\"white\",\n",
    "        borderwidth=2,\n",
    "    )\n",
    "    if legend:\n",
    "        legend_obj.update(legend)\n",
    "    legend = legend_obj\n",
    "    label = ' KSI' if types == 'if' else ' fatal' if types == 'f' else ''\n",
    "    fig.update_layout(\n",
    "        mapbox=dict(\n",
    "            # dict(style=<style>) or dict(style=\"dark\", accesstoken=token)\n",
    "            **mapbox_kwargs,\n",
    "            layers=layers,\n",
    "            #layers=[ { \"sourcetype\": \"image\", \"source\": img, \"coordinates\": coordinates }, ]\n",
    "        ),\n",
    "        margin={\"r\": 0, \"t\": 0, \"l\": 0, \"b\": 0},\n",
    "        title=dict(\n",
    "            text=f\"{county} County{label} crashes ({year_str})\",\n",
    "            x=0.5, y=0.98,\n",
    "            xanchor='center', yanchor='top',\n",
    "            font=dict(size=32, color=\"white\")\n",
    "        ),\n",
    "        legend=legend,\n",
    "    )\n",
    "    scatter_kwargs = dict(\n",
    "        cluster=cluster,\n",
    "        #marker=marker if marker else None,\n",
    "    )\n",
    "    for idx, (severity, color) in enumerate(zip(severities, colors)):\n",
    "        fig.update_traces(selector=dict(name=severity), legendrank=1001 + idx, marker=dict(color=color), **scatter_kwargs)\n",
    "    if cluster:\n",
    "        fig.update_traces(cluster=dict(enabled=True))\n",
    "    if write is True or write == 'png':\n",
    "        path = f'{name}.png'\n",
    "        fig.write_image(path, width=W, height=H)\n",
    "        err(f\"Wrote {path}\")\n",
    "    if write is True or write == 'json':\n",
    "        path = f'{name}.json'\n",
    "        fig.write_json(path)\n",
    "        err(f\"Wrote {path}\")\n",
    "    if show == 'img':\n",
    "        return Image(fig.to_image(width=W, height=H))\n",
    "    elif show:\n",
    "        fig.show(config=dict(displayModeBar=False))\n",
    "    return fig"
   ]
  },
  {
   "cell_type": "code",
   "execution_count": null,
   "id": "122f3ef0",
   "metadata": {
    "scrolled": false
   },
   "outputs": [],
   "source": [
    "args = (ll_hist.df, 'Hudson',)\n",
    "show = 'img'\n",
    "# show = \n",
    "def plot_mix(types='pif', **kwargs):\n",
    "    kw = dict(\n",
    "        size_max=15,\n",
    "        scale_radii=[2, 3, 6],\n",
    "        types=types,\n",
    "        density=True,\n",
    "        zoom=11.5,\n",
    "        lg='br',\n",
    "        H=1100,\n",
    "        show=show,\n",
    "    )\n",
    "    kw.update(**kwargs)\n",
    "    crash_plot(*args, **kwargs, map='dark', write='png', print_stats=True, **kw)\n",
    "    return crash_plot(*args, **kwargs, write='json', **kw)"
   ]
  },
  {
   "cell_type": "markdown",
   "id": "94cba8c2",
   "metadata": {},
   "source": [
    "### Plot crashes by type"
   ]
  },
  {
   "cell_type": "code",
   "execution_count": null,
   "id": "41c52d43",
   "metadata": {
    "scrolled": false
   },
   "outputs": [],
   "source": [
    "plot_mix('pif')"
   ]
  },
  {
   "cell_type": "code",
   "execution_count": null,
   "id": "f2d804be",
   "metadata": {
    "scrolled": false
   },
   "outputs": [],
   "source": [
    "plot_mix('if')"
   ]
  },
  {
   "cell_type": "code",
   "execution_count": null,
   "id": "6305b230",
   "metadata": {
    "scrolled": false
   },
   "outputs": [],
   "source": [
    "plot_mix('f')"
   ]
  },
  {
   "cell_type": "markdown",
   "id": "af774e9f",
   "metadata": {},
   "source": [
    "Simple injury+fatal plot, without \"density\":"
   ]
  },
  {
   "cell_type": "code",
   "execution_count": null,
   "id": "f948eaff",
   "metadata": {},
   "outputs": [],
   "source": [
    "crash_plot(ll_hist, 'Hudson', types='if', size='radius', size_max=10, show='img')"
   ]
  }
 ],
 "metadata": {
  "kernelspec": {
   "display_name": "Python 3 (ipykernel)",
   "language": "python",
   "name": "python3"
  },
  "language_info": {
   "codemirror_mode": {
    "name": "ipython",
    "version": 3
   },
   "file_extension": ".py",
   "mimetype": "text/x-python",
   "name": "python",
   "nbconvert_exporter": "python",
   "pygments_lexer": "ipython3",
   "version": "3.9.13"
  }
 },
 "nbformat": 4,
 "nbformat_minor": 5
}
