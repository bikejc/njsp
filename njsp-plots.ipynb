{
 "cells": [
  {
   "cell_type": "code",
   "execution_count": null,
   "id": "72e99ff2",
   "metadata": {},
   "outputs": [],
   "source": [
    "from utz import *\n",
    "from utz import plots\n",
    "import plotly.graph_objects as go\n",
    "import plotly.express as px\n",
    "from nj_crashes.paths import PLOTS_DIR, RUNDATE_PATH, DB_URI\n",
    "from nj_crashes.utils import normalized_ytd_days\n",
    "save = partial(plots.save, bg='white')"
   ]
  },
  {
   "cell_type": "code",
   "execution_count": null,
   "id": "b8fa008e",
   "metadata": {},
   "outputs": [],
   "source": [
    "totals = read_sql_table(\"totals\", DB_URI).set_index('year')\n",
    "crashes = read_sql_table(\"crashes\", DB_URI)\n",
    "\n",
    "totals"
   ]
  },
  {
   "cell_type": "code",
   "execution_count": null,
   "id": "3741170e",
   "metadata": {
    "scrolled": true
   },
   "outputs": [],
   "source": [
    "crashes"
   ]
  },
  {
   "cell_type": "code",
   "execution_count": null,
   "id": "05b1dd37",
   "metadata": {},
   "outputs": [],
   "source": [
    "with open(RUNDATE_PATH, 'r') as f:\n",
    "    rundate = to_dt(json.load(f)['rundate'])\n",
    "\n",
    "rundate_ytd_days = normalized_ytd_days(rundate)\n",
    "rundate_str = rundate.strftime('%Y-%m-%d')\n",
    "cur_month = rundate.strftime('%Y-%m')\n",
    "cur_month_dt = to_dt(cur_month).tz_localize(rundate.tz)\n",
    "cur_year = cur_month_dt.year\n",
    "cur_year_dt = to_dt(f'{cur_year}').tz_localize(rundate.tz)\n",
    "nxt_year_dt = to_dt(f'{cur_year + 1}').tz_localize(rundate.tz)\n",
    "print(rundate)\n",
    "print(cur_month_dt)\n",
    "print(cur_year_dt)\n",
    "print(nxt_year_dt)"
   ]
  },
  {
   "cell_type": "markdown",
   "id": "8962bea0",
   "metadata": {},
   "source": [
    "## YTD Calculations"
   ]
  },
  {
   "cell_type": "code",
   "execution_count": null,
   "id": "72bea8e3",
   "metadata": {},
   "outputs": [],
   "source": [
    "all_days = pd.DataFrame([\n",
    "    dict(Days=days, Text=(to_dt(f'{2022}') + pd.Timedelta(days=days-1)).strftime('%b %-d'))\n",
    "    for days in range(1, 366)\n",
    "]).set_index('Days')\n",
    "all_days"
   ]
  },
  {
   "cell_type": "code",
   "execution_count": null,
   "id": "8df6f2c9",
   "metadata": {},
   "outputs": [],
   "source": [
    "def fill_all_days(df):\n",
    "    df = df.set_index('Days').merge(\n",
    "        all_days,\n",
    "        left_index=True,\n",
    "        right_index=True,\n",
    "        how='right',\n",
    "    )\n",
    "    years = df.Year.dropna().unique()\n",
    "    if len(years) > 1:\n",
    "        raise ValueError(f\"Years: {years}\")\n",
    "    [year] = years\n",
    "    if year == rundate.year:\n",
    "        df = df[df.index < rundate_ytd_days]\n",
    "    df = df.drop(columns='Year')\n",
    "    df['YTD Deaths'] = df['YTD Deaths'].fillna(method='ffill').fillna(0).astype(int)\n",
    "    return df    "
   ]
  },
  {
   "cell_type": "code",
   "execution_count": null,
   "id": "f3542855",
   "metadata": {},
   "outputs": [],
   "source": [
    "ytds = crashes[['dt', 'FATALITIES']].copy()\n",
    "ytds['Year'] = ytds.dt.dt.year\n",
    "ytds['Days'] = ytds.dt.apply(normalized_ytd_days)\n",
    "ytds = (\n",
    "    ytds\n",
    "    .groupby('Year', group_keys=False)\n",
    "    .apply(lambda df: (\n",
    "        df.assign(**{\n",
    "            'YTD Deaths': df.FATALITIES.cumsum().astype(int)\n",
    "        })\n",
    "    ))\n",
    ")\n",
    "ytds = (\n",
    "    ytds[['Year', 'Days', 'YTD Deaths']]\n",
    "    .groupby(['Year', 'Days'])\n",
    "    .max()\n",
    "    .reset_index()\n",
    ")\n",
    "\n",
    "ytds = ytds.groupby('Year').apply(fill_all_days).reset_index()\n",
    "ytds"
   ]
  },
  {
   "cell_type": "code",
   "execution_count": null,
   "id": "dcaf8d52",
   "metadata": {},
   "outputs": [],
   "source": [
    "cur_ytds = ytds[ytds.Year == rundate.year]\n",
    "cur_ytd_deaths = 0 if cur_ytds.empty else cur_ytds.iloc[-1]['YTD Deaths']\n",
    "\n",
    "prv_ytd = ytds[ytds.Year == rundate.year - 1]\n",
    "prv_end_deaths = prv_ytd.iloc[-1]['YTD Deaths']\n",
    "prv_ytd_deaths = prv_ytd[prv_ytd.Days == rundate_ytd_days].iloc[-1]['YTD Deaths']\n",
    "prv_roy_ratio = prv_end_deaths / prv_ytd_deaths\n",
    "\n",
    "projected_records_total = int(cur_ytd_deaths * prv_roy_ratio)\n",
    "prv_ytd_ratio = cur_ytd_deaths / prv_ytd_deaths\n",
    "pct_change = (prv_ytd_ratio - 1) * 100\n",
    "\n",
    "print(f'Current YTD Deaths ({rundate_str}): {cur_ytd_deaths}')\n",
    "print(f'Previous year YTD Deaths ({rundate_str}): {prv_ytd_deaths}')\n",
    "print(f'Projected {rundate.year} total: {projected_records_total}')\n",
    "print(f'{pct_change:.1f}% change')\n",
    "\n",
    "projected_records_total, cur_ytd_deaths, prv_ytd_deaths, prv_roy_ratio"
   ]
  },
  {
   "cell_type": "code",
   "execution_count": null,
   "id": "11c15187",
   "metadata": {},
   "outputs": [],
   "source": [
    "rundate_year_frac = (rundate - cur_year_dt) / (nxt_year_dt - cur_year_dt)\n",
    "year_frac = (cur_month_dt - cur_year_dt) / (nxt_year_dt - cur_year_dt)\n",
    "rundate_year_frac, year_frac"
   ]
  },
  {
   "cell_type": "markdown",
   "id": "7887727a",
   "metadata": {},
   "source": [
    "### Color utilities"
   ]
  },
  {
   "cell_type": "code",
   "execution_count": null,
   "id": "1aa31668",
   "metadata": {},
   "outputs": [],
   "source": [
    "from utz.colors import RGB, color_interp, colors_lengthen, swatches\n",
    "from nj_crashes.colors import get_colors, gridcolor, px_colors\n",
    "\n",
    "years = totals.index.unique()\n",
    "colors = get_colors(len(years))\n",
    "black, red, year_colors = colors.black, colors.red, colors.year_colors\n",
    "colors"
   ]
  },
  {
   "cell_type": "code",
   "execution_count": null,
   "id": "45014818",
   "metadata": {},
   "outputs": [],
   "source": [
    "month_starts = [\n",
    "    to_dt(f'{cur_year}-{m}').strftime('%b 1')\n",
    "    for m in range(1, 13)\n",
    "]\n",
    "month_starts"
   ]
  },
  {
   "cell_type": "code",
   "execution_count": null,
   "id": "f29ec379",
   "metadata": {},
   "outputs": [],
   "source": [
    "save(\n",
    "    px.line(\n",
    "        ytds,\n",
    "        x='Text', y='YTD Deaths', color='Year',\n",
    "        color_discrete_sequence=year_colors,\n",
    "    ),\n",
    "    xaxis=dict(\n",
    "        tickmode='array',\n",
    "        tickvals=month_starts,\n",
    "        ticktext=month_starts,\n",
    "    ),\n",
    "    legend=dict(traceorder='reversed',),\n",
    "    #bottom_legend=False,\n",
    "    title='YTD Traffic Deaths',\n",
    "    name='ytd-deaths',\n",
    "    hoverx='x',\n",
    "    bg='white',\n",
    "    ygrid='#ccc',\n",
    "    xgrid='#ccc',\n",
    "    w=850,\n",
    "    h=800,\n",
    ")"
   ]
  },
  {
   "cell_type": "markdown",
   "id": "a9ae5c51",
   "metadata": {},
   "source": [
    "### Group by year"
   ]
  },
  {
   "cell_type": "code",
   "execution_count": null,
   "id": "0cea1fc7",
   "metadata": {},
   "outputs": [],
   "source": [
    "dt = crashes.dt.dt\n",
    "fatalities_per_year = crashes.FATALITIES.groupby(dt.year).sum().astype(int).rename('NJSP records')"
   ]
  },
  {
   "cell_type": "markdown",
   "id": "06f67bc9",
   "metadata": {},
   "source": [
    "#### NJSP reports a \"total deaths\" that is typically ≈5% higher than the crash records' total"
   ]
  },
  {
   "cell_type": "code",
   "execution_count": null,
   "id": "7518ddd1",
   "metadata": {},
   "outputs": [],
   "source": [
    "njsp_totals = totals.fatalities.rename('NJSP total')\n",
    "njsp_diff = (totals.fatalities - fatalities_per_year).rename('NJSP diff')\n",
    "njsp_totals = sxs(\n",
    "    fatalities_per_year,\n",
    "    njsp_totals,\n",
    "    njsp_diff,\n",
    "    round(njsp_diff / njsp_totals * 100, 1).apply(lambda pct: f'{\"+\" if pct >= 0 else \"-\"}{pct}%').rename('NJSP diff %'),\n",
    ")\n",
    "njsp_totals"
   ]
  },
  {
   "cell_type": "markdown",
   "id": "ff2e499e",
   "metadata": {},
   "source": [
    "### Group by month"
   ]
  },
  {
   "cell_type": "code",
   "execution_count": null,
   "id": "8f9e8cc5",
   "metadata": {},
   "outputs": [],
   "source": [
    "ym = crashes.dt.apply(lambda d: d.strftime('%Y-%m')).rename('ym')\n",
    "ym"
   ]
  },
  {
   "cell_type": "code",
   "execution_count": null,
   "id": "e62a0a59",
   "metadata": {},
   "outputs": [],
   "source": [
    "fatalities_per_month = crashes[crashes.dt < cur_month].FATALITIES.groupby(ym).sum()\n",
    "fatalities_per_month"
   ]
  },
  {
   "cell_type": "markdown",
   "id": "54ad5c80",
   "metadata": {},
   "source": [
    "### Rolling avg"
   ]
  },
  {
   "cell_type": "code",
   "execution_count": null,
   "id": "a9e9d42a",
   "metadata": {},
   "outputs": [],
   "source": [
    "rolling = fatalities_per_month.rolling(12).mean()\n",
    "rolling"
   ]
  },
  {
   "cell_type": "code",
   "execution_count": null,
   "id": "da7a0f56",
   "metadata": {},
   "outputs": [],
   "source": [
    "mos = (\n",
    "    sxs(\n",
    "        dt.year.rename('year'),\n",
    "        dt.month.rename('month'),\n",
    "        crashes.FATALITIES,\n",
    "    )\n",
    "    .groupby(['year', 'month']).sum()\n",
    ")\n",
    "mos"
   ]
  },
  {
   "cell_type": "code",
   "execution_count": null,
   "id": "1c293f0b",
   "metadata": {},
   "outputs": [],
   "source": [
    "pivoted = mos.reset_index().sort_values(['month', 'year'])\n",
    "pivoted = pivoted[pivoted.apply(lambda r: to_dt('%d-%02d' % (r.year, r.month)).tz_localize(cur_month_dt.tz) < cur_month_dt, axis=1)]\n",
    "pivoted"
   ]
  },
  {
   "cell_type": "code",
   "execution_count": null,
   "id": "eadfacbb",
   "metadata": {},
   "outputs": [],
   "source": [
    "by_month = crashes.FATALITIES.groupby([dt.year, dt.month]).sum()\n",
    "by_month"
   ]
  },
  {
   "cell_type": "markdown",
   "id": "a2d6172a",
   "metadata": {},
   "source": [
    "### Break out victim \"types\""
   ]
  },
  {
   "cell_type": "markdown",
   "id": "c8e2d77a",
   "metadata": {},
   "source": [
    "Check victim \"type\" subtotals vs. total:"
   ]
  },
  {
   "cell_type": "code",
   "execution_count": null,
   "id": "af4c3db5",
   "metadata": {},
   "outputs": [],
   "source": [
    "fatal_totals = sxs(*[crashes[f'FATAL_{t}'].fillna(0) for t in 'DTPB']).sum(axis=1)\n",
    "sxs(crashes.dt, (crashes.FATALITIES - fatal_totals).rename('diff')).groupby(dt.year)['diff'].sum()"
   ]
  },
  {
   "cell_type": "markdown",
   "id": "9fe8205e",
   "metadata": {},
   "source": [
    "Cross-reference with annual totals, populate \"unknown\" subtotal:"
   ]
  },
  {
   "cell_type": "code",
   "execution_count": null,
   "id": "b60e5f6c",
   "metadata": {},
   "outputs": [],
   "source": [
    "type_cols_map = {\n",
    "    'FATAL_D': 'Drivers',\n",
    "    'FATAL_T': 'Pedestrians',\n",
    "    'FATAL_P': 'Passengers',\n",
    "    'FATAL_B': 'Cyclists',\n",
    "}\n",
    "type_cols = list(type_cols_map.keys())"
   ]
  },
  {
   "cell_type": "code",
   "execution_count": null,
   "id": "d55d9cbf",
   "metadata": {},
   "outputs": [],
   "source": [
    "type_cols"
   ]
  },
  {
   "cell_type": "code",
   "execution_count": null,
   "id": "44d648bb",
   "metadata": {},
   "outputs": [],
   "source": [
    "year_type_sums = (\n",
    "    sxs(\n",
    "        crashes.dt,\n",
    "        crashes[type_cols].fillna(0)\n",
    "    )\n",
    "    .groupby(dt.year.rename('year'))\n",
    "    [type_cols]\n",
    "    .sum()\n",
    "    .astype(int)\n",
    ")\n",
    "\n",
    "year_sums = year_type_sums.sum(axis=1).rename('sum')\n",
    "year_totals = totals.fatalities.rename('Total')\n",
    "missing = njsp_totals['NJSP diff'].rename('Missing')\n",
    "unknown = (year_totals - year_sums - missing).rename('FATAL_U')\n",
    "\n",
    "type_cols_map['FATAL_U'] = 'Unknown'\n",
    "type_cols = list(type_cols_map.keys())\n",
    "\n",
    "year_types = (\n",
    "    sxs(\n",
    "        year_type_sums,\n",
    "        year_sums,\n",
    "        year_totals,\n",
    "        unknown,\n",
    "        missing,\n",
    "    )\n",
    "    [ type_cols + [ 'Missing', 'Total', ] ]\n",
    "    .rename(columns=type_cols_map)\n",
    ")\n",
    "value_cols = list(type_cols_map.values())\n",
    "year_types"
   ]
  },
  {
   "cell_type": "code",
   "execution_count": null,
   "id": "1e5d38f7",
   "metadata": {},
   "outputs": [],
   "source": [
    "assert (missing == 0).all()"
   ]
  },
  {
   "cell_type": "code",
   "execution_count": null,
   "id": "4603bce3",
   "metadata": {},
   "outputs": [],
   "source": [
    "year_types = year_types.drop(columns='Missing')"
   ]
  },
  {
   "cell_type": "code",
   "execution_count": null,
   "id": "ee9b7b03",
   "metadata": {},
   "outputs": [],
   "source": [
    "total_errors = sxs(year_types.Total, njsp_totals['NJSP total'])[year_types.Total != njsp_totals['NJSP total']]\n",
    "total_errors"
   ]
  },
  {
   "cell_type": "code",
   "execution_count": null,
   "id": "14bed47a",
   "metadata": {},
   "outputs": [],
   "source": [
    "assert total_errors.empty, total_errors"
   ]
  },
  {
   "cell_type": "code",
   "execution_count": null,
   "id": "58544301",
   "metadata": {},
   "outputs": [],
   "source": [
    "year_types['Projected'] = 0\n",
    "prv_year = cur_year - 1\n",
    "cur_total = year_types.loc[cur_year, 'Total']\n",
    "prv_total = year_types.loc[prv_year, 'Total']\n",
    "projected_total = prv_total * prv_ytd_ratio\n",
    "#projected_total = cur_total * prv_roy_ratio\n",
    "projected_remaining = int(projected_total - cur_total)\n",
    "year_types.loc[cur_year, 'Projected'] = projected_remaining\n",
    "year_types['Projected Total'] = year_types.Total + year_types.Projected"
   ]
  },
  {
   "cell_type": "code",
   "execution_count": null,
   "id": "06d1bfe6",
   "metadata": {},
   "outputs": [],
   "source": [
    "year_types"
   ]
  },
  {
   "cell_type": "code",
   "execution_count": null,
   "id": "fecfbe53",
   "metadata": {},
   "outputs": [],
   "source": [
    "total_2021 = year_types.loc[2021, 'Total']\n",
    "total_2022 = year_types.loc[2022, 'Total']\n",
    "projected_total_2023 = year_types.loc[2023, 'Projected Total']"
   ]
  },
  {
   "cell_type": "code",
   "execution_count": null,
   "id": "97ba47a1",
   "metadata": {},
   "outputs": [],
   "source": [
    "with open(f'{PLOTS_DIR}/projected_totals.json', 'w') as f:\n",
    "    json.dump(year_types.dropna().to_dict('index'), f, indent=4,)"
   ]
  },
  {
   "cell_type": "markdown",
   "id": "340a8af7",
   "metadata": {},
   "source": [
    "### Fatalities per year (by type)"
   ]
  },
  {
   "cell_type": "code",
   "execution_count": null,
   "id": "02d2d156",
   "metadata": {
    "scrolled": true
   },
   "outputs": [],
   "source": [
    "ytc = colors_lengthen(px_colors, 9)\n",
    "\n",
    "def avg(c1, c2):\n",
    "    return (RGB.from_css(c1) + RGB.from_css(c2) / 2).css\n",
    "\n",
    "idx = 1\n",
    "#unknown_color = '#2a2a2a'\n",
    "#unknown_color = avg(ytc[idx-1], ytc[idx])\n",
    "#ytc = ytc[:idx] + [unknown_color] + ytc[idx:]\n",
    "#missing_color = '#666'\n",
    "#ytc = [missing_color] + ytc\n",
    "print(' '.join(ytc))\n",
    "\n",
    "swatches(ytc)"
   ]
  },
  {
   "cell_type": "code",
   "execution_count": null,
   "id": "aeacccf5",
   "metadata": {},
   "outputs": [],
   "source": [
    "type_labels_map = [\n",
    "    'Unknown',\n",
    "    'Drivers',\n",
    "    'Passengers',\n",
    "    'Cyclists',\n",
    "    'Pedestrians',\n",
    "    'Projected',\n",
    "]\n",
    "fig = (\n",
    "    px.bar(\n",
    "        year_types[year_types.index < 2023][type_labels_map].drop(columns='Projected').replace(0, nan),\n",
    "        barmode='stack',\n",
    "        color_discrete_sequence=ytc,\n",
    "    )\n",
    "    .update_yaxes(gridcolor=gridcolor)\n",
    ")\n",
    "save(\n",
    "    fig,\n",
    "    title=f'NJ Traffic Deaths per Year (by victim type)<br><sup>2021 and 2022 were the deadliest years in the NJSP record, with {total_2021} and {total_2022} traffic fatalities, resp.',\n",
    "    name='fatalities_per_year_by_type',\n",
    "    hoverx=True,\n",
    "    w=1600,\n",
    "    h=800,\n",
    ")"
   ]
  },
  {
   "cell_type": "markdown",
   "id": "67c34be1",
   "metadata": {},
   "source": [
    "### Fatalities per month (by victim type)"
   ]
  },
  {
   "cell_type": "code",
   "execution_count": null,
   "id": "19b7307a",
   "metadata": {
    "scrolled": true
   },
   "outputs": [],
   "source": [
    "crash_type_cols = [ col for col in type_cols if col != 'FATAL_U' ]\n",
    "month_types = (\n",
    "    sxs(\n",
    "        crashes.dt,\n",
    "        crashes[crash_type_cols].fillna(0)\n",
    "    )\n",
    "    [ dt.year >= 2020 ]\n",
    "    .groupby([\n",
    "        dt.year.rename('year'),\n",
    "        dt.month.rename('month'),\n",
    "    ])\n",
    "    [crash_type_cols]\n",
    "    .sum()\n",
    "    .astype(int)\n",
    ")\n",
    "\n",
    "month_types = month_types.reset_index()\n",
    "month_types['dt'] = (\n",
    "    month_types\n",
    "    [['year', 'month']]\n",
    "    .apply(lambda r: '%04d-%02d' % (r['year'], r['month']), axis=1)\n",
    ")\n",
    "month_types = month_types.set_index('dt').drop(columns=['year', 'month'])\n",
    "month_types"
   ]
  },
  {
   "cell_type": "code",
   "execution_count": null,
   "id": "cb559590",
   "metadata": {},
   "outputs": [],
   "source": [
    "type_colors = colors_lengthen(px_colors, 7)\n",
    "\n",
    "fig = px.line(\n",
    "    month_types.rename(columns=type_cols_map).loc[to_dt(month_types.index) < cur_month],\n",
    "    labels={'variable': '',},\n",
    "    color_discrete_sequence=type_colors,\n",
    ")\n",
    "fig.update_traces(line=dict(width=3))\n",
    "save(\n",
    "    fig,\n",
    "    title='NJ Traffic Deaths per Month (by victim type)',\n",
    "    name='fatalities_per_month_by_type',\n",
    "    hoverx=True,\n",
    "    xgrid=gridcolor,\n",
    "    xaxis=dict(\n",
    "        tickformat=\"%b '%y\",\n",
    "    ),\n",
    "    w=800,\n",
    ")\n",
    "fig"
   ]
  },
  {
   "cell_type": "markdown",
   "id": "3c471312",
   "metadata": {},
   "source": [
    "### Fatalities per month"
   ]
  },
  {
   "cell_type": "code",
   "execution_count": null,
   "id": "2ea39cb5",
   "metadata": {},
   "outputs": [],
   "source": [
    "fig = go.Figure()\n",
    "fig.add_trace(go.Bar(x=fatalities_per_month.index, y=fatalities_per_month.values, name='Fatalities', marker_color=red))\n",
    "fig.add_trace(go.Scatter(x=rolling.index, y=rolling.apply(partial(round, ndigits=1)), name='12mo avg', line={'width': 4, 'color': black, }))\n",
    "fig.update_yaxes(gridcolor=gridcolor)\n",
    "save(\n",
    "    fig,\n",
    "    title='NJ Traffic Deaths per Month',\n",
    "    name='fatalities_per_month',\n",
    "    hoverx=True,\n",
    "    w=1200, h=600,\n",
    ")"
   ]
  },
  {
   "cell_type": "code",
   "execution_count": null,
   "id": "ee7db97c",
   "metadata": {},
   "outputs": [],
   "source": [
    "month_names = [ to_dt('2022-%02d' % i).strftime('%b') for i in range(1, 13) ]\n",
    "print(' '.join(month_names))"
   ]
  },
  {
   "cell_type": "code",
   "execution_count": null,
   "id": "c5af3681",
   "metadata": {},
   "outputs": [],
   "source": [
    "fig = px.bar(\n",
    "    x = pivoted.month,\n",
    "    y = pivoted.FATALITIES,\n",
    "    color = pivoted.year.astype(str),\n",
    "    color_discrete_sequence=year_colors,\n",
    "    labels=dict(color='', x='', y='',),\n",
    "    barmode='group',\n",
    ").update_yaxes(\n",
    "    gridcolor=gridcolor,\n",
    ")\n",
    "save(\n",
    "    fig,\n",
    "    title='NJ Traffic Deaths, by Month',\n",
    "    name='fatalities_by_month_bars',\n",
    "    legend=dict(traceorder='reversed'),\n",
    "    xaxis=dict(\n",
    "        tickmode = 'array',\n",
    "        tickvals = list(range(1, 13)),\n",
    "        ticktext = month_names,\n",
    "    ),\n",
    "    hoverx=True,\n",
    "    w=1200, h=700,\n",
    ")\n",
    "fig"
   ]
  },
  {
   "cell_type": "code",
   "execution_count": null,
   "id": "58f56333",
   "metadata": {},
   "outputs": [],
   "source": [
    "fig = px.line(\n",
    "    x = pivoted.month,\n",
    "    y = pivoted.FATALITIES,\n",
    "    color = pivoted.year,\n",
    "    color_discrete_sequence=year_colors,\n",
    "    labels={ 'color': '', 'x': '', 'y': '' },\n",
    ").update_yaxes(\n",
    "    gridcolor=gridcolor,\n",
    ")\n",
    "save(\n",
    "    fig,\n",
    "    title='NJ Traffic Deaths by Month',\n",
    "    name='fatalities_by_month_lines',\n",
    "    xaxis=dict(\n",
    "        tickmode = 'array',\n",
    "        tickvals = list(range(1, 13)),\n",
    "        ticktext = month_names,\n",
    "    ),\n",
    "    legend=dict(traceorder='reversed'),\n",
    "    hoverx=True,\n",
    "    w=1200, h=700,\n",
    ")\n",
    "fig"
   ]
  }
 ],
 "metadata": {
  "kernelspec": {
   "display_name": "Python 3 (ipykernel)",
   "language": "python",
   "name": "python3"
  },
  "language_info": {
   "codemirror_mode": {
    "name": "ipython",
    "version": 3
   },
   "file_extension": ".py",
   "mimetype": "text/x-python",
   "name": "python",
   "nbconvert_exporter": "python",
   "pygments_lexer": "ipython3",
   "version": "3.10.10"
  }
 },
 "nbformat": 4,
 "nbformat_minor": 5
}
