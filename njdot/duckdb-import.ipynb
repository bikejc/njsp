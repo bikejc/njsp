{
 "cells": [
  {
   "cell_type": "code",
   "execution_count": 1,
   "id": "41aca89f",
   "metadata": {},
   "outputs": [],
   "source": [
    "from utz import *"
   ]
  },
  {
   "cell_type": "code",
   "execution_count": 1,
   "id": "03193926",
   "metadata": {},
   "outputs": [
    {
     "ename": "HTTPException",
     "evalue": "HTTP Error: Failed to download extension \"s3fs\" at URL \"http://extensions.duckdb.org/v0.9.2/osx_arm64/s3fs.duckdb_extension.gz\"\n\nCandidate extensions: \"s3\", \"fts\", \"substrait\", \"aws\"",
     "output_type": "error",
     "traceback": [
      "\u001b[0;31m---------------------------------------------------------------------------\u001b[0m",
      "\u001b[0;31mHTTPException\u001b[0m                             Traceback (most recent call last)",
      "Cell \u001b[0;32mIn[1], line 3\u001b[0m\n\u001b[1;32m      1\u001b[0m \u001b[38;5;28;01mimport\u001b[39;00m \u001b[38;5;21;01mduckdb\u001b[39;00m\n\u001b[1;32m      2\u001b[0m duckdb\u001b[38;5;241m.\u001b[39msql(\u001b[38;5;124m\"\u001b[39m\u001b[38;5;124mINSTALL httpfs;\u001b[39m\u001b[38;5;124m\"\u001b[39m)\n\u001b[0;32m----> 3\u001b[0m \u001b[43mduckdb\u001b[49m\u001b[38;5;241;43m.\u001b[39;49m\u001b[43msql\u001b[49m\u001b[43m(\u001b[49m\u001b[38;5;124;43m\"\u001b[39;49m\u001b[38;5;124;43mINSTALL s3fs;\u001b[39;49m\u001b[38;5;124;43m\"\u001b[39;49m\u001b[43m)\u001b[49m\n",
      "\u001b[0;31mHTTPException\u001b[0m: HTTP Error: Failed to download extension \"s3fs\" at URL \"http://extensions.duckdb.org/v0.9.2/osx_arm64/s3fs.duckdb_extension.gz\"\n\nCandidate extensions: \"s3\", \"fts\", \"substrait\", \"aws\""
     ]
    }
   ],
   "source": [
    "import duckdb\n",
    "duckdb.sql(\"INSTALL httpfs;\")\n",
    "duckdb.sql(\"INSTALL s3fs;\")"
   ]
  },
  {
   "cell_type": "code",
   "execution_count": 3,
   "id": "be5d7022",
   "metadata": {},
   "outputs": [
    {
     "ename": "IOException",
     "evalue": "IO Error: Extension \"/Users/ryan/.duckdb/extensions/v0.9.2/osx_arm64/s3fs.duckdb_extension\" not found.\n\nCandidate extensions: \"s3\", \"fts\", \"substrait\", \"aws\"",
     "output_type": "error",
     "traceback": [
      "\u001b[0;31m---------------------------------------------------------------------------\u001b[0m",
      "\u001b[0;31mIOException\u001b[0m                               Traceback (most recent call last)",
      "Cell \u001b[0;32mIn[3], line 2\u001b[0m\n\u001b[1;32m      1\u001b[0m duckdb\u001b[38;5;241m.\u001b[39msql(\u001b[38;5;124m\"\u001b[39m\u001b[38;5;124mLOAD httpfs;\u001b[39m\u001b[38;5;124m\"\u001b[39m)\n\u001b[0;32m----> 2\u001b[0m \u001b[43mduckdb\u001b[49m\u001b[38;5;241;43m.\u001b[39;49m\u001b[43msql\u001b[49m\u001b[43m(\u001b[49m\u001b[38;5;124;43m\"\u001b[39;49m\u001b[38;5;124;43mLOAD s3fs;\u001b[39;49m\u001b[38;5;124;43m\"\u001b[39;49m\u001b[43m)\u001b[49m\n",
      "\u001b[0;31mIOException\u001b[0m: IO Error: Extension \"/Users/ryan/.duckdb/extensions/v0.9.2/osx_arm64/s3fs.duckdb_extension\" not found.\n\nCandidate extensions: \"s3\", \"fts\", \"substrait\", \"aws\""
     ]
    }
   ],
   "source": [
    "duckdb.sql(\"LOAD httpfs;\")\n",
    "duckdb.sql(\"LOAD s3fs;\")"
   ]
  },
  {
   "cell_type": "code",
   "execution_count": 5,
   "id": "05e7aaaf",
   "metadata": {},
   "outputs": [
    {
     "ename": "CatalogException",
     "evalue": "Catalog Error: Cannot open database \"/Users/ryan/c/neighbor-ryan/nj-crashes/njdot/s3://nj-crashes/njdot/2021.duckdb\" in read-only mode: database does not exist",
     "output_type": "error",
     "traceback": [
      "\u001b[0;31m---------------------------------------------------------------------------\u001b[0m",
      "\u001b[0;31mCatalogException\u001b[0m                          Traceback (most recent call last)",
      "Cell \u001b[0;32mIn[5], line 1\u001b[0m\n\u001b[0;32m----> 1\u001b[0m con \u001b[38;5;241m=\u001b[39m \u001b[43mduckdb\u001b[49m\u001b[38;5;241;43m.\u001b[39;49m\u001b[43mconnect\u001b[49m\u001b[43m(\u001b[49m\u001b[38;5;124;43m'\u001b[39;49m\u001b[38;5;124;43ms3://nj-crashes/njdot/2021.duckdb\u001b[39;49m\u001b[38;5;124;43m'\u001b[39;49m\u001b[43m,\u001b[49m\u001b[43m \u001b[49m\u001b[43mread_only\u001b[49m\u001b[38;5;241;43m=\u001b[39;49m\u001b[38;5;28;43;01mTrue\u001b[39;49;00m\u001b[43m)\u001b[49m\n\u001b[1;32m      2\u001b[0m dql \u001b[38;5;241m=\u001b[39m con\u001b[38;5;241m.\u001b[39msql\n",
      "\u001b[0;31mCatalogException\u001b[0m: Catalog Error: Cannot open database \"/Users/ryan/c/neighbor-ryan/nj-crashes/njdot/s3://nj-crashes/njdot/2021.duckdb\" in read-only mode: database does not exist"
     ]
    }
   ],
   "source": [
    "con = duckdb.connect('s3://nj-crashes/njdot/2021.duckdb', read_only=True)\n",
    "dql = con.sql"
   ]
  },
  {
   "cell_type": "code",
   "execution_count": 10,
   "id": "303508b5",
   "metadata": {},
   "outputs": [
    {
     "ename": "CatalogException",
     "evalue": "Catalog Error: Cannot open database \"/Users/ryan/c/neighbor-ryan/nj-crashes/njdot/s3://nj-crashes/njdot/data/2021/NewJersey2021Accidents.pqt\" in read-only mode: database does not exist",
     "output_type": "error",
     "traceback": [
      "\u001b[0;31m---------------------------------------------------------------------------\u001b[0m",
      "\u001b[0;31mCatalogException\u001b[0m                          Traceback (most recent call last)",
      "Cell \u001b[0;32mIn[10], line 1\u001b[0m\n\u001b[0;32m----> 1\u001b[0m con \u001b[38;5;241m=\u001b[39m \u001b[43mduckdb\u001b[49m\u001b[38;5;241;43m.\u001b[39;49m\u001b[43mconnect\u001b[49m\u001b[43m(\u001b[49m\u001b[38;5;124;43m'\u001b[39;49m\u001b[38;5;124;43ms3://nj-crashes/njdot/data/2021/NewJersey2021Accidents.pqt\u001b[39;49m\u001b[38;5;124;43m'\u001b[39;49m\u001b[43m,\u001b[49m\u001b[43m \u001b[49m\u001b[43mread_only\u001b[49m\u001b[38;5;241;43m=\u001b[39;49m\u001b[38;5;28;43;01mTrue\u001b[39;49;00m\u001b[43m)\u001b[49m\n\u001b[1;32m      2\u001b[0m dql \u001b[38;5;241m=\u001b[39m con\u001b[38;5;241m.\u001b[39msql\n",
      "\u001b[0;31mCatalogException\u001b[0m: Catalog Error: Cannot open database \"/Users/ryan/c/neighbor-ryan/nj-crashes/njdot/s3://nj-crashes/njdot/data/2021/NewJersey2021Accidents.pqt\" in read-only mode: database does not exist"
     ]
    }
   ],
   "source": [
    "con = duckdb.connect('s3://nj-crashes/njdot/data/2021/NewJersey2021Accidents.pqt', read_only=True)\n",
    "dql = con.sql"
   ]
  },
  {
   "cell_type": "code",
   "execution_count": 9,
   "id": "4ccf4ba5",
   "metadata": {},
   "outputs": [
    {
     "data": {
      "application/vnd.jupyter.widget-view+json": {
       "model_id": "90963ae9c251444f81f09bf50c611ddf",
       "version_major": 2,
       "version_minor": 0
      },
      "text/plain": [
       "FloatProgress(value=0.0, layout=Layout(width='auto'), style=ProgressStyle(bar_color='black'))"
      ]
     },
     "metadata": {},
     "output_type": "display_data"
    }
   ],
   "source": [
    "dql(\"IMPORT DATABASE 's3://nj-crashes/crashes.ddb'\")"
   ]
  },
  {
   "cell_type": "code",
   "execution_count": 10,
   "id": "ded99c63",
   "metadata": {},
   "outputs": [
    {
     "data": {
      "text/plain": [
       "┌─────────┐\n",
       "│  name   │\n",
       "│ varchar │\n",
       "├─────────┤\n",
       "│ crashes │\n",
       "└─────────┘"
      ]
     },
     "execution_count": 10,
     "metadata": {},
     "output_type": "execute_result"
    }
   ],
   "source": [
    "dql(\"SHOW TABLES\")"
   ]
  },
  {
   "cell_type": "code",
   "execution_count": 11,
   "id": "0aea4a47",
   "metadata": {},
   "outputs": [
    {
     "data": {
      "text/plain": [
       "┌───────────────────────────┬─────────────┬─────────┬─────────┬─────────┬───────┐\n",
       "│        column_name        │ column_type │  null   │   key   │ default │ extra │\n",
       "│          varchar          │   varchar   │ varchar │ varchar │ varchar │ int32 │\n",
       "├───────────────────────────┼─────────────┼─────────┼─────────┼─────────┼───────┤\n",
       "│ year                      │ BIGINT      │ YES     │ NULL    │ NULL    │  NULL │\n",
       "│ cc                        │ BIGINT      │ YES     │ NULL    │ NULL    │  NULL │\n",
       "│ mc                        │ BIGINT      │ YES     │ NULL    │ NULL    │  NULL │\n",
       "│ case                      │ VARCHAR     │ YES     │ NULL    │ NULL    │  NULL │\n",
       "│ cn                        │ VARCHAR     │ YES     │ NULL    │ NULL    │  NULL │\n",
       "│ mn                        │ VARCHAR     │ YES     │ NULL    │ NULL    │  NULL │\n",
       "│ pdc                       │ VARCHAR     │ YES     │ NULL    │ NULL    │  NULL │\n",
       "│ pdn                       │ VARCHAR     │ YES     │ NULL    │ NULL    │  NULL │\n",
       "│ station                   │ VARCHAR     │ YES     │ NULL    │ NULL    │  NULL │\n",
       "│ Total Killed              │ BIGINT      │ YES     │ NULL    │ NULL    │  NULL │\n",
       "│ ·                         │   ·         │  ·      │  ·      │  ·      │    ·  │\n",
       "│ ·                         │   ·         │  ·      │  ·      │  ·      │    ·  │\n",
       "│ ·                         │   ·         │  ·      │  ·      │  ·      │    ·  │\n",
       "│ dt                        │ TIMESTAMP   │ YES     │ NULL    │ NULL    │  NULL │\n",
       "│ Road Horizontal Alignment │ VARCHAR     │ YES     │ NULL    │ NULL    │  NULL │\n",
       "│ Road Grade                │ VARCHAR     │ YES     │ NULL    │ NULL    │  NULL │\n",
       "│ First Harmful Event       │ VARCHAR     │ YES     │ NULL    │ NULL    │  NULL │\n",
       "│ ocn                       │ VARCHAR     │ YES     │ NULL    │ NULL    │  NULL │\n",
       "│ reason                    │ VARCHAR     │ YES     │ NULL    │ NULL    │  NULL │\n",
       "│ ilon                      │ DOUBLE      │ YES     │ NULL    │ NULL    │  NULL │\n",
       "│ ilat                      │ DOUBLE      │ YES     │ NULL    │ NULL    │  NULL │\n",
       "│ icn                       │ VARCHAR     │ YES     │ NULL    │ NULL    │  NULL │\n",
       "│ id                        │ BIGINT      │ YES     │ NULL    │ NULL    │  NULL │\n",
       "├───────────────────────────┴─────────────┴─────────┴─────────┴─────────┴───────┤\n",
       "│ 57 rows (20 shown)                                                  6 columns │\n",
       "└───────────────────────────────────────────────────────────────────────────────┘"
      ]
     },
     "execution_count": 11,
     "metadata": {},
     "output_type": "execute_result"
    }
   ],
   "source": [
    "dql(\"DESCRIBE crashes\")"
   ]
  },
  {
   "cell_type": "code",
   "execution_count": 12,
   "id": "140f3835",
   "metadata": {},
   "outputs": [
    {
     "data": {
      "text/html": [
       "<div>\n",
       "<style scoped>\n",
       "    .dataframe tbody tr th:only-of-type {\n",
       "        vertical-align: middle;\n",
       "    }\n",
       "\n",
       "    .dataframe tbody tr th {\n",
       "        vertical-align: top;\n",
       "    }\n",
       "\n",
       "    .dataframe thead th {\n",
       "        text-align: right;\n",
       "    }\n",
       "</style>\n",
       "<table border=\"1\" class=\"dataframe\">\n",
       "  <thead>\n",
       "    <tr style=\"text-align: right;\">\n",
       "      <th></th>\n",
       "      <th>database_name</th>\n",
       "      <th>database_oid</th>\n",
       "      <th>schema_name</th>\n",
       "      <th>schema_oid</th>\n",
       "      <th>index_name</th>\n",
       "      <th>index_oid</th>\n",
       "      <th>table_name</th>\n",
       "      <th>table_oid</th>\n",
       "      <th>is_unique</th>\n",
       "      <th>is_primary</th>\n",
       "      <th>expressions</th>\n",
       "      <th>sql</th>\n",
       "    </tr>\n",
       "  </thead>\n",
       "  <tbody>\n",
       "    <tr>\n",
       "      <th>0</th>\n",
       "      <td>memory</td>\n",
       "      <td>992</td>\n",
       "      <td>main</td>\n",
       "      <td>994</td>\n",
       "      <td>crashes_id_idx</td>\n",
       "      <td>1393</td>\n",
       "      <td>crashes</td>\n",
       "      <td>1389</td>\n",
       "      <td>True</td>\n",
       "      <td>False</td>\n",
       "      <td>None</td>\n",
       "      <td>\\nCREATE UNIQUE INDEX crashes_id_idx ON crashe...</td>\n",
       "    </tr>\n",
       "    <tr>\n",
       "      <th>1</th>\n",
       "      <td>memory</td>\n",
       "      <td>992</td>\n",
       "      <td>main</td>\n",
       "      <td>994</td>\n",
       "      <td>crashes_dt_icn_severity_idx</td>\n",
       "      <td>1391</td>\n",
       "      <td>crashes</td>\n",
       "      <td>1389</td>\n",
       "      <td>False</td>\n",
       "      <td>False</td>\n",
       "      <td>None</td>\n",
       "      <td>\\n\\n\\nCREATE INDEX crashes_dt_icn_severity_idx...</td>\n",
       "    </tr>\n",
       "  </tbody>\n",
       "</table>\n",
       "</div>"
      ],
      "text/plain": [
       "  database_name  database_oid schema_name  schema_oid  \\\n",
       "0        memory           992        main         994   \n",
       "1        memory           992        main         994   \n",
       "\n",
       "                    index_name  index_oid table_name  table_oid  is_unique  \\\n",
       "0               crashes_id_idx       1393    crashes       1389       True   \n",
       "1  crashes_dt_icn_severity_idx       1391    crashes       1389      False   \n",
       "\n",
       "   is_primary expressions                                                sql  \n",
       "0       False        None  \\nCREATE UNIQUE INDEX crashes_id_idx ON crashe...  \n",
       "1       False        None  \\n\\n\\nCREATE INDEX crashes_dt_icn_severity_idx...  "
      ]
     },
     "execution_count": 12,
     "metadata": {},
     "output_type": "execute_result"
    }
   ],
   "source": [
    "dql(\"SELECT * from duckdb_indexes()\").df()"
   ]
  },
  {
   "cell_type": "code",
   "execution_count": 13,
   "id": "4cee5cdd",
   "metadata": {},
   "outputs": [
    {
     "name": "stdout",
     "output_type": "stream",
     "text": [
      "CPU times: user 887 µs, sys: 945 µs, total: 1.83 ms\n",
      "Wall time: 1.78 ms\n"
     ]
    },
    {
     "data": {
      "text/plain": [
       "┌───────┬────────────┬──────────┬───────┐\n",
       "│ year  │   county   │ severity │  num  │\n",
       "│ int64 │  varchar   │ varchar  │ int64 │\n",
       "├───────┼────────────┼──────────┼───────┤\n",
       "│  2001 │ Atlantic   │ f        │    49 │\n",
       "│  2001 │ Atlantic   │ i        │  1689 │\n",
       "│  2001 │ Atlantic   │ p        │  2860 │\n",
       "│  2001 │ Bergen     │ f        │    16 │\n",
       "│  2001 │ Bergen     │ i        │  3181 │\n",
       "│  2001 │ Bergen     │ p        │  7189 │\n",
       "│  2001 │ Burlington │ f        │    54 │\n",
       "│  2001 │ Burlington │ i        │  1829 │\n",
       "│  2001 │ Burlington │ p        │  4050 │\n",
       "│  2001 │ Camden     │ f        │    33 │\n",
       "│    ·  │   ·        │ ·        │     · │\n",
       "│    ·  │   ·        │ ·        │     · │\n",
       "│    ·  │   ·        │ ·        │     · │\n",
       "│  2021 │ Somerset   │ p        │  5506 │\n",
       "│  2021 │ Sussex     │ f        │     9 │\n",
       "│  2021 │ Sussex     │ i        │   423 │\n",
       "│  2021 │ Sussex     │ p        │  1591 │\n",
       "│  2021 │ Union      │ f        │    28 │\n",
       "│  2021 │ Union      │ i        │  3698 │\n",
       "│  2021 │ Union      │ p        │ 11962 │\n",
       "│  2021 │ Warren     │ f        │    11 │\n",
       "│  2021 │ Warren     │ i        │   520 │\n",
       "│  2021 │ Warren     │ p        │  1801 │\n",
       "├───────┴────────────┴──────────┴───────┤\n",
       "│ 1323 rows (20 shown)        4 columns │\n",
       "└───────────────────────────────────────┘"
      ]
     },
     "execution_count": 13,
     "metadata": {},
     "output_type": "execute_result"
    }
   ],
   "source": [
    "%%time\n",
    "dql(\"\"\"\n",
    "SELECT date_part('year', dt) as year, icn as county, severity, count(*) as num\n",
    "FROM crashes\n",
    "WHERE icn IS NOT NULL\n",
    "GROUP BY (date_part('year', dt), icn, severity)\n",
    "ORDER BY (date_part('year', dt), icn, severity)\n",
    "\"\"\")"
   ]
  },
  {
   "cell_type": "code",
   "execution_count": 22,
   "id": "338d8cfa",
   "metadata": {},
   "outputs": [
    {
     "name": "stdout",
     "output_type": "stream",
     "text": [
      "CPU times: user 116 ms, sys: 122 ms, total: 238 ms\n",
      "Wall time: 112 ms\n"
     ]
    },
    {
     "data": {
      "text/html": [
       "<div>\n",
       "<style scoped>\n",
       "    .dataframe tbody tr th:only-of-type {\n",
       "        vertical-align: middle;\n",
       "    }\n",
       "\n",
       "    .dataframe tbody tr th {\n",
       "        vertical-align: top;\n",
       "    }\n",
       "\n",
       "    .dataframe thead th {\n",
       "        text-align: right;\n",
       "    }\n",
       "</style>\n",
       "<table border=\"1\" class=\"dataframe\">\n",
       "  <thead>\n",
       "    <tr style=\"text-align: right;\">\n",
       "      <th></th>\n",
       "      <th>sri</th>\n",
       "      <th>mp</th>\n",
       "      <th>ilat</th>\n",
       "      <th>ilon</th>\n",
       "      <th>tk</th>\n",
       "      <th>ti</th>\n",
       "    </tr>\n",
       "  </thead>\n",
       "  <tbody>\n",
       "    <tr>\n",
       "      <th>0</th>\n",
       "      <td>09011544__</td>\n",
       "      <td>1.16</td>\n",
       "      <td>40.667220</td>\n",
       "      <td>-74.115474</td>\n",
       "      <td>0.0</td>\n",
       "      <td>5.0</td>\n",
       "    </tr>\n",
       "    <tr>\n",
       "      <th>1</th>\n",
       "      <td>09011543__</td>\n",
       "      <td>0.77</td>\n",
       "      <td>40.664319</td>\n",
       "      <td>-74.121225</td>\n",
       "      <td>0.0</td>\n",
       "      <td>12.0</td>\n",
       "    </tr>\n",
       "    <tr>\n",
       "      <th>2</th>\n",
       "      <td>09011544__</td>\n",
       "      <td>0.10</td>\n",
       "      <td>40.654347</td>\n",
       "      <td>-74.126355</td>\n",
       "      <td>0.0</td>\n",
       "      <td>2.0</td>\n",
       "    </tr>\n",
       "    <tr>\n",
       "      <th>3</th>\n",
       "      <td>09011166__</td>\n",
       "      <td>2.12</td>\n",
       "      <td>40.652183</td>\n",
       "      <td>-74.137501</td>\n",
       "      <td>0.0</td>\n",
       "      <td>2.0</td>\n",
       "    </tr>\n",
       "    <tr>\n",
       "      <th>4</th>\n",
       "      <td>00000501__</td>\n",
       "      <td>26.74</td>\n",
       "      <td>40.688826</td>\n",
       "      <td>-74.106185</td>\n",
       "      <td>0.0</td>\n",
       "      <td>3.0</td>\n",
       "    </tr>\n",
       "    <tr>\n",
       "      <th>...</th>\n",
       "      <td>...</td>\n",
       "      <td>...</td>\n",
       "      <td>...</td>\n",
       "      <td>...</td>\n",
       "      <td>...</td>\n",
       "      <td>...</td>\n",
       "    </tr>\n",
       "    <tr>\n",
       "      <th>4741</th>\n",
       "      <td>09111118__</td>\n",
       "      <td>0.57</td>\n",
       "      <td>40.770592</td>\n",
       "      <td>-74.015398</td>\n",
       "      <td>0.0</td>\n",
       "      <td>2.0</td>\n",
       "    </tr>\n",
       "    <tr>\n",
       "      <th>4742</th>\n",
       "      <td>09121012__</td>\n",
       "      <td>0.38</td>\n",
       "      <td>40.789431</td>\n",
       "      <td>-74.010708</td>\n",
       "      <td>0.0</td>\n",
       "      <td>1.0</td>\n",
       "    </tr>\n",
       "    <tr>\n",
       "      <th>4743</th>\n",
       "      <td>09011073__</td>\n",
       "      <td>0.00</td>\n",
       "      <td>40.656370</td>\n",
       "      <td>-74.121343</td>\n",
       "      <td>0.0</td>\n",
       "      <td>1.0</td>\n",
       "    </tr>\n",
       "    <tr>\n",
       "      <th>4744</th>\n",
       "      <td>09061223__</td>\n",
       "      <td>0.60</td>\n",
       "      <td>40.707208</td>\n",
       "      <td>-74.084650</td>\n",
       "      <td>0.0</td>\n",
       "      <td>1.0</td>\n",
       "    </tr>\n",
       "    <tr>\n",
       "      <th>4745</th>\n",
       "      <td>09011544__</td>\n",
       "      <td>0.15</td>\n",
       "      <td>40.654954</td>\n",
       "      <td>-74.125843</td>\n",
       "      <td>0.0</td>\n",
       "      <td>1.0</td>\n",
       "    </tr>\n",
       "  </tbody>\n",
       "</table>\n",
       "<p>4746 rows × 6 columns</p>\n",
       "</div>"
      ],
      "text/plain": [
       "             sri     mp       ilat       ilon   tk    ti\n",
       "0     09011544__   1.16  40.667220 -74.115474  0.0   5.0\n",
       "1     09011543__   0.77  40.664319 -74.121225  0.0  12.0\n",
       "2     09011544__   0.10  40.654347 -74.126355  0.0   2.0\n",
       "3     09011166__   2.12  40.652183 -74.137501  0.0   2.0\n",
       "4     00000501__  26.74  40.688826 -74.106185  0.0   3.0\n",
       "...          ...    ...        ...        ...  ...   ...\n",
       "4741  09111118__   0.57  40.770592 -74.015398  0.0   2.0\n",
       "4742  09121012__   0.38  40.789431 -74.010708  0.0   1.0\n",
       "4743  09011073__   0.00  40.656370 -74.121343  0.0   1.0\n",
       "4744  09061223__   0.60  40.707208 -74.084650  0.0   1.0\n",
       "4745  09011544__   0.15  40.654954 -74.125843  0.0   1.0\n",
       "\n",
       "[4746 rows x 6 columns]"
      ]
     },
     "execution_count": 22,
     "metadata": {},
     "output_type": "execute_result"
    }
   ],
   "source": [
    "%%time\n",
    "c = dql(\"\"\"\n",
    "SELECT sri, mp, ilat, ilon, sum(\"Total Killed\") as tk, sum(\"Total Injured\") as ti\n",
    "FROM crashes\n",
    "WHERE icn='Hudson' AND (\"Total Killed\" > 0 OR \"Total Injured\" > 0)\n",
    "AND date_part('year', dt) >= 2017\n",
    "GROUP BY sri, mp, ilat, ilon\n",
    "\"\"\").df()\n",
    "c"
   ]
  },
  {
   "cell_type": "code",
   "execution_count": 25,
   "id": "352ba88d",
   "metadata": {},
   "outputs": [
    {
     "name": "stdout",
     "output_type": "stream",
     "text": [
      "CPU times: user 107 ms, sys: 5.92 ms, total: 112 ms\n",
      "Wall time: 33.9 ms\n"
     ]
    },
    {
     "data": {
      "text/html": [
       "<div>\n",
       "<style scoped>\n",
       "    .dataframe tbody tr th:only-of-type {\n",
       "        vertical-align: middle;\n",
       "    }\n",
       "\n",
       "    .dataframe tbody tr th {\n",
       "        vertical-align: top;\n",
       "    }\n",
       "\n",
       "    .dataframe thead th {\n",
       "        text-align: right;\n",
       "    }\n",
       "</style>\n",
       "<table border=\"1\" class=\"dataframe\">\n",
       "  <thead>\n",
       "    <tr style=\"text-align: right;\">\n",
       "      <th></th>\n",
       "      <th>dt</th>\n",
       "      <th>sri</th>\n",
       "      <th>mp</th>\n",
       "      <th>ilat</th>\n",
       "      <th>ilon</th>\n",
       "    </tr>\n",
       "    <tr>\n",
       "      <th>id</th>\n",
       "      <th></th>\n",
       "      <th></th>\n",
       "      <th></th>\n",
       "      <th></th>\n",
       "      <th></th>\n",
       "    </tr>\n",
       "  </thead>\n",
       "  <tbody>\n",
       "    <tr>\n",
       "      <th>4821060</th>\n",
       "      <td>2017-02-09 09:44:00</td>\n",
       "      <td>00000003__</td>\n",
       "      <td>8.49</td>\n",
       "      <td>40.798442</td>\n",
       "      <td>-74.068342</td>\n",
       "    </tr>\n",
       "    <tr>\n",
       "      <th>4821092</th>\n",
       "      <td>2017-03-28 17:33:00</td>\n",
       "      <td>00000003__</td>\n",
       "      <td>8.49</td>\n",
       "      <td>40.798442</td>\n",
       "      <td>-74.068342</td>\n",
       "    </tr>\n",
       "    <tr>\n",
       "      <th>4821173</th>\n",
       "      <td>2017-08-26 08:41:00</td>\n",
       "      <td>00000003__</td>\n",
       "      <td>8.49</td>\n",
       "      <td>40.798442</td>\n",
       "      <td>-74.068342</td>\n",
       "    </tr>\n",
       "    <tr>\n",
       "      <th>4821234</th>\n",
       "      <td>2017-10-11 15:51:00</td>\n",
       "      <td>00000003__</td>\n",
       "      <td>8.49</td>\n",
       "      <td>40.798442</td>\n",
       "      <td>-74.068342</td>\n",
       "    </tr>\n",
       "    <tr>\n",
       "      <th>4821266</th>\n",
       "      <td>2017-10-30 15:37:00</td>\n",
       "      <td>00000003__</td>\n",
       "      <td>8.49</td>\n",
       "      <td>40.798442</td>\n",
       "      <td>-74.068342</td>\n",
       "    </tr>\n",
       "    <tr>\n",
       "      <th>...</th>\n",
       "      <td>...</td>\n",
       "      <td>...</td>\n",
       "      <td>...</td>\n",
       "      <td>...</td>\n",
       "      <td>...</td>\n",
       "    </tr>\n",
       "    <tr>\n",
       "      <th>5958480</th>\n",
       "      <td>2021-04-01 13:19:00</td>\n",
       "      <td>09121045__</td>\n",
       "      <td>0.47</td>\n",
       "      <td>40.787305</td>\n",
       "      <td>-74.014560</td>\n",
       "    </tr>\n",
       "    <tr>\n",
       "      <th>5958481</th>\n",
       "      <td>2021-06-25 21:42:00</td>\n",
       "      <td>00000501__</td>\n",
       "      <td>35.35</td>\n",
       "      <td>40.788598</td>\n",
       "      <td>-74.023481</td>\n",
       "    </tr>\n",
       "    <tr>\n",
       "      <th>5958482</th>\n",
       "      <td>2021-09-24 12:46:00</td>\n",
       "      <td>00000501__</td>\n",
       "      <td>35.99</td>\n",
       "      <td>40.795783</td>\n",
       "      <td>-74.016394</td>\n",
       "    </tr>\n",
       "    <tr>\n",
       "      <th>5958483</th>\n",
       "      <td>2021-10-17 13:48:00</td>\n",
       "      <td>00000501__</td>\n",
       "      <td>35.76</td>\n",
       "      <td>40.793506</td>\n",
       "      <td>-74.019602</td>\n",
       "    </tr>\n",
       "    <tr>\n",
       "      <th>5958484</th>\n",
       "      <td>2021-12-01 12:24:00</td>\n",
       "      <td>00000501__</td>\n",
       "      <td>35.65</td>\n",
       "      <td>40.792503</td>\n",
       "      <td>-74.021168</td>\n",
       "    </tr>\n",
       "  </tbody>\n",
       "</table>\n",
       "<p>60762 rows × 5 columns</p>\n",
       "</div>"
      ],
      "text/plain": [
       "                         dt         sri     mp       ilat       ilon\n",
       "id                                                                  \n",
       "4821060 2017-02-09 09:44:00  00000003__   8.49  40.798442 -74.068342\n",
       "4821092 2017-03-28 17:33:00  00000003__   8.49  40.798442 -74.068342\n",
       "4821173 2017-08-26 08:41:00  00000003__   8.49  40.798442 -74.068342\n",
       "4821234 2017-10-11 15:51:00  00000003__   8.49  40.798442 -74.068342\n",
       "4821266 2017-10-30 15:37:00  00000003__   8.49  40.798442 -74.068342\n",
       "...                     ...         ...    ...        ...        ...\n",
       "5958480 2021-04-01 13:19:00  09121045__   0.47  40.787305 -74.014560\n",
       "5958481 2021-06-25 21:42:00  00000501__  35.35  40.788598 -74.023481\n",
       "5958482 2021-09-24 12:46:00  00000501__  35.99  40.795783 -74.016394\n",
       "5958483 2021-10-17 13:48:00  00000501__  35.76  40.793506 -74.019602\n",
       "5958484 2021-12-01 12:24:00  00000501__  35.65  40.792503 -74.021168\n",
       "\n",
       "[60762 rows x 5 columns]"
      ]
     },
     "execution_count": 25,
     "metadata": {},
     "output_type": "execute_result"
    }
   ],
   "source": [
    "%%time\n",
    "hc = dql(\"\"\"\n",
    "SELECT id, dt, sri, mp, ilat, ilon\n",
    "FROM crashes\n",
    "WHERE icn='Hudson'\n",
    "AND date_part('year', dt) >= 2017\n",
    "\"\"\").df().set_index('id')\n",
    "hc"
   ]
  },
  {
   "cell_type": "code",
   "execution_count": 27,
   "id": "c25903bf",
   "metadata": {},
   "outputs": [
    {
     "name": "stdout",
     "output_type": "stream",
     "text": [
      "CPU times: user 384 µs, sys: 34 µs, total: 418 µs\n",
      "Wall time: 425 µs\n"
     ]
    },
    {
     "data": {
      "text/plain": [
       "┌──────────┬──────────────┐\n",
       "│ severity │ count_star() │\n",
       "│ varchar  │    int64     │\n",
       "├──────────┼──────────────┤\n",
       "│ f        │           28 │\n",
       "│ i        │         3954 │\n",
       "│ p        │        24976 │\n",
       "└──────────┴──────────────┘"
      ]
     },
     "execution_count": 27,
     "metadata": {},
     "output_type": "execute_result"
    }
   ],
   "source": [
    "%%time\n",
    "dql(\"\"\"\n",
    "SELECT severity, count(*)\n",
    "FROM crashes\n",
    "WHERE cn='Hudson'\n",
    "AND icn IS NULL\n",
    "AND date_part('year', dt) >= 2017\n",
    "GROUP BY severity\n",
    "\"\"\")"
   ]
  },
  {
   "cell_type": "code",
   "execution_count": null,
   "id": "6299286a",
   "metadata": {},
   "outputs": [],
   "source": []
  }
 ],
 "metadata": {
  "kernelspec": {
   "display_name": "Python 3 (ipykernel)",
   "language": "python",
   "name": "python3"
  },
  "language_info": {
   "codemirror_mode": {
    "name": "ipython",
    "version": 3
   },
   "file_extension": ".py",
   "mimetype": "text/x-python",
   "name": "python",
   "nbconvert_exporter": "python",
   "pygments_lexer": "ipython3",
   "version": "3.9.13"
  }
 },
 "nbformat": 4,
 "nbformat_minor": 5
}
