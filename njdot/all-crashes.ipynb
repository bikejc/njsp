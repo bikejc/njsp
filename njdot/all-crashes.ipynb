{
 "cells": [
  {
   "cell_type": "code",
   "execution_count": null,
   "id": "6142bec2",
   "metadata": {},
   "outputs": [],
   "source": [
    "from utz import *\n",
    "from njdot import crashes, occupants, vehicles, pedestrians, drivers\n",
    "from njdot.crashes import Crashes, ksi_renames, road_cols\n",
    "from njdot.data import cc2cn, cn2cc\n",
    "from njdot.load import pk_base\n",
    "from njdot.paths import CNS, CRASHES_DB\n",
    "from nj_crashes.paths import PUBLIC_DIR"
   ]
  },
  {
   "cell_type": "code",
   "execution_count": null,
   "id": "d4bb9822",
   "metadata": {
    "scrolled": true
   },
   "outputs": [],
   "source": [
    "%%time\n",
    "c = crashes.load()\n",
    "c"
   ]
  },
  {
   "cell_type": "code",
   "execution_count": null,
   "id": "724ea5e0",
   "metadata": {},
   "outputs": [],
   "source": [
    "c.loc[c.index.to_series().duplicated(keep=False)]"
   ]
  },
  {
   "cell_type": "code",
   "execution_count": null,
   "id": "4cad1fbc",
   "metadata": {},
   "outputs": [],
   "source": [
    "pk_base"
   ]
  },
  {
   "cell_type": "code",
   "execution_count": null,
   "id": "a9e147e5",
   "metadata": {},
   "outputs": [],
   "source": [
    "c[c.duplicated(keep=False, subset=pk_base)]"
   ]
  },
  {
   "cell_type": "code",
   "execution_count": null,
   "id": "8fc4e370",
   "metadata": {},
   "outputs": [],
   "source": [
    "s = c[['year','cc', 'mc', 'case']]\n",
    "s.equals(s.sort_values(s.columns.tolist()))"
   ]
  },
  {
   "cell_type": "code",
   "execution_count": null,
   "id": "b5b0730f",
   "metadata": {
    "scrolled": true
   },
   "outputs": [],
   "source": [
    "ptc = c[(c.cc == 11) & (c.mc == 14) & (c.tk > 0)]\n",
    "ptc"
   ]
  },
  {
   "cell_type": "code",
   "execution_count": null,
   "id": "9e57eff8",
   "metadata": {},
   "outputs": [],
   "source": [
    "o = occupants.load()\n",
    "o"
   ]
  },
  {
   "cell_type": "code",
   "execution_count": null,
   "id": "adc92cfe",
   "metadata": {},
   "outputs": [],
   "source": [
    "o[o.crash_id.isin(ptc.index)]"
   ]
  },
  {
   "cell_type": "code",
   "execution_count": null,
   "id": "30b6b33d",
   "metadata": {},
   "outputs": [],
   "source": [
    "c[c.duplicated(keep=False, subset=pk_cols)]"
   ]
  },
  {
   "cell_type": "code",
   "execution_count": null,
   "id": "3944d717",
   "metadata": {},
   "outputs": [],
   "source": [
    "type(c)"
   ]
  },
  {
   "cell_type": "code",
   "execution_count": null,
   "id": "36f03b99",
   "metadata": {},
   "outputs": [],
   "source": [
    "assert c[['cc', 'cn']].set_index('cc')['cn'].groupby(lambda x:x).apply(lambda s: singleton(s.tolist())).to_dict() == cc2cn"
   ]
  },
  {
   "cell_type": "code",
   "execution_count": null,
   "id": "f297ff1a",
   "metadata": {
    "scrolled": true
   },
   "outputs": [],
   "source": [
    "gdf = c.gdf('o')\n",
    "gdf"
   ]
  },
  {
   "cell_type": "markdown",
   "id": "afe4742e",
   "metadata": {},
   "source": [
    "### Load county geometries"
   ]
  },
  {
   "cell_type": "code",
   "execution_count": null,
   "id": "4155b302",
   "metadata": {},
   "outputs": [],
   "source": [
    "from nj_crashes.geo import get_boundary_lls, get_county_coords, get_counties, get_county_geometries\n",
    "from geopandas.tools import sjoin\n",
    "import geopandas as gpd\n",
    "from shapely import box\n",
    "import simplejson\n",
    "from njdot.codes import CrashSeverity"
   ]
  },
  {
   "cell_type": "code",
   "execution_count": null,
   "id": "7669a88c",
   "metadata": {
    "scrolled": true
   },
   "outputs": [],
   "source": [
    "%%time\n",
    "cg = get_county_geometries()\n",
    "cg"
   ]
  },
  {
   "cell_type": "code",
   "execution_count": null,
   "id": "e9907c48",
   "metadata": {},
   "outputs": [],
   "source": [
    "%%time\n",
    "joined = sjoin(gdf.df[['olat', 'olon', 'geometry']], cg)\n",
    "joined = joined.rename(columns={ 'index_right': 'ocn', })\n",
    "joined"
   ]
  },
  {
   "cell_type": "code",
   "execution_count": null,
   "id": "b95bd1f3",
   "metadata": {},
   "outputs": [],
   "source": [
    "joined.ocn.value_counts().sort_index()"
   ]
  },
  {
   "cell_type": "code",
   "execution_count": null,
   "id": "dc1be0aa",
   "metadata": {},
   "outputs": [],
   "source": [
    "%%time\n",
    "with_ocn = sxs(gdf.df, joined.ocn).sort_index()"
   ]
  },
  {
   "cell_type": "code",
   "execution_count": null,
   "id": "72ef269f",
   "metadata": {
    "scrolled": true
   },
   "outputs": [],
   "source": [
    "%%time\n",
    "occ = with_ocn.ocn.map(cn2cc).astype('Int64').rename('occ')\n",
    "with_ocn = sxs(with_ocn, occ)\n",
    "with_ocn"
   ]
  },
  {
   "cell_type": "code",
   "execution_count": null,
   "id": "12c2fba8",
   "metadata": {},
   "outputs": [],
   "source": [
    "assert with_ocn.index.tolist() == list(range(len(with_ocn)))"
   ]
  },
  {
   "cell_type": "code",
   "execution_count": null,
   "id": "748287e9",
   "metadata": {
    "scrolled": true
   },
   "outputs": [],
   "source": [
    "ill = Crashes(with_ocn).mp_lls(append=True)\n",
    "ill"
   ]
  },
  {
   "cell_type": "code",
   "execution_count": null,
   "id": "ad654bd9",
   "metadata": {
    "scrolled": true
   },
   "outputs": [],
   "source": [
    "%%time\n",
    "igdf = Crashes(ill).gdf('i')\n",
    "igdf"
   ]
  },
  {
   "cell_type": "code",
   "execution_count": null,
   "id": "318251ce",
   "metadata": {},
   "outputs": [],
   "source": [
    "type(igdf)"
   ]
  },
  {
   "cell_type": "code",
   "execution_count": null,
   "id": "bcbb2778",
   "metadata": {},
   "outputs": [],
   "source": [
    "%%time\n",
    "ij = sjoin(igdf.df[['geometry']], cg)\n",
    "ij = ij.rename(columns={ 'index_right': 'icn', })\n",
    "ij"
   ]
  },
  {
   "cell_type": "code",
   "execution_count": null,
   "id": "042c2fdf",
   "metadata": {},
   "outputs": [],
   "source": [
    "%%time\n",
    "with_cns = sxs(igdf.df, ij.icn).sort_index()\n",
    "icc = with_cns.icn.map(cn2cc).astype('Int64').rename('icc')\n",
    "with_cns = sxs(with_cns, icc)\n",
    "with_cns"
   ]
  },
  {
   "cell_type": "code",
   "execution_count": null,
   "id": "99aae3ec",
   "metadata": {},
   "outputs": [],
   "source": [
    "with_cns.groupby(['cc', 'mc'])['mn'].apply(lambda s: s.value_counts())"
   ]
  },
  {
   "cell_type": "code",
   "execution_count": null,
   "id": "5b8d6f56",
   "metadata": {},
   "outputs": [],
   "source": [
    "assert with_cns.index.tolist() == list(range(len(with_cns)))"
   ]
  },
  {
   "cell_type": "code",
   "execution_count": null,
   "id": "651f9e73",
   "metadata": {},
   "outputs": [],
   "source": [
    "type(with_cns)"
   ]
  },
  {
   "cell_type": "code",
   "execution_count": null,
   "id": "8b339af4",
   "metadata": {},
   "outputs": [],
   "source": [
    "ill_cols = ['icc', 'ilat', 'ilon']\n",
    "oll_cols = ['occ', 'olat', 'olon']\n",
    "sql_cols = [\n",
    "    'dt',\n",
    "    *pk_cols,\n",
    "    *ksi_renames.values(),\n",
    "    'crash_type', 'severity',\n",
    "    *road_cols,\n",
    "    *ill_cols,\n",
    "    *oll_cols,\n",
    "]"
   ]
  },
  {
   "cell_type": "code",
   "execution_count": null,
   "id": "6fabe938",
   "metadata": {},
   "outputs": [],
   "source": [
    "sd = with_cns[sql_cols]\n",
    "sd"
   ]
  },
  {
   "cell_type": "code",
   "execution_count": null,
   "id": "3f6e597b",
   "metadata": {},
   "outputs": [],
   "source": [
    "from nj_crashes.utils import sql\n",
    "\n",
    "def write_sql(df, db_path, rm=True, tbl='crashes'):\n",
    "    return sql.write(\n",
    "        df, tbl=tbl, db_path=db_path,\n",
    "        idxs=[\n",
    "            ('severity', 'dt', 'cc', 'mc'),\n",
    "            ('severity', 'ilat', 'ilon'),\n",
    "            ('severity', 'icc', 'dt'),\n",
    "        ]\n",
    "    )"
   ]
  },
  {
   "cell_type": "code",
   "execution_count": null,
   "id": "5411a244",
   "metadata": {},
   "outputs": [],
   "source": [
    "%%time\n",
    "cur = write_sql(sd, CRASHES_DB)\n",
    "cur"
   ]
  },
  {
   "cell_type": "code",
   "execution_count": null,
   "id": "b00fd393",
   "metadata": {},
   "outputs": [],
   "source": [
    "cur.execute(\"Select * from SQLite_master\")\n",
    "idxs = cur.fetchall()\n",
    "idxs"
   ]
  },
  {
   "cell_type": "code",
   "execution_count": null,
   "id": "acd1f31f",
   "metadata": {},
   "outputs": [],
   "source": [
    "%%time\n",
    "with_cns.drop(columns='geometry').to_parquet(CNS)"
   ]
  }
 ],
 "metadata": {
  "kernelspec": {
   "display_name": "Python 3 (ipykernel)",
   "language": "python",
   "name": "python3"
  },
  "language_info": {
   "codemirror_mode": {
    "name": "ipython",
    "version": 3
   },
   "file_extension": ".py",
   "mimetype": "text/x-python",
   "name": "python",
   "nbconvert_exporter": "python",
   "pygments_lexer": "ipython3",
   "version": "3.9.13"
  }
 },
 "nbformat": 4,
 "nbformat_minor": 5
}
