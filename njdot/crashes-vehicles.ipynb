{
 "cells": [
  {
   "cell_type": "code",
   "execution_count": null,
   "id": "14d542e2",
   "metadata": {},
   "outputs": [],
   "source": [
    "from utz import *"
   ]
  },
  {
   "cell_type": "code",
   "execution_count": null,
   "id": "71843843",
   "metadata": {},
   "outputs": [],
   "source": [
    "cs = read_parquet('data/2020/NewJersey2020Accidents.pqt')\n",
    "vs = read_parquet('data/2020/NewJersey2020Vehicles.pqt')\n",
    "cs"
   ]
  },
  {
   "cell_type": "markdown",
   "id": "d7815ec2",
   "metadata": {},
   "source": [
    "<details><summary><h2>Crash Type Codes, <a href=\"https://www.state.nj.us/transportation/refdata/accident/pdf/NJTR-1CrashReportManual.pdf\">2017 manual</a>, pg 67:</h2></summary>\n",
    "\n",
    "> ### CRASH TYPE\n",
    "> \n",
    "> With other MV as first event\n",
    "> - 01 - Same Direction (Read-End)\n",
    "> - 02 - Same Direction (Side Swipe)\n",
    "> - 03 - Right Angle\n",
    "> - 04 - Opposite Direction (Head on, Angular)\n",
    "> - 05 - Opposite Direction (Side Swipe)\n",
    "> - 06 - Struck Parked Vehicle\n",
    "> - 07 - Left Turn/U-turn\n",
    "> - 08 - Backing\n",
    "> - 09 - Encroachment\n",
    "> \n",
    "> With below as first event\n",
    "> - 10 - Overturn\n",
    "> - 11 - Fixed Object\n",
    "> - 12 - Animal\n",
    "> - 13 - Pedestrian\n",
    "> - 14 - Pedalcyclist\n",
    "> - 15 - Non-fixed Object\n",
    "> - 16 - Railcar Vehicle\n",
    "</details>"
   ]
  },
  {
   "cell_type": "code",
   "execution_count": null,
   "id": "71dd8942",
   "metadata": {},
   "outputs": [],
   "source": [
    "cs['Crash Type Code'].value_counts().sort_index()"
   ]
  },
  {
   "cell_type": "code",
   "execution_count": null,
   "id": "df505e4d",
   "metadata": {},
   "outputs": [],
   "source": [
    "vs"
   ]
  },
  {
   "cell_type": "code",
   "execution_count": null,
   "id": "0ebf4ee2",
   "metadata": {},
   "outputs": [],
   "source": [
    "cmd_hist = vs[['County Code', 'Municipality Code', 'Department Case Number']].value_counts()\n",
    "cmd_hist"
   ]
  },
  {
   "cell_type": "markdown",
   "id": "89b6a5f1",
   "metadata": {},
   "source": [
    "Expectation is that \"vehicle\" records are numbered \\[1,N\\] for each {County, Muni, Dept Case Number} (which is the primary key for a \"crash\" record):"
   ]
  },
  {
   "cell_type": "code",
   "execution_count": null,
   "id": "605b57b8",
   "metadata": {},
   "outputs": [],
   "source": [
    "%%time\n",
    "def check_vehicle_numbers(df):\n",
    "    if df['Vehicle Number'].astype(int).tolist() != list(range(1, len(df) + 1)):\n",
    "        return ','.join(df['Vehicle Number'].tolist())\n",
    "    else:\n",
    "        return nan\n",
    "\n",
    "bad_vn_groups = vs.groupby(['County Code', 'Municipality Code', 'Department Case Number']).apply(check_vehicle_numbers).dropna()\n",
    "bad_vn_groups.value_counts()"
   ]
  },
  {
   "cell_type": "code",
   "execution_count": null,
   "id": "370b8c76",
   "metadata": {},
   "outputs": [],
   "source": [
    "cc = cs[['County Code', 'Municipality Code', 'Department Case Number']].value_counts()\n",
    "cc"
   ]
  },
  {
   "cell_type": "code",
   "execution_count": null,
   "id": "abab037d",
   "metadata": {},
   "outputs": [],
   "source": [
    "pi = cs['Pedestrians Injured'].sum()\n",
    "pk = cs['Pedestrians Killed'].sum()\n",
    "ti = cs['Total Injured'].sum()\n",
    "tk = cs['Total Killed'].sum()\n",
    "tk, ti, pk, pi, pi/pk, ti/tk"
   ]
  },
  {
   "cell_type": "code",
   "execution_count": null,
   "id": "6d9a623a",
   "metadata": {},
   "outputs": [],
   "source": [
    "cs.Severity.value_counts()"
   ]
  },
  {
   "cell_type": "code",
   "execution_count": null,
   "id": "ca3fc235",
   "metadata": {},
   "outputs": [],
   "source": [
    "cs['Total Injured'].sum()"
   ]
  },
  {
   "cell_type": "code",
   "execution_count": null,
   "id": "e5efd3b9",
   "metadata": {},
   "outputs": [],
   "source": [
    "vs.set_index(['County Code', 'Municipality Code', 'Department Case Number']).loc[('09', '08', '20L542')]"
   ]
  },
  {
   "cell_type": "markdown",
   "id": "e8363122",
   "metadata": {},
   "source": [
    "<details><summary><h2>Pre-Crash Action, <a href=\"https://www.state.nj.us/transportation/refdata/accident/pdf/NJTR-1CrashReportManual.pdf\">2017 manual</a>, pg 86:</h2></summary>\n",
    "\n",
    "> #### Vehicle/Pedalcyclist Action (01-29)\n",
    "> - 01 - Going Straight Ahead\n",
    "> - 02 - Making Right Turn (not turn on red)\n",
    "> - 03 - Making Left Turn\n",
    "> - 04 - Making U Turn\n",
    "> - 05 - Starting From Parking\n",
    "> - 06 - Starting In Traffic\n",
    "> - 07 - Slowing or Stopping\n",
    "> - 08 - Stopped In Traffic\n",
    "> - 09 - Parking\n",
    "> - 10 - Parked\n",
    "> - 11 - Changing Lanes\n",
    "> - 12 - Merging/Entering Traffic Lane\n",
    "> - 13 - Backing\n",
    "> - 14 - Driverless/Moving\n",
    "> - 15 - Passing\n",
    "> - 16 - Negotiating Curve\n",
    "> - 17 - Driving on Shoulder\n",
    "> - 18 - Right Turn on Red Signal\n",
    "> - 19 - Deliberate Action*\n",
    "> - 29 - Other Veh/Cyclist Action*\n",
    ">\n",
    "> #### Pedestrian Action (31-49)\n",
    "> - 31 - Pedestrian Off Road\n",
    "> - 32 - Walking To/From School\n",
    "> - 33 - Walking/Jogging On Road W/Traffic\n",
    "> - 34 - Walking/Jogging On Road Against Traffic\n",
    "> - 35 - Playing In Road\n",
    "> - 36 - Standing/Lying/Kneeling In Road\n",
    "> - 37 - Getting On or Off Vehicle\n",
    "> - 38 - Pushing or Working On Vehicle\n",
    "> - 39 - Other Working In Roadway\n",
    "> - 40 - Approaching or Leaving School Bus\n",
    "> - 41 - Coming From Behind Parked Vehicle\n",
    "> - 42 - Crossing / Jaywalking\n",
    "> - 43 - Crossing at “Marked” Crosswalk at intersection\n",
    "> - 44 - Crossing at “Unmarked” Crosswalk at intersection\n",
    "> - 45 - Crossing at “Marked” Crosswalk at Mid-Block\n",
    "> - 46 - Deliberate Action*\n",
    "> - 49 - Other Pedestrian Action*\n",
    "</details>"
   ]
  },
  {
   "cell_type": "code",
   "execution_count": null,
   "id": "62331a78",
   "metadata": {},
   "outputs": [],
   "source": [
    "vs['Pre-Crash Action'].value_counts().sort_index()"
   ]
  },
  {
   "cell_type": "markdown",
   "id": "a9e44ebf",
   "metadata": {},
   "source": [
    "<details><summary><h2>Most Harmful Event / Sequence of Events, <a href=\"https://www.state.nj.us/transportation/refdata/accident/pdf/NJTR-1CrashReportManual.pdf\">2017 manual</a>, pg 90:</h2></summary>\n",
    "\n",
    "> ### SEQUENCE OF EVENTS\n",
    ">\n",
    "> #### Non-Collision 01 – 19\n",
    "> - 01 - Overturn/Rollover\n",
    "> - 02 - Fire/Explosion\n",
    "> - 03 - Immersion\n",
    "> - 04 - Jackknife\n",
    "> - 05 - Ran Off Road- Right**\n",
    "> - 06 - Ran Off Road- Left**\n",
    "> - 07 - Cross Median**\n",
    "> - 08 - Crossed Centerline**\n",
    "> - 09 - Cargo/Equip Loss or Shift\n",
    "> - 10 - Separation of Units**\n",
    "> - 11 - Fell/Jumped From Vehicle\n",
    "> - 12 - Thrown/Falling Object\n",
    "> - 13 - Equipment Failure (blown tire, brake failure etc.)**\n",
    "> - 14 - Downhill Runaway**\n",
    "> - 15 - Reentered Roadway**\n",
    "> - 19 - Other Non-Collision*\n",
    ">\n",
    "> #### Collision w/Person, MV or Non-Fixed Object 21– 39 \n",
    "> - 21 - Pedalcyclist\n",
    "> - 22 - Pedestrian\n",
    "> - 23 - Train/Trolley/Other Railcar\n",
    "> - 24 - Deer\n",
    "> - 25 - Other Animal\n",
    "> - 26 - MV in Transport\n",
    "> - 27 - MV in Transport, Other Roadway\n",
    "> - 28 - Parked MV\n",
    "> - 29 - Work Zone/Maintenance Equipment\n",
    "> - 30 - Struck By Object Set in Motion By MV\n",
    "> - 39 - Other Non-Fixed Object*\n",
    ">\n",
    "> #### Collision w/Fixed Object 41 - 69\n",
    "> - 41 - Impact Attenuator/Crash Cushion\n",
    "> - 42 - Bridge Overhead Structure\n",
    "> - 43 - Bridge Pier or Support\n",
    "> - 44 - Bridge Parapet End\n",
    "> - 45 - Bridge Rail\n",
    "> - 46 – Guide Rail Face\n",
    "> - 47 – Guide Rail End\n",
    "> - 48 - Concrete Traffic Barrier\n",
    "> - 49 - Other Traffic Barrier\n",
    "> - 50 - Traffic Sign Support\n",
    "> - 51 - Traffic Signal Standard\n",
    "> - 52 - Utility Pole\n",
    "> - 53 - Light Standard\n",
    "> - 54 - Other Post, Pole, Support\n",
    "> - 55 - Culvert\n",
    "> - 56 - Curb\n",
    "> - 57 - Ditch\n",
    "> - 58 - Embankment\n",
    "> - 59 - Fence\n",
    "> - 60 - Tree\n",
    "> - 61 - Mailbox\n",
    "> - 62 - Fire Hydrant\n",
    "> - 69 - Other Fixed Object*\n",
    "</details>"
   ]
  },
  {
   "cell_type": "code",
   "execution_count": null,
   "id": "61c3580e",
   "metadata": {
    "scrolled": true
   },
   "outputs": [],
   "source": [
    "sxs(\n",
    "    vs['Most Harmful Event'].value_counts().sort_index(),\n",
    "    *[\n",
    "    vs[f'{k} Sequence of Events'].value_counts().sort_index()\n",
    "    for k in [ 'First', 'Second', 'Third', 'Fourth' ]\n",
    "    ]\n",
    ").fillna(0).astype(int).sort_index()"
   ]
  },
  {
   "cell_type": "markdown",
   "id": "f493d77e",
   "metadata": {},
   "source": [
    "<details><summary><h2>Contributing Circumstances, <a href=\"https://www.state.nj.us/transportation/refdata/accident/pdf/NJTR-1CrashReportManual.pdf\">2017 manual</a>, pg 80:</h2></summary>\n",
    "\n",
    "> ### Apparent Contributing Circumstances\n",
    "> \n",
    "> #### Human/ Driver Actions 01 – 29\n",
    "> - 01 - Unsafe Speed\n",
    "> - 02 - Driver Inattention*\n",
    "> - 03 - Failed to Obey Traffic Signal\n",
    "> - 04 - Failed to Yield ROW to Vehicle/Pedestrian\n",
    "> - 05 - Improper Lane Change\n",
    "> - 06 - Improper Passing\n",
    "> - 07 - Improper Use/Failed to Use turn signal\n",
    "> - 08 - Improper Turning\n",
    "> - 09 - Following Too Closely\n",
    "> - 10 - Backing Unsafely\n",
    "> - 11 - Improper use/no lights\n",
    "> - 12 - Wrong Way\n",
    "> - 13 - Improper Parking\n",
    "> - 14 - Failure to Keep Right\n",
    "> - 15 - Failure to remove Snow/Ice\n",
    "> - 16 - Failure to Obey Stop Sign\n",
    "> - 17 - Distracted – Hand Held Electronic Device*\n",
    "> - 18 - Distracted – Hands Free Electronic Device*\n",
    "> - 19 - Distracted by passenger*\n",
    "> - 20 - Other Distraction Inside Vehicle*\n",
    "> - 21 - Other Distraction Outside Vehicle*\n",
    "> - 25 - None\n",
    "> - 29 - Other Driver/Pedalcyclist Action*\n",
    ">\n",
    "> #### Vehicle Factors 31 – 49\n",
    "> - 31 - Defective Lights\n",
    "> - 32 - Brakes*\n",
    "> - 33 - Steering*\n",
    "> - 34 - Tire *\n",
    "> - 35 - Wheels*\n",
    "> - 36 - Windows/Windshield*\n",
    "> - 37 - Mirrors\n",
    "> - 38 - Wipers\n",
    "> - 39 - Vehicle Coupling/Hitch/Safety Chains*\n",
    "> - 49 - Other Vehicle Factor* \n",
    ">\n",
    "> #### Road/Environmental Factors 51 – 69\n",
    "> - 51 - Road Surface Condition*\n",
    "> - 52 - Obstruction/Debris on Road*\n",
    "> - 53 - Ruts, Holes, Bumps*\n",
    "> - 54 - Traffic Control Device Defective/Missing*\n",
    "> - 55 - Improper Work Zone*\n",
    "> - 56 - Physical Obstruction(s) (viewing, etc)*\n",
    "> - 57 - Animal(s) in Roadway*\n",
    "> - 58 - Improper/Inadequate Lane Markings*\n",
    "> - 59 - Sun Glare*\n",
    "> - 60 - Traffic Congestion – Prior Incident*\n",
    "> - 61 - Traffic Congestion – Regular*\n",
    "> - 69 - Other Roadway Factors*\n",
    ">\n",
    "> #### Pedestrian Factors 71 - 89\n",
    "> - 71 - Failed to obey Traffic control Device\n",
    "> - 72 - Crossing where prohibited\n",
    "> - 73 - Dark clothing/Low visibility to driver\n",
    "> - 74 - Inattentive*\n",
    "> - 75 - Failure to yield Right of Way\n",
    "> - 76 - Walking on wrong side of road\n",
    "> - 77 - Walking in road when sidewalk is present\n",
    "> - 78 - Running/Darting Across Traffic\n",
    "> - 85 - None\n",
    "> - 89 - Other Pedestrian Factors*\n",
    "</details>"
   ]
  },
  {
   "cell_type": "code",
   "execution_count": null,
   "id": "30d258cf",
   "metadata": {
    "scrolled": true
   },
   "outputs": [],
   "source": [
    "vs['Contributing Circumstances 1'].value_counts().sort_index()"
   ]
  },
  {
   "cell_type": "code",
   "execution_count": null,
   "id": "53f1e667",
   "metadata": {
    "scrolled": true
   },
   "outputs": [],
   "source": [
    "vs['Contributing Circumstances 2'].value_counts().sort_index()"
   ]
  },
  {
   "cell_type": "markdown",
   "id": "0ceebda8",
   "metadata": {},
   "source": [
    "<details><summary><h2>Extent of Damage, <a href=\"https://www.state.nj.us/transportation/refdata/accident/pdf/NJTR-1CrashReportManual.pdf\">2017 manual</a>, pg 96:</h2></summary>\n",
    "\n",
    "> 01 – None\n",
    ">\n",
    "> 02 – Minor - Damage that does not affect the operation of or disable the motor vehicle in transport.\n",
    ">\n",
    "> 03 – Moderate / Functional - Damage that is not disabling, but affects operation of the motor vehicle or\n",
    "its parts.\n",
    ">\n",
    "> 04 – Disabling - Damage that precludes departure of the motor vehicle from the scene of the crash in its\n",
    "usual daylight-operating manner after simple repairs. As a result, the motor vehicle had to be towed, or\n",
    "carried from crash scene, or assisted by an emergency motor vehicle. im\n",
    "</details>"
   ]
  },
  {
   "cell_type": "code",
   "execution_count": null,
   "id": "44f02a29",
   "metadata": {},
   "outputs": [],
   "source": [
    "vs['Extent of Damage'].value_counts().sort_index()"
   ]
  },
  {
   "cell_type": "code",
   "execution_count": null,
   "id": "ad02b596",
   "metadata": {},
   "outputs": [],
   "source": [
    "vs['Hit & Run Driver Flag'].value_counts()"
   ]
  },
  {
   "cell_type": "code",
   "execution_count": null,
   "id": "df93d502",
   "metadata": {},
   "outputs": [],
   "source": [
    "vs['Towed'].value_counts()"
   ]
  },
  {
   "cell_type": "code",
   "execution_count": null,
   "id": "7c76b85e",
   "metadata": {},
   "outputs": [],
   "source": [
    "vs['Removed By'].value_counts()"
   ]
  },
  {
   "cell_type": "markdown",
   "id": "e330e285",
   "metadata": {},
   "source": [
    "## \"Driven/Left at Scene/Towed\"\n",
    "From [2017VehicleTable.pdf](data/fields/2017VehicleTable.pdf):\n",
    "- 1 - Driven\n",
    "- 2 - Left at Scene\n",
    "- 3 - Towed Disabled\n",
    "- 4 - Towed Impounded\n",
    "- 5 - Towed Disabled & Impounded"
   ]
  },
  {
   "cell_type": "code",
   "execution_count": null,
   "id": "030f3dc1",
   "metadata": {},
   "outputs": [],
   "source": [
    "vs['Driven/Left at Scene/Towed'].value_counts().sort_index()"
   ]
  },
  {
   "cell_type": "code",
   "execution_count": null,
   "id": "4f51779e",
   "metadata": {},
   "outputs": [],
   "source": [
    "vs['Vehicle Weight Rating'].value_counts().sort_index()"
   ]
  },
  {
   "cell_type": "code",
   "execution_count": null,
   "id": "6ed24ef6",
   "metadata": {},
   "outputs": [],
   "source": [
    "make = vs['Make of Vehicle'].value_counts()\n",
    "make"
   ]
  },
  {
   "cell_type": "code",
   "execution_count": null,
   "id": "ed2f29e3",
   "metadata": {
    "scrolled": true
   },
   "outputs": [],
   "source": [
    "make.iloc[:100]"
   ]
  },
  {
   "cell_type": "code",
   "execution_count": null,
   "id": "7ae915dd",
   "metadata": {},
   "outputs": [],
   "source": [
    "(vs[['USDOT / OTHER Number', 'USDOT / Other Flag', 'USDOT Number']] != '').sum()"
   ]
  },
  {
   "cell_type": "code",
   "execution_count": null,
   "id": "2b8252e7",
   "metadata": {},
   "outputs": [],
   "source": [
    "vs[vs['USDOT Number'] != '']"
   ]
  },
  {
   "cell_type": "code",
   "execution_count": null,
   "id": "cb03acb2",
   "metadata": {
    "scrolled": true
   },
   "outputs": [],
   "source": [
    "vs['License Plate State'].value_counts()"
   ]
  },
  {
   "cell_type": "code",
   "execution_count": null,
   "id": "4d811c9a",
   "metadata": {
    "scrolled": true
   },
   "outputs": [],
   "source": [
    "vs['Owner State'].value_counts()"
   ]
  }
 ],
 "metadata": {
  "kernelspec": {
   "display_name": "Python 3 (ipykernel)",
   "language": "python",
   "name": "python3"
  },
  "language_info": {
   "codemirror_mode": {
    "name": "ipython",
    "version": 3
   },
   "file_extension": ".py",
   "mimetype": "text/x-python",
   "name": "python",
   "nbconvert_exporter": "python",
   "pygments_lexer": "ipython3",
   "version": "3.9.13"
  }
 },
 "nbformat": 4,
 "nbformat_minor": 5
}
