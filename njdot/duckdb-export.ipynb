{
 "cells": [
  {
   "cell_type": "code",
   "execution_count": 2,
   "id": "b9f0f061",
   "metadata": {},
   "outputs": [],
   "source": [
    "from nj_crashes.paths import PUBLIC_DIR, NJDOT_DIR\n",
    "from nj_crashes.crashes import Crashes\n",
    "from utz import *\n",
    "\n",
    "import duckdb"
   ]
  },
  {
   "cell_type": "code",
   "execution_count": 3,
   "id": "37f18bdf",
   "metadata": {},
   "outputs": [],
   "source": [
    "df = Crashes.load()"
   ]
  },
  {
   "cell_type": "code",
   "execution_count": 4,
   "id": "af098b4f",
   "metadata": {},
   "outputs": [
    {
     "data": {
      "text/html": [
       "<div>\n",
       "<style scoped>\n",
       "    .dataframe tbody tr th:only-of-type {\n",
       "        vertical-align: middle;\n",
       "    }\n",
       "\n",
       "    .dataframe tbody tr th {\n",
       "        vertical-align: top;\n",
       "    }\n",
       "\n",
       "    .dataframe thead th {\n",
       "        text-align: right;\n",
       "    }\n",
       "</style>\n",
       "<table border=\"1\" class=\"dataframe\">\n",
       "  <thead>\n",
       "    <tr style=\"text-align: right;\">\n",
       "      <th></th>\n",
       "      <th>year</th>\n",
       "      <th>cc</th>\n",
       "      <th>mc</th>\n",
       "      <th>case</th>\n",
       "      <th>cn</th>\n",
       "      <th>mn</th>\n",
       "      <th>pdc</th>\n",
       "      <th>pdn</th>\n",
       "      <th>station</th>\n",
       "      <th>Total Killed</th>\n",
       "      <th>Total Injured</th>\n",
       "      <th>Pedestrians Killed</th>\n",
       "      <th>Pedestrians Injured</th>\n",
       "      <th>severity</th>\n",
       "      <th>Intersection</th>\n",
       "      <th>Alcohol Involved</th>\n",
       "      <th>HazMat Involved</th>\n",
       "      <th>crash_type</th>\n",
       "      <th>Total Vehicles Involved</th>\n",
       "      <th>Crash Location</th>\n",
       "      <th>Location Direction</th>\n",
       "      <th>Route</th>\n",
       "      <th>Route Suffix</th>\n",
       "      <th>sri</th>\n",
       "      <th>mp</th>\n",
       "      <th>Road System</th>\n",
       "      <th>Road Character</th>\n",
       "      <th>Road Surface Type</th>\n",
       "      <th>Surface Condition</th>\n",
       "      <th>Light Condition</th>\n",
       "      <th>Environmental Condition</th>\n",
       "      <th>Road Divided By</th>\n",
       "      <th>Temporary Traffic Control Zone</th>\n",
       "      <th>Distance To Cross Street</th>\n",
       "      <th>Unit Of Measurement</th>\n",
       "      <th>Direction From Cross Street</th>\n",
       "      <th>Cross Street Name</th>\n",
       "      <th>Is Ramp</th>\n",
       "      <th>Ramp To/From Route Name</th>\n",
       "      <th>Ramp To/From Route Direction</th>\n",
       "      <th>Posted Speed</th>\n",
       "      <th>Posted Speed Cross Street</th>\n",
       "      <th>olat</th>\n",
       "      <th>olon</th>\n",
       "      <th>Cell Phone In Use Flag</th>\n",
       "      <th>Other Property Damage</th>\n",
       "      <th>Reporting Badge No.</th>\n",
       "      <th>dt</th>\n",
       "      <th>Road Horizontal Alignment</th>\n",
       "      <th>Road Grade</th>\n",
       "      <th>First Harmful Event</th>\n",
       "    </tr>\n",
       "    <tr>\n",
       "      <th>id</th>\n",
       "      <th></th>\n",
       "      <th></th>\n",
       "      <th></th>\n",
       "      <th></th>\n",
       "      <th></th>\n",
       "      <th></th>\n",
       "      <th></th>\n",
       "      <th></th>\n",
       "      <th></th>\n",
       "      <th></th>\n",
       "      <th></th>\n",
       "      <th></th>\n",
       "      <th></th>\n",
       "      <th></th>\n",
       "      <th></th>\n",
       "      <th></th>\n",
       "      <th></th>\n",
       "      <th></th>\n",
       "      <th></th>\n",
       "      <th></th>\n",
       "      <th></th>\n",
       "      <th></th>\n",
       "      <th></th>\n",
       "      <th></th>\n",
       "      <th></th>\n",
       "      <th></th>\n",
       "      <th></th>\n",
       "      <th></th>\n",
       "      <th></th>\n",
       "      <th></th>\n",
       "      <th></th>\n",
       "      <th></th>\n",
       "      <th></th>\n",
       "      <th></th>\n",
       "      <th></th>\n",
       "      <th></th>\n",
       "      <th></th>\n",
       "      <th></th>\n",
       "      <th></th>\n",
       "      <th></th>\n",
       "      <th></th>\n",
       "      <th></th>\n",
       "      <th></th>\n",
       "      <th></th>\n",
       "      <th></th>\n",
       "      <th></th>\n",
       "      <th></th>\n",
       "      <th></th>\n",
       "      <th></th>\n",
       "      <th></th>\n",
       "      <th></th>\n",
       "    </tr>\n",
       "  </thead>\n",
       "  <tbody>\n",
       "    <tr>\n",
       "      <th>0</th>\n",
       "      <td>2001</td>\n",
       "      <td>1</td>\n",
       "      <td>1</td>\n",
       "      <td>#2001-17846</td>\n",
       "      <td>Atlantic</td>\n",
       "      <td>Absecon City</td>\n",
       "      <td>01</td>\n",
       "      <td>Absecon City</td>\n",
       "      <td>MUNICIPAL COMP?</td>\n",
       "      <td>0</td>\n",
       "      <td>0</td>\n",
       "      <td>0</td>\n",
       "      <td>0</td>\n",
       "      <td>p</td>\n",
       "      <td>B</td>\n",
       "      <td>False</td>\n",
       "      <td>False</td>\n",
       "      <td>03</td>\n",
       "      <td>2</td>\n",
       "      <td>CALDERON AVENUE</td>\n",
       "      <td></td>\n",
       "      <td></td>\n",
       "      <td></td>\n",
       "      <td></td>\n",
       "      <td>NaN</td>\n",
       "      <td>07</td>\n",
       "      <td>02</td>\n",
       "      <td>02</td>\n",
       "      <td>01</td>\n",
       "      <td>06</td>\n",
       "      <td>01</td>\n",
       "      <td>05</td>\n",
       "      <td>01</td>\n",
       "      <td>100</td>\n",
       "      <td>FE</td>\n",
       "      <td>N</td>\n",
       "      <td>RT 30</td>\n",
       "      <td></td>\n",
       "      <td></td>\n",
       "      <td></td>\n",
       "      <td>25</td>\n",
       "      <td></td>\n",
       "      <td>NaN</td>\n",
       "      <td>NaN</td>\n",
       "      <td>N</td>\n",
       "      <td>NEVER SAW V-1 MINOR DAMAGE - NO INJURIES REPOR...</td>\n",
       "      <td>830</td>\n",
       "      <td>2001-12-21 18:34:00</td>\n",
       "      <td>NaN</td>\n",
       "      <td>NaN</td>\n",
       "      <td>NaN</td>\n",
       "    </tr>\n",
       "    <tr>\n",
       "      <th>1</th>\n",
       "      <td>2001</td>\n",
       "      <td>1</td>\n",
       "      <td>1</td>\n",
       "      <td>01-00029</td>\n",
       "      <td>Atlantic</td>\n",
       "      <td>Absecon City</td>\n",
       "      <td>1</td>\n",
       "      <td>Absecon</td>\n",
       "      <td></td>\n",
       "      <td>0</td>\n",
       "      <td>0</td>\n",
       "      <td>0</td>\n",
       "      <td>0</td>\n",
       "      <td>p</td>\n",
       "      <td>B</td>\n",
       "      <td>False</td>\n",
       "      <td>False</td>\n",
       "      <td>06</td>\n",
       "      <td>2</td>\n",
       "      <td>RITZ DRIVE</td>\n",
       "      <td></td>\n",
       "      <td></td>\n",
       "      <td></td>\n",
       "      <td></td>\n",
       "      <td>NaN</td>\n",
       "      <td>07</td>\n",
       "      <td>01</td>\n",
       "      <td>02</td>\n",
       "      <td>03</td>\n",
       "      <td>06</td>\n",
       "      <td>01</td>\n",
       "      <td>05</td>\n",
       "      <td>01</td>\n",
       "      <td></td>\n",
       "      <td></td>\n",
       "      <td></td>\n",
       "      <td></td>\n",
       "      <td></td>\n",
       "      <td></td>\n",
       "      <td></td>\n",
       "      <td>25</td>\n",
       "      <td></td>\n",
       "      <td>NaN</td>\n",
       "      <td>NaN</td>\n",
       "      <td>N</td>\n",
       "      <td></td>\n",
       "      <td>836</td>\n",
       "      <td>2001-01-01 09:30:00</td>\n",
       "      <td>NaN</td>\n",
       "      <td>NaN</td>\n",
       "      <td>NaN</td>\n",
       "    </tr>\n",
       "    <tr>\n",
       "      <th>2</th>\n",
       "      <td>2001</td>\n",
       "      <td>1</td>\n",
       "      <td>1</td>\n",
       "      <td>01-004615</td>\n",
       "      <td>Atlantic</td>\n",
       "      <td>Absecon City</td>\n",
       "      <td>1</td>\n",
       "      <td>Absecon</td>\n",
       "      <td></td>\n",
       "      <td>0</td>\n",
       "      <td>4</td>\n",
       "      <td>0</td>\n",
       "      <td>0</td>\n",
       "      <td>i</td>\n",
       "      <td>I</td>\n",
       "      <td>False</td>\n",
       "      <td>False</td>\n",
       "      <td>03</td>\n",
       "      <td>2</td>\n",
       "      <td>MORTON AVENUE</td>\n",
       "      <td></td>\n",
       "      <td></td>\n",
       "      <td></td>\n",
       "      <td></td>\n",
       "      <td>NaN</td>\n",
       "      <td>07</td>\n",
       "      <td>01</td>\n",
       "      <td>02</td>\n",
       "      <td>01</td>\n",
       "      <td>01</td>\n",
       "      <td>01</td>\n",
       "      <td>05</td>\n",
       "      <td>01</td>\n",
       "      <td></td>\n",
       "      <td>AT</td>\n",
       "      <td></td>\n",
       "      <td>NEW YORK AVENUE</td>\n",
       "      <td></td>\n",
       "      <td></td>\n",
       "      <td></td>\n",
       "      <td>25</td>\n",
       "      <td></td>\n",
       "      <td>NaN</td>\n",
       "      <td>NaN</td>\n",
       "      <td>N</td>\n",
       "      <td></td>\n",
       "      <td>836</td>\n",
       "      <td>2001-04-10 14:44:00</td>\n",
       "      <td>NaN</td>\n",
       "      <td>NaN</td>\n",
       "      <td>NaN</td>\n",
       "    </tr>\n",
       "    <tr>\n",
       "      <th>3</th>\n",
       "      <td>2001</td>\n",
       "      <td>1</td>\n",
       "      <td>1</td>\n",
       "      <td>01-004880</td>\n",
       "      <td>Atlantic</td>\n",
       "      <td>Absecon City</td>\n",
       "      <td>1</td>\n",
       "      <td>Absecon</td>\n",
       "      <td></td>\n",
       "      <td>0</td>\n",
       "      <td>1</td>\n",
       "      <td>0</td>\n",
       "      <td>0</td>\n",
       "      <td>i</td>\n",
       "      <td>B</td>\n",
       "      <td>False</td>\n",
       "      <td>False</td>\n",
       "      <td>01</td>\n",
       "      <td>2</td>\n",
       "      <td>RT 30</td>\n",
       "      <td></td>\n",
       "      <td>30</td>\n",
       "      <td></td>\n",
       "      <td>00000030__</td>\n",
       "      <td>51.10</td>\n",
       "      <td>02</td>\n",
       "      <td>01</td>\n",
       "      <td>02</td>\n",
       "      <td>01</td>\n",
       "      <td>01</td>\n",
       "      <td>01</td>\n",
       "      <td>05</td>\n",
       "      <td>01</td>\n",
       "      <td></td>\n",
       "      <td></td>\n",
       "      <td></td>\n",
       "      <td></td>\n",
       "      <td></td>\n",
       "      <td></td>\n",
       "      <td></td>\n",
       "      <td>45</td>\n",
       "      <td></td>\n",
       "      <td>NaN</td>\n",
       "      <td>NaN</td>\n",
       "      <td>N</td>\n",
       "      <td>WITNESS-PETRIA GIBSON AND ANGELO HERSH</td>\n",
       "      <td>886</td>\n",
       "      <td>2001-04-15 13:56:00</td>\n",
       "      <td>NaN</td>\n",
       "      <td>NaN</td>\n",
       "      <td>NaN</td>\n",
       "    </tr>\n",
       "    <tr>\n",
       "      <th>4</th>\n",
       "      <td>2001</td>\n",
       "      <td>1</td>\n",
       "      <td>1</td>\n",
       "      <td>01-004912</td>\n",
       "      <td>Atlantic</td>\n",
       "      <td>Absecon City</td>\n",
       "      <td>1</td>\n",
       "      <td>Absecon</td>\n",
       "      <td></td>\n",
       "      <td>0</td>\n",
       "      <td>0</td>\n",
       "      <td>0</td>\n",
       "      <td>0</td>\n",
       "      <td>p</td>\n",
       "      <td>I</td>\n",
       "      <td>False</td>\n",
       "      <td>False</td>\n",
       "      <td>01</td>\n",
       "      <td>2</td>\n",
       "      <td>CR 651</td>\n",
       "      <td></td>\n",
       "      <td>651</td>\n",
       "      <td></td>\n",
       "      <td></td>\n",
       "      <td>NaN</td>\n",
       "      <td>05</td>\n",
       "      <td>02</td>\n",
       "      <td>02</td>\n",
       "      <td>02</td>\n",
       "      <td>01</td>\n",
       "      <td>02</td>\n",
       "      <td>05</td>\n",
       "      <td>01</td>\n",
       "      <td></td>\n",
       "      <td>AT</td>\n",
       "      <td></td>\n",
       "      <td>CR 630</td>\n",
       "      <td></td>\n",
       "      <td></td>\n",
       "      <td></td>\n",
       "      <td>35</td>\n",
       "      <td></td>\n",
       "      <td>NaN</td>\n",
       "      <td>NaN</td>\n",
       "      <td>N</td>\n",
       "      <td>*BETH VEHICLES-RELIANCE INSURANCE CO.(215)864-...</td>\n",
       "      <td>836</td>\n",
       "      <td>2001-04-16 10:29:00</td>\n",
       "      <td>NaN</td>\n",
       "      <td>NaN</td>\n",
       "      <td>NaN</td>\n",
       "    </tr>\n",
       "    <tr>\n",
       "      <th>...</th>\n",
       "      <td>...</td>\n",
       "      <td>...</td>\n",
       "      <td>...</td>\n",
       "      <td>...</td>\n",
       "      <td>...</td>\n",
       "      <td>...</td>\n",
       "      <td>...</td>\n",
       "      <td>...</td>\n",
       "      <td>...</td>\n",
       "      <td>...</td>\n",
       "      <td>...</td>\n",
       "      <td>...</td>\n",
       "      <td>...</td>\n",
       "      <td>...</td>\n",
       "      <td>...</td>\n",
       "      <td>...</td>\n",
       "      <td>...</td>\n",
       "      <td>...</td>\n",
       "      <td>...</td>\n",
       "      <td>...</td>\n",
       "      <td>...</td>\n",
       "      <td>...</td>\n",
       "      <td>...</td>\n",
       "      <td>...</td>\n",
       "      <td>...</td>\n",
       "      <td>...</td>\n",
       "      <td>...</td>\n",
       "      <td>...</td>\n",
       "      <td>...</td>\n",
       "      <td>...</td>\n",
       "      <td>...</td>\n",
       "      <td>...</td>\n",
       "      <td>...</td>\n",
       "      <td>...</td>\n",
       "      <td>...</td>\n",
       "      <td>...</td>\n",
       "      <td>...</td>\n",
       "      <td>...</td>\n",
       "      <td>...</td>\n",
       "      <td>...</td>\n",
       "      <td>...</td>\n",
       "      <td>...</td>\n",
       "      <td>...</td>\n",
       "      <td>...</td>\n",
       "      <td>...</td>\n",
       "      <td>...</td>\n",
       "      <td>...</td>\n",
       "      <td>...</td>\n",
       "      <td>...</td>\n",
       "      <td>...</td>\n",
       "      <td>...</td>\n",
       "    </tr>\n",
       "    <tr>\n",
       "      <th>6077298</th>\n",
       "      <td>2021</td>\n",
       "      <td>21</td>\n",
       "      <td>23</td>\n",
       "      <td>B150-2021-00117A</td>\n",
       "      <td>Warren</td>\n",
       "      <td>White Twp</td>\n",
       "      <td>02</td>\n",
       "      <td>New Jersey State Police</td>\n",
       "      <td>WASHINGTON - SQ</td>\n",
       "      <td>0</td>\n",
       "      <td>0</td>\n",
       "      <td>0</td>\n",
       "      <td>0</td>\n",
       "      <td>p</td>\n",
       "      <td>I</td>\n",
       "      <td>False</td>\n",
       "      <td>False</td>\n",
       "      <td>11</td>\n",
       "      <td>1</td>\n",
       "      <td>WARREN COUNTY 620</td>\n",
       "      <td>N</td>\n",
       "      <td>620</td>\n",
       "      <td></td>\n",
       "      <td>21000620__</td>\n",
       "      <td>0.00</td>\n",
       "      <td>05</td>\n",
       "      <td></td>\n",
       "      <td>02</td>\n",
       "      <td>01</td>\n",
       "      <td>06</td>\n",
       "      <td>01</td>\n",
       "      <td>05</td>\n",
       "      <td>01</td>\n",
       "      <td></td>\n",
       "      <td>AT</td>\n",
       "      <td></td>\n",
       "      <td>ROUTE 519 / S BRIDGEVILLE RD</td>\n",
       "      <td></td>\n",
       "      <td></td>\n",
       "      <td></td>\n",
       "      <td>50</td>\n",
       "      <td>50</td>\n",
       "      <td>40.80707</td>\n",
       "      <td>-75.07559</td>\n",
       "      <td>N</td>\n",
       "      <td>Damage to 10ft of Country road guardrail.</td>\n",
       "      <td>7837</td>\n",
       "      <td>2021-05-26 21:08:00</td>\n",
       "      <td>02</td>\n",
       "      <td>04</td>\n",
       "      <td>46</td>\n",
       "    </tr>\n",
       "    <tr>\n",
       "      <th>6077299</th>\n",
       "      <td>2021</td>\n",
       "      <td>21</td>\n",
       "      <td>23</td>\n",
       "      <td>B150-2021-00118A</td>\n",
       "      <td>Warren</td>\n",
       "      <td>White Twp</td>\n",
       "      <td>02</td>\n",
       "      <td>New Jersey State Police</td>\n",
       "      <td>WASHINGTON - SQ</td>\n",
       "      <td>0</td>\n",
       "      <td>0</td>\n",
       "      <td>0</td>\n",
       "      <td>0</td>\n",
       "      <td>p</td>\n",
       "      <td>I</td>\n",
       "      <td>False</td>\n",
       "      <td>False</td>\n",
       "      <td>01</td>\n",
       "      <td>2</td>\n",
       "      <td>MANUNKA CHUNK RD / UPPER SEREPTA RD **</td>\n",
       "      <td>W</td>\n",
       "      <td></td>\n",
       "      <td></td>\n",
       "      <td>21231034__</td>\n",
       "      <td>1.73</td>\n",
       "      <td>07</td>\n",
       "      <td></td>\n",
       "      <td>02</td>\n",
       "      <td>01</td>\n",
       "      <td>01</td>\n",
       "      <td>01</td>\n",
       "      <td>05</td>\n",
       "      <td>01</td>\n",
       "      <td></td>\n",
       "      <td>AT</td>\n",
       "      <td></td>\n",
       "      <td>MASSENATTS RD</td>\n",
       "      <td></td>\n",
       "      <td></td>\n",
       "      <td></td>\n",
       "      <td>40</td>\n",
       "      <td>50</td>\n",
       "      <td>40.84466</td>\n",
       "      <td>-75.05549</td>\n",
       "      <td>N</td>\n",
       "      <td></td>\n",
       "      <td>8610</td>\n",
       "      <td>2021-05-25 07:26:00</td>\n",
       "      <td>01</td>\n",
       "      <td>04</td>\n",
       "      <td>26</td>\n",
       "    </tr>\n",
       "    <tr>\n",
       "      <th>6077300</th>\n",
       "      <td>2021</td>\n",
       "      <td>21</td>\n",
       "      <td>23</td>\n",
       "      <td>B150-2021-00128A</td>\n",
       "      <td>Warren</td>\n",
       "      <td>White Twp</td>\n",
       "      <td>02</td>\n",
       "      <td>New Jersey State Police</td>\n",
       "      <td>WASHINGTON - SQ</td>\n",
       "      <td>0</td>\n",
       "      <td>0</td>\n",
       "      <td>0</td>\n",
       "      <td>0</td>\n",
       "      <td>p</td>\n",
       "      <td>B</td>\n",
       "      <td>False</td>\n",
       "      <td>False</td>\n",
       "      <td>12</td>\n",
       "      <td>1</td>\n",
       "      <td>ROUTE 519</td>\n",
       "      <td>S</td>\n",
       "      <td>519</td>\n",
       "      <td></td>\n",
       "      <td>00000519__</td>\n",
       "      <td>44.00</td>\n",
       "      <td>05</td>\n",
       "      <td></td>\n",
       "      <td>02</td>\n",
       "      <td>02</td>\n",
       "      <td>05</td>\n",
       "      <td>04</td>\n",
       "      <td>05</td>\n",
       "      <td>01</td>\n",
       "      <td></td>\n",
       "      <td></td>\n",
       "      <td></td>\n",
       "      <td></td>\n",
       "      <td></td>\n",
       "      <td></td>\n",
       "      <td></td>\n",
       "      <td>50</td>\n",
       "      <td></td>\n",
       "      <td>40.80564</td>\n",
       "      <td>-75.07627</td>\n",
       "      <td>N</td>\n",
       "      <td></td>\n",
       "      <td>8514</td>\n",
       "      <td>2021-06-03 20:17:00</td>\n",
       "      <td>03</td>\n",
       "      <td>04</td>\n",
       "      <td>24</td>\n",
       "    </tr>\n",
       "    <tr>\n",
       "      <th>6077301</th>\n",
       "      <td>2021</td>\n",
       "      <td>21</td>\n",
       "      <td>23</td>\n",
       "      <td>B150-2021-00130A</td>\n",
       "      <td>Warren</td>\n",
       "      <td>White Twp</td>\n",
       "      <td>02</td>\n",
       "      <td>New Jersey State Police</td>\n",
       "      <td>WASHINGTON - SQ</td>\n",
       "      <td>0</td>\n",
       "      <td>0</td>\n",
       "      <td>0</td>\n",
       "      <td>0</td>\n",
       "      <td>p</td>\n",
       "      <td>B</td>\n",
       "      <td>False</td>\n",
       "      <td>False</td>\n",
       "      <td>12</td>\n",
       "      <td>1</td>\n",
       "      <td>US 46</td>\n",
       "      <td>E</td>\n",
       "      <td>46</td>\n",
       "      <td></td>\n",
       "      <td>00000046__</td>\n",
       "      <td>7.50</td>\n",
       "      <td>02</td>\n",
       "      <td></td>\n",
       "      <td>02</td>\n",
       "      <td>01</td>\n",
       "      <td>07</td>\n",
       "      <td>01</td>\n",
       "      <td>05</td>\n",
       "      <td>01</td>\n",
       "      <td></td>\n",
       "      <td></td>\n",
       "      <td></td>\n",
       "      <td></td>\n",
       "      <td></td>\n",
       "      <td></td>\n",
       "      <td></td>\n",
       "      <td>50</td>\n",
       "      <td></td>\n",
       "      <td>40.84149</td>\n",
       "      <td>-75.04968</td>\n",
       "      <td>N</td>\n",
       "      <td></td>\n",
       "      <td>8365</td>\n",
       "      <td>2021-06-06 00:00:00</td>\n",
       "      <td>01</td>\n",
       "      <td>04</td>\n",
       "      <td>24</td>\n",
       "    </tr>\n",
       "    <tr>\n",
       "      <th>6077302</th>\n",
       "      <td>2021</td>\n",
       "      <td>21</td>\n",
       "      <td>23</td>\n",
       "      <td>B150-2021-00132A</td>\n",
       "      <td>Warren</td>\n",
       "      <td>White Twp</td>\n",
       "      <td>02</td>\n",
       "      <td>New Jersey State Police</td>\n",
       "      <td>WASHINGTON - SQ</td>\n",
       "      <td>0</td>\n",
       "      <td>0</td>\n",
       "      <td>0</td>\n",
       "      <td>0</td>\n",
       "      <td>p</td>\n",
       "      <td>B</td>\n",
       "      <td>False</td>\n",
       "      <td>False</td>\n",
       "      <td>03</td>\n",
       "      <td>2</td>\n",
       "      <td>FIELDSTONE CT</td>\n",
       "      <td>W</td>\n",
       "      <td></td>\n",
       "      <td></td>\n",
       "      <td></td>\n",
       "      <td>NaN</td>\n",
       "      <td>07</td>\n",
       "      <td></td>\n",
       "      <td>05</td>\n",
       "      <td>01</td>\n",
       "      <td>01</td>\n",
       "      <td>01</td>\n",
       "      <td>05</td>\n",
       "      <td>01</td>\n",
       "      <td></td>\n",
       "      <td></td>\n",
       "      <td></td>\n",
       "      <td>130 COUNTY ROAD 519</td>\n",
       "      <td></td>\n",
       "      <td></td>\n",
       "      <td></td>\n",
       "      <td>15</td>\n",
       "      <td>5</td>\n",
       "      <td>40.81220</td>\n",
       "      <td>-75.04940</td>\n",
       "      <td>N</td>\n",
       "      <td></td>\n",
       "      <td>8395</td>\n",
       "      <td>2021-06-06 19:33:00</td>\n",
       "      <td>01</td>\n",
       "      <td>04</td>\n",
       "      <td>26</td>\n",
       "    </tr>\n",
       "  </tbody>\n",
       "</table>\n",
       "<p>6077303 rows × 51 columns</p>\n",
       "</div>"
      ],
      "text/plain": [
       "         year  cc  mc              case        cn            mn pdc  \\\n",
       "id                                                                    \n",
       "0        2001   1   1       #2001-17846  Atlantic  Absecon City  01   \n",
       "1        2001   1   1          01-00029  Atlantic  Absecon City   1   \n",
       "2        2001   1   1         01-004615  Atlantic  Absecon City   1   \n",
       "3        2001   1   1         01-004880  Atlantic  Absecon City   1   \n",
       "4        2001   1   1         01-004912  Atlantic  Absecon City   1   \n",
       "...       ...  ..  ..               ...       ...           ...  ..   \n",
       "6077298  2021  21  23  B150-2021-00117A    Warren     White Twp  02   \n",
       "6077299  2021  21  23  B150-2021-00118A    Warren     White Twp  02   \n",
       "6077300  2021  21  23  B150-2021-00128A    Warren     White Twp  02   \n",
       "6077301  2021  21  23  B150-2021-00130A    Warren     White Twp  02   \n",
       "6077302  2021  21  23  B150-2021-00132A    Warren     White Twp  02   \n",
       "\n",
       "                             pdn          station  Total Killed  \\\n",
       "id                                                                \n",
       "0                   Absecon City  MUNICIPAL COMP?             0   \n",
       "1                        Absecon                              0   \n",
       "2                        Absecon                              0   \n",
       "3                        Absecon                              0   \n",
       "4                        Absecon                              0   \n",
       "...                          ...              ...           ...   \n",
       "6077298  New Jersey State Police  WASHINGTON - SQ             0   \n",
       "6077299  New Jersey State Police  WASHINGTON - SQ             0   \n",
       "6077300  New Jersey State Police  WASHINGTON - SQ             0   \n",
       "6077301  New Jersey State Police  WASHINGTON - SQ             0   \n",
       "6077302  New Jersey State Police  WASHINGTON - SQ             0   \n",
       "\n",
       "         Total Injured  Pedestrians Killed  Pedestrians Injured severity  \\\n",
       "id                                                                         \n",
       "0                    0                   0                    0        p   \n",
       "1                    0                   0                    0        p   \n",
       "2                    4                   0                    0        i   \n",
       "3                    1                   0                    0        i   \n",
       "4                    0                   0                    0        p   \n",
       "...                ...                 ...                  ...      ...   \n",
       "6077298              0                   0                    0        p   \n",
       "6077299              0                   0                    0        p   \n",
       "6077300              0                   0                    0        p   \n",
       "6077301              0                   0                    0        p   \n",
       "6077302              0                   0                    0        p   \n",
       "\n",
       "        Intersection  Alcohol Involved  HazMat Involved crash_type  \\\n",
       "id                                                                   \n",
       "0                  B             False            False         03   \n",
       "1                  B             False            False         06   \n",
       "2                  I             False            False         03   \n",
       "3                  B             False            False         01   \n",
       "4                  I             False            False         01   \n",
       "...              ...               ...              ...        ...   \n",
       "6077298            I             False            False         11   \n",
       "6077299            I             False            False         01   \n",
       "6077300            B             False            False         12   \n",
       "6077301            B             False            False         12   \n",
       "6077302            B             False            False         03   \n",
       "\n",
       "         Total Vehicles Involved                          Crash Location  \\\n",
       "id                                                                         \n",
       "0                              2                         CALDERON AVENUE   \n",
       "1                              2                              RITZ DRIVE   \n",
       "2                              2                           MORTON AVENUE   \n",
       "3                              2                                   RT 30   \n",
       "4                              2                                  CR 651   \n",
       "...                          ...                                     ...   \n",
       "6077298                        1                       WARREN COUNTY 620   \n",
       "6077299                        2  MANUNKA CHUNK RD / UPPER SEREPTA RD **   \n",
       "6077300                        1                               ROUTE 519   \n",
       "6077301                        1                                   US 46   \n",
       "6077302                        2                           FIELDSTONE CT   \n",
       "\n",
       "        Location Direction Route Route Suffix         sri     mp Road System  \\\n",
       "id                                                                             \n",
       "0                                                            NaN          07   \n",
       "1                                                            NaN          07   \n",
       "2                                                            NaN          07   \n",
       "3                             30               00000030__  51.10          02   \n",
       "4                            651                             NaN          05   \n",
       "...                    ...   ...          ...         ...    ...         ...   \n",
       "6077298                  N   620               21000620__   0.00          05   \n",
       "6077299                  W                     21231034__   1.73          07   \n",
       "6077300                  S   519               00000519__  44.00          05   \n",
       "6077301                  E    46               00000046__   7.50          02   \n",
       "6077302                  W                                   NaN          07   \n",
       "\n",
       "        Road Character Road Surface Type Surface Condition Light Condition  \\\n",
       "id                                                                           \n",
       "0                   02                02                01              06   \n",
       "1                   01                02                03              06   \n",
       "2                   01                02                01              01   \n",
       "3                   01                02                01              01   \n",
       "4                   02                02                02              01   \n",
       "...                ...               ...               ...             ...   \n",
       "6077298                               02                01              06   \n",
       "6077299                               02                01              01   \n",
       "6077300                               02                02              05   \n",
       "6077301                               02                01              07   \n",
       "6077302                               05                01              01   \n",
       "\n",
       "        Environmental Condition Road Divided By  \\\n",
       "id                                                \n",
       "0                            01              05   \n",
       "1                            01              05   \n",
       "2                            01              05   \n",
       "3                            01              05   \n",
       "4                            02              05   \n",
       "...                         ...             ...   \n",
       "6077298                      01              05   \n",
       "6077299                      01              05   \n",
       "6077300                      04              05   \n",
       "6077301                      01              05   \n",
       "6077302                      01              05   \n",
       "\n",
       "        Temporary Traffic Control Zone Distance To Cross Street  \\\n",
       "id                                                                \n",
       "0                                   01                      100   \n",
       "1                                   01                            \n",
       "2                                   01                            \n",
       "3                                   01                            \n",
       "4                                   01                            \n",
       "...                                ...                      ...   \n",
       "6077298                             01                            \n",
       "6077299                             01                            \n",
       "6077300                             01                            \n",
       "6077301                             01                            \n",
       "6077302                             01                            \n",
       "\n",
       "        Unit Of Measurement Direction From Cross Street  \\\n",
       "id                                                        \n",
       "0                        FE                           N   \n",
       "1                                                         \n",
       "2                        AT                               \n",
       "3                                                         \n",
       "4                        AT                               \n",
       "...                     ...                         ...   \n",
       "6077298                  AT                               \n",
       "6077299                  AT                               \n",
       "6077300                                                   \n",
       "6077301                                                   \n",
       "6077302                                                   \n",
       "\n",
       "                    Cross Street Name Is Ramp Ramp To/From Route Name  \\\n",
       "id                                                                      \n",
       "0                               RT 30                                   \n",
       "1                                                                       \n",
       "2                     NEW YORK AVENUE                                   \n",
       "3                                                                       \n",
       "4                              CR 630                                   \n",
       "...                               ...     ...                     ...   \n",
       "6077298  ROUTE 519 / S BRIDGEVILLE RD                                   \n",
       "6077299                 MASSENATTS RD                                   \n",
       "6077300                                                                 \n",
       "6077301                                                                 \n",
       "6077302           130 COUNTY ROAD 519                                   \n",
       "\n",
       "        Ramp To/From Route Direction Posted Speed Posted Speed Cross Street  \\\n",
       "id                                                                            \n",
       "0                                              25                             \n",
       "1                                              25                             \n",
       "2                                              25                             \n",
       "3                                              45                             \n",
       "4                                              35                             \n",
       "...                              ...          ...                       ...   \n",
       "6077298                                        50                        50   \n",
       "6077299                                        40                        50   \n",
       "6077300                                        50                             \n",
       "6077301                                        50                             \n",
       "6077302                                        15                         5   \n",
       "\n",
       "             olat      olon Cell Phone In Use Flag  \\\n",
       "id                                                   \n",
       "0             NaN       NaN                      N   \n",
       "1             NaN       NaN                      N   \n",
       "2             NaN       NaN                      N   \n",
       "3             NaN       NaN                      N   \n",
       "4             NaN       NaN                      N   \n",
       "...           ...       ...                    ...   \n",
       "6077298  40.80707 -75.07559                      N   \n",
       "6077299  40.84466 -75.05549                      N   \n",
       "6077300  40.80564 -75.07627                      N   \n",
       "6077301  40.84149 -75.04968                      N   \n",
       "6077302  40.81220 -75.04940                      N   \n",
       "\n",
       "                                     Other Property Damage  \\\n",
       "id                                                           \n",
       "0        NEVER SAW V-1 MINOR DAMAGE - NO INJURIES REPOR...   \n",
       "1                                                            \n",
       "2                                                            \n",
       "3                   WITNESS-PETRIA GIBSON AND ANGELO HERSH   \n",
       "4        *BETH VEHICLES-RELIANCE INSURANCE CO.(215)864-...   \n",
       "...                                                    ...   \n",
       "6077298          Damage to 10ft of Country road guardrail.   \n",
       "6077299                                                      \n",
       "6077300                                                      \n",
       "6077301                                                      \n",
       "6077302                                                      \n",
       "\n",
       "        Reporting Badge No.                  dt Road Horizontal Alignment  \\\n",
       "id                                                                          \n",
       "0                       830 2001-12-21 18:34:00                       NaN   \n",
       "1                       836 2001-01-01 09:30:00                       NaN   \n",
       "2                       836 2001-04-10 14:44:00                       NaN   \n",
       "3                       886 2001-04-15 13:56:00                       NaN   \n",
       "4                       836 2001-04-16 10:29:00                       NaN   \n",
       "...                     ...                 ...                       ...   \n",
       "6077298                7837 2021-05-26 21:08:00                        02   \n",
       "6077299                8610 2021-05-25 07:26:00                        01   \n",
       "6077300                8514 2021-06-03 20:17:00                        03   \n",
       "6077301                8365 2021-06-06 00:00:00                        01   \n",
       "6077302                8395 2021-06-06 19:33:00                        01   \n",
       "\n",
       "        Road Grade First Harmful Event  \n",
       "id                                      \n",
       "0              NaN                 NaN  \n",
       "1              NaN                 NaN  \n",
       "2              NaN                 NaN  \n",
       "3              NaN                 NaN  \n",
       "4              NaN                 NaN  \n",
       "...            ...                 ...  \n",
       "6077298         04                  46  \n",
       "6077299         04                  26  \n",
       "6077300         04                  24  \n",
       "6077301         04                  24  \n",
       "6077302         04                  26  \n",
       "\n",
       "[6077303 rows x 51 columns]"
      ]
     },
     "execution_count": 4,
     "metadata": {},
     "output_type": "execute_result"
    }
   ],
   "source": [
    "df"
   ]
  },
  {
   "cell_type": "code",
   "execution_count": 8,
   "id": "9029e4f1",
   "metadata": {},
   "outputs": [],
   "source": [
    "bkt = 'duckdb-wasm-test'\n",
    "pre = f's3://{bkt}'\n",
    "dir = path.join(env['c'], 'duckdb-wasm-test')"
   ]
  },
  {
   "cell_type": "code",
   "execution_count": 21,
   "id": "3f4c4e46",
   "metadata": {},
   "outputs": [],
   "source": [
    "def make_parquet(k):\n",
    "    print(k)\n",
    "    n = int(float(k))\n",
    "    d = df.iloc[:n]\n",
    "    d.to_parquet(f'{pre}/{k}.parquet')    "
   ]
  },
  {
   "cell_type": "code",
   "execution_count": 28,
   "id": "423c967e",
   "metadata": {},
   "outputs": [
    {
     "name": "stdout",
     "output_type": "stream",
     "text": [
      "1e5\n",
      "2e5\n",
      "4e5\n",
      "8e5\n"
     ]
    }
   ],
   "source": [
    "keys = [ '1e5', '2e5', '5e5', '1e6', '2e6', '4e6', '6e6', ]\n",
    "for k in keys:\n",
    "    make_parquet(k)"
   ]
  },
  {
   "cell_type": "code",
   "execution_count": 30,
   "id": "f33c6d5c",
   "metadata": {},
   "outputs": [
    {
     "name": "stdout",
     "output_type": "stream",
     "text": [
      "5e5\n"
     ]
    }
   ],
   "source": [
    "make_parquet('5e5')"
   ]
  },
  {
   "cell_type": "code",
   "execution_count": 25,
   "id": "649eba49",
   "metadata": {},
   "outputs": [],
   "source": [
    "import boto3\n",
    "s3 = boto3.client('s3')"
   ]
  },
  {
   "cell_type": "code",
   "execution_count": 26,
   "id": "87da08e3",
   "metadata": {},
   "outputs": [],
   "source": [
    "def make_db(idx, index=False):\n",
    "    out_name = f'{idx}-idx' if index else f'{idx}'\n",
    "    db_path = f'{out_name}.duckdb'\n",
    "    pqt_path = f'{idx}.parquet'\n",
    "    with duckdb.connect(db_path) as con:\n",
    "        con.sql(f\"CREATE TABLE crashes AS SELECT * FROM '{pre}/{pqt_path}';\")\n",
    "        if index:\n",
    "            con.sql(f\"CREATE UNIQUE INDEX crashes_id_idx ON crashes (id);\")\n",
    "    with open(db_path, 'rb') as f:\n",
    "        s3.put_object(Bucket=bkt, Key=db_path, Body=f)"
   ]
  },
  {
   "cell_type": "code",
   "execution_count": 31,
   "id": "ebe16154",
   "metadata": {},
   "outputs": [],
   "source": [
    "def make_dbs(k):\n",
    "    make_db(k)\n",
    "    make_db(k, index=True)    "
   ]
  },
  {
   "cell_type": "code",
   "execution_count": 32,
   "id": "686e882e",
   "metadata": {},
   "outputs": [],
   "source": [
    "make_dbs('5e5')"
   ]
  },
  {
   "cell_type": "code",
   "execution_count": 29,
   "id": "ef97c610",
   "metadata": {},
   "outputs": [
    {
     "name": "stdout",
     "output_type": "stream",
     "text": [
      "1e5\n",
      "2e5\n",
      "4e5\n"
     ]
    },
    {
     "data": {
      "application/vnd.jupyter.widget-view+json": {
       "model_id": "b5fc7de4c446429a93fe34f2ca32253e",
       "version_major": 2,
       "version_minor": 0
      },
      "text/plain": [
       "FloatProgress(value=0.0, layout=Layout(width='auto'), style=ProgressStyle(bar_color='black'))"
      ]
     },
     "metadata": {},
     "output_type": "display_data"
    },
    {
     "data": {
      "application/vnd.jupyter.widget-view+json": {
       "model_id": "7ed4dc8fe9f640e387cb835f9510ae76",
       "version_major": 2,
       "version_minor": 0
      },
      "text/plain": [
       "FloatProgress(value=0.0, layout=Layout(width='auto'), style=ProgressStyle(bar_color='black'))"
      ]
     },
     "metadata": {},
     "output_type": "display_data"
    },
    {
     "name": "stdout",
     "output_type": "stream",
     "text": [
      "8e5\n"
     ]
    },
    {
     "data": {
      "application/vnd.jupyter.widget-view+json": {
       "model_id": "44b4f1235beb4b15b33f2c22e8bf200e",
       "version_major": 2,
       "version_minor": 0
      },
      "text/plain": [
       "FloatProgress(value=0.0, layout=Layout(width='auto'), style=ProgressStyle(bar_color='black'))"
      ]
     },
     "metadata": {},
     "output_type": "display_data"
    },
    {
     "data": {
      "application/vnd.jupyter.widget-view+json": {
       "model_id": "0923ebf88cce4db4a83887711f5c1d72",
       "version_major": 2,
       "version_minor": 0
      },
      "text/plain": [
       "FloatProgress(value=0.0, layout=Layout(width='auto'), style=ProgressStyle(bar_color='black'))"
      ]
     },
     "metadata": {},
     "output_type": "display_data"
    }
   ],
   "source": [
    "for k in keys:\n",
    "    print(k)\n",
    "    make_dbs(k)"
   ]
  },
  {
   "cell_type": "code",
   "execution_count": 7,
   "id": "2114d5a3",
   "metadata": {},
   "outputs": [
    {
     "data": {
      "text/plain": [
       "(226958, 705630, 2681944)"
      ]
     },
     "execution_count": 7,
     "metadata": {},
     "output_type": "execute_result"
    }
   ],
   "source": [
    "df1 = Crashes.load(2021)\n",
    "df2 = Crashes.load(range(2019, 2022))\n",
    "df3 = Crashes.load(range(2012, 2022))\n",
    "len(df1), len(df2), len(df3)"
   ]
  },
  {
   "cell_type": "code",
   "execution_count": 4,
   "id": "6dfc49f4",
   "metadata": {},
   "outputs": [],
   "source": [
    "df1.to_parquet(f'{pre}/1.parquet')"
   ]
  },
  {
   "cell_type": "code",
   "execution_count": 5,
   "id": "cea0f31f",
   "metadata": {},
   "outputs": [],
   "source": [
    "df2.to_parquet(f'{pre}/2.parquet')"
   ]
  },
  {
   "cell_type": "code",
   "execution_count": 24,
   "id": "2250dbd9",
   "metadata": {},
   "outputs": [],
   "source": [
    "df3.to_parquet(f'{pre}/3.parquet')"
   ]
  },
  {
   "cell_type": "code",
   "execution_count": 19,
   "id": "0cfde832",
   "metadata": {
    "scrolled": true
   },
   "outputs": [
    {
     "ename": "CatalogException",
     "evalue": "Catalog Error: Table with name \"crashes\" already exists!",
     "output_type": "error",
     "traceback": [
      "\u001b[0;31m---------------------------------------------------------------------------\u001b[0m",
      "\u001b[0;31mCatalogException\u001b[0m                          Traceback (most recent call last)",
      "Cell \u001b[0;32mIn[19], line 1\u001b[0m\n\u001b[0;32m----> 1\u001b[0m \u001b[43mmake_db\u001b[49m\u001b[43m(\u001b[49m\u001b[38;5;241;43m1\u001b[39;49m\u001b[43m)\u001b[49m\n",
      "Cell \u001b[0;32mIn[18], line 9\u001b[0m, in \u001b[0;36mmake_db\u001b[0;34m(idx, index)\u001b[0m\n\u001b[1;32m      7\u001b[0m     con\u001b[38;5;241m.\u001b[39msql(\u001b[38;5;124mf\u001b[39m\u001b[38;5;124m\"\u001b[39m\u001b[38;5;124mCREATE TABLE crashes AS SELECT * FROM \u001b[39m\u001b[38;5;124m'\u001b[39m\u001b[38;5;132;01m{\u001b[39;00mpre\u001b[38;5;132;01m}\u001b[39;00m\u001b[38;5;124m/\u001b[39m\u001b[38;5;132;01m{\u001b[39;00mpqt_path\u001b[38;5;132;01m}\u001b[39;00m\u001b[38;5;124m'\u001b[39m\u001b[38;5;124m;\u001b[39m\u001b[38;5;124m\"\u001b[39m)\n\u001b[1;32m      8\u001b[0m     \u001b[38;5;28;01mif\u001b[39;00m index:\n\u001b[0;32m----> 9\u001b[0m         con\u001b[38;5;241m.\u001b[39msql(\u001b[38;5;124mf\u001b[39m\u001b[38;5;124m\"\u001b[39m\u001b[38;5;124mCREATE UNIQUE INDEX crashes_id_idx ON crashes (id);\u001b[39m\u001b[38;5;124m\"\u001b[39m)\n\u001b[1;32m     10\u001b[0m     \u001b[38;5;66;03m# con.close()\u001b[39;00m\n\u001b[1;32m     12\u001b[0m \u001b[38;5;28;01mwith\u001b[39;00m \u001b[38;5;28mopen\u001b[39m(db_path, \u001b[38;5;124m'\u001b[39m\u001b[38;5;124mrb\u001b[39m\u001b[38;5;124m'\u001b[39m) \u001b[38;5;28;01mas\u001b[39;00m f:\n",
      "Cell \u001b[0;32mIn[18], line 7\u001b[0m, in \u001b[0;36mmake_db\u001b[0;34m(idx, index)\u001b[0m\n\u001b[1;32m      4\u001b[0m pqt_path \u001b[38;5;241m=\u001b[39m \u001b[38;5;124mf\u001b[39m\u001b[38;5;124m'\u001b[39m\u001b[38;5;132;01m{\u001b[39;00midx\u001b[38;5;132;01m}\u001b[39;00m\u001b[38;5;124m.parquet\u001b[39m\u001b[38;5;124m'\u001b[39m\n\u001b[1;32m      5\u001b[0m \u001b[38;5;28;01mwith\u001b[39;00m duckdb\u001b[38;5;241m.\u001b[39mconnect(db_path) \u001b[38;5;28;01mas\u001b[39;00m con:\n\u001b[1;32m      6\u001b[0m     \u001b[38;5;66;03m# con = duckdb.connect(db_path)\u001b[39;00m\n\u001b[0;32m----> 7\u001b[0m     \u001b[43mcon\u001b[49m\u001b[38;5;241;43m.\u001b[39;49m\u001b[43msql\u001b[49m\u001b[43m(\u001b[49m\u001b[38;5;124;43mf\u001b[39;49m\u001b[38;5;124;43m\"\u001b[39;49m\u001b[38;5;124;43mCREATE TABLE crashes AS SELECT * FROM \u001b[39;49m\u001b[38;5;124;43m'\u001b[39;49m\u001b[38;5;132;43;01m{\u001b[39;49;00m\u001b[43mpre\u001b[49m\u001b[38;5;132;43;01m}\u001b[39;49;00m\u001b[38;5;124;43m/\u001b[39;49m\u001b[38;5;132;43;01m{\u001b[39;49;00m\u001b[43mpqt_path\u001b[49m\u001b[38;5;132;43;01m}\u001b[39;49;00m\u001b[38;5;124;43m'\u001b[39;49m\u001b[38;5;124;43m;\u001b[39;49m\u001b[38;5;124;43m\"\u001b[39;49m\u001b[43m)\u001b[49m\n\u001b[1;32m      8\u001b[0m     \u001b[38;5;28;01mif\u001b[39;00m index:\n\u001b[1;32m      9\u001b[0m         con\u001b[38;5;241m.\u001b[39msql(\u001b[38;5;124mf\u001b[39m\u001b[38;5;124m\"\u001b[39m\u001b[38;5;124mCREATE UNIQUE INDEX crashes_id_idx ON crashes (id);\u001b[39m\u001b[38;5;124m\"\u001b[39m)\n",
      "\u001b[0;31mCatalogException\u001b[0m: Catalog Error: Table with name \"crashes\" already exists!"
     ]
    }
   ],
   "source": [
    "make_db(1)\n",
    "make_db(1, index=True)\n",
    "make_db(2)\n",
    "make_db(2, index=True)"
   ]
  },
  {
   "cell_type": "code",
   "execution_count": 25,
   "id": "a33947a8",
   "metadata": {},
   "outputs": [
    {
     "data": {
      "application/vnd.jupyter.widget-view+json": {
       "model_id": "492932a3cd214a828fe32cbae00ecb68",
       "version_major": 2,
       "version_minor": 0
      },
      "text/plain": [
       "FloatProgress(value=0.0, layout=Layout(width='auto'), style=ProgressStyle(bar_color='black'))"
      ]
     },
     "metadata": {},
     "output_type": "display_data"
    },
    {
     "data": {
      "application/vnd.jupyter.widget-view+json": {
       "model_id": "70f6183c27a24825b0d9e39e857da9a9",
       "version_major": 2,
       "version_minor": 0
      },
      "text/plain": [
       "FloatProgress(value=0.0, layout=Layout(width='auto'), style=ProgressStyle(bar_color='black'))"
      ]
     },
     "metadata": {},
     "output_type": "display_data"
    }
   ],
   "source": [
    "make_db(3)\n",
    "make_db(3, index=True)"
   ]
  },
  {
   "cell_type": "code",
   "execution_count": 3,
   "id": "36ca1066",
   "metadata": {},
   "outputs": [],
   "source": [
    "# db_path = 'crashes.duckdb'\n",
    "db_path = '2021.duckdb'\n",
    "con = duckdb.connect(db_path)\n",
    "dsql = con.sql"
   ]
  },
  {
   "cell_type": "code",
   "execution_count": 4,
   "id": "45b5c823",
   "metadata": {},
   "outputs": [],
   "source": [
    "def tables():\n",
    "    return dsql(\"SHOW TABLES\").df()"
   ]
  },
  {
   "cell_type": "code",
   "execution_count": 5,
   "id": "86d26ff6",
   "metadata": {},
   "outputs": [],
   "source": [
    "def indices():\n",
    "    return dsql(\"SELECT * from duckdb_indexes()\").df()"
   ]
  },
  {
   "cell_type": "code",
   "execution_count": 6,
   "id": "920c4cfe",
   "metadata": {},
   "outputs": [
    {
     "data": {
      "text/html": [
       "<div>\n",
       "<style scoped>\n",
       "    .dataframe tbody tr th:only-of-type {\n",
       "        vertical-align: middle;\n",
       "    }\n",
       "\n",
       "    .dataframe tbody tr th {\n",
       "        vertical-align: top;\n",
       "    }\n",
       "\n",
       "    .dataframe thead th {\n",
       "        text-align: right;\n",
       "    }\n",
       "</style>\n",
       "<table border=\"1\" class=\"dataframe\">\n",
       "  <thead>\n",
       "    <tr style=\"text-align: right;\">\n",
       "      <th></th>\n",
       "      <th>name</th>\n",
       "    </tr>\n",
       "  </thead>\n",
       "  <tbody>\n",
       "  </tbody>\n",
       "</table>\n",
       "</div>"
      ],
      "text/plain": [
       "Empty DataFrame\n",
       "Columns: [name]\n",
       "Index: []"
      ]
     },
     "execution_count": 6,
     "metadata": {},
     "output_type": "execute_result"
    }
   ],
   "source": [
    "tbls = tables()\n",
    "if not tbls[tbls.name == 'crashes'].empty:\n",
    "    dsql(\"DROP TABLE crashes\")\n",
    "tables()"
   ]
  },
  {
   "cell_type": "code",
   "execution_count": 7,
   "id": "90fbebe5",
   "metadata": {},
   "outputs": [
    {
     "data": {
      "text/html": [
       "<div>\n",
       "<style scoped>\n",
       "    .dataframe tbody tr th:only-of-type {\n",
       "        vertical-align: middle;\n",
       "    }\n",
       "\n",
       "    .dataframe tbody tr th {\n",
       "        vertical-align: top;\n",
       "    }\n",
       "\n",
       "    .dataframe thead th {\n",
       "        text-align: right;\n",
       "    }\n",
       "</style>\n",
       "<table border=\"1\" class=\"dataframe\">\n",
       "  <thead>\n",
       "    <tr style=\"text-align: right;\">\n",
       "      <th></th>\n",
       "      <th>database_name</th>\n",
       "      <th>database_oid</th>\n",
       "      <th>schema_name</th>\n",
       "      <th>schema_oid</th>\n",
       "      <th>index_name</th>\n",
       "      <th>index_oid</th>\n",
       "      <th>table_name</th>\n",
       "      <th>table_oid</th>\n",
       "      <th>is_unique</th>\n",
       "      <th>is_primary</th>\n",
       "      <th>expressions</th>\n",
       "      <th>sql</th>\n",
       "    </tr>\n",
       "  </thead>\n",
       "  <tbody>\n",
       "  </tbody>\n",
       "</table>\n",
       "</div>"
      ],
      "text/plain": [
       "Empty DataFrame\n",
       "Columns: [database_name, database_oid, schema_name, schema_oid, index_name, index_oid, table_name, table_oid, is_unique, is_primary, expressions, sql]\n",
       "Index: []"
      ]
     },
     "execution_count": 7,
     "metadata": {},
     "output_type": "execute_result"
    }
   ],
   "source": [
    "indices()"
   ]
  },
  {
   "cell_type": "code",
   "execution_count": 8,
   "id": "92985592",
   "metadata": {},
   "outputs": [],
   "source": [
    "dsql(\"VACUUM ANALYZE\")"
   ]
  },
  {
   "cell_type": "code",
   "execution_count": 13,
   "id": "43bc54e2",
   "metadata": {},
   "outputs": [],
   "source": [
    "def db_size():\n",
    "    return dsql(\"PRAGMA database_size\").df()"
   ]
  },
  {
   "cell_type": "code",
   "execution_count": 11,
   "id": "bc3d5b0e",
   "metadata": {},
   "outputs": [],
   "source": [
    "con.close()"
   ]
  },
  {
   "cell_type": "code",
   "execution_count": 12,
   "id": "9800b4cd",
   "metadata": {},
   "outputs": [
    {
     "name": "stdout",
     "output_type": "stream",
     "text": [
      "CPU times: user 713 ms, sys: 37.9 ms, total: 750 ms\n",
      "Wall time: 787 ms\n"
     ]
    }
   ],
   "source": [
    "%%time\n",
    "dsql(f\"CREATE TABLE crashes AS SELECT * FROM '{pqt_path}';\")"
   ]
  },
  {
   "cell_type": "code",
   "execution_count": 14,
   "id": "7cff3248",
   "metadata": {},
   "outputs": [
    {
     "data": {
      "text/html": [
       "<div>\n",
       "<style scoped>\n",
       "    .dataframe tbody tr th:only-of-type {\n",
       "        vertical-align: middle;\n",
       "    }\n",
       "\n",
       "    .dataframe tbody tr th {\n",
       "        vertical-align: top;\n",
       "    }\n",
       "\n",
       "    .dataframe thead th {\n",
       "        text-align: right;\n",
       "    }\n",
       "</style>\n",
       "<table border=\"1\" class=\"dataframe\">\n",
       "  <thead>\n",
       "    <tr style=\"text-align: right;\">\n",
       "      <th></th>\n",
       "      <th>database_name</th>\n",
       "      <th>database_size</th>\n",
       "      <th>block_size</th>\n",
       "      <th>total_blocks</th>\n",
       "      <th>used_blocks</th>\n",
       "      <th>free_blocks</th>\n",
       "      <th>wal_size</th>\n",
       "      <th>memory_usage</th>\n",
       "      <th>memory_limit</th>\n",
       "    </tr>\n",
       "  </thead>\n",
       "  <tbody>\n",
       "    <tr>\n",
       "      <th>0</th>\n",
       "      <td>2021</td>\n",
       "      <td>14.6MB</td>\n",
       "      <td>262144</td>\n",
       "      <td>56</td>\n",
       "      <td>54</td>\n",
       "      <td>2</td>\n",
       "      <td>0 bytes</td>\n",
       "      <td>14.1MB</td>\n",
       "      <td>13.7GB</td>\n",
       "    </tr>\n",
       "  </tbody>\n",
       "</table>\n",
       "</div>"
      ],
      "text/plain": [
       "  database_name database_size  block_size  total_blocks  used_blocks  \\\n",
       "0          2021        14.6MB      262144            56           54   \n",
       "\n",
       "   free_blocks wal_size memory_usage memory_limit  \n",
       "0            2  0 bytes       14.1MB       13.7GB  "
      ]
     },
     "execution_count": 14,
     "metadata": {},
     "output_type": "execute_result"
    }
   ],
   "source": [
    "db_size()"
   ]
  },
  {
   "cell_type": "code",
   "execution_count": 15,
   "id": "381084d8",
   "metadata": {},
   "outputs": [
    {
     "name": "stdout",
     "output_type": "stream",
     "text": [
      "CPU times: user 56.6 ms, sys: 14.4 ms, total: 71 ms\n",
      "Wall time: 64.5 ms\n"
     ]
    }
   ],
   "source": [
    "%%time\n",
    "dsql(f\"CREATE UNIQUE INDEX crashes_id_idx ON crashes (id);\")"
   ]
  },
  {
   "cell_type": "code",
   "execution_count": 16,
   "id": "0ace0e0c",
   "metadata": {},
   "outputs": [
    {
     "data": {
      "text/plain": [
       "┌─────────┐\n",
       "│ Success │\n",
       "│ boolean │\n",
       "├─────────┤\n",
       "│ 0 rows  │\n",
       "└─────────┘"
      ]
     },
     "execution_count": 16,
     "metadata": {},
     "output_type": "execute_result"
    }
   ],
   "source": [
    "dsql(\"CHECKPOINT\")"
   ]
  },
  {
   "cell_type": "code",
   "execution_count": 12,
   "id": "8a0cf614",
   "metadata": {},
   "outputs": [
    {
     "name": "stdout",
     "output_type": "stream",
     "text": [
      "CPU times: user 201 ms, sys: 11.6 ms, total: 213 ms\n",
      "Wall time: 87.7 ms\n"
     ]
    }
   ],
   "source": [
    "%%time\n",
    "dsql(f\"CREATE INDEX crashes_dt_icn_severity_idx ON crashes (Date, \\\"County Code\\\", severity);\")"
   ]
  },
  {
   "cell_type": "code",
   "execution_count": 14,
   "id": "ad6ef83f",
   "metadata": {},
   "outputs": [
    {
     "data": {
      "text/plain": [
       "<duckdb.duckdb.DuckDBPyConnection at 0x120835430>"
      ]
     },
     "execution_count": 14,
     "metadata": {},
     "output_type": "execute_result"
    }
   ],
   "source": [
    "con.commit()"
   ]
  },
  {
   "cell_type": "code",
   "execution_count": 17,
   "id": "c754f8a6",
   "metadata": {},
   "outputs": [],
   "source": [
    "con.close()"
   ]
  },
  {
   "cell_type": "code",
   "execution_count": 28,
   "id": "12c30282",
   "metadata": {},
   "outputs": [
    {
     "data": {
      "application/vnd.jupyter.widget-view+json": {
       "model_id": "2b3ae223429b42008e602dd79d1e36c3",
       "version_major": 2,
       "version_minor": 0
      },
      "text/plain": [
       "FloatProgress(value=0.0, layout=Layout(width='auto'), style=ProgressStyle(bar_color='black'))"
      ]
     },
     "metadata": {},
     "output_type": "display_data"
    },
    {
     "name": "stdout",
     "output_type": "stream",
     "text": [
      "CPU times: user 14.1 s, sys: 4.19 s, total: 18.3 s\n",
      "Wall time: 5.62 s\n"
     ]
    }
   ],
   "source": [
    "# %%time\n",
    "# dsql(\"EXPORT DATABASE 'crashes.duckdb'\")"
   ]
  },
  {
   "cell_type": "code",
   "execution_count": 36,
   "id": "42f2fc36",
   "metadata": {},
   "outputs": [
    {
     "data": {
      "text/plain": [
       "┌───────┬───────┬───────┬─────────┬─────────┬───┬─────────┬─────────┬────────┬────────┬─────────┬─────────┐\n",
       "│ year  │  cc   │  mc   │  case   │   cn    │ … │   ocn   │ reason  │  ilon  │  ilat  │   icn   │   id    │\n",
       "│ int64 │ int64 │ int64 │ varchar │ varchar │   │ varchar │ varchar │ double │ double │ varchar │  int64  │\n",
       "├───────┼───────┼───────┼─────────┼─────────┼───┼─────────┼─────────┼────────┼────────┼─────────┼─────────┤\n",
       "│  2004 │     2 │    63 │ 04-077  │ Bergen  │ … │ NULL    │ No MP   │   NULL │   NULL │ NULL    │ 1000000 │\n",
       "├───────┴───────┴───────┴─────────┴─────────┴───┴─────────┴─────────┴────────┴────────┴─────────┴─────────┤\n",
       "│ 1 rows                                                                            57 columns (11 shown) │\n",
       "└─────────────────────────────────────────────────────────────────────────────────────────────────────────┘"
      ]
     },
     "execution_count": 36,
     "metadata": {},
     "output_type": "execute_result"
    }
   ],
   "source": [
    "dsql(\"SELECT * FROM crashes WHERE id=100000\")"
   ]
  },
  {
   "cell_type": "code",
   "execution_count": 37,
   "id": "944fc650",
   "metadata": {},
   "outputs": [
    {
     "data": {
      "text/plain": [
       "┌───────────────────────────┬─────────────┬─────────┬─────────┬─────────┬───────┐\n",
       "│        column_name        │ column_type │  null   │   key   │ default │ extra │\n",
       "│          varchar          │   varchar   │ varchar │ varchar │ varchar │ int32 │\n",
       "├───────────────────────────┼─────────────┼─────────┼─────────┼─────────┼───────┤\n",
       "│ year                      │ BIGINT      │ YES     │ NULL    │ NULL    │  NULL │\n",
       "│ cc                        │ BIGINT      │ YES     │ NULL    │ NULL    │  NULL │\n",
       "│ mc                        │ BIGINT      │ YES     │ NULL    │ NULL    │  NULL │\n",
       "│ case                      │ VARCHAR     │ YES     │ NULL    │ NULL    │  NULL │\n",
       "│ cn                        │ VARCHAR     │ YES     │ NULL    │ NULL    │  NULL │\n",
       "│ mn                        │ VARCHAR     │ YES     │ NULL    │ NULL    │  NULL │\n",
       "│ pdc                       │ VARCHAR     │ YES     │ NULL    │ NULL    │  NULL │\n",
       "│ pdn                       │ VARCHAR     │ YES     │ NULL    │ NULL    │  NULL │\n",
       "│ station                   │ VARCHAR     │ YES     │ NULL    │ NULL    │  NULL │\n",
       "│ Total Killed              │ BIGINT      │ YES     │ NULL    │ NULL    │  NULL │\n",
       "│ ·                         │   ·         │  ·      │  ·      │  ·      │    ·  │\n",
       "│ ·                         │   ·         │  ·      │  ·      │  ·      │    ·  │\n",
       "│ ·                         │   ·         │  ·      │  ·      │  ·      │    ·  │\n",
       "│ dt                        │ TIMESTAMP   │ YES     │ NULL    │ NULL    │  NULL │\n",
       "│ Road Horizontal Alignment │ VARCHAR     │ YES     │ NULL    │ NULL    │  NULL │\n",
       "│ Road Grade                │ VARCHAR     │ YES     │ NULL    │ NULL    │  NULL │\n",
       "│ First Harmful Event       │ VARCHAR     │ YES     │ NULL    │ NULL    │  NULL │\n",
       "│ ocn                       │ VARCHAR     │ YES     │ NULL    │ NULL    │  NULL │\n",
       "│ reason                    │ VARCHAR     │ YES     │ NULL    │ NULL    │  NULL │\n",
       "│ ilon                      │ DOUBLE      │ YES     │ NULL    │ NULL    │  NULL │\n",
       "│ ilat                      │ DOUBLE      │ YES     │ NULL    │ NULL    │  NULL │\n",
       "│ icn                       │ VARCHAR     │ YES     │ NULL    │ NULL    │  NULL │\n",
       "│ id                        │ BIGINT      │ YES     │ NULL    │ NULL    │  NULL │\n",
       "├───────────────────────────┴─────────────┴─────────┴─────────┴─────────┴───────┤\n",
       "│ 57 rows (20 shown)                                                  6 columns │\n",
       "└───────────────────────────────────────────────────────────────────────────────┘"
      ]
     },
     "execution_count": 37,
     "metadata": {},
     "output_type": "execute_result"
    }
   ],
   "source": [
    "dsql(\"DESCRIBE crashes\")"
   ]
  },
  {
   "cell_type": "code",
   "execution_count": 40,
   "id": "d47a5009",
   "metadata": {},
   "outputs": [
    {
     "name": "stdout",
     "output_type": "stream",
     "text": [
      "CPU times: user 771 µs, sys: 26 µs, total: 797 µs\n",
      "Wall time: 809 µs\n"
     ]
    },
    {
     "data": {
      "text/plain": [
       "┌───────┬────────────┬──────────┬───────┐\n",
       "│ year  │   county   │ severity │  num  │\n",
       "│ int64 │  varchar   │ varchar  │ int64 │\n",
       "├───────┼────────────┼──────────┼───────┤\n",
       "│  2001 │ Atlantic   │ f        │    49 │\n",
       "│  2001 │ Atlantic   │ i        │  1689 │\n",
       "│  2001 │ Atlantic   │ p        │  2860 │\n",
       "│  2001 │ Bergen     │ f        │    16 │\n",
       "│  2001 │ Bergen     │ i        │  3181 │\n",
       "│  2001 │ Bergen     │ p        │  7189 │\n",
       "│  2001 │ Burlington │ f        │    54 │\n",
       "│  2001 │ Burlington │ i        │  1829 │\n",
       "│  2001 │ Burlington │ p        │  4050 │\n",
       "│  2001 │ Camden     │ f        │    33 │\n",
       "│    ·  │   ·        │ ·        │     · │\n",
       "│    ·  │   ·        │ ·        │     · │\n",
       "│    ·  │   ·        │ ·        │     · │\n",
       "│  2021 │ Somerset   │ p        │  5506 │\n",
       "│  2021 │ Sussex     │ f        │     9 │\n",
       "│  2021 │ Sussex     │ i        │   423 │\n",
       "│  2021 │ Sussex     │ p        │  1591 │\n",
       "│  2021 │ Union      │ f        │    28 │\n",
       "│  2021 │ Union      │ i        │  3698 │\n",
       "│  2021 │ Union      │ p        │ 11962 │\n",
       "│  2021 │ Warren     │ f        │    11 │\n",
       "│  2021 │ Warren     │ i        │   520 │\n",
       "│  2021 │ Warren     │ p        │  1801 │\n",
       "├───────┴────────────┴──────────┴───────┤\n",
       "│ 1323 rows (20 shown)        4 columns │\n",
       "└───────────────────────────────────────┘"
      ]
     },
     "execution_count": 40,
     "metadata": {},
     "output_type": "execute_result"
    }
   ],
   "source": [
    "%%time\n",
    "dsql(\"\"\"\n",
    "SELECT date_part('year', dt) as year, icn as county, severity, count(*) as num\n",
    "FROM crashes\n",
    "WHERE icn IS NOT NULL\n",
    "GROUP BY (date_part('year', dt), icn, severity)\n",
    "ORDER BY (date_part('year', dt), icn, severity)\n",
    "\"\"\")"
   ]
  },
  {
   "cell_type": "code",
   "execution_count": 38,
   "id": "4c9627bf",
   "metadata": {},
   "outputs": [
    {
     "data": {
      "text/plain": [
       "┌───────────────┬──────────────────────────────────────────────────────────────────────────────────────────────────────┐\n",
       "│  explain_key  │                                            explain_value                                             │\n",
       "│    varchar    │                                               varchar                                                │\n",
       "├───────────────┼──────────────────────────────────────────────────────────────────────────────────────────────────────┤\n",
       "│ physical_plan │ ┌───────────────────────────┐\\n│         PROJECTION        │\\n│   ─ ─ ─ ─ ─ ─ ─ ─ ─ ─ ─   │\\n│__in…  │\n",
       "└───────────────┴──────────────────────────────────────────────────────────────────────────────────────────────────────┘"
      ]
     },
     "execution_count": 38,
     "metadata": {},
     "output_type": "execute_result"
    }
   ],
   "source": [
    "dsql(\"EXPLAIN SELECT year, count(*) as num FROM crashes GROUP BY year\")"
   ]
  },
  {
   "cell_type": "code",
   "execution_count": 39,
   "id": "87d13d55",
   "metadata": {},
   "outputs": [
    {
     "data": {
      "text/plain": [
       "┌───────────────┬──────────────────────────────────────────────────────────────────────────────────────────────────────┐\n",
       "│  explain_key  │                                            explain_value                                             │\n",
       "│    varchar    │                                               varchar                                                │\n",
       "├───────────────┼──────────────────────────────────────────────────────────────────────────────────────────────────────┤\n",
       "│ analyzed_plan │ ┌─────────────────────────────────────┐\\n│┌───────────────────────────────────┐│\\n││    Query Prof…  │\n",
       "└───────────────┴──────────────────────────────────────────────────────────────────────────────────────────────────────┘"
      ]
     },
     "execution_count": 39,
     "metadata": {},
     "output_type": "execute_result"
    }
   ],
   "source": [
    "dsql(\"EXPLAIN ANALYZE SELECT * FROM crashes WHERE id=1000000\")"
   ]
  }
 ],
 "metadata": {
  "kernelspec": {
   "display_name": "Python 3 (ipykernel)",
   "language": "python",
   "name": "python3"
  },
  "language_info": {
   "codemirror_mode": {
    "name": "ipython",
    "version": 3
   },
   "file_extension": ".py",
   "mimetype": "text/x-python",
   "name": "python",
   "nbconvert_exporter": "python",
   "pygments_lexer": "ipython3",
   "version": "3.9.13"
  }
 },
 "nbformat": 4,
 "nbformat_minor": 5
}
