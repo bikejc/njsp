{
 "cells": [
  {
   "cell_type": "markdown",
   "id": "2f03b4a4",
   "metadata": {},
   "source": [
    "## Check county names\n",
    "- `cn`: `County Name` value\n",
    "- `ocn`: county name implied by \"original\" `Latitude`/`Longitude` fields (renamed `olat`/`olon` here)\n",
    "- `icn`: county name implied by \"interpolated\" lat/lon (`ilat`/`ilon`) value"
   ]
  },
  {
   "cell_type": "code",
   "execution_count": 1,
   "id": "6142bec2",
   "metadata": {},
   "outputs": [],
   "source": [
    "from utz import *\n",
    "from njdot.crashes import Crashes, pk_cols, ksi_renames\n",
    "from njdot.data import cc2cn, cn2cc\n",
    "from njdot.paths import CNS\n",
    "from nj_crashes.paths import PUBLIC_DIR"
   ]
  },
  {
   "cell_type": "code",
   "execution_count": 2,
   "id": "357944e7",
   "metadata": {},
   "outputs": [
    {
     "name": "stdout",
     "output_type": "stream",
     "text": [
      "CPU times: user 406 ms, sys: 70.6 ms, total: 476 ms\n",
      "Wall time: 255 ms\n"
     ]
    },
    {
     "data": {
      "text/html": [
       "<div>\n",
       "<style scoped>\n",
       "    .dataframe tbody tr th:only-of-type {\n",
       "        vertical-align: middle;\n",
       "    }\n",
       "\n",
       "    .dataframe tbody tr th {\n",
       "        vertical-align: top;\n",
       "    }\n",
       "\n",
       "    .dataframe thead th {\n",
       "        text-align: right;\n",
       "    }\n",
       "</style>\n",
       "<table border=\"1\" class=\"dataframe\">\n",
       "  <thead>\n",
       "    <tr style=\"text-align: right;\">\n",
       "      <th></th>\n",
       "      <th>cn</th>\n",
       "      <th>icn</th>\n",
       "      <th>ocn</th>\n",
       "    </tr>\n",
       "    <tr>\n",
       "      <th>id</th>\n",
       "      <th></th>\n",
       "      <th></th>\n",
       "      <th></th>\n",
       "    </tr>\n",
       "  </thead>\n",
       "  <tbody>\n",
       "    <tr>\n",
       "      <th>0</th>\n",
       "      <td>Atlantic</td>\n",
       "      <td>None</td>\n",
       "      <td>None</td>\n",
       "    </tr>\n",
       "    <tr>\n",
       "      <th>1</th>\n",
       "      <td>Atlantic</td>\n",
       "      <td>None</td>\n",
       "      <td>None</td>\n",
       "    </tr>\n",
       "    <tr>\n",
       "      <th>2</th>\n",
       "      <td>Atlantic</td>\n",
       "      <td>None</td>\n",
       "      <td>None</td>\n",
       "    </tr>\n",
       "    <tr>\n",
       "      <th>3</th>\n",
       "      <td>Atlantic</td>\n",
       "      <td>Atlantic</td>\n",
       "      <td>None</td>\n",
       "    </tr>\n",
       "    <tr>\n",
       "      <th>4</th>\n",
       "      <td>Atlantic</td>\n",
       "      <td>None</td>\n",
       "      <td>None</td>\n",
       "    </tr>\n",
       "    <tr>\n",
       "      <th>...</th>\n",
       "      <td>...</td>\n",
       "      <td>...</td>\n",
       "      <td>...</td>\n",
       "    </tr>\n",
       "    <tr>\n",
       "      <th>6077298</th>\n",
       "      <td>Warren</td>\n",
       "      <td>Warren</td>\n",
       "      <td>Warren</td>\n",
       "    </tr>\n",
       "    <tr>\n",
       "      <th>6077299</th>\n",
       "      <td>Warren</td>\n",
       "      <td>Warren</td>\n",
       "      <td>Warren</td>\n",
       "    </tr>\n",
       "    <tr>\n",
       "      <th>6077300</th>\n",
       "      <td>Warren</td>\n",
       "      <td>Warren</td>\n",
       "      <td>Warren</td>\n",
       "    </tr>\n",
       "    <tr>\n",
       "      <th>6077301</th>\n",
       "      <td>Warren</td>\n",
       "      <td>Warren</td>\n",
       "      <td>Warren</td>\n",
       "    </tr>\n",
       "    <tr>\n",
       "      <th>6077302</th>\n",
       "      <td>Warren</td>\n",
       "      <td>None</td>\n",
       "      <td>Warren</td>\n",
       "    </tr>\n",
       "  </tbody>\n",
       "</table>\n",
       "<p>6077303 rows × 3 columns</p>\n",
       "</div>"
      ],
      "text/plain": [
       "               cn       icn     ocn\n",
       "id                                 \n",
       "0        Atlantic      None    None\n",
       "1        Atlantic      None    None\n",
       "2        Atlantic      None    None\n",
       "3        Atlantic  Atlantic    None\n",
       "4        Atlantic      None    None\n",
       "...           ...       ...     ...\n",
       "6077298    Warren    Warren  Warren\n",
       "6077299    Warren    Warren  Warren\n",
       "6077300    Warren    Warren  Warren\n",
       "6077301    Warren    Warren  Warren\n",
       "6077302    Warren      None  Warren\n",
       "\n",
       "[6077303 rows x 3 columns]"
      ]
     },
     "execution_count": 2,
     "metadata": {},
     "output_type": "execute_result"
    }
   ],
   "source": [
    "%%time\n",
    "cns = read_parquet(CNS, columns=['cn', 'icn', 'ocn'])\n",
    "cns"
   ]
  },
  {
   "cell_type": "code",
   "execution_count": 3,
   "id": "a201fad9",
   "metadata": {},
   "outputs": [],
   "source": [
    "cn_ocn = cns.ocn.copy().rename('cn_ocn').fillna('nan')\n",
    "ocn_isn = ~cns.ocn.isna()\n",
    "cn_ocn.loc[ocn_isn & (cns.ocn == cns.cn)] = 'eq'\n",
    "cn_ocn.loc[ocn_isn & (cns.ocn != cns.cn)] = 'neq'"
   ]
  },
  {
   "cell_type": "code",
   "execution_count": 4,
   "id": "aabe1814",
   "metadata": {},
   "outputs": [],
   "source": [
    "cn_icn = cns.icn.copy().rename('cn_icn').fillna('nan')\n",
    "icn_isn = ~cns.icn.isna()\n",
    "cn_icn.loc[icn_isn & (cns.icn == cns.cn)] = 'eq'\n",
    "cn_icn.loc[icn_isn & (cns.icn != cns.cn)] = 'neq'"
   ]
  },
  {
   "cell_type": "code",
   "execution_count": 5,
   "id": "c1897cc5",
   "metadata": {},
   "outputs": [
    {
     "data": {
      "text/html": [
       "<div>\n",
       "<style scoped>\n",
       "    .dataframe tbody tr th:only-of-type {\n",
       "        vertical-align: middle;\n",
       "    }\n",
       "\n",
       "    .dataframe tbody tr th {\n",
       "        vertical-align: top;\n",
       "    }\n",
       "\n",
       "    .dataframe thead th {\n",
       "        text-align: right;\n",
       "    }\n",
       "</style>\n",
       "<table border=\"1\" class=\"dataframe\">\n",
       "  <thead>\n",
       "    <tr style=\"text-align: right;\">\n",
       "      <th>cn_icn</th>\n",
       "      <th>nan</th>\n",
       "      <th>eq</th>\n",
       "      <th>neq</th>\n",
       "      <th>sum</th>\n",
       "    </tr>\n",
       "    <tr>\n",
       "      <th>cn_ocn</th>\n",
       "      <th></th>\n",
       "      <th></th>\n",
       "      <th></th>\n",
       "      <th></th>\n",
       "    </tr>\n",
       "  </thead>\n",
       "  <tbody>\n",
       "    <tr>\n",
       "      <th>nan</th>\n",
       "      <td>2505195</td>\n",
       "      <td>2297595</td>\n",
       "      <td>22867</td>\n",
       "      <td>4825657</td>\n",
       "    </tr>\n",
       "    <tr>\n",
       "      <th>eq</th>\n",
       "      <td>90888</td>\n",
       "      <td>1134018</td>\n",
       "      <td>5381</td>\n",
       "      <td>1230287</td>\n",
       "    </tr>\n",
       "    <tr>\n",
       "      <th>neq</th>\n",
       "      <td>1478</td>\n",
       "      <td>15327</td>\n",
       "      <td>4554</td>\n",
       "      <td>21359</td>\n",
       "    </tr>\n",
       "    <tr>\n",
       "      <th>sum</th>\n",
       "      <td>2597561</td>\n",
       "      <td>3446940</td>\n",
       "      <td>32802</td>\n",
       "      <td>6077303</td>\n",
       "    </tr>\n",
       "  </tbody>\n",
       "</table>\n",
       "</div>"
      ],
      "text/plain": [
       "cn_icn      nan       eq    neq      sum\n",
       "cn_ocn                                  \n",
       "nan     2505195  2297595  22867  4825657\n",
       "eq        90888  1134018   5381  1230287\n",
       "neq        1478    15327   4554    21359\n",
       "sum     2597561  3446940  32802  6077303"
      ]
     },
     "execution_count": 5,
     "metadata": {},
     "output_type": "execute_result"
    }
   ],
   "source": [
    "names = [ 'nan', 'eq', 'neq' ]\n",
    "ct = pd.crosstab(cn_ocn, cn_icn).loc[names, names]\n",
    "n = ct.sum().sum()\n",
    "ct.loc['sum'] = ct.sum(0)\n",
    "ct['sum'] = ct.sum(1)\n",
    "ct"
   ]
  },
  {
   "cell_type": "code",
   "execution_count": 6,
   "id": "8cf0f7f0",
   "metadata": {
    "scrolled": true
   },
   "outputs": [
    {
     "data": {
      "text/html": [
       "<div>\n",
       "<style scoped>\n",
       "    .dataframe tbody tr th:only-of-type {\n",
       "        vertical-align: middle;\n",
       "    }\n",
       "\n",
       "    .dataframe tbody tr th {\n",
       "        vertical-align: top;\n",
       "    }\n",
       "\n",
       "    .dataframe thead th {\n",
       "        text-align: right;\n",
       "    }\n",
       "</style>\n",
       "<table border=\"1\" class=\"dataframe\">\n",
       "  <thead>\n",
       "    <tr style=\"text-align: right;\">\n",
       "      <th>cn_icn</th>\n",
       "      <th>nan</th>\n",
       "      <th>eq</th>\n",
       "      <th>neq</th>\n",
       "      <th>sum</th>\n",
       "    </tr>\n",
       "    <tr>\n",
       "      <th>cn_ocn</th>\n",
       "      <th></th>\n",
       "      <th></th>\n",
       "      <th></th>\n",
       "      <th></th>\n",
       "    </tr>\n",
       "  </thead>\n",
       "  <tbody>\n",
       "    <tr>\n",
       "      <th>nan</th>\n",
       "      <td>41.2</td>\n",
       "      <td>37.8</td>\n",
       "      <td>0.4</td>\n",
       "      <td>79.4</td>\n",
       "    </tr>\n",
       "    <tr>\n",
       "      <th>eq</th>\n",
       "      <td>1.5</td>\n",
       "      <td>18.7</td>\n",
       "      <td>0.1</td>\n",
       "      <td>20.2</td>\n",
       "    </tr>\n",
       "    <tr>\n",
       "      <th>neq</th>\n",
       "      <td>0.0</td>\n",
       "      <td>0.3</td>\n",
       "      <td>0.1</td>\n",
       "      <td>0.4</td>\n",
       "    </tr>\n",
       "    <tr>\n",
       "      <th>sum</th>\n",
       "      <td>42.7</td>\n",
       "      <td>56.7</td>\n",
       "      <td>0.5</td>\n",
       "      <td>100.0</td>\n",
       "    </tr>\n",
       "  </tbody>\n",
       "</table>\n",
       "</div>"
      ],
      "text/plain": [
       "cn_icn   nan    eq  neq    sum\n",
       "cn_ocn                        \n",
       "nan     41.2  37.8  0.4   79.4\n",
       "eq       1.5  18.7  0.1   20.2\n",
       "neq      0.0   0.3  0.1    0.4\n",
       "sum     42.7  56.7  0.5  100.0"
      ]
     },
     "execution_count": 6,
     "metadata": {},
     "output_type": "execute_result"
    }
   ],
   "source": [
    "pct = round(ct / n * 100, 1)\n",
    "pct"
   ]
  },
  {
   "cell_type": "markdown",
   "id": "efc52fdf",
   "metadata": {},
   "source": [
    "In crashes where:\n",
    "- \"original lat/lon\" and and \"interpolated lat/lon\" county names both exist, and\n",
    "- both don't match the provided `County Name`,\n",
    "\n",
    "Do they at least match each other?"
   ]
  },
  {
   "cell_type": "code",
   "execution_count": 7,
   "id": "2bd1f562",
   "metadata": {},
   "outputs": [
    {
     "data": {
      "text/plain": [
       "True     4445\n",
       "False     109\n",
       "Name: count, dtype: int64"
      ]
     },
     "execution_count": 7,
     "metadata": {},
     "output_type": "execute_result"
    }
   ],
   "source": [
    "neqs = cns[(cn_icn == 'neq') & (cn_ocn == 'neq')]\n",
    "neqs_eq = neqs.icn == neqs.ocn\n",
    "neqs_eq.value_counts()"
   ]
  },
  {
   "cell_type": "markdown",
   "id": "17add119",
   "metadata": {},
   "source": [
    "Crashes with 3 different county names / locations 😵‍💫"
   ]
  },
  {
   "cell_type": "code",
   "execution_count": 8,
   "id": "88bb78f2",
   "metadata": {},
   "outputs": [
    {
     "data": {
      "text/plain": [
       "cn          icn         ocn       \n",
       "Bergen      Hudson      Essex          2\n",
       "            Passaic     Essex          1\n",
       "                        Monmouth       1\n",
       "Burlington  Camden      Cumberland     1\n",
       "                        Gloucester     1\n",
       "                        Ocean          1\n",
       "Camden      Burlington  Gloucester    10\n",
       "                        Salem          2\n",
       "            Gloucester  Atlantic       2\n",
       "                        Cumberland     1\n",
       "                        Salem          1\n",
       "Cape May    Atlantic    Burlington     1\n",
       "                        Cumberland     2\n",
       "                        Ocean          1\n",
       "Cumberland  Salem       Gloucester     2\n",
       "Essex       Hudson      Hunterdon      1\n",
       "                        Ocean          1\n",
       "            Morris      Somerset       1\n",
       "                        Union          1\n",
       "            Union       Middlesex      3\n",
       "                        Morris        12\n",
       "                        Somerset       2\n",
       "Gloucester  Camden      Atlantic       7\n",
       "                        Burlington     1\n",
       "                        Cumberland     1\n",
       "                        Salem          1\n",
       "Hudson      Essex       Morris         1\n",
       "                        Union          1\n",
       "                        Warren         1\n",
       "Mercer      Burlington  Ocean          1\n",
       "Middlesex   Mercer      Monmouth       2\n",
       "            Somerset    Monmouth       5\n",
       "                        Ocean          1\n",
       "            Union       Bergen         1\n",
       "                        Essex          1\n",
       "Monmouth    Mercer      Bergen         1\n",
       "                        Middlesex      1\n",
       "                        Passaic        1\n",
       "                        Union          1\n",
       "            Middlesex   Hudson         1\n",
       "            Ocean       Bergen         1\n",
       "                        Hudson         1\n",
       "                        Mercer         1\n",
       "                        Middlesex      1\n",
       "                        Somerset       5\n",
       "Ocean       Burlington  Monmouth       3\n",
       "            Monmouth    Burlington     1\n",
       "                        Morris         1\n",
       "                        Somerset       1\n",
       "Salem       Gloucester  Burlington     3\n",
       "                        Cumberland     8\n",
       "Somerset    Middlesex   Union          2\n",
       "Union       Middlesex   Ocean          1\n",
       "Warren      Sussex      Morris         1\n",
       "Name: count, dtype: int64"
      ]
     },
     "execution_count": 8,
     "metadata": {},
     "output_type": "execute_result"
    }
   ],
   "source": [
    "cns[['cn', 'icn', 'ocn']].loc[neqs_eq[~neqs_eq].index].value_counts().sort_index()"
   ]
  }
 ],
 "metadata": {
  "kernelspec": {
   "display_name": "Python 3 (ipykernel)",
   "language": "python",
   "name": "python3"
  },
  "language_info": {
   "codemirror_mode": {
    "name": "ipython",
    "version": 3
   },
   "file_extension": ".py",
   "mimetype": "text/x-python",
   "name": "python",
   "nbconvert_exporter": "python",
   "pygments_lexer": "ipython3",
   "version": "3.9.13"
  }
 },
 "nbformat": 4,
 "nbformat_minor": 5
}
