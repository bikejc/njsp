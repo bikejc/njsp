{
 "cells": [
  {
   "cell_type": "code",
   "execution_count": null,
   "id": "5103e0e7",
   "metadata": {},
   "outputs": [],
   "source": [
    "import duckdb\n",
    "dql = duckdb.sql"
   ]
  },
  {
   "cell_type": "code",
   "execution_count": null,
   "id": "6c6f76ea",
   "metadata": {},
   "outputs": [],
   "source": [
    "from njdot import NJDOT_DIR\n",
    "from nj_crashes.paths import PUBLIC_DIR, WWW_DOT"
   ]
  },
  {
   "cell_type": "code",
   "execution_count": null,
   "id": "289b79fe",
   "metadata": {},
   "outputs": [],
   "source": [
    "%%time\n",
    "dql(f\"IMPORT DATABASE '{WWW_DOT}/crashes.ddb'\")"
   ]
  },
  {
   "cell_type": "code",
   "execution_count": null,
   "id": "73cf9e0c",
   "metadata": {
    "scrolled": true
   },
   "outputs": [],
   "source": [
    "%%time\n",
    "# SELECT id, dt, sri, mp, ilat, ilon, severity, \"Pedestrians Killed\"\n",
    "r = dql(\"\"\"\n",
    "SELECT *\n",
    "FROM crashes\n",
    "WHERE strftime(dt, '%Y%m%d') >= '20211022'\n",
    "AND strftime(dt, '%Y%m%d') <= '20211101'\n",
    "AND severity='f'\n",
    "ORDER BY dt\n",
    "\"\"\").df().set_index('id')\n",
    "r"
   ]
  },
  {
   "cell_type": "code",
   "execution_count": null,
   "id": "0929e40c",
   "metadata": {
    "scrolled": true
   },
   "outputs": [],
   "source": [
    "%%time\n",
    "# SELECT id, dt, sri, mp, ilat, ilon, severity, \"Pedestrians Killed\"\n",
    "dot21 = dql(\"\"\"\n",
    "SELECT *\n",
    "FROM crashes\n",
    "WHERE strftime(dt, '%Y') == '2021'\n",
    "AND severity='f'\n",
    "ORDER BY dt\n",
    "\"\"\").df().set_index('id')\n",
    "dot21"
   ]
  },
  {
   "cell_type": "code",
   "execution_count": null,
   "id": "635175c8",
   "metadata": {},
   "outputs": [],
   "source": [
    "import pandas as pd"
   ]
  },
  {
   "cell_type": "code",
   "execution_count": null,
   "id": "aeca74c1",
   "metadata": {
    "scrolled": true
   },
   "outputs": [],
   "source": [
    "sp = pd.read_sql_table(\"crashes\", \"sqlite:///../nj_crashes.db\")\n",
    "sp"
   ]
  },
  {
   "cell_type": "code",
   "execution_count": null,
   "id": "5addb5c3",
   "metadata": {},
   "outputs": [],
   "source": [
    "sp21 = sp[sp.dt.dt.year == 2021]\n",
    "sp21"
   ]
  },
  {
   "cell_type": "code",
   "execution_count": null,
   "id": "3c559f8f",
   "metadata": {},
   "outputs": [],
   "source": [
    "dot21['Total Killed'].sum(), int(sp21.FATALITIES.sum())"
   ]
  },
  {
   "cell_type": "code",
   "execution_count": null,
   "id": "3a554662",
   "metadata": {},
   "outputs": [],
   "source": [
    "dotr21 = dot21.reset_index().rename(columns={'id': 'dot_id'})\n",
    "dot_date = dotr21.dt.dt.date.rename('date')\n",
    "dot_date"
   ]
  },
  {
   "cell_type": "code",
   "execution_count": null,
   "id": "371e8314",
   "metadata": {},
   "outputs": [],
   "source": [
    "sp_date = sp21.dt.dt.date.rename('date')\n",
    "sp_date"
   ]
  },
  {
   "cell_type": "code",
   "execution_count": null,
   "id": "b7306e97",
   "metadata": {},
   "outputs": [],
   "source": [
    "m = dotr21.merge(sp21, left_on=['dt', 'cn'], right_on=['dt', 'CNAME'])\n",
    "m"
   ]
  },
  {
   "cell_type": "code",
   "execution_count": null,
   "id": "f65c033b",
   "metadata": {},
   "outputs": [],
   "source": [
    "len(dot21), len(sp21), len(m)"
   ]
  },
  {
   "cell_type": "code",
   "execution_count": null,
   "id": "b476548f",
   "metadata": {},
   "outputs": [],
   "source": [
    "dot_id_mask = dotr21.dot_id.isin(m.dot_id)\n",
    "dot_ids_found = dot_id_mask.sum()\n",
    "dot_ids_missing = (~dot_id_mask).sum()\n",
    "dot_ids_found, dot_ids_missing"
   ]
  },
  {
   "cell_type": "code",
   "execution_count": null,
   "id": "c75f735a",
   "metadata": {},
   "outputs": [],
   "source": [
    "sp_mask = sp21.ACCID.isin(m.ACCID)\n",
    "sps_found = sp_mask.sum()\n",
    "sps_missing = (~sp_mask).sum()\n",
    "sps_found, sps_missing"
   ]
  },
  {
   "cell_type": "code",
   "execution_count": null,
   "id": "ed70a4b3",
   "metadata": {
    "scrolled": true
   },
   "outputs": [],
   "source": [
    "dot_missing = dotr21[~dot_id_mask]\n",
    "dot_missing"
   ]
  },
  {
   "cell_type": "code",
   "execution_count": null,
   "id": "c8c98db8",
   "metadata": {},
   "outputs": [],
   "source": [
    "sp_missing = sp21[~sp_mask]\n",
    "sp_missing"
   ]
  },
  {
   "cell_type": "code",
   "execution_count": null,
   "id": "4a23365f",
   "metadata": {
    "scrolled": true
   },
   "outputs": [],
   "source": [
    "m2 = dot_missing.merge(\n",
    "    sp_missing,\n",
    "    left_on=[dot_missing.dt.dt.date.rename('date'), dot_missing.cn],\n",
    "    right_on=[sp_missing.dt.dt.date.rename('date'), sp_missing.CNAME],\n",
    ")\n",
    "m2"
   ]
  },
  {
   "cell_type": "code",
   "execution_count": null,
   "id": "d19752e1",
   "metadata": {},
   "outputs": [],
   "source": [
    "c1 = set(m.columns)\n",
    "c2 = set(m2.columns)\n",
    "len(c1.difference(c2)), len(c2.difference(c1))"
   ]
  },
  {
   "cell_type": "code",
   "execution_count": null,
   "id": "1e8301e2",
   "metadata": {
    "scrolled": true
   },
   "outputs": [],
   "source": [
    "m2m = m2.drop(columns=['key_0', 'key_1']).rename(columns={\n",
    "    'dt_x': 'dt_dot',\n",
    "    'dt_y': 'dt_sp',\n",
    "})\n",
    "m12 = m.copy()\n",
    "m12['dt_dot'] = m12.dt\n",
    "m12['dt_sp'] = m12.dt\n",
    "m12 = m12.drop(columns='dt')\n",
    "m12 = pd.concat([ m12, m2m ]).reset_index(drop=True)\n",
    "m12"
   ]
  },
  {
   "cell_type": "code",
   "execution_count": null,
   "id": "1bdf19bb",
   "metadata": {},
   "outputs": [],
   "source": [
    "dot_mask2 = dotr21.dot_id.isin(m12.dot_id)\n",
    "dot_m2 = dotr21[~dot_mask2]\n",
    "dot_mask2.sum(), len(dotr21) - dot_mask2.sum()"
   ]
  },
  {
   "cell_type": "code",
   "execution_count": null,
   "id": "f32e6e9e",
   "metadata": {},
   "outputs": [],
   "source": [
    "sp_mask2 = sp21.ACCID.isin(m12.ACCID)\n",
    "sp_m2 = sp21[~sp_mask2]\n",
    "sp_mask2.sum(), len(sp21) - sp_mask2.sum()"
   ]
  },
  {
   "cell_type": "code",
   "execution_count": null,
   "id": "f56cbd32",
   "metadata": {},
   "outputs": [],
   "source": [
    "dot_m2.cn.value_counts()"
   ]
  },
  {
   "cell_type": "code",
   "execution_count": null,
   "id": "0df75b53",
   "metadata": {},
   "outputs": [],
   "source": [
    "sp_m2.CNAME.value_counts()"
   ]
  },
  {
   "cell_type": "code",
   "execution_count": null,
   "id": "fd37d52c",
   "metadata": {},
   "outputs": [],
   "source": [
    "dot_m2[dot]"
   ]
  },
  {
   "cell_type": "code",
   "execution_count": null,
   "id": "d62dec7d",
   "metadata": {
    "scrolled": true
   },
   "outputs": [],
   "source": [
    "m12"
   ]
  },
  {
   "cell_type": "code",
   "execution_count": null,
   "id": "666a01ab",
   "metadata": {},
   "outputs": [],
   "source": [
    "m12[m12['Total Killed'] != m12.FATALITIES]"
   ]
  },
  {
   "cell_type": "code",
   "execution_count": null,
   "id": "4d9bffe9",
   "metadata": {},
   "outputs": [],
   "source": [
    "m12[m12['Pedestrians Killed'] != m12.FATAL_T]"
   ]
  },
  {
   "cell_type": "code",
   "execution_count": null,
   "id": "b9d0bcba",
   "metadata": {},
   "outputs": [],
   "source": [
    "(m12['Total Injured'] != m12.INJURIES).sum()"
   ]
  },
  {
   "cell_type": "code",
   "execution_count": null,
   "id": "6baf9ae4",
   "metadata": {},
   "outputs": [],
   "source": [
    "m12[m12['Total Injured'] != m12.INJURIES]"
   ]
  },
  {
   "cell_type": "code",
   "execution_count": null,
   "id": "884b42e4",
   "metadata": {},
   "outputs": [],
   "source": [
    "c1.difference(c2), c2.difference(c1)"
   ]
  },
  {
   "cell_type": "code",
   "execution_count": null,
   "id": "4535a9c0",
   "metadata": {},
   "outputs": [],
   "source": [
    "m2[['key_0', 'key_1']].value_counts().value_counts()"
   ]
  },
  {
   "cell_type": "code",
   "execution_count": null,
   "id": "5efdc6eb",
   "metadata": {
    "scrolled": true
   },
   "outputs": [],
   "source": [
    "m2[['dt_x', 'dt_y']]"
   ]
  },
  {
   "cell_type": "code",
   "execution_count": null,
   "id": "669f0b4a",
   "metadata": {
    "scrolled": true
   },
   "outputs": [],
   "source": [
    "sp1 = (\n",
    "    sp21\n",
    "    .merge(\n",
    "        dotr21,\n",
    "        left_on=['dt', 'CNAME', 'FATALITIES'],\n",
    "        right_on=['dt', 'cn', 'Total Killed'],\n",
    "        how='left', \n",
    "        validate='one_to_one',\n",
    "    )\n",
    "    .set_index('ACCID')\n",
    ")\n",
    "sp1"
   ]
  },
  {
   "cell_type": "code",
   "execution_count": null,
   "id": "50ea3d11",
   "metadata": {},
   "outputs": [],
   "source": [
    "sp1_mask = sp1.dot_id.isna()\n",
    "sp1_mask.value_counts()"
   ]
  },
  {
   "cell_type": "code",
   "execution_count": null,
   "id": "20912f8e",
   "metadata": {},
   "outputs": [],
   "source": [
    "sm1 = sp21.set_index('ACCID')[sp1_mask]\n",
    "sm1"
   ]
  },
  {
   "cell_type": "code",
   "execution_count": null,
   "id": "2e9da935",
   "metadata": {},
   "outputs": [],
   "source": [
    "len(sm1)"
   ]
  },
  {
   "cell_type": "code",
   "execution_count": null,
   "id": "4963ba16",
   "metadata": {},
   "outputs": [],
   "source": [
    "sp2 = (\n",
    "    sm1\n",
    "    .merge(\n",
    "        dotr21,\n",
    "        left_on=['dt', 'CNAME'],\n",
    "        right_on=['dt', 'cn', 'Total Killed'],\n",
    "        how='left', \n",
    "        validate='one_to_one',\n",
    "    )\n",
    "    .set_index('ACCID')\n",
    ")\n",
    "sp1"
   ]
  }
 ],
 "metadata": {
  "kernelspec": {
   "display_name": "Python 3 (ipykernel)",
   "language": "python",
   "name": "python3"
  },
  "language_info": {
   "codemirror_mode": {
    "name": "ipython",
    "version": 3
   },
   "file_extension": ".py",
   "mimetype": "text/x-python",
   "name": "python",
   "nbconvert_exporter": "python",
   "pygments_lexer": "ipython3",
   "version": "3.9.13"
  }
 },
 "nbformat": 4,
 "nbformat_minor": 5
}
